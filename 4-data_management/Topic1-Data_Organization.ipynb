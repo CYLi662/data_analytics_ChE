{
 "cells": [
  {
   "cell_type": "markdown",
   "metadata": {
    "toc": true
   },
   "source": [
    "<h1>Table of Contents<span class=\"tocSkip\"></span></h1>\n",
    "<div class=\"toc\"><ul class=\"toc-item\"><li><span><a href=\"#Data-Structure-Continuum\" data-toc-modified-id=\"Data-Structure-Continuum-1\"><span class=\"toc-item-num\">1&nbsp;&nbsp;</span>Data Structure Continuum</a></span></li><li><span><a href=\"#Indexing-Data-in-Pandas\" data-toc-modified-id=\"Indexing-Data-in-Pandas-2\"><span class=\"toc-item-num\">2&nbsp;&nbsp;</span>Indexing Data in Pandas</a></span><ul class=\"toc-item\"><li><span><a href=\"#Exercise:-Create-a-subset-of-the-Dow-dataset-containing-data-from-Dec.-5---Dec.-12,-2015\" data-toc-modified-id=\"Exercise:-Create-a-subset-of-the-Dow-dataset-containing-data-from-Dec.-5---Dec.-12,-2015-2.1\"><span class=\"toc-item-num\">2.1&nbsp;&nbsp;</span>Exercise: Create a subset of the Dow dataset containing data from Dec. 5 - Dec. 12, 2015</a></span></li></ul></li><li><span><a href=\"#Establishing-an-efficient-data-pipeline\" data-toc-modified-id=\"Establishing-an-efficient-data-pipeline-3\"><span class=\"toc-item-num\">3&nbsp;&nbsp;</span>Establishing an efficient data pipeline</a></span><ul class=\"toc-item\"><li><span><a href=\"#Raw-data-organization\" data-toc-modified-id=\"Raw-data-organization-3.1\"><span class=\"toc-item-num\">3.1&nbsp;&nbsp;</span>Raw data organization</a></span></li><li><span><a href=\"#Metadata-storage\" data-toc-modified-id=\"Metadata-storage-3.2\"><span class=\"toc-item-num\">3.2&nbsp;&nbsp;</span>Metadata storage</a></span></li></ul></li><li><span><a href=\"#Missing-values\" data-toc-modified-id=\"Missing-values-4\"><span class=\"toc-item-num\">4&nbsp;&nbsp;</span>Missing values</a></span><ul class=\"toc-item\"><li><span><a href=\"#Dropping-observations\" data-toc-modified-id=\"Dropping-observations-4.1\"><span class=\"toc-item-num\">4.1&nbsp;&nbsp;</span>Dropping observations</a></span></li><li><span><a href=\"#Exercise:-Create-a-version-of-the-Dow-dataset-that-does-not-contain-expression-marks,-but-still-includes-blank/null-values\" data-toc-modified-id=\"Exercise:-Create-a-version-of-the-Dow-dataset-that-does-not-contain-expression-marks,-but-still-includes-blank/null-values-4.2\"><span class=\"toc-item-num\">4.2&nbsp;&nbsp;</span>Exercise: Create a version of the Dow dataset that does not contain expression marks, but still includes blank/null values</a></span></li><li><span><a href=\"#Dropping-features/variables\" data-toc-modified-id=\"Dropping-features/variables-4.3\"><span class=\"toc-item-num\">4.3&nbsp;&nbsp;</span>Dropping features/variables</a></span></li><li><span><a href=\"#Exercise:-Create-a-version-of-the-Dow-dataset-that-does-not-contain-the-Avg_Delta_Composition-Primary-Column-variable-and-does-not-contain-any-null-or-non-numeric-values\" data-toc-modified-id=\"Exercise:-Create-a-version-of-the-Dow-dataset-that-does-not-contain-the-Avg_Delta_Composition-Primary-Column-variable-and-does-not-contain-any-null-or-non-numeric-values-4.4\"><span class=\"toc-item-num\">4.4&nbsp;&nbsp;</span>Exercise: Create a version of the Dow dataset that does not contain the <code>Avg_Delta_Composition Primary Column</code> variable and does not contain any null or non-numeric values</a></span></li><li><span><a href=\"#Imputation\" data-toc-modified-id=\"Imputation-4.5\"><span class=\"toc-item-num\">4.5&nbsp;&nbsp;</span>Imputation</a></span></li><li><span><a href=\"#Exercise:-Use-the-regression-model-above-to-&quot;impute&quot;-values-for-Avg_Delta_Composition-Primary-Column.\" data-toc-modified-id=\"Exercise:-Use-the-regression-model-above-to-&quot;impute&quot;-values-for-Avg_Delta_Composition-Primary-Column.-4.6\"><span class=\"toc-item-num\">4.6&nbsp;&nbsp;</span>Exercise: Use the regression model above to \"impute\" values for <code>Avg_Delta_Composition Primary Column</code>.</a></span></li></ul></li><li><span><a href=\"#Outliers\" data-toc-modified-id=\"Outliers-5\"><span class=\"toc-item-num\">5&nbsp;&nbsp;</span>Outliers</a></span><ul class=\"toc-item\"><li><span><a href=\"#Univariate-normally-distributed-data\" data-toc-modified-id=\"Univariate-normally-distributed-data-5.1\"><span class=\"toc-item-num\">5.1&nbsp;&nbsp;</span>Univariate normally distributed data</a></span></li><li><span><a href=\"#Exercise:-Create-a-version-of-the-Dow-dataset-where-outliers-are-removed-by-assuming-each-variable-is-an-independent-and-normally-distributed-dataset\" data-toc-modified-id=\"Exercise:-Create-a-version-of-the-Dow-dataset-where-outliers-are-removed-by-assuming-each-variable-is-an-independent-and-normally-distributed-dataset-5.2\"><span class=\"toc-item-num\">5.2&nbsp;&nbsp;</span>Exercise: Create a version of the Dow dataset where outliers are removed by assuming each variable is an independent and normally distributed dataset</a></span></li><li><span><a href=\"#Discussion:-Which-variables-from-the-Dow-dataset-are-most/least-well-suited-for-the-z-score-approach?\" data-toc-modified-id=\"Discussion:-Which-variables-from-the-Dow-dataset-are-most/least-well-suited-for-the-z-score-approach?-5.3\"><span class=\"toc-item-num\">5.3&nbsp;&nbsp;</span>Discussion: Which variables from the Dow dataset are most/least well suited for the z-score approach?</a></span></li><li><span><a href=\"#Clustering-and-dimensional-reduction\" data-toc-modified-id=\"Clustering-and-dimensional-reduction-5.4\"><span class=\"toc-item-num\">5.4&nbsp;&nbsp;</span>Clustering and dimensional reduction</a></span></li></ul></li><li><span><a href=\"#Dealing-with-large-datasets\" data-toc-modified-id=\"Dealing-with-large-datasets-6\"><span class=\"toc-item-num\">6&nbsp;&nbsp;</span>Dealing with large datasets</a></span><ul class=\"toc-item\"><li><span><a href=\"#HDF-5-files\" data-toc-modified-id=\"HDF-5-files-6.1\"><span class=\"toc-item-num\">6.1&nbsp;&nbsp;</span>HDF 5 files</a></span></li></ul></li></ul></div>"
   ]
  },
  {
   "cell_type": "code",
   "execution_count": 1,
   "metadata": {},
   "outputs": [],
   "source": [
    "%matplotlib inline\n",
    "import matplotlib.pyplot as plt\n",
    "import matplotlib as mpl\n",
    "from cycler import cycler\n",
    "\n",
    "plt.style.use('default')\n",
    "\n",
    "font_size = 12\n",
    "\n",
    "mpl.rcParams['axes.prop_cycle'] = cycler('color', ['#003057', '#EAAA00', '#4B8B9B', '#B3A369', '#377117', '#1879DB', '#8E8B76', '#002233', '#F5D580'])\n",
    "mpl.rcParams['axes.titlesize'] = font_size\n",
    "mpl.rcParams['axes.titleweight'] = 'ultralight'\n",
    "mpl.rcParams['axes.labelsize'] = font_size\n",
    "mpl.rcParams['axes.labelweight'] = 'ultralight'\n",
    "\n",
    "mpl.rcParams['xtick.labelsize'] = font_size\n",
    "mpl.rcParams['xtick.direction'] = 'in'\n",
    "\n",
    "mpl.rcParams['ytick.labelsize'] = font_size\n",
    "mpl.rcParams['ytick.left'] = True\n",
    "mpl.rcParams['ytick.direction'] = 'in'\n",
    "\n",
    "mpl.rcParams['lines.linewidth'] = 2\n",
    "mpl.rcParams['lines.linestyle'] = '--'\n",
    "#mpl.rcParams['lines.marker'] = 'o'\n",
    "\n",
    "mpl.rcParams['figure.titlesize'] = font_size\n",
    "mpl.rcParams['figure.titleweight'] = 'bold'\n",
    "mpl.rcParams['figure.figsize'] = (8, 6)\n",
    "mpl.rcParams['figure.dpi'] = 300\n",
    "mpl.rcParams['figure.autolayout'] = True\n",
    "\n",
    "mpl.rcParams['savefig.dpi'] = 300\n",
    "mpl.rcParams['savefig.format'] = 'svg'\n",
    "mpl.rcParams['savefig.transparent'] = True\n",
    "\n",
    "mpl.rcParams['font.size'] = font_size\n",
    "mpl.rcParams['font.family'] = 'sans-serif'\n",
    "mpl.rcParams['font.sans-serif'] = 'Helvetica'\n",
    "mpl.rcParams['font.style'] = 'normal'\n",
    "\n",
    "mpl.rcParams['mathtext.default'] = 'regular'\n",
    "\n",
    "mpl.rcParams['legend.fontsize'] = font_size - 3"
   ]
  },
  {
   "cell_type": "code",
   "execution_count": 2,
   "metadata": {},
   "outputs": [],
   "source": [
    "import numpy as np\n",
    "clrs = np.array(['#003057', '#EAAA00', '#4B8B9B', '#B3A369', '#377117', '#1879DB', '#8E8B76', '#F5D580', '#002233'])"
   ]
  },
  {
   "cell_type": "markdown",
   "metadata": {},
   "source": [
    "# Data Organization\n",
    "\n",
    "Data organization and management is a critical part of any data science project. However, it is often highly specialized to a given problem or dataset. It is impossible to cover all possibilities and tools in this course, but we will try to go over some major concepts and introduce a few examples of tools that are particularly useful.\n",
    "\n",
    "## Data Structure Continuum\n",
    "\n",
    "Data (science) is like an iceberg:\n",
    "\n",
    "* Over 80% of time is spent cleaning/structuring data\n",
    "* Over 80% of existing data is \"unstructured\"\n",
    "* 90% of the data ever generated by humanity was generated in the last [two years](https://www.forbes.com/sites/bernardmarr/2018/05/21/how-much-data-do-we-create-every-day-the-mind-blowing-stats-everyone-should-read/#4f728b360ba9)!\n",
    "    - ...but how much of it is useful?\n",
    "\n",
    "<center>\n",
    "<img src=\"images/data-iceberg.png\" width=\"500\">\n",
    "</center>\n",
    "\n",
    "In this course most data will be at least partially cleaned, but in the real world this is rarely the case.\n",
    "\n",
    "Most structured\n",
    "\n",
    "* Index data with integers (matrices)\n",
    "* **Index data with strings/integers (dataframes)**\n",
    "* Access data with structured queries (SQL)\n",
    "* **Access data through web requests (APIs)**\n",
    "* Access data with unstructured queries (search engines/no SQL)\n",
    "* Access data through parsers (scraping)\n",
    "\n",
    "\n",
    "Least structured"
   ]
  },
  {
   "cell_type": "code",
   "execution_count": 3,
   "metadata": {
    "scrolled": true
   },
   "outputs": [
    {
     "data": {
      "text/html": [
       "<div>\n",
       "<style scoped>\n",
       "    .dataframe tbody tr th:only-of-type {\n",
       "        vertical-align: middle;\n",
       "    }\n",
       "\n",
       "    .dataframe tbody tr th {\n",
       "        vertical-align: top;\n",
       "    }\n",
       "\n",
       "    .dataframe thead th {\n",
       "        text-align: right;\n",
       "    }\n",
       "</style>\n",
       "<table border=\"1\" class=\"dataframe\">\n",
       "  <thead>\n",
       "    <tr style=\"text-align: right;\">\n",
       "      <th></th>\n",
       "      <th>Date</th>\n",
       "      <th>x1:Primary Column Reflux Flow</th>\n",
       "      <th>x2:Primary Column Tails Flow</th>\n",
       "      <th>x3:Input to Primary Column Bed 3 Flow</th>\n",
       "      <th>x4:Input to Primary Column Bed 2 Flow</th>\n",
       "      <th>x5:Primary Column Feed Flow from Feed Column</th>\n",
       "      <th>x6:Primary Column Make Flow</th>\n",
       "      <th>x7:Primary Column Base Level</th>\n",
       "      <th>x8:Primary Column Reflux Drum Pressure</th>\n",
       "      <th>x9:Primary Column Condenser Reflux Drum Level</th>\n",
       "      <th>...</th>\n",
       "      <th>x36: Feed Column Recycle Flow</th>\n",
       "      <th>x37: Feed Column Tails Flow to Primary Column</th>\n",
       "      <th>x38: Feed Column Calculated DP</th>\n",
       "      <th>x39: Feed Column Steam Flow</th>\n",
       "      <th>x40: Feed Column Tails Flow</th>\n",
       "      <th>Avg_Reactor_Outlet_Impurity</th>\n",
       "      <th>Avg_Delta_Composition Primary Column</th>\n",
       "      <th>y:Impurity</th>\n",
       "      <th>Primary Column Reflux/Feed Ratio</th>\n",
       "      <th>Primary Column Make/Reflux Ratio</th>\n",
       "    </tr>\n",
       "  </thead>\n",
       "  <tbody>\n",
       "    <tr>\n",
       "      <td>0</td>\n",
       "      <td>2015-12-01 00:00:00</td>\n",
       "      <td>327.813</td>\n",
       "      <td>45.7920</td>\n",
       "      <td>2095.06</td>\n",
       "      <td>2156.01</td>\n",
       "      <td>98.5005</td>\n",
       "      <td>95.4674</td>\n",
       "      <td>54.3476</td>\n",
       "      <td>41.0121</td>\n",
       "      <td>52.2353</td>\n",
       "      <td>...</td>\n",
       "      <td>62.8707</td>\n",
       "      <td>45.0085</td>\n",
       "      <td>66.6604</td>\n",
       "      <td>8.68813</td>\n",
       "      <td>99.9614</td>\n",
       "      <td>5.38024</td>\n",
       "      <td>1.49709</td>\n",
       "      <td>1.77833</td>\n",
       "      <td>3.32803</td>\n",
       "      <td>0.291226</td>\n",
       "    </tr>\n",
       "    <tr>\n",
       "      <td>1</td>\n",
       "      <td>2015-12-01 01:00:00</td>\n",
       "      <td>322.970</td>\n",
       "      <td>46.1643</td>\n",
       "      <td>2101.00</td>\n",
       "      <td>2182.90</td>\n",
       "      <td>98.0014</td>\n",
       "      <td>94.9673</td>\n",
       "      <td>54.2247</td>\n",
       "      <td>41.0076</td>\n",
       "      <td>52.5378</td>\n",
       "      <td>...</td>\n",
       "      <td>62.8651</td>\n",
       "      <td>45.0085</td>\n",
       "      <td>66.5496</td>\n",
       "      <td>8.70683</td>\n",
       "      <td>99.8637</td>\n",
       "      <td>5.33345</td>\n",
       "      <td>1.51392</td>\n",
       "      <td>1.76964</td>\n",
       "      <td>3.29556</td>\n",
       "      <td>0.294044</td>\n",
       "    </tr>\n",
       "    <tr>\n",
       "      <td>2</td>\n",
       "      <td>2015-12-01 02:00:00</td>\n",
       "      <td>319.674</td>\n",
       "      <td>45.9927</td>\n",
       "      <td>2102.96</td>\n",
       "      <td>2151.39</td>\n",
       "      <td>98.8229</td>\n",
       "      <td>96.0785</td>\n",
       "      <td>54.6130</td>\n",
       "      <td>41.0451</td>\n",
       "      <td>52.0159</td>\n",
       "      <td>...</td>\n",
       "      <td>62.8656</td>\n",
       "      <td>45.0085</td>\n",
       "      <td>66.0599</td>\n",
       "      <td>8.69269</td>\n",
       "      <td>100.2490</td>\n",
       "      <td>5.37677</td>\n",
       "      <td>1.50634</td>\n",
       "      <td>1.76095</td>\n",
       "      <td>3.23481</td>\n",
       "      <td>0.300552</td>\n",
       "    </tr>\n",
       "  </tbody>\n",
       "</table>\n",
       "<p>3 rows × 46 columns</p>\n",
       "</div>"
      ],
      "text/plain": [
       "                 Date  x1:Primary Column Reflux Flow  \\\n",
       "0 2015-12-01 00:00:00                        327.813   \n",
       "1 2015-12-01 01:00:00                        322.970   \n",
       "2 2015-12-01 02:00:00                        319.674   \n",
       "\n",
       "   x2:Primary Column Tails Flow  x3:Input to Primary Column Bed 3 Flow  \\\n",
       "0                       45.7920                                2095.06   \n",
       "1                       46.1643                                2101.00   \n",
       "2                       45.9927                                2102.96   \n",
       "\n",
       "   x4:Input to Primary Column Bed 2 Flow  \\\n",
       "0                                2156.01   \n",
       "1                                2182.90   \n",
       "2                                2151.39   \n",
       "\n",
       "   x5:Primary Column Feed Flow from Feed Column  x6:Primary Column Make Flow  \\\n",
       "0                                       98.5005                      95.4674   \n",
       "1                                       98.0014                      94.9673   \n",
       "2                                       98.8229                      96.0785   \n",
       "\n",
       "   x7:Primary Column Base Level  x8:Primary Column Reflux Drum Pressure  \\\n",
       "0                       54.3476                                 41.0121   \n",
       "1                       54.2247                                 41.0076   \n",
       "2                       54.6130                                 41.0451   \n",
       "\n",
       "   x9:Primary Column Condenser Reflux Drum Level  ...  \\\n",
       "0                                        52.2353  ...   \n",
       "1                                        52.5378  ...   \n",
       "2                                        52.0159  ...   \n",
       "\n",
       "   x36: Feed Column Recycle Flow  \\\n",
       "0                        62.8707   \n",
       "1                        62.8651   \n",
       "2                        62.8656   \n",
       "\n",
       "   x37: Feed Column Tails Flow to Primary Column  \\\n",
       "0                                        45.0085   \n",
       "1                                        45.0085   \n",
       "2                                        45.0085   \n",
       "\n",
       "   x38: Feed Column Calculated DP  x39: Feed Column Steam Flow  \\\n",
       "0                         66.6604                      8.68813   \n",
       "1                         66.5496                      8.70683   \n",
       "2                         66.0599                      8.69269   \n",
       "\n",
       "   x40: Feed Column Tails Flow  Avg_Reactor_Outlet_Impurity  \\\n",
       "0                      99.9614                      5.38024   \n",
       "1                      99.8637                      5.33345   \n",
       "2                     100.2490                      5.37677   \n",
       "\n",
       "   Avg_Delta_Composition Primary Column  y:Impurity  \\\n",
       "0                               1.49709     1.77833   \n",
       "1                               1.51392     1.76964   \n",
       "2                               1.50634     1.76095   \n",
       "\n",
       "   Primary Column Reflux/Feed Ratio  Primary Column Make/Reflux Ratio  \n",
       "0                           3.32803                          0.291226  \n",
       "1                           3.29556                          0.294044  \n",
       "2                           3.23481                          0.300552  \n",
       "\n",
       "[3 rows x 46 columns]"
      ]
     },
     "execution_count": 3,
     "metadata": {},
     "output_type": "execute_result"
    }
   ],
   "source": [
    "import pandas as pd\n",
    "\n",
    "df = pd.read_excel('data/impurity_dataset-training.xlsx')\n",
    "df.head(3) #<- shows the first 10 entries"
   ]
  },
  {
   "cell_type": "markdown",
   "metadata": {},
   "source": [
    "## Indexing Data in Pandas\n",
    "\n",
    "Pandas provides [many options](https://pandas.pydata.org/pandas-docs/stable/user_guide/indexing.html) for how to index/acces data.\n",
    "\n",
    "* square brackets `[]` index by column name\n",
    "* `.loc` method indexes by `[row_index]` or `[row_index, column]`\n",
    "* `.iloc` method indexes by `[row_number]` or `[row_number, column`\n",
    "* indexes can be lists or slices\n",
    "\n",
    "Columns/rows are returned as `Series` objects, which are basically 1-dimensional dataframes."
   ]
  },
  {
   "cell_type": "code",
   "execution_count": 4,
   "metadata": {
    "scrolled": true
   },
   "outputs": [
    {
     "data": {
      "text/plain": [
       "0         98.5005\n",
       "1         98.0014\n",
       "2         98.8229\n",
       "3         98.7733\n",
       "4         99.3231\n",
       "           ...   \n",
       "10698    120.2160\n",
       "10699    123.6580\n",
       "10700    122.8430\n",
       "10701    122.9340\n",
       "10702    122.0810\n",
       "Name: x5:Primary Column Feed Flow from Feed Column, Length: 10703, dtype: float64"
      ]
     },
     "execution_count": 4,
     "metadata": {},
     "output_type": "execute_result"
    }
   ],
   "source": [
    "df['x5:Primary Column Feed Flow from Feed Column']"
   ]
  },
  {
   "cell_type": "code",
   "execution_count": 5,
   "metadata": {},
   "outputs": [
    {
     "data": {
      "text/plain": [
       "327.813"
      ]
     },
     "execution_count": 5,
     "metadata": {},
     "output_type": "execute_result"
    }
   ],
   "source": [
    "df.loc[10]\n",
    "df.loc[0, 'x1:Primary Column Reflux Flow']"
   ]
  },
  {
   "cell_type": "markdown",
   "metadata": {},
   "source": [
    "Data can be \"filtered\" using logical statements:"
   ]
  },
  {
   "cell_type": "code",
   "execution_count": 6,
   "metadata": {
    "scrolled": false
   },
   "outputs": [
    {
     "name": "stdout",
     "output_type": "stream",
     "text": [
      "0        False\n",
      "1        False\n",
      "2        False\n",
      "3        False\n",
      "4        False\n",
      "         ...  \n",
      "10698     True\n",
      "10699     True\n",
      "10700     True\n",
      "10701     True\n",
      "10702     True\n",
      "Name: x1:Primary Column Reflux Flow, Length: 10703, dtype: bool\n"
     ]
    },
    {
     "data": {
      "text/html": [
       "<div>\n",
       "<style scoped>\n",
       "    .dataframe tbody tr th:only-of-type {\n",
       "        vertical-align: middle;\n",
       "    }\n",
       "\n",
       "    .dataframe tbody tr th {\n",
       "        vertical-align: top;\n",
       "    }\n",
       "\n",
       "    .dataframe thead th {\n",
       "        text-align: right;\n",
       "    }\n",
       "</style>\n",
       "<table border=\"1\" class=\"dataframe\">\n",
       "  <thead>\n",
       "    <tr style=\"text-align: right;\">\n",
       "      <th></th>\n",
       "      <th>Date</th>\n",
       "      <th>x1:Primary Column Reflux Flow</th>\n",
       "      <th>x2:Primary Column Tails Flow</th>\n",
       "      <th>x3:Input to Primary Column Bed 3 Flow</th>\n",
       "      <th>x4:Input to Primary Column Bed 2 Flow</th>\n",
       "      <th>x5:Primary Column Feed Flow from Feed Column</th>\n",
       "      <th>x6:Primary Column Make Flow</th>\n",
       "      <th>x7:Primary Column Base Level</th>\n",
       "      <th>x8:Primary Column Reflux Drum Pressure</th>\n",
       "      <th>x9:Primary Column Condenser Reflux Drum Level</th>\n",
       "      <th>...</th>\n",
       "      <th>x36: Feed Column Recycle Flow</th>\n",
       "      <th>x37: Feed Column Tails Flow to Primary Column</th>\n",
       "      <th>x38: Feed Column Calculated DP</th>\n",
       "      <th>x39: Feed Column Steam Flow</th>\n",
       "      <th>x40: Feed Column Tails Flow</th>\n",
       "      <th>Avg_Reactor_Outlet_Impurity</th>\n",
       "      <th>Avg_Delta_Composition Primary Column</th>\n",
       "      <th>y:Impurity</th>\n",
       "      <th>Primary Column Reflux/Feed Ratio</th>\n",
       "      <th>Primary Column Make/Reflux Ratio</th>\n",
       "    </tr>\n",
       "  </thead>\n",
       "  <tbody>\n",
       "    <tr>\n",
       "      <td>344</td>\n",
       "      <td>2015-12-15 08:00:00</td>\n",
       "      <td>355.568</td>\n",
       "      <td>46.9836</td>\n",
       "      <td>2106.18</td>\n",
       "      <td>2225.30</td>\n",
       "      <td>106.791</td>\n",
       "      <td>94.5449</td>\n",
       "      <td>56.9560</td>\n",
       "      <td>40.9934</td>\n",
       "      <td>42.5425</td>\n",
       "      <td>...</td>\n",
       "      <td>62.8903</td>\n",
       "      <td>45.0081</td>\n",
       "      <td>63.4973</td>\n",
       "      <td>8.69603</td>\n",
       "      <td>108.205</td>\n",
       "      <td>5.38451</td>\n",
       "      <td>1.49738</td>\n",
       "      <td>1.33011</td>\n",
       "      <td>3.32956</td>\n",
       "      <td>0.265898</td>\n",
       "    </tr>\n",
       "    <tr>\n",
       "      <td>345</td>\n",
       "      <td>2015-12-15 09:00:00</td>\n",
       "      <td>356.849</td>\n",
       "      <td>46.9644</td>\n",
       "      <td>2098.27</td>\n",
       "      <td>2346.54</td>\n",
       "      <td>107.766</td>\n",
       "      <td>94.5820</td>\n",
       "      <td>54.3408</td>\n",
       "      <td>41.0075</td>\n",
       "      <td>50.8012</td>\n",
       "      <td>...</td>\n",
       "      <td>62.8979</td>\n",
       "      <td>45.0081</td>\n",
       "      <td>65.5930</td>\n",
       "      <td>8.69628</td>\n",
       "      <td>109.183</td>\n",
       "      <td>5.41354</td>\n",
       "      <td>1.50475</td>\n",
       "      <td>1.35155</td>\n",
       "      <td>3.31133</td>\n",
       "      <td>0.265048</td>\n",
       "    </tr>\n",
       "    <tr>\n",
       "      <td>346</td>\n",
       "      <td>2015-12-15 10:00:00</td>\n",
       "      <td>356.463</td>\n",
       "      <td>46.9907</td>\n",
       "      <td>2106.27</td>\n",
       "      <td>2257.58</td>\n",
       "      <td>110.593</td>\n",
       "      <td>94.6967</td>\n",
       "      <td>52.9045</td>\n",
       "      <td>41.0123</td>\n",
       "      <td>54.5137</td>\n",
       "      <td>...</td>\n",
       "      <td>62.8989</td>\n",
       "      <td>45.0085</td>\n",
       "      <td>65.1747</td>\n",
       "      <td>8.70460</td>\n",
       "      <td>111.993</td>\n",
       "      <td>5.39209</td>\n",
       "      <td>1.51684</td>\n",
       "      <td>1.46104</td>\n",
       "      <td>3.22320</td>\n",
       "      <td>0.265656</td>\n",
       "    </tr>\n",
       "  </tbody>\n",
       "</table>\n",
       "<p>3 rows × 46 columns</p>\n",
       "</div>"
      ],
      "text/plain": [
       "                   Date  x1:Primary Column Reflux Flow  \\\n",
       "344 2015-12-15 08:00:00                        355.568   \n",
       "345 2015-12-15 09:00:00                        356.849   \n",
       "346 2015-12-15 10:00:00                        356.463   \n",
       "\n",
       "     x2:Primary Column Tails Flow  x3:Input to Primary Column Bed 3 Flow  \\\n",
       "344                       46.9836                                2106.18   \n",
       "345                       46.9644                                2098.27   \n",
       "346                       46.9907                                2106.27   \n",
       "\n",
       "     x4:Input to Primary Column Bed 2 Flow  \\\n",
       "344                                2225.30   \n",
       "345                                2346.54   \n",
       "346                                2257.58   \n",
       "\n",
       "     x5:Primary Column Feed Flow from Feed Column  \\\n",
       "344                                       106.791   \n",
       "345                                       107.766   \n",
       "346                                       110.593   \n",
       "\n",
       "     x6:Primary Column Make Flow  x7:Primary Column Base Level  \\\n",
       "344                      94.5449                       56.9560   \n",
       "345                      94.5820                       54.3408   \n",
       "346                      94.6967                       52.9045   \n",
       "\n",
       "     x8:Primary Column Reflux Drum Pressure  \\\n",
       "344                                 40.9934   \n",
       "345                                 41.0075   \n",
       "346                                 41.0123   \n",
       "\n",
       "     x9:Primary Column Condenser Reflux Drum Level  ...  \\\n",
       "344                                        42.5425  ...   \n",
       "345                                        50.8012  ...   \n",
       "346                                        54.5137  ...   \n",
       "\n",
       "     x36: Feed Column Recycle Flow  \\\n",
       "344                        62.8903   \n",
       "345                        62.8979   \n",
       "346                        62.8989   \n",
       "\n",
       "     x37: Feed Column Tails Flow to Primary Column  \\\n",
       "344                                        45.0081   \n",
       "345                                        45.0081   \n",
       "346                                        45.0085   \n",
       "\n",
       "     x38: Feed Column Calculated DP  x39: Feed Column Steam Flow  \\\n",
       "344                         63.4973                      8.69603   \n",
       "345                         65.5930                      8.69628   \n",
       "346                         65.1747                      8.70460   \n",
       "\n",
       "     x40: Feed Column Tails Flow  Avg_Reactor_Outlet_Impurity  \\\n",
       "344                      108.205                      5.38451   \n",
       "345                      109.183                      5.41354   \n",
       "346                      111.993                      5.39209   \n",
       "\n",
       "     Avg_Delta_Composition Primary Column  y:Impurity  \\\n",
       "344                               1.49738     1.33011   \n",
       "345                               1.50475     1.35155   \n",
       "346                               1.51684     1.46104   \n",
       "\n",
       "     Primary Column Reflux/Feed Ratio  Primary Column Make/Reflux Ratio  \n",
       "344                           3.32956                          0.265898  \n",
       "345                           3.31133                          0.265048  \n",
       "346                           3.22320                          0.265656  \n",
       "\n",
       "[3 rows x 46 columns]"
      ]
     },
     "execution_count": 6,
     "metadata": {},
     "output_type": "execute_result"
    }
   ],
   "source": [
    "bools = df['x1:Primary Column Reflux Flow'] > 350\n",
    "print(bools)\n",
    "df_filtered = df[bools]\n",
    "df_filtered.head(3)"
   ]
  },
  {
   "cell_type": "markdown",
   "metadata": {},
   "source": [
    "Two things to note:\n",
    "\n",
    "* The \"filtered\" dataset must be re-assigned to a new variable\n",
    "\n",
    "* The row indexes no longer start at 0"
   ]
  },
  {
   "cell_type": "code",
   "execution_count": 7,
   "metadata": {},
   "outputs": [
    {
     "data": {
      "text/plain": [
       "Date                                             2015-12-15 08:00:00\n",
       "x1:Primary Column Reflux Flow                                355.568\n",
       "x2:Primary Column Tails Flow                                 46.9836\n",
       "x3:Input to Primary Column Bed 3 Flow                        2106.18\n",
       "x4:Input to Primary Column Bed 2 Flow                         2225.3\n",
       "x5:Primary Column Feed Flow from Feed Column                 106.791\n",
       "x6:Primary Column Make Flow                                  94.5449\n",
       "x7:Primary Column Base Level                                  56.956\n",
       "x8:Primary Column Reflux Drum Pressure                       40.9934\n",
       "x9:Primary Column Condenser Reflux Drum Level                42.5425\n",
       "x10:Primary Column Bed1 DP                                   8.54669\n",
       "x11:Primary Column Bed2 DP                                   13.7114\n",
       "x12:Primary Column Bed3 DP                                   10.8911\n",
       "x13:Primary Column Bed4 DP                                   10.6561\n",
       "x14:Primary Column Base Pressure                             42.7039\n",
       "x15:Primary Column Head Pressure                             41.1854\n",
       "x16:Primary Column Tails Temperature                         14.9034\n",
       "x17:Primary Column Tails Temperature 1                       48.7422\n",
       "x18:Primary Column Bed 4 Temperature                         49.5197\n",
       "x19:Primary Column Bed 3 Temperature                         49.6886\n",
       "x20:Primary Column Bed 2 Temperature                         50.9568\n",
       "x21:Primary Column Bed 1 Temperature                         51.5714\n",
       "x22: Secondary Column Base Concentration                   0.0156259\n",
       "x23: Flow from Input to Secondary Column                     1840.83\n",
       "x24: Secondary Column Tails Flow                             9.77669\n",
       "x25: Secondary Column Tray DP                                5.86007\n",
       "x26: Secondary Column Head Pressure                           43.421\n",
       "x27: Secondary Column Base Pressure                          44.3228\n",
       "x28: Secondary Column Base Temperature                       141.964\n",
       "x29: Secondary Column Tray 3 Temperature                     68.6928\n",
       "x30: Secondary Column Bed 1 Temperature                      60.1921\n",
       "x31: Secondary Column Bed 2 Temperature                      56.4001\n",
       "x32: Secondary Column Tray 2 Temperature                     86.8493\n",
       "x33: Secondary Column Tray 1 Temperature                     113.743\n",
       "x34: Secondary Column Tails Temperature                      141.559\n",
       "x35: Secondary Column Tails Concentration                  0.0140962\n",
       "x36: Feed Column Recycle Flow                                62.8903\n",
       "x37: Feed Column Tails Flow to Primary Column                45.0081\n",
       "x38: Feed Column Calculated DP                               63.4973\n",
       "x39: Feed Column Steam Flow                                  8.69603\n",
       "x40: Feed Column Tails Flow                                  108.205\n",
       "Avg_Reactor_Outlet_Impurity                                  5.38451\n",
       "Avg_Delta_Composition Primary Column                         1.49738\n",
       "y:Impurity                                                   1.33011\n",
       "Primary Column Reflux/Feed Ratio                             3.32956\n",
       "Primary Column Make/Reflux Ratio                            0.265898\n",
       "Name: 344, dtype: object"
      ]
     },
     "execution_count": 7,
     "metadata": {},
     "output_type": "execute_result"
    }
   ],
   "source": [
    "#df_filtered.loc[0]\n",
    "df_filtered.iloc[0]"
   ]
  },
  {
   "cell_type": "markdown",
   "metadata": {},
   "source": [
    "Columns can be re-named to more convenient names by creating a renaming dictionary:"
   ]
  },
  {
   "cell_type": "code",
   "execution_count": 8,
   "metadata": {},
   "outputs": [
    {
     "name": "stdout",
     "output_type": "stream",
     "text": [
      "{'Date': 'Date', 'x1:Primary Column Reflux Flow': 'x1', 'x2:Primary Column Tails Flow': 'x2', 'x3:Input to Primary Column Bed 3 Flow': 'x3', 'x4:Input to Primary Column Bed 2 Flow': 'x4', 'x5:Primary Column Feed Flow from Feed Column': 'x5', 'x6:Primary Column Make Flow': 'x6', 'x7:Primary Column Base Level': 'x7', 'x8:Primary Column Reflux Drum Pressure': 'x8', 'x9:Primary Column Condenser Reflux Drum Level': 'x9', 'x10:Primary Column Bed1 DP': 'x10', 'x11:Primary Column Bed2 DP': 'x11', 'x12:Primary Column Bed3 DP': 'x12', 'x13:Primary Column Bed4 DP': 'x13', 'x14:Primary Column Base Pressure': 'x14', 'x15:Primary Column Head Pressure': 'x15', 'x16:Primary Column Tails Temperature': 'x16', 'x17:Primary Column Tails Temperature 1': 'x17', 'x18:Primary Column Bed 4 Temperature': 'x18', 'x19:Primary Column Bed 3 Temperature': 'x19', 'x20:Primary Column Bed 2 Temperature': 'x20', 'x21:Primary Column Bed 1 Temperature': 'x21', 'x22: Secondary Column Base Concentration': 'x22', 'x23: Flow from Input to Secondary Column': 'x23', 'x24: Secondary Column Tails Flow': 'x24', 'x25: Secondary Column Tray DP': 'x25', 'x26: Secondary Column Head Pressure': 'x26', 'x27: Secondary Column Base Pressure': 'x27', 'x28: Secondary Column Base Temperature': 'x28', 'x29: Secondary Column Tray 3 Temperature': 'x29', 'x30: Secondary Column Bed 1 Temperature': 'x30', 'x31: Secondary Column Bed 2 Temperature': 'x31', 'x32: Secondary Column Tray 2 Temperature': 'x32', 'x33: Secondary Column Tray 1 Temperature': 'x33', 'x34: Secondary Column Tails Temperature': 'x34', 'x35: Secondary Column Tails Concentration': 'x35', 'x36: Feed Column Recycle Flow': 'x36', 'x37: Feed Column Tails Flow to Primary Column': 'x37', 'x38: Feed Column Calculated DP': 'x38', 'x39: Feed Column Steam Flow': 'x39', 'x40: Feed Column Tails Flow': 'x40', 'Avg_Reactor_Outlet_Impurity': 'Avg_Reactor_Outlet_Impurity', 'Avg_Delta_Composition Primary Column': 'Avg_Delta_Composition Primary Column', 'y:Impurity': 'y', 'Primary Column Reflux/Feed Ratio': 'Primary Column Reflux/Feed Ratio', 'Primary Column Make/Reflux Ratio': 'Primary Column Make/Reflux Ratio'}\n"
     ]
    }
   ],
   "source": [
    "columns = df.columns\n",
    "#print(columns)\n",
    "new_columns = {}\n",
    "for ci in columns:\n",
    "    if ':' in ci:\n",
    "        new_columns[ci] = ci.split(':',1)[0]\n",
    "    else:\n",
    "        new_columns[ci] = ci\n",
    "print(new_columns)"
   ]
  },
  {
   "cell_type": "code",
   "execution_count": 9,
   "metadata": {},
   "outputs": [
    {
     "data": {
      "text/html": [
       "<div>\n",
       "<style scoped>\n",
       "    .dataframe tbody tr th:only-of-type {\n",
       "        vertical-align: middle;\n",
       "    }\n",
       "\n",
       "    .dataframe tbody tr th {\n",
       "        vertical-align: top;\n",
       "    }\n",
       "\n",
       "    .dataframe thead th {\n",
       "        text-align: right;\n",
       "    }\n",
       "</style>\n",
       "<table border=\"1\" class=\"dataframe\">\n",
       "  <thead>\n",
       "    <tr style=\"text-align: right;\">\n",
       "      <th></th>\n",
       "      <th>Date</th>\n",
       "      <th>x1</th>\n",
       "      <th>x2</th>\n",
       "      <th>x3</th>\n",
       "      <th>x4</th>\n",
       "      <th>x5</th>\n",
       "      <th>x6</th>\n",
       "      <th>x7</th>\n",
       "      <th>x8</th>\n",
       "      <th>x9</th>\n",
       "      <th>...</th>\n",
       "      <th>x36</th>\n",
       "      <th>x37</th>\n",
       "      <th>x38</th>\n",
       "      <th>x39</th>\n",
       "      <th>x40</th>\n",
       "      <th>Avg_Reactor_Outlet_Impurity</th>\n",
       "      <th>Avg_Delta_Composition Primary Column</th>\n",
       "      <th>y</th>\n",
       "      <th>Primary Column Reflux/Feed Ratio</th>\n",
       "      <th>Primary Column Make/Reflux Ratio</th>\n",
       "    </tr>\n",
       "  </thead>\n",
       "  <tbody>\n",
       "    <tr>\n",
       "      <td>0</td>\n",
       "      <td>2015-12-01 00:00:00</td>\n",
       "      <td>327.813</td>\n",
       "      <td>45.7920</td>\n",
       "      <td>2095.06</td>\n",
       "      <td>2156.01</td>\n",
       "      <td>98.5005</td>\n",
       "      <td>95.4674</td>\n",
       "      <td>54.3476</td>\n",
       "      <td>41.0121</td>\n",
       "      <td>52.2353</td>\n",
       "      <td>...</td>\n",
       "      <td>62.8707</td>\n",
       "      <td>45.0085</td>\n",
       "      <td>66.6604</td>\n",
       "      <td>8.68813</td>\n",
       "      <td>99.9614</td>\n",
       "      <td>5.38024</td>\n",
       "      <td>1.49709</td>\n",
       "      <td>1.77833</td>\n",
       "      <td>3.32803</td>\n",
       "      <td>0.291226</td>\n",
       "    </tr>\n",
       "    <tr>\n",
       "      <td>1</td>\n",
       "      <td>2015-12-01 01:00:00</td>\n",
       "      <td>322.970</td>\n",
       "      <td>46.1643</td>\n",
       "      <td>2101.00</td>\n",
       "      <td>2182.90</td>\n",
       "      <td>98.0014</td>\n",
       "      <td>94.9673</td>\n",
       "      <td>54.2247</td>\n",
       "      <td>41.0076</td>\n",
       "      <td>52.5378</td>\n",
       "      <td>...</td>\n",
       "      <td>62.8651</td>\n",
       "      <td>45.0085</td>\n",
       "      <td>66.5496</td>\n",
       "      <td>8.70683</td>\n",
       "      <td>99.8637</td>\n",
       "      <td>5.33345</td>\n",
       "      <td>1.51392</td>\n",
       "      <td>1.76964</td>\n",
       "      <td>3.29556</td>\n",
       "      <td>0.294044</td>\n",
       "    </tr>\n",
       "    <tr>\n",
       "      <td>2</td>\n",
       "      <td>2015-12-01 02:00:00</td>\n",
       "      <td>319.674</td>\n",
       "      <td>45.9927</td>\n",
       "      <td>2102.96</td>\n",
       "      <td>2151.39</td>\n",
       "      <td>98.8229</td>\n",
       "      <td>96.0785</td>\n",
       "      <td>54.6130</td>\n",
       "      <td>41.0451</td>\n",
       "      <td>52.0159</td>\n",
       "      <td>...</td>\n",
       "      <td>62.8656</td>\n",
       "      <td>45.0085</td>\n",
       "      <td>66.0599</td>\n",
       "      <td>8.69269</td>\n",
       "      <td>100.2490</td>\n",
       "      <td>5.37677</td>\n",
       "      <td>1.50634</td>\n",
       "      <td>1.76095</td>\n",
       "      <td>3.23481</td>\n",
       "      <td>0.300552</td>\n",
       "    </tr>\n",
       "  </tbody>\n",
       "</table>\n",
       "<p>3 rows × 46 columns</p>\n",
       "</div>"
      ],
      "text/plain": [
       "                 Date       x1       x2       x3       x4       x5       x6  \\\n",
       "0 2015-12-01 00:00:00  327.813  45.7920  2095.06  2156.01  98.5005  95.4674   \n",
       "1 2015-12-01 01:00:00  322.970  46.1643  2101.00  2182.90  98.0014  94.9673   \n",
       "2 2015-12-01 02:00:00  319.674  45.9927  2102.96  2151.39  98.8229  96.0785   \n",
       "\n",
       "        x7       x8       x9  ...      x36      x37      x38      x39  \\\n",
       "0  54.3476  41.0121  52.2353  ...  62.8707  45.0085  66.6604  8.68813   \n",
       "1  54.2247  41.0076  52.5378  ...  62.8651  45.0085  66.5496  8.70683   \n",
       "2  54.6130  41.0451  52.0159  ...  62.8656  45.0085  66.0599  8.69269   \n",
       "\n",
       "        x40  Avg_Reactor_Outlet_Impurity  \\\n",
       "0   99.9614                      5.38024   \n",
       "1   99.8637                      5.33345   \n",
       "2  100.2490                      5.37677   \n",
       "\n",
       "   Avg_Delta_Composition Primary Column        y  \\\n",
       "0                               1.49709  1.77833   \n",
       "1                               1.51392  1.76964   \n",
       "2                               1.50634  1.76095   \n",
       "\n",
       "   Primary Column Reflux/Feed Ratio  Primary Column Make/Reflux Ratio  \n",
       "0                           3.32803                          0.291226  \n",
       "1                           3.29556                          0.294044  \n",
       "2                           3.23481                          0.300552  \n",
       "\n",
       "[3 rows x 46 columns]"
      ]
     },
     "execution_count": 9,
     "metadata": {},
     "output_type": "execute_result"
    }
   ],
   "source": [
    "df_shortnames = df.rename(columns=new_columns)\n",
    "df_shortnames.head(3)"
   ]
  },
  {
   "cell_type": "markdown",
   "metadata": {},
   "source": [
    "Data can also be [indexed by date/time](https://towardsdatascience.com/basic-time-series-manipulation-with-pandas-4432afee64ea), which can be extremely convenient when working with time series data:"
   ]
  },
  {
   "cell_type": "code",
   "execution_count": 10,
   "metadata": {
    "scrolled": true
   },
   "outputs": [
    {
     "data": {
      "text/html": [
       "<div>\n",
       "<style scoped>\n",
       "    .dataframe tbody tr th:only-of-type {\n",
       "        vertical-align: middle;\n",
       "    }\n",
       "\n",
       "    .dataframe tbody tr th {\n",
       "        vertical-align: top;\n",
       "    }\n",
       "\n",
       "    .dataframe thead th {\n",
       "        text-align: right;\n",
       "    }\n",
       "</style>\n",
       "<table border=\"1\" class=\"dataframe\">\n",
       "  <thead>\n",
       "    <tr style=\"text-align: right;\">\n",
       "      <th></th>\n",
       "      <th>x1:Primary Column Reflux Flow</th>\n",
       "      <th>x2:Primary Column Tails Flow</th>\n",
       "      <th>x3:Input to Primary Column Bed 3 Flow</th>\n",
       "      <th>x4:Input to Primary Column Bed 2 Flow</th>\n",
       "      <th>x5:Primary Column Feed Flow from Feed Column</th>\n",
       "      <th>x6:Primary Column Make Flow</th>\n",
       "      <th>x7:Primary Column Base Level</th>\n",
       "      <th>x8:Primary Column Reflux Drum Pressure</th>\n",
       "      <th>x9:Primary Column Condenser Reflux Drum Level</th>\n",
       "      <th>x10:Primary Column Bed1 DP</th>\n",
       "      <th>...</th>\n",
       "      <th>x36: Feed Column Recycle Flow</th>\n",
       "      <th>x37: Feed Column Tails Flow to Primary Column</th>\n",
       "      <th>x38: Feed Column Calculated DP</th>\n",
       "      <th>x39: Feed Column Steam Flow</th>\n",
       "      <th>x40: Feed Column Tails Flow</th>\n",
       "      <th>Avg_Reactor_Outlet_Impurity</th>\n",
       "      <th>Avg_Delta_Composition Primary Column</th>\n",
       "      <th>y:Impurity</th>\n",
       "      <th>Primary Column Reflux/Feed Ratio</th>\n",
       "      <th>Primary Column Make/Reflux Ratio</th>\n",
       "    </tr>\n",
       "    <tr>\n",
       "      <th>Date</th>\n",
       "      <th></th>\n",
       "      <th></th>\n",
       "      <th></th>\n",
       "      <th></th>\n",
       "      <th></th>\n",
       "      <th></th>\n",
       "      <th></th>\n",
       "      <th></th>\n",
       "      <th></th>\n",
       "      <th></th>\n",
       "      <th></th>\n",
       "      <th></th>\n",
       "      <th></th>\n",
       "      <th></th>\n",
       "      <th></th>\n",
       "      <th></th>\n",
       "      <th></th>\n",
       "      <th></th>\n",
       "      <th></th>\n",
       "      <th></th>\n",
       "      <th></th>\n",
       "    </tr>\n",
       "  </thead>\n",
       "  <tbody>\n",
       "    <tr>\n",
       "      <td>2015-12-01 00:00:00</td>\n",
       "      <td>327.813</td>\n",
       "      <td>45.7920</td>\n",
       "      <td>2095.06</td>\n",
       "      <td>2156.01</td>\n",
       "      <td>98.5005</td>\n",
       "      <td>95.4674</td>\n",
       "      <td>54.3476</td>\n",
       "      <td>41.0121</td>\n",
       "      <td>52.2353</td>\n",
       "      <td>6.86666</td>\n",
       "      <td>...</td>\n",
       "      <td>62.8707</td>\n",
       "      <td>45.0085</td>\n",
       "      <td>66.6604</td>\n",
       "      <td>8.68813</td>\n",
       "      <td>99.9614</td>\n",
       "      <td>5.38024</td>\n",
       "      <td>1.49709</td>\n",
       "      <td>1.77833</td>\n",
       "      <td>3.32803</td>\n",
       "      <td>0.291226</td>\n",
       "    </tr>\n",
       "    <tr>\n",
       "      <td>2015-12-01 01:00:00</td>\n",
       "      <td>322.970</td>\n",
       "      <td>46.1643</td>\n",
       "      <td>2101.00</td>\n",
       "      <td>2182.90</td>\n",
       "      <td>98.0014</td>\n",
       "      <td>94.9673</td>\n",
       "      <td>54.2247</td>\n",
       "      <td>41.0076</td>\n",
       "      <td>52.5378</td>\n",
       "      <td>6.70838</td>\n",
       "      <td>...</td>\n",
       "      <td>62.8651</td>\n",
       "      <td>45.0085</td>\n",
       "      <td>66.5496</td>\n",
       "      <td>8.70683</td>\n",
       "      <td>99.8637</td>\n",
       "      <td>5.33345</td>\n",
       "      <td>1.51392</td>\n",
       "      <td>1.76964</td>\n",
       "      <td>3.29556</td>\n",
       "      <td>0.294044</td>\n",
       "    </tr>\n",
       "    <tr>\n",
       "      <td>2015-12-01 02:00:00</td>\n",
       "      <td>319.674</td>\n",
       "      <td>45.9927</td>\n",
       "      <td>2102.96</td>\n",
       "      <td>2151.39</td>\n",
       "      <td>98.8229</td>\n",
       "      <td>96.0785</td>\n",
       "      <td>54.6130</td>\n",
       "      <td>41.0451</td>\n",
       "      <td>52.0159</td>\n",
       "      <td>6.75303</td>\n",
       "      <td>...</td>\n",
       "      <td>62.8656</td>\n",
       "      <td>45.0085</td>\n",
       "      <td>66.0599</td>\n",
       "      <td>8.69269</td>\n",
       "      <td>100.2490</td>\n",
       "      <td>5.37677</td>\n",
       "      <td>1.50634</td>\n",
       "      <td>1.76095</td>\n",
       "      <td>3.23481</td>\n",
       "      <td>0.300552</td>\n",
       "    </tr>\n",
       "  </tbody>\n",
       "</table>\n",
       "<p>3 rows × 45 columns</p>\n",
       "</div>"
      ],
      "text/plain": [
       "                     x1:Primary Column Reflux Flow  \\\n",
       "Date                                                 \n",
       "2015-12-01 00:00:00                        327.813   \n",
       "2015-12-01 01:00:00                        322.970   \n",
       "2015-12-01 02:00:00                        319.674   \n",
       "\n",
       "                     x2:Primary Column Tails Flow  \\\n",
       "Date                                                \n",
       "2015-12-01 00:00:00                       45.7920   \n",
       "2015-12-01 01:00:00                       46.1643   \n",
       "2015-12-01 02:00:00                       45.9927   \n",
       "\n",
       "                     x3:Input to Primary Column Bed 3 Flow  \\\n",
       "Date                                                         \n",
       "2015-12-01 00:00:00                                2095.06   \n",
       "2015-12-01 01:00:00                                2101.00   \n",
       "2015-12-01 02:00:00                                2102.96   \n",
       "\n",
       "                     x4:Input to Primary Column Bed 2 Flow  \\\n",
       "Date                                                         \n",
       "2015-12-01 00:00:00                                2156.01   \n",
       "2015-12-01 01:00:00                                2182.90   \n",
       "2015-12-01 02:00:00                                2151.39   \n",
       "\n",
       "                     x5:Primary Column Feed Flow from Feed Column  \\\n",
       "Date                                                                \n",
       "2015-12-01 00:00:00                                       98.5005   \n",
       "2015-12-01 01:00:00                                       98.0014   \n",
       "2015-12-01 02:00:00                                       98.8229   \n",
       "\n",
       "                     x6:Primary Column Make Flow  \\\n",
       "Date                                               \n",
       "2015-12-01 00:00:00                      95.4674   \n",
       "2015-12-01 01:00:00                      94.9673   \n",
       "2015-12-01 02:00:00                      96.0785   \n",
       "\n",
       "                     x7:Primary Column Base Level  \\\n",
       "Date                                                \n",
       "2015-12-01 00:00:00                       54.3476   \n",
       "2015-12-01 01:00:00                       54.2247   \n",
       "2015-12-01 02:00:00                       54.6130   \n",
       "\n",
       "                     x8:Primary Column Reflux Drum Pressure  \\\n",
       "Date                                                          \n",
       "2015-12-01 00:00:00                                 41.0121   \n",
       "2015-12-01 01:00:00                                 41.0076   \n",
       "2015-12-01 02:00:00                                 41.0451   \n",
       "\n",
       "                     x9:Primary Column Condenser Reflux Drum Level  \\\n",
       "Date                                                                 \n",
       "2015-12-01 00:00:00                                        52.2353   \n",
       "2015-12-01 01:00:00                                        52.5378   \n",
       "2015-12-01 02:00:00                                        52.0159   \n",
       "\n",
       "                     x10:Primary Column Bed1 DP  ...  \\\n",
       "Date                                             ...   \n",
       "2015-12-01 00:00:00                     6.86666  ...   \n",
       "2015-12-01 01:00:00                     6.70838  ...   \n",
       "2015-12-01 02:00:00                     6.75303  ...   \n",
       "\n",
       "                     x36: Feed Column Recycle Flow  \\\n",
       "Date                                                 \n",
       "2015-12-01 00:00:00                        62.8707   \n",
       "2015-12-01 01:00:00                        62.8651   \n",
       "2015-12-01 02:00:00                        62.8656   \n",
       "\n",
       "                     x37: Feed Column Tails Flow to Primary Column  \\\n",
       "Date                                                                 \n",
       "2015-12-01 00:00:00                                        45.0085   \n",
       "2015-12-01 01:00:00                                        45.0085   \n",
       "2015-12-01 02:00:00                                        45.0085   \n",
       "\n",
       "                     x38: Feed Column Calculated DP  \\\n",
       "Date                                                  \n",
       "2015-12-01 00:00:00                         66.6604   \n",
       "2015-12-01 01:00:00                         66.5496   \n",
       "2015-12-01 02:00:00                         66.0599   \n",
       "\n",
       "                     x39: Feed Column Steam Flow  x40: Feed Column Tails Flow  \\\n",
       "Date                                                                            \n",
       "2015-12-01 00:00:00                      8.68813                      99.9614   \n",
       "2015-12-01 01:00:00                      8.70683                      99.8637   \n",
       "2015-12-01 02:00:00                      8.69269                     100.2490   \n",
       "\n",
       "                     Avg_Reactor_Outlet_Impurity  \\\n",
       "Date                                               \n",
       "2015-12-01 00:00:00                      5.38024   \n",
       "2015-12-01 01:00:00                      5.33345   \n",
       "2015-12-01 02:00:00                      5.37677   \n",
       "\n",
       "                     Avg_Delta_Composition Primary Column  y:Impurity  \\\n",
       "Date                                                                    \n",
       "2015-12-01 00:00:00                               1.49709     1.77833   \n",
       "2015-12-01 01:00:00                               1.51392     1.76964   \n",
       "2015-12-01 02:00:00                               1.50634     1.76095   \n",
       "\n",
       "                     Primary Column Reflux/Feed Ratio  \\\n",
       "Date                                                    \n",
       "2015-12-01 00:00:00                           3.32803   \n",
       "2015-12-01 01:00:00                           3.29556   \n",
       "2015-12-01 02:00:00                           3.23481   \n",
       "\n",
       "                     Primary Column Make/Reflux Ratio  \n",
       "Date                                                   \n",
       "2015-12-01 00:00:00                          0.291226  \n",
       "2015-12-01 01:00:00                          0.294044  \n",
       "2015-12-01 02:00:00                          0.300552  \n",
       "\n",
       "[3 rows x 45 columns]"
      ]
     },
     "execution_count": 10,
     "metadata": {},
     "output_type": "execute_result"
    }
   ],
   "source": [
    "df_datetime = df.set_index('Date')\n",
    "df_datetime.head(3)"
   ]
  },
  {
   "cell_type": "markdown",
   "metadata": {},
   "source": [
    "This allows indexing with slices between different times:"
   ]
  },
  {
   "cell_type": "code",
   "execution_count": 11,
   "metadata": {
    "scrolled": false
   },
   "outputs": [
    {
     "data": {
      "text/html": [
       "<div>\n",
       "<style scoped>\n",
       "    .dataframe tbody tr th:only-of-type {\n",
       "        vertical-align: middle;\n",
       "    }\n",
       "\n",
       "    .dataframe tbody tr th {\n",
       "        vertical-align: top;\n",
       "    }\n",
       "\n",
       "    .dataframe thead th {\n",
       "        text-align: right;\n",
       "    }\n",
       "</style>\n",
       "<table border=\"1\" class=\"dataframe\">\n",
       "  <thead>\n",
       "    <tr style=\"text-align: right;\">\n",
       "      <th></th>\n",
       "      <th>x1:Primary Column Reflux Flow</th>\n",
       "      <th>x2:Primary Column Tails Flow</th>\n",
       "      <th>x3:Input to Primary Column Bed 3 Flow</th>\n",
       "      <th>x4:Input to Primary Column Bed 2 Flow</th>\n",
       "      <th>x5:Primary Column Feed Flow from Feed Column</th>\n",
       "      <th>x6:Primary Column Make Flow</th>\n",
       "      <th>x7:Primary Column Base Level</th>\n",
       "      <th>x8:Primary Column Reflux Drum Pressure</th>\n",
       "      <th>x9:Primary Column Condenser Reflux Drum Level</th>\n",
       "      <th>x10:Primary Column Bed1 DP</th>\n",
       "      <th>...</th>\n",
       "      <th>x36: Feed Column Recycle Flow</th>\n",
       "      <th>x37: Feed Column Tails Flow to Primary Column</th>\n",
       "      <th>x38: Feed Column Calculated DP</th>\n",
       "      <th>x39: Feed Column Steam Flow</th>\n",
       "      <th>x40: Feed Column Tails Flow</th>\n",
       "      <th>Avg_Reactor_Outlet_Impurity</th>\n",
       "      <th>Avg_Delta_Composition Primary Column</th>\n",
       "      <th>y:Impurity</th>\n",
       "      <th>Primary Column Reflux/Feed Ratio</th>\n",
       "      <th>Primary Column Make/Reflux Ratio</th>\n",
       "    </tr>\n",
       "    <tr>\n",
       "      <th>Date</th>\n",
       "      <th></th>\n",
       "      <th></th>\n",
       "      <th></th>\n",
       "      <th></th>\n",
       "      <th></th>\n",
       "      <th></th>\n",
       "      <th></th>\n",
       "      <th></th>\n",
       "      <th></th>\n",
       "      <th></th>\n",
       "      <th></th>\n",
       "      <th></th>\n",
       "      <th></th>\n",
       "      <th></th>\n",
       "      <th></th>\n",
       "      <th></th>\n",
       "      <th></th>\n",
       "      <th></th>\n",
       "      <th></th>\n",
       "      <th></th>\n",
       "      <th></th>\n",
       "    </tr>\n",
       "  </thead>\n",
       "  <tbody>\n",
       "    <tr>\n",
       "      <td>2015-12-02 00:00:00</td>\n",
       "      <td>323.630</td>\n",
       "      <td>45.9895</td>\n",
       "      <td>2090.74</td>\n",
       "      <td>2000.88</td>\n",
       "      <td>97.5097</td>\n",
       "      <td>94.6134</td>\n",
       "      <td>54.3864</td>\n",
       "      <td>40.9887</td>\n",
       "      <td>53.4909</td>\n",
       "      <td>6.65892</td>\n",
       "      <td>...</td>\n",
       "      <td>62.8554</td>\n",
       "      <td>45.0085</td>\n",
       "      <td>69.6167</td>\n",
       "      <td>8.70131</td>\n",
       "      <td>100.1880</td>\n",
       "      <td>5.33656</td>\n",
       "      <td>1.51034</td>\n",
       "      <td>1.7</td>\n",
       "      <td>3.31896</td>\n",
       "      <td>0.292350</td>\n",
       "    </tr>\n",
       "    <tr>\n",
       "      <td>2015-12-02 01:00:00</td>\n",
       "      <td>320.692</td>\n",
       "      <td>45.9209</td>\n",
       "      <td>2103.25</td>\n",
       "      <td>2205.99</td>\n",
       "      <td>98.0965</td>\n",
       "      <td>94.3998</td>\n",
       "      <td>54.7446</td>\n",
       "      <td>41.0217</td>\n",
       "      <td>52.7459</td>\n",
       "      <td>6.66100</td>\n",
       "      <td>...</td>\n",
       "      <td>62.8660</td>\n",
       "      <td>45.0085</td>\n",
       "      <td>66.2716</td>\n",
       "      <td>8.69119</td>\n",
       "      <td>99.7040</td>\n",
       "      <td>5.31553</td>\n",
       "      <td>1.50241</td>\n",
       "      <td>1.7</td>\n",
       "      <td>3.26915</td>\n",
       "      <td>0.294362</td>\n",
       "    </tr>\n",
       "    <tr>\n",
       "      <td>2015-12-02 02:00:00</td>\n",
       "      <td>324.106</td>\n",
       "      <td>45.9746</td>\n",
       "      <td>2101.29</td>\n",
       "      <td>2133.55</td>\n",
       "      <td>97.5244</td>\n",
       "      <td>94.0895</td>\n",
       "      <td>54.4040</td>\n",
       "      <td>40.9934</td>\n",
       "      <td>52.7559</td>\n",
       "      <td>6.64161</td>\n",
       "      <td>...</td>\n",
       "      <td>62.8703</td>\n",
       "      <td>45.0085</td>\n",
       "      <td>67.2306</td>\n",
       "      <td>8.71408</td>\n",
       "      <td>99.8338</td>\n",
       "      <td>5.24362</td>\n",
       "      <td>1.53346</td>\n",
       "      <td>1.7</td>\n",
       "      <td>3.32333</td>\n",
       "      <td>0.290305</td>\n",
       "    </tr>\n",
       "    <tr>\n",
       "      <td>2015-12-02 03:00:00</td>\n",
       "      <td>326.294</td>\n",
       "      <td>45.9891</td>\n",
       "      <td>2092.47</td>\n",
       "      <td>2121.73</td>\n",
       "      <td>98.7282</td>\n",
       "      <td>95.2893</td>\n",
       "      <td>54.6625</td>\n",
       "      <td>41.0028</td>\n",
       "      <td>53.2196</td>\n",
       "      <td>6.73669</td>\n",
       "      <td>...</td>\n",
       "      <td>62.8775</td>\n",
       "      <td>45.0068</td>\n",
       "      <td>67.6458</td>\n",
       "      <td>8.68745</td>\n",
       "      <td>100.1720</td>\n",
       "      <td>5.31019</td>\n",
       "      <td>1.51950</td>\n",
       "      <td>1.7</td>\n",
       "      <td>3.30497</td>\n",
       "      <td>0.292035</td>\n",
       "    </tr>\n",
       "    <tr>\n",
       "      <td>2015-12-02 04:00:00</td>\n",
       "      <td>327.563</td>\n",
       "      <td>46.3352</td>\n",
       "      <td>2094.37</td>\n",
       "      <td>1242.92</td>\n",
       "      <td>98.1270</td>\n",
       "      <td>95.7709</td>\n",
       "      <td>55.0713</td>\n",
       "      <td>41.0121</td>\n",
       "      <td>52.6452</td>\n",
       "      <td>6.87839</td>\n",
       "      <td>...</td>\n",
       "      <td>62.8775</td>\n",
       "      <td>45.0068</td>\n",
       "      <td>66.7606</td>\n",
       "      <td>8.69975</td>\n",
       "      <td>99.4970</td>\n",
       "      <td>5.35622</td>\n",
       "      <td>1.56088</td>\n",
       "      <td>1.7</td>\n",
       "      <td>3.33815</td>\n",
       "      <td>0.292374</td>\n",
       "    </tr>\n",
       "  </tbody>\n",
       "</table>\n",
       "<p>5 rows × 45 columns</p>\n",
       "</div>"
      ],
      "text/plain": [
       "                     x1:Primary Column Reflux Flow  \\\n",
       "Date                                                 \n",
       "2015-12-02 00:00:00                        323.630   \n",
       "2015-12-02 01:00:00                        320.692   \n",
       "2015-12-02 02:00:00                        324.106   \n",
       "2015-12-02 03:00:00                        326.294   \n",
       "2015-12-02 04:00:00                        327.563   \n",
       "\n",
       "                     x2:Primary Column Tails Flow  \\\n",
       "Date                                                \n",
       "2015-12-02 00:00:00                       45.9895   \n",
       "2015-12-02 01:00:00                       45.9209   \n",
       "2015-12-02 02:00:00                       45.9746   \n",
       "2015-12-02 03:00:00                       45.9891   \n",
       "2015-12-02 04:00:00                       46.3352   \n",
       "\n",
       "                     x3:Input to Primary Column Bed 3 Flow  \\\n",
       "Date                                                         \n",
       "2015-12-02 00:00:00                                2090.74   \n",
       "2015-12-02 01:00:00                                2103.25   \n",
       "2015-12-02 02:00:00                                2101.29   \n",
       "2015-12-02 03:00:00                                2092.47   \n",
       "2015-12-02 04:00:00                                2094.37   \n",
       "\n",
       "                     x4:Input to Primary Column Bed 2 Flow  \\\n",
       "Date                                                         \n",
       "2015-12-02 00:00:00                                2000.88   \n",
       "2015-12-02 01:00:00                                2205.99   \n",
       "2015-12-02 02:00:00                                2133.55   \n",
       "2015-12-02 03:00:00                                2121.73   \n",
       "2015-12-02 04:00:00                                1242.92   \n",
       "\n",
       "                     x5:Primary Column Feed Flow from Feed Column  \\\n",
       "Date                                                                \n",
       "2015-12-02 00:00:00                                       97.5097   \n",
       "2015-12-02 01:00:00                                       98.0965   \n",
       "2015-12-02 02:00:00                                       97.5244   \n",
       "2015-12-02 03:00:00                                       98.7282   \n",
       "2015-12-02 04:00:00                                       98.1270   \n",
       "\n",
       "                     x6:Primary Column Make Flow  \\\n",
       "Date                                               \n",
       "2015-12-02 00:00:00                      94.6134   \n",
       "2015-12-02 01:00:00                      94.3998   \n",
       "2015-12-02 02:00:00                      94.0895   \n",
       "2015-12-02 03:00:00                      95.2893   \n",
       "2015-12-02 04:00:00                      95.7709   \n",
       "\n",
       "                     x7:Primary Column Base Level  \\\n",
       "Date                                                \n",
       "2015-12-02 00:00:00                       54.3864   \n",
       "2015-12-02 01:00:00                       54.7446   \n",
       "2015-12-02 02:00:00                       54.4040   \n",
       "2015-12-02 03:00:00                       54.6625   \n",
       "2015-12-02 04:00:00                       55.0713   \n",
       "\n",
       "                     x8:Primary Column Reflux Drum Pressure  \\\n",
       "Date                                                          \n",
       "2015-12-02 00:00:00                                 40.9887   \n",
       "2015-12-02 01:00:00                                 41.0217   \n",
       "2015-12-02 02:00:00                                 40.9934   \n",
       "2015-12-02 03:00:00                                 41.0028   \n",
       "2015-12-02 04:00:00                                 41.0121   \n",
       "\n",
       "                     x9:Primary Column Condenser Reflux Drum Level  \\\n",
       "Date                                                                 \n",
       "2015-12-02 00:00:00                                        53.4909   \n",
       "2015-12-02 01:00:00                                        52.7459   \n",
       "2015-12-02 02:00:00                                        52.7559   \n",
       "2015-12-02 03:00:00                                        53.2196   \n",
       "2015-12-02 04:00:00                                        52.6452   \n",
       "\n",
       "                     x10:Primary Column Bed1 DP  ...  \\\n",
       "Date                                             ...   \n",
       "2015-12-02 00:00:00                     6.65892  ...   \n",
       "2015-12-02 01:00:00                     6.66100  ...   \n",
       "2015-12-02 02:00:00                     6.64161  ...   \n",
       "2015-12-02 03:00:00                     6.73669  ...   \n",
       "2015-12-02 04:00:00                     6.87839  ...   \n",
       "\n",
       "                     x36: Feed Column Recycle Flow  \\\n",
       "Date                                                 \n",
       "2015-12-02 00:00:00                        62.8554   \n",
       "2015-12-02 01:00:00                        62.8660   \n",
       "2015-12-02 02:00:00                        62.8703   \n",
       "2015-12-02 03:00:00                        62.8775   \n",
       "2015-12-02 04:00:00                        62.8775   \n",
       "\n",
       "                     x37: Feed Column Tails Flow to Primary Column  \\\n",
       "Date                                                                 \n",
       "2015-12-02 00:00:00                                        45.0085   \n",
       "2015-12-02 01:00:00                                        45.0085   \n",
       "2015-12-02 02:00:00                                        45.0085   \n",
       "2015-12-02 03:00:00                                        45.0068   \n",
       "2015-12-02 04:00:00                                        45.0068   \n",
       "\n",
       "                     x38: Feed Column Calculated DP  \\\n",
       "Date                                                  \n",
       "2015-12-02 00:00:00                         69.6167   \n",
       "2015-12-02 01:00:00                         66.2716   \n",
       "2015-12-02 02:00:00                         67.2306   \n",
       "2015-12-02 03:00:00                         67.6458   \n",
       "2015-12-02 04:00:00                         66.7606   \n",
       "\n",
       "                     x39: Feed Column Steam Flow  x40: Feed Column Tails Flow  \\\n",
       "Date                                                                            \n",
       "2015-12-02 00:00:00                      8.70131                     100.1880   \n",
       "2015-12-02 01:00:00                      8.69119                      99.7040   \n",
       "2015-12-02 02:00:00                      8.71408                      99.8338   \n",
       "2015-12-02 03:00:00                      8.68745                     100.1720   \n",
       "2015-12-02 04:00:00                      8.69975                      99.4970   \n",
       "\n",
       "                     Avg_Reactor_Outlet_Impurity  \\\n",
       "Date                                               \n",
       "2015-12-02 00:00:00                      5.33656   \n",
       "2015-12-02 01:00:00                      5.31553   \n",
       "2015-12-02 02:00:00                      5.24362   \n",
       "2015-12-02 03:00:00                      5.31019   \n",
       "2015-12-02 04:00:00                      5.35622   \n",
       "\n",
       "                     Avg_Delta_Composition Primary Column  y:Impurity  \\\n",
       "Date                                                                    \n",
       "2015-12-02 00:00:00                               1.51034         1.7   \n",
       "2015-12-02 01:00:00                               1.50241         1.7   \n",
       "2015-12-02 02:00:00                               1.53346         1.7   \n",
       "2015-12-02 03:00:00                               1.51950         1.7   \n",
       "2015-12-02 04:00:00                               1.56088         1.7   \n",
       "\n",
       "                     Primary Column Reflux/Feed Ratio  \\\n",
       "Date                                                    \n",
       "2015-12-02 00:00:00                           3.31896   \n",
       "2015-12-02 01:00:00                           3.26915   \n",
       "2015-12-02 02:00:00                           3.32333   \n",
       "2015-12-02 03:00:00                           3.30497   \n",
       "2015-12-02 04:00:00                           3.33815   \n",
       "\n",
       "                     Primary Column Make/Reflux Ratio  \n",
       "Date                                                   \n",
       "2015-12-02 00:00:00                          0.292350  \n",
       "2015-12-02 01:00:00                          0.294362  \n",
       "2015-12-02 02:00:00                          0.290305  \n",
       "2015-12-02 03:00:00                          0.292035  \n",
       "2015-12-02 04:00:00                          0.292374  \n",
       "\n",
       "[5 rows x 45 columns]"
      ]
     },
     "execution_count": 11,
     "metadata": {},
     "output_type": "execute_result"
    }
   ],
   "source": [
    "df_oneday = df_datetime['2015-12-02':'2015-12-03']\n",
    "df_oneday.head()"
   ]
  },
  {
   "cell_type": "markdown",
   "metadata": {},
   "source": [
    "The underlying structure of a `pandas` dataframe is a `numpy` array, which can be accessed with the `.values` attribute:"
   ]
  },
  {
   "cell_type": "code",
   "execution_count": 12,
   "metadata": {
    "scrolled": true
   },
   "outputs": [
    {
     "data": {
      "text/plain": [
       "(48, 45)"
      ]
     },
     "execution_count": 12,
     "metadata": {},
     "output_type": "execute_result"
    }
   ],
   "source": [
    "X_oneday = df_oneday.values\n",
    "X_oneday.shape"
   ]
  },
  {
   "cell_type": "markdown",
   "metadata": {},
   "source": [
    "### Exercise: Create a subset of the Dow dataset containing data from Dec. 5 - Dec. 12, 2015\n",
    "\n",
    "The data should only include columns for `x1` to `x12`."
   ]
  },
  {
   "cell_type": "code",
   "execution_count": 13,
   "metadata": {},
   "outputs": [
    {
     "data": {
      "text/html": [
       "<div>\n",
       "<style scoped>\n",
       "    .dataframe tbody tr th:only-of-type {\n",
       "        vertical-align: middle;\n",
       "    }\n",
       "\n",
       "    .dataframe tbody tr th {\n",
       "        vertical-align: top;\n",
       "    }\n",
       "\n",
       "    .dataframe thead th {\n",
       "        text-align: right;\n",
       "    }\n",
       "</style>\n",
       "<table border=\"1\" class=\"dataframe\">\n",
       "  <thead>\n",
       "    <tr style=\"text-align: right;\">\n",
       "      <th></th>\n",
       "      <th>x1:Primary Column Reflux Flow</th>\n",
       "      <th>x2:Primary Column Tails Flow</th>\n",
       "      <th>x3:Input to Primary Column Bed 3 Flow</th>\n",
       "      <th>x4:Input to Primary Column Bed 2 Flow</th>\n",
       "      <th>x5:Primary Column Feed Flow from Feed Column</th>\n",
       "      <th>x6:Primary Column Make Flow</th>\n",
       "      <th>x7:Primary Column Base Level</th>\n",
       "      <th>x8:Primary Column Reflux Drum Pressure</th>\n",
       "      <th>x9:Primary Column Condenser Reflux Drum Level</th>\n",
       "      <th>x10:Primary Column Bed1 DP</th>\n",
       "      <th>x11:Primary Column Bed2 DP</th>\n",
       "      <th>x12:Primary Column Bed3 DP</th>\n",
       "    </tr>\n",
       "    <tr>\n",
       "      <th>Date</th>\n",
       "      <th></th>\n",
       "      <th></th>\n",
       "      <th></th>\n",
       "      <th></th>\n",
       "      <th></th>\n",
       "      <th></th>\n",
       "      <th></th>\n",
       "      <th></th>\n",
       "      <th></th>\n",
       "      <th></th>\n",
       "      <th></th>\n",
       "      <th></th>\n",
       "    </tr>\n",
       "  </thead>\n",
       "  <tbody>\n",
       "    <tr>\n",
       "      <td>2015-12-12 21:00:00</td>\n",
       "      <td>330.288</td>\n",
       "      <td>46.9868</td>\n",
       "      <td>2101.38</td>\n",
       "      <td>2240.48</td>\n",
       "      <td>97.8903</td>\n",
       "      <td>94.8367</td>\n",
       "      <td>54.5267</td>\n",
       "      <td>40.9888</td>\n",
       "      <td>53.1128</td>\n",
       "      <td>6.73649</td>\n",
       "      <td>10.6312</td>\n",
       "      <td>7.93891</td>\n",
       "    </tr>\n",
       "    <tr>\n",
       "      <td>2015-12-12 22:00:00</td>\n",
       "      <td>327.218</td>\n",
       "      <td>46.9795</td>\n",
       "      <td>2100.59</td>\n",
       "      <td>2192.00</td>\n",
       "      <td>99.5245</td>\n",
       "      <td>94.0540</td>\n",
       "      <td>54.1709</td>\n",
       "      <td>40.9934</td>\n",
       "      <td>52.7644</td>\n",
       "      <td>6.71075</td>\n",
       "      <td>10.6153</td>\n",
       "      <td>7.84894</td>\n",
       "    </tr>\n",
       "    <tr>\n",
       "      <td>2015-12-12 23:00:00</td>\n",
       "      <td>326.099</td>\n",
       "      <td>46.9872</td>\n",
       "      <td>2104.65</td>\n",
       "      <td>2213.03</td>\n",
       "      <td>99.3970</td>\n",
       "      <td>95.2646</td>\n",
       "      <td>54.3198</td>\n",
       "      <td>40.9886</td>\n",
       "      <td>53.7732</td>\n",
       "      <td>6.77140</td>\n",
       "      <td>10.7005</td>\n",
       "      <td>8.08075</td>\n",
       "    </tr>\n",
       "  </tbody>\n",
       "</table>\n",
       "</div>"
      ],
      "text/plain": [
       "                     x1:Primary Column Reflux Flow  \\\n",
       "Date                                                 \n",
       "2015-12-12 21:00:00                        330.288   \n",
       "2015-12-12 22:00:00                        327.218   \n",
       "2015-12-12 23:00:00                        326.099   \n",
       "\n",
       "                     x2:Primary Column Tails Flow  \\\n",
       "Date                                                \n",
       "2015-12-12 21:00:00                       46.9868   \n",
       "2015-12-12 22:00:00                       46.9795   \n",
       "2015-12-12 23:00:00                       46.9872   \n",
       "\n",
       "                     x3:Input to Primary Column Bed 3 Flow  \\\n",
       "Date                                                         \n",
       "2015-12-12 21:00:00                                2101.38   \n",
       "2015-12-12 22:00:00                                2100.59   \n",
       "2015-12-12 23:00:00                                2104.65   \n",
       "\n",
       "                     x4:Input to Primary Column Bed 2 Flow  \\\n",
       "Date                                                         \n",
       "2015-12-12 21:00:00                                2240.48   \n",
       "2015-12-12 22:00:00                                2192.00   \n",
       "2015-12-12 23:00:00                                2213.03   \n",
       "\n",
       "                     x5:Primary Column Feed Flow from Feed Column  \\\n",
       "Date                                                                \n",
       "2015-12-12 21:00:00                                       97.8903   \n",
       "2015-12-12 22:00:00                                       99.5245   \n",
       "2015-12-12 23:00:00                                       99.3970   \n",
       "\n",
       "                     x6:Primary Column Make Flow  \\\n",
       "Date                                               \n",
       "2015-12-12 21:00:00                      94.8367   \n",
       "2015-12-12 22:00:00                      94.0540   \n",
       "2015-12-12 23:00:00                      95.2646   \n",
       "\n",
       "                     x7:Primary Column Base Level  \\\n",
       "Date                                                \n",
       "2015-12-12 21:00:00                       54.5267   \n",
       "2015-12-12 22:00:00                       54.1709   \n",
       "2015-12-12 23:00:00                       54.3198   \n",
       "\n",
       "                     x8:Primary Column Reflux Drum Pressure  \\\n",
       "Date                                                          \n",
       "2015-12-12 21:00:00                                 40.9888   \n",
       "2015-12-12 22:00:00                                 40.9934   \n",
       "2015-12-12 23:00:00                                 40.9886   \n",
       "\n",
       "                     x9:Primary Column Condenser Reflux Drum Level  \\\n",
       "Date                                                                 \n",
       "2015-12-12 21:00:00                                        53.1128   \n",
       "2015-12-12 22:00:00                                        52.7644   \n",
       "2015-12-12 23:00:00                                        53.7732   \n",
       "\n",
       "                     x10:Primary Column Bed1 DP  x11:Primary Column Bed2 DP  \\\n",
       "Date                                                                          \n",
       "2015-12-12 21:00:00                     6.73649                     10.6312   \n",
       "2015-12-12 22:00:00                     6.71075                     10.6153   \n",
       "2015-12-12 23:00:00                     6.77140                     10.7005   \n",
       "\n",
       "                     x12:Primary Column Bed3 DP  \n",
       "Date                                             \n",
       "2015-12-12 21:00:00                     7.93891  \n",
       "2015-12-12 22:00:00                     7.84894  \n",
       "2015-12-12 23:00:00                     8.08075  "
      ]
     },
     "execution_count": 13,
     "metadata": {},
     "output_type": "execute_result"
    }
   ],
   "source": [
    "#print(df_datetime.columns[0:12])\n",
    "df_exercise = df_datetime.loc['2015-12-05':'2015-12-12',df_datetime.columns[0:12]]\n",
    "df_exercise.tail(3)"
   ]
  },
  {
   "cell_type": "markdown",
   "metadata": {},
   "source": [
    "There are many more useful features in `pandas`, far too many to cover in this course. Any time you are stuck it is a good idea to check the documentation or StackOverflow for a shortcut to get to the right \"slice\" of data in `pandas`."
   ]
  },
  {
   "cell_type": "markdown",
   "metadata": {},
   "source": [
    "## Establishing an efficient data pipeline\n",
    "\n",
    "* Good integration of data storage + analysis can make or break a real project\n",
    "* Separate raw data from analysis facilitates reproducibility and scalability\n",
    "* Rapidly prototype and iteratively improve.\n",
    "\n",
    "### Raw data organization\n",
    "\n",
    "Common issues with spreadsheets (from [Data Carpentry](https://datacarpentry.org/spreadsheet-ecology-lesson/02-common-mistakes/index.html)):\n",
    " * Using multiple tables\n",
    " * Using multiple tabs\n",
    " * Not filling in zeros\n",
    " * Using problematic null values\n",
    " * Using formatting to convey information\n",
    " * Using formatting to make the data sheet look pretty\n",
    " * Placing comments or units in cells\n",
    " * Entering more than one piece of information in a cell\n",
    " * Using problematic field names\n",
    " * Using special characters in data\n",
    " * Inclusion of metadata in data table\n",
    " * Date formatting\n",
    " \n",
    " If you find Pandas tedious, you may want to look into [OpenRefine](https://openrefine.org/). This is a GUI-based tool that works similarly to Excel, but has a number of advantages such as saving entire workflows for repeatability, and exporting routines to Python."
   ]
  },
  {
   "cell_type": "markdown",
   "metadata": {},
   "source": [
    "One of the most common problems is the use of inappropriate or inconsistent null values. Let's try to convert the Dow dataset to numerical values to see if there are any null values:"
   ]
  },
  {
   "cell_type": "code",
   "execution_count": 14,
   "metadata": {
    "scrolled": true
   },
   "outputs": [
    {
     "data": {
      "text/plain": [
       "array([[327.813, 45.792, 2095.06, ..., 1.77833, 3.32803, 0.291226],\n",
       "       [322.97, 46.1643, 2101.0, ..., 1.76964, 3.29556, 0.294044],\n",
       "       [319.674, 45.9927, 2102.96, ..., 1.76095, 3.23481, 0.300552],\n",
       "       ...,\n",
       "       [396.095, 48.838, 2296.4, ..., 3.07895, 3.22441, 0.302209],\n",
       "       [392.233, 49.0474, 2287.61, ..., 3.03684, 3.19061, 0.305736],\n",
       "       [395.883, 49.0474, 2302.26, ..., 2.99474, 3.2428, 0.299539]],\n",
       "      dtype=object)"
      ]
     },
     "execution_count": 14,
     "metadata": {},
     "output_type": "execute_result"
    }
   ],
   "source": [
    "nondate_cols = df.columns[1:]\n",
    "df.loc[:, nondate_cols].values"
   ]
  },
  {
   "cell_type": "markdown",
   "metadata": {},
   "source": [
    "The fact that the data type (`dtype`) is `object` suggests that not all the values are numerical. We can look for null values using the `isnull` function of `pandas`:"
   ]
  },
  {
   "cell_type": "code",
   "execution_count": 15,
   "metadata": {
    "scrolled": false
   },
   "outputs": [
    {
     "data": {
      "text/html": [
       "<div>\n",
       "<style scoped>\n",
       "    .dataframe tbody tr th:only-of-type {\n",
       "        vertical-align: middle;\n",
       "    }\n",
       "\n",
       "    .dataframe tbody tr th {\n",
       "        vertical-align: top;\n",
       "    }\n",
       "\n",
       "    .dataframe thead th {\n",
       "        text-align: right;\n",
       "    }\n",
       "</style>\n",
       "<table border=\"1\" class=\"dataframe\">\n",
       "  <thead>\n",
       "    <tr style=\"text-align: right;\">\n",
       "      <th></th>\n",
       "      <th>Date</th>\n",
       "      <th>x1:Primary Column Reflux Flow</th>\n",
       "      <th>x2:Primary Column Tails Flow</th>\n",
       "      <th>x3:Input to Primary Column Bed 3 Flow</th>\n",
       "      <th>x4:Input to Primary Column Bed 2 Flow</th>\n",
       "      <th>x5:Primary Column Feed Flow from Feed Column</th>\n",
       "      <th>x6:Primary Column Make Flow</th>\n",
       "      <th>x7:Primary Column Base Level</th>\n",
       "      <th>x8:Primary Column Reflux Drum Pressure</th>\n",
       "      <th>x9:Primary Column Condenser Reflux Drum Level</th>\n",
       "      <th>...</th>\n",
       "      <th>x36: Feed Column Recycle Flow</th>\n",
       "      <th>x37: Feed Column Tails Flow to Primary Column</th>\n",
       "      <th>x38: Feed Column Calculated DP</th>\n",
       "      <th>x39: Feed Column Steam Flow</th>\n",
       "      <th>x40: Feed Column Tails Flow</th>\n",
       "      <th>Avg_Reactor_Outlet_Impurity</th>\n",
       "      <th>Avg_Delta_Composition Primary Column</th>\n",
       "      <th>y:Impurity</th>\n",
       "      <th>Primary Column Reflux/Feed Ratio</th>\n",
       "      <th>Primary Column Make/Reflux Ratio</th>\n",
       "    </tr>\n",
       "  </thead>\n",
       "  <tbody>\n",
       "    <tr>\n",
       "      <td>490</td>\n",
       "      <td>2015-12-21 10:00:00</td>\n",
       "      <td>366.263</td>\n",
       "      <td>47.0246</td>\n",
       "      <td>2100.16</td>\n",
       "      <td>2222.75</td>\n",
       "      <td>110.189</td>\n",
       "      <td>96.0753</td>\n",
       "      <td>54.3922</td>\n",
       "      <td>41.0122</td>\n",
       "      <td>54.1885</td>\n",
       "      <td>...</td>\n",
       "      <td>62.8911</td>\n",
       "      <td>45.0085</td>\n",
       "      <td>64.5294</td>\n",
       "      <td>8.70778</td>\n",
       "      <td>111.523</td>\n",
       "      <td>5.13314</td>\n",
       "      <td>NaN</td>\n",
       "      <td>1.66293</td>\n",
       "      <td>3.32396</td>\n",
       "      <td>0.262312</td>\n",
       "    </tr>\n",
       "    <tr>\n",
       "      <td>491</td>\n",
       "      <td>2015-12-21 11:00:00</td>\n",
       "      <td>367.940</td>\n",
       "      <td>46.9454</td>\n",
       "      <td>2101.25</td>\n",
       "      <td>1945.08</td>\n",
       "      <td>111.314</td>\n",
       "      <td>96.3701</td>\n",
       "      <td>54.7842</td>\n",
       "      <td>41.0264</td>\n",
       "      <td>53.3218</td>\n",
       "      <td>...</td>\n",
       "      <td>62.8877</td>\n",
       "      <td>45.0085</td>\n",
       "      <td>66.3464</td>\n",
       "      <td>8.70857</td>\n",
       "      <td>112.389</td>\n",
       "      <td>5.06810</td>\n",
       "      <td>NaN</td>\n",
       "      <td>1.65844</td>\n",
       "      <td>3.30541</td>\n",
       "      <td>0.261918</td>\n",
       "    </tr>\n",
       "    <tr>\n",
       "      <td>623</td>\n",
       "      <td>2015-12-26 23:00:00</td>\n",
       "      <td>348.703</td>\n",
       "      <td>46.9077</td>\n",
       "      <td>2096.92</td>\n",
       "      <td>2255.57</td>\n",
       "      <td>107.803</td>\n",
       "      <td>91.1505</td>\n",
       "      <td>54.7803</td>\n",
       "      <td>41.0499</td>\n",
       "      <td>52.5548</td>\n",
       "      <td>...</td>\n",
       "      <td>62.8911</td>\n",
       "      <td>45.0085</td>\n",
       "      <td>66.2981</td>\n",
       "      <td>8.69761</td>\n",
       "      <td>109.224</td>\n",
       "      <td>4.57842</td>\n",
       "      <td>NaN</td>\n",
       "      <td>1.70000</td>\n",
       "      <td>3.23465</td>\n",
       "      <td>0.261399</td>\n",
       "    </tr>\n",
       "  </tbody>\n",
       "</table>\n",
       "<p>3 rows × 46 columns</p>\n",
       "</div>"
      ],
      "text/plain": [
       "                   Date  x1:Primary Column Reflux Flow  \\\n",
       "490 2015-12-21 10:00:00                        366.263   \n",
       "491 2015-12-21 11:00:00                        367.940   \n",
       "623 2015-12-26 23:00:00                        348.703   \n",
       "\n",
       "     x2:Primary Column Tails Flow  x3:Input to Primary Column Bed 3 Flow  \\\n",
       "490                       47.0246                                2100.16   \n",
       "491                       46.9454                                2101.25   \n",
       "623                       46.9077                                2096.92   \n",
       "\n",
       "     x4:Input to Primary Column Bed 2 Flow  \\\n",
       "490                                2222.75   \n",
       "491                                1945.08   \n",
       "623                                2255.57   \n",
       "\n",
       "     x5:Primary Column Feed Flow from Feed Column  \\\n",
       "490                                       110.189   \n",
       "491                                       111.314   \n",
       "623                                       107.803   \n",
       "\n",
       "     x6:Primary Column Make Flow  x7:Primary Column Base Level  \\\n",
       "490                      96.0753                       54.3922   \n",
       "491                      96.3701                       54.7842   \n",
       "623                      91.1505                       54.7803   \n",
       "\n",
       "     x8:Primary Column Reflux Drum Pressure  \\\n",
       "490                                 41.0122   \n",
       "491                                 41.0264   \n",
       "623                                 41.0499   \n",
       "\n",
       "     x9:Primary Column Condenser Reflux Drum Level  ...  \\\n",
       "490                                        54.1885  ...   \n",
       "491                                        53.3218  ...   \n",
       "623                                        52.5548  ...   \n",
       "\n",
       "     x36: Feed Column Recycle Flow  \\\n",
       "490                        62.8911   \n",
       "491                        62.8877   \n",
       "623                        62.8911   \n",
       "\n",
       "     x37: Feed Column Tails Flow to Primary Column  \\\n",
       "490                                        45.0085   \n",
       "491                                        45.0085   \n",
       "623                                        45.0085   \n",
       "\n",
       "     x38: Feed Column Calculated DP  x39: Feed Column Steam Flow  \\\n",
       "490                         64.5294                      8.70778   \n",
       "491                         66.3464                      8.70857   \n",
       "623                         66.2981                      8.69761   \n",
       "\n",
       "     x40: Feed Column Tails Flow  Avg_Reactor_Outlet_Impurity  \\\n",
       "490                      111.523                      5.13314   \n",
       "491                      112.389                      5.06810   \n",
       "623                      109.224                      4.57842   \n",
       "\n",
       "     Avg_Delta_Composition Primary Column  y:Impurity  \\\n",
       "490                                   NaN     1.66293   \n",
       "491                                   NaN     1.65844   \n",
       "623                                   NaN     1.70000   \n",
       "\n",
       "     Primary Column Reflux/Feed Ratio  Primary Column Make/Reflux Ratio  \n",
       "490                           3.32396                          0.262312  \n",
       "491                           3.30541                          0.261918  \n",
       "623                           3.23465                          0.261399  \n",
       "\n",
       "[3 rows x 46 columns]"
      ]
     },
     "execution_count": 15,
     "metadata": {},
     "output_type": "execute_result"
    }
   ],
   "source": [
    "#pd.isnull(df)\n",
    "df[pd.isnull(df).values].head(3)"
   ]
  },
  {
   "cell_type": "markdown",
   "metadata": {},
   "source": [
    "This is one way to find all the null values. Another is to try to convert everything to numerical values:"
   ]
  },
  {
   "cell_type": "code",
   "execution_count": 16,
   "metadata": {
    "scrolled": false
   },
   "outputs": [],
   "source": [
    "#X = df.loc[:, nondate_cols].values.astype('float')"
   ]
  },
  {
   "cell_type": "markdown",
   "metadata": {},
   "source": [
    "It appears that there are some expression points in the data. This use of multiple types of \"null\" values can cause headaches. There is a very useful feature of `pandas` that allows us to apply an arbitrary function to data. Here, we can write a function that allows identification of only numerical values and apply it to the dataset:"
   ]
  },
  {
   "cell_type": "code",
   "execution_count": 17,
   "metadata": {
    "scrolled": true
   },
   "outputs": [
    {
     "data": {
      "text/html": [
       "<div>\n",
       "<style scoped>\n",
       "    .dataframe tbody tr th:only-of-type {\n",
       "        vertical-align: middle;\n",
       "    }\n",
       "\n",
       "    .dataframe tbody tr th {\n",
       "        vertical-align: top;\n",
       "    }\n",
       "\n",
       "    .dataframe thead th {\n",
       "        text-align: right;\n",
       "    }\n",
       "</style>\n",
       "<table border=\"1\" class=\"dataframe\">\n",
       "  <thead>\n",
       "    <tr style=\"text-align: right;\">\n",
       "      <th></th>\n",
       "      <th>x1:Primary Column Reflux Flow</th>\n",
       "      <th>x2:Primary Column Tails Flow</th>\n",
       "      <th>x3:Input to Primary Column Bed 3 Flow</th>\n",
       "      <th>x4:Input to Primary Column Bed 2 Flow</th>\n",
       "      <th>x5:Primary Column Feed Flow from Feed Column</th>\n",
       "      <th>x6:Primary Column Make Flow</th>\n",
       "      <th>x7:Primary Column Base Level</th>\n",
       "      <th>x8:Primary Column Reflux Drum Pressure</th>\n",
       "      <th>x9:Primary Column Condenser Reflux Drum Level</th>\n",
       "      <th>x10:Primary Column Bed1 DP</th>\n",
       "      <th>...</th>\n",
       "      <th>x36: Feed Column Recycle Flow</th>\n",
       "      <th>x37: Feed Column Tails Flow to Primary Column</th>\n",
       "      <th>x38: Feed Column Calculated DP</th>\n",
       "      <th>x39: Feed Column Steam Flow</th>\n",
       "      <th>x40: Feed Column Tails Flow</th>\n",
       "      <th>Avg_Reactor_Outlet_Impurity</th>\n",
       "      <th>Avg_Delta_Composition Primary Column</th>\n",
       "      <th>y:Impurity</th>\n",
       "      <th>Primary Column Reflux/Feed Ratio</th>\n",
       "      <th>Primary Column Make/Reflux Ratio</th>\n",
       "    </tr>\n",
       "  </thead>\n",
       "  <tbody>\n",
       "    <tr>\n",
       "      <td>0</td>\n",
       "      <td>True</td>\n",
       "      <td>True</td>\n",
       "      <td>True</td>\n",
       "      <td>True</td>\n",
       "      <td>True</td>\n",
       "      <td>True</td>\n",
       "      <td>True</td>\n",
       "      <td>True</td>\n",
       "      <td>True</td>\n",
       "      <td>True</td>\n",
       "      <td>...</td>\n",
       "      <td>True</td>\n",
       "      <td>True</td>\n",
       "      <td>True</td>\n",
       "      <td>True</td>\n",
       "      <td>True</td>\n",
       "      <td>True</td>\n",
       "      <td>True</td>\n",
       "      <td>True</td>\n",
       "      <td>True</td>\n",
       "      <td>True</td>\n",
       "    </tr>\n",
       "    <tr>\n",
       "      <td>1</td>\n",
       "      <td>True</td>\n",
       "      <td>True</td>\n",
       "      <td>True</td>\n",
       "      <td>True</td>\n",
       "      <td>True</td>\n",
       "      <td>True</td>\n",
       "      <td>True</td>\n",
       "      <td>True</td>\n",
       "      <td>True</td>\n",
       "      <td>True</td>\n",
       "      <td>...</td>\n",
       "      <td>True</td>\n",
       "      <td>True</td>\n",
       "      <td>True</td>\n",
       "      <td>True</td>\n",
       "      <td>True</td>\n",
       "      <td>True</td>\n",
       "      <td>True</td>\n",
       "      <td>True</td>\n",
       "      <td>True</td>\n",
       "      <td>True</td>\n",
       "    </tr>\n",
       "    <tr>\n",
       "      <td>2</td>\n",
       "      <td>True</td>\n",
       "      <td>True</td>\n",
       "      <td>True</td>\n",
       "      <td>True</td>\n",
       "      <td>True</td>\n",
       "      <td>True</td>\n",
       "      <td>True</td>\n",
       "      <td>True</td>\n",
       "      <td>True</td>\n",
       "      <td>True</td>\n",
       "      <td>...</td>\n",
       "      <td>True</td>\n",
       "      <td>True</td>\n",
       "      <td>True</td>\n",
       "      <td>True</td>\n",
       "      <td>True</td>\n",
       "      <td>True</td>\n",
       "      <td>True</td>\n",
       "      <td>True</td>\n",
       "      <td>True</td>\n",
       "      <td>True</td>\n",
       "    </tr>\n",
       "  </tbody>\n",
       "</table>\n",
       "<p>3 rows × 45 columns</p>\n",
       "</div>"
      ],
      "text/plain": [
       "   x1:Primary Column Reflux Flow  x2:Primary Column Tails Flow  \\\n",
       "0                           True                          True   \n",
       "1                           True                          True   \n",
       "2                           True                          True   \n",
       "\n",
       "   x3:Input to Primary Column Bed 3 Flow  \\\n",
       "0                                   True   \n",
       "1                                   True   \n",
       "2                                   True   \n",
       "\n",
       "   x4:Input to Primary Column Bed 2 Flow  \\\n",
       "0                                   True   \n",
       "1                                   True   \n",
       "2                                   True   \n",
       "\n",
       "   x5:Primary Column Feed Flow from Feed Column  x6:Primary Column Make Flow  \\\n",
       "0                                          True                         True   \n",
       "1                                          True                         True   \n",
       "2                                          True                         True   \n",
       "\n",
       "   x7:Primary Column Base Level  x8:Primary Column Reflux Drum Pressure  \\\n",
       "0                          True                                    True   \n",
       "1                          True                                    True   \n",
       "2                          True                                    True   \n",
       "\n",
       "   x9:Primary Column Condenser Reflux Drum Level  x10:Primary Column Bed1 DP  \\\n",
       "0                                           True                        True   \n",
       "1                                           True                        True   \n",
       "2                                           True                        True   \n",
       "\n",
       "   ...  x36: Feed Column Recycle Flow  \\\n",
       "0  ...                           True   \n",
       "1  ...                           True   \n",
       "2  ...                           True   \n",
       "\n",
       "   x37: Feed Column Tails Flow to Primary Column  \\\n",
       "0                                           True   \n",
       "1                                           True   \n",
       "2                                           True   \n",
       "\n",
       "   x38: Feed Column Calculated DP  x39: Feed Column Steam Flow  \\\n",
       "0                            True                         True   \n",
       "1                            True                         True   \n",
       "2                            True                         True   \n",
       "\n",
       "   x40: Feed Column Tails Flow  Avg_Reactor_Outlet_Impurity  \\\n",
       "0                         True                         True   \n",
       "1                         True                         True   \n",
       "2                         True                         True   \n",
       "\n",
       "   Avg_Delta_Composition Primary Column  y:Impurity  \\\n",
       "0                                  True        True   \n",
       "1                                  True        True   \n",
       "2                                  True        True   \n",
       "\n",
       "   Primary Column Reflux/Feed Ratio  Primary Column Make/Reflux Ratio  \n",
       "0                              True                              True  \n",
       "1                              True                              True  \n",
       "2                              True                              True  \n",
       "\n",
       "[3 rows x 45 columns]"
      ]
     },
     "execution_count": 17,
     "metadata": {},
     "output_type": "execute_result"
    }
   ],
   "source": [
    "def is_real_and_finite(x):\n",
    "    if not np.isreal(x):\n",
    "        return False\n",
    "    elif not np.isfinite(x):\n",
    "        return False\n",
    "    elif pd.isnull(x):\n",
    "        return False\n",
    "    else:\n",
    "        return True\n",
    "\n",
    "numeric_map = df[nondate_cols].applymap(is_real_and_finite)\n",
    "numeric_map.head(3)"
   ]
  },
  {
   "cell_type": "markdown",
   "metadata": {},
   "source": [
    "We can use this to identify missing or null values."
   ]
  },
  {
   "cell_type": "markdown",
   "metadata": {},
   "source": [
    "### Metadata storage\n",
    "\n",
    "* \"Metadata\" is data that describes the data. Without good metadata, data may become useless.\n",
    "\n",
    "* Metadata should always be stored in the same file as the data (typically as a \"header\").\n",
    "\n",
    "* Metadata organization should follow similar guidelines to data organization."
   ]
  },
  {
   "cell_type": "markdown",
   "metadata": {},
   "source": [
    "## Missing values\n",
    "\n",
    "Missing values are extremely common in real data, and can cause problems. There are a few options for handling this. \n",
    "\n",
    "### Dropping observations\n",
    "\n",
    "The most common way of dealing with missing data is to simply drop observations. This works well if you have a large amount of data and it doesn't matter if you lose some. We can use the `.all` function across the row to see which rows contain non-numeric values."
   ]
  },
  {
   "cell_type": "code",
   "execution_count": 18,
   "metadata": {},
   "outputs": [
    {
     "name": "stdout",
     "output_type": "stream",
     "text": [
      "Number of rows with non-numeric values: 406\n",
      "Proportion of non-numeric values: 0.04\n"
     ]
    },
    {
     "data": {
      "text/plain": [
       "0        True\n",
       "1        True\n",
       "2        True\n",
       "3        True\n",
       "4        True\n",
       "         ... \n",
       "10698    True\n",
       "10699    True\n",
       "10700    True\n",
       "10701    True\n",
       "10702    True\n",
       "Length: 10703, dtype: bool"
      ]
     },
     "execution_count": 18,
     "metadata": {},
     "output_type": "execute_result"
    }
   ],
   "source": [
    "numeric_rows = numeric_map.all(axis=1)\n",
    "N_non_numeric = numeric_rows.tolist().count(False)\n",
    "print('Number of rows with non-numeric values: {}'.format(N_non_numeric))\n",
    "N = numeric_map.shape[0]\n",
    "print('Proportion of non-numeric values: {:.2f}'.format(N_non_numeric/N))\n",
    "numeric_rows"
   ]
  },
  {
   "cell_type": "markdown",
   "metadata": {},
   "source": [
    "The proportion of non-numeric values is very low, so dropping the observations is a reasonable strategy. We can use the numeric map to drop the rows:"
   ]
  },
  {
   "cell_type": "code",
   "execution_count": 19,
   "metadata": {},
   "outputs": [
    {
     "name": "stdout",
     "output_type": "stream",
     "text": [
      "(10297, 46)\n"
     ]
    }
   ],
   "source": [
    "real_rows = numeric_map.all(axis=1).values\n",
    "df_dropped_obs = df[real_rows]\n",
    "print(df_dropped_obs.shape)\n",
    "X = df_dropped_obs.values[:, 1:].astype('float')"
   ]
  },
  {
   "cell_type": "markdown",
   "metadata": {},
   "source": [
    "### Exercise: Create a version of the Dow dataset that does not contain expression marks, but still includes blank/null values"
   ]
  },
  {
   "cell_type": "markdown",
   "metadata": {},
   "source": [
    "### Dropping features/variables\n",
    "\n",
    "Another option is to drop features where there are a lot of missing values. This can be particularly useful if there are lot of features but fewer observations, or if the missing values occur in features that are not expected to contain much information.\n",
    "\n",
    "We can use the \"map\" of numeric values to find out which features have missing values:"
   ]
  },
  {
   "cell_type": "code",
   "execution_count": 20,
   "metadata": {
    "scrolled": false
   },
   "outputs": [
    {
     "data": {
      "text/plain": [
       "x1:Primary Column Reflux Flow                    False\n",
       "x2:Primary Column Tails Flow                     False\n",
       "x3:Input to Primary Column Bed 3 Flow            False\n",
       "x4:Input to Primary Column Bed 2 Flow            False\n",
       "x5:Primary Column Feed Flow from Feed Column     False\n",
       "x6:Primary Column Make Flow                      False\n",
       "x7:Primary Column Base Level                     False\n",
       "x8:Primary Column Reflux Drum Pressure           False\n",
       "x9:Primary Column Condenser Reflux Drum Level    False\n",
       "x10:Primary Column Bed1 DP                       False\n",
       "x11:Primary Column Bed2 DP                       False\n",
       "x12:Primary Column Bed3 DP                       False\n",
       "x13:Primary Column Bed4 DP                       False\n",
       "x14:Primary Column Base Pressure                 False\n",
       "x15:Primary Column Head Pressure                 False\n",
       "x16:Primary Column Tails Temperature             False\n",
       "x17:Primary Column Tails Temperature 1           False\n",
       "x18:Primary Column Bed 4 Temperature             False\n",
       "x19:Primary Column Bed 3 Temperature             False\n",
       "x20:Primary Column Bed 2 Temperature             False\n",
       "x21:Primary Column Bed 1 Temperature             False\n",
       "x22: Secondary Column Base Concentration         False\n",
       "x23: Flow from Input to Secondary Column         False\n",
       "x24: Secondary Column Tails Flow                 False\n",
       "x25: Secondary Column Tray DP                    False\n",
       "x26: Secondary Column Head Pressure              False\n",
       "x27: Secondary Column Base Pressure              False\n",
       "x28: Secondary Column Base Temperature           False\n",
       "x29: Secondary Column Tray 3 Temperature         False\n",
       "x30: Secondary Column Bed 1 Temperature          False\n",
       "x31: Secondary Column Bed 2 Temperature          False\n",
       "x32: Secondary Column Tray 2 Temperature         False\n",
       "x33: Secondary Column Tray 1 Temperature         False\n",
       "x34: Secondary Column Tails Temperature          False\n",
       "x35: Secondary Column Tails Concentration        False\n",
       "x36: Feed Column Recycle Flow                    False\n",
       "x37: Feed Column Tails Flow to Primary Column    False\n",
       "x38: Feed Column Calculated DP                   False\n",
       "x39: Feed Column Steam Flow                      False\n",
       "x40: Feed Column Tails Flow                      False\n",
       "Avg_Reactor_Outlet_Impurity                      False\n",
       "Avg_Delta_Composition Primary Column             False\n",
       "y:Impurity                                        True\n",
       "Primary Column Reflux/Feed Ratio                 False\n",
       "Primary Column Make/Reflux Ratio                 False\n",
       "dtype: bool"
      ]
     },
     "execution_count": 20,
     "metadata": {},
     "output_type": "execute_result"
    }
   ],
   "source": [
    "numeric_cols = numeric_map.all(axis=0)\n",
    "numeric_cols"
   ]
  },
  {
   "cell_type": "markdown",
   "metadata": {},
   "source": [
    "It looks like there are at least some non-numeric values in all columns except for `y:Impurity`. We can also count the numer of missing values for each column:"
   ]
  },
  {
   "cell_type": "code",
   "execution_count": 21,
   "metadata": {
    "scrolled": false
   },
   "outputs": [
    {
     "name": "stdout",
     "output_type": "stream",
     "text": [
      "x1:Primary Column Reflux Flow\n",
      "True     10673\n",
      "False       30\n",
      "Name: x1:Primary Column Reflux Flow, dtype: int64\n",
      "x2:Primary Column Tails Flow\n",
      "True     10681\n",
      "False       22\n",
      "Name: x2:Primary Column Tails Flow, dtype: int64\n",
      "x3:Input to Primary Column Bed 3 Flow\n",
      "True     10682\n",
      "False       21\n",
      "Name: x3:Input to Primary Column Bed 3 Flow, dtype: int64\n",
      "x4:Input to Primary Column Bed 2 Flow\n",
      "True     10682\n",
      "False       21\n",
      "Name: x4:Input to Primary Column Bed 2 Flow, dtype: int64\n",
      "x5:Primary Column Feed Flow from Feed Column\n",
      "True     10682\n",
      "False       21\n",
      "Name: x5:Primary Column Feed Flow from Feed Column, dtype: int64\n",
      "x6:Primary Column Make Flow\n",
      "True     10682\n",
      "False       21\n",
      "Name: x6:Primary Column Make Flow, dtype: int64\n",
      "x7:Primary Column Base Level\n",
      "True     10682\n",
      "False       21\n",
      "Name: x7:Primary Column Base Level, dtype: int64\n",
      "x8:Primary Column Reflux Drum Pressure\n",
      "True     10682\n",
      "False       21\n",
      "Name: x8:Primary Column Reflux Drum Pressure, dtype: int64\n",
      "x9:Primary Column Condenser Reflux Drum Level\n",
      "True     10684\n",
      "False       19\n",
      "Name: x9:Primary Column Condenser Reflux Drum Level, dtype: int64\n",
      "x10:Primary Column Bed1 DP\n",
      "True     10684\n",
      "False       19\n",
      "Name: x10:Primary Column Bed1 DP, dtype: int64\n",
      "x11:Primary Column Bed2 DP\n",
      "True     10684\n",
      "False       19\n",
      "Name: x11:Primary Column Bed2 DP, dtype: int64\n",
      "x12:Primary Column Bed3 DP\n",
      "True     10684\n",
      "False       19\n",
      "Name: x12:Primary Column Bed3 DP, dtype: int64\n",
      "x13:Primary Column Bed4 DP\n",
      "True     10683\n",
      "False       20\n",
      "Name: x13:Primary Column Bed4 DP, dtype: int64\n",
      "x14:Primary Column Base Pressure\n",
      "True     10684\n",
      "False       19\n",
      "Name: x14:Primary Column Base Pressure, dtype: int64\n",
      "x15:Primary Column Head Pressure\n",
      "True     10682\n",
      "False       21\n",
      "Name: x15:Primary Column Head Pressure, dtype: int64\n",
      "x16:Primary Column Tails Temperature\n",
      "True     10684\n",
      "False       19\n",
      "Name: x16:Primary Column Tails Temperature, dtype: int64\n",
      "x17:Primary Column Tails Temperature 1\n",
      "True     10684\n",
      "False       19\n",
      "Name: x17:Primary Column Tails Temperature 1, dtype: int64\n",
      "x18:Primary Column Bed 4 Temperature\n",
      "True     10684\n",
      "False       19\n",
      "Name: x18:Primary Column Bed 4 Temperature, dtype: int64\n",
      "x19:Primary Column Bed 3 Temperature\n",
      "True     10684\n",
      "False       19\n",
      "Name: x19:Primary Column Bed 3 Temperature, dtype: int64\n",
      "x20:Primary Column Bed 2 Temperature\n",
      "True     10684\n",
      "False       19\n",
      "Name: x20:Primary Column Bed 2 Temperature, dtype: int64\n",
      "x21:Primary Column Bed 1 Temperature\n",
      "True     10684\n",
      "False       19\n",
      "Name: x21:Primary Column Bed 1 Temperature, dtype: int64\n",
      "x22: Secondary Column Base Concentration\n",
      "True     10684\n",
      "False       19\n",
      "Name: x22: Secondary Column Base Concentration, dtype: int64\n",
      "x23: Flow from Input to Secondary Column\n",
      "True     10680\n",
      "False       23\n",
      "Name: x23: Flow from Input to Secondary Column, dtype: int64\n",
      "x24: Secondary Column Tails Flow\n",
      "True     10682\n",
      "False       21\n",
      "Name: x24: Secondary Column Tails Flow, dtype: int64\n",
      "x25: Secondary Column Tray DP\n",
      "True     10684\n",
      "False       19\n",
      "Name: x25: Secondary Column Tray DP, dtype: int64\n",
      "x26: Secondary Column Head Pressure\n",
      "True     10684\n",
      "False       19\n",
      "Name: x26: Secondary Column Head Pressure, dtype: int64\n",
      "x27: Secondary Column Base Pressure\n",
      "True     10683\n",
      "False       20\n",
      "Name: x27: Secondary Column Base Pressure, dtype: int64\n",
      "x28: Secondary Column Base Temperature\n",
      "True     10684\n",
      "False       19\n",
      "Name: x28: Secondary Column Base Temperature, dtype: int64\n",
      "x29: Secondary Column Tray 3 Temperature\n",
      "True     10683\n",
      "False       20\n",
      "Name: x29: Secondary Column Tray 3 Temperature, dtype: int64\n",
      "x30: Secondary Column Bed 1 Temperature\n",
      "True     10684\n",
      "False       19\n",
      "Name: x30: Secondary Column Bed 1 Temperature, dtype: int64\n",
      "x31: Secondary Column Bed 2 Temperature\n",
      "True     10684\n",
      "False       19\n",
      "Name: x31: Secondary Column Bed 2 Temperature, dtype: int64\n",
      "x32: Secondary Column Tray 2 Temperature\n",
      "True     10684\n",
      "False       19\n",
      "Name: x32: Secondary Column Tray 2 Temperature, dtype: int64\n",
      "x33: Secondary Column Tray 1 Temperature\n",
      "True     10684\n",
      "False       19\n",
      "Name: x33: Secondary Column Tray 1 Temperature, dtype: int64\n",
      "x34: Secondary Column Tails Temperature\n",
      "True     10682\n",
      "False       21\n",
      "Name: x34: Secondary Column Tails Temperature, dtype: int64\n",
      "x35: Secondary Column Tails Concentration\n",
      "True     10684\n",
      "False       19\n",
      "Name: x35: Secondary Column Tails Concentration, dtype: int64\n",
      "x36: Feed Column Recycle Flow\n",
      "True     10684\n",
      "False       19\n",
      "Name: x36: Feed Column Recycle Flow, dtype: int64\n",
      "x37: Feed Column Tails Flow to Primary Column\n",
      "True     10684\n",
      "False       19\n",
      "Name: x37: Feed Column Tails Flow to Primary Column, dtype: int64\n",
      "x38: Feed Column Calculated DP\n",
      "True     10682\n",
      "False       21\n",
      "Name: x38: Feed Column Calculated DP, dtype: int64\n",
      "x39: Feed Column Steam Flow\n",
      "True     10684\n",
      "False       19\n",
      "Name: x39: Feed Column Steam Flow, dtype: int64\n",
      "x40: Feed Column Tails Flow\n",
      "True     10682\n",
      "False       21\n",
      "Name: x40: Feed Column Tails Flow, dtype: int64\n",
      "Avg_Reactor_Outlet_Impurity\n",
      "True     10606\n",
      "False       97\n",
      "Name: Avg_Reactor_Outlet_Impurity, dtype: int64\n",
      "Avg_Delta_Composition Primary Column\n",
      "True     10412\n",
      "False      291\n",
      "Name: Avg_Delta_Composition Primary Column, dtype: int64\n",
      "y:Impurity\n",
      "True    10703\n",
      "Name: y:Impurity, dtype: int64\n",
      "Primary Column Reflux/Feed Ratio\n",
      "True     10673\n",
      "False       30\n",
      "Name: Primary Column Reflux/Feed Ratio, dtype: int64\n",
      "Primary Column Make/Reflux Ratio\n",
      "True     10673\n",
      "False       30\n",
      "Name: Primary Column Make/Reflux Ratio, dtype: int64\n"
     ]
    }
   ],
   "source": [
    "for col in numeric_map.columns:\n",
    "    print(col)\n",
    "    print(numeric_map[col].value_counts())"
   ]
  },
  {
   "cell_type": "markdown",
   "metadata": {},
   "source": [
    "We see that most columns are only missing 20-30 values, except for `Avg_Delta_Composition Primary Column`, which is missing 291 values. We can check the correlation matrix to see if this value is correlated with any others. The `seaborn` library has a very nice function for plotting this:"
   ]
  },
  {
   "cell_type": "code",
   "execution_count": 22,
   "metadata": {},
   "outputs": [
    {
     "name": "stderr",
     "output_type": "stream",
     "text": [
      "/Users/SihoonChoi/opt/anaconda3/lib/python3.7/site-packages/matplotlib/font_manager.py:1241: UserWarning: findfont: Font family ['sans-serif'] not found. Falling back to DejaVu Sans.\n",
      "  (prop.get_family(), self.defaultFamily[fontext]))\n"
     ]
    },
    {
     "data": {
      "text/plain": [
       "<matplotlib.axes._subplots.AxesSubplot at 0x122d88d50>"
      ]
     },
     "execution_count": 22,
     "metadata": {},
     "output_type": "execute_result"
    },
    {
     "name": "stderr",
     "output_type": "stream",
     "text": [
      "/Users/SihoonChoi/opt/anaconda3/lib/python3.7/site-packages/matplotlib/tight_layout.py:181: UserWarning: Tight layout not applied. The bottom and top margins cannot be made large enough to accommodate all axes decorations. \n",
      "  warnings.warn('Tight layout not applied. '\n",
      "/Users/SihoonChoi/opt/anaconda3/lib/python3.7/site-packages/matplotlib/figure.py:2369: UserWarning: This figure includes Axes that are not compatible with tight_layout, so results might be incorrect.\n",
      "  warnings.warn(\"This figure includes Axes that are not compatible \"\n"
     ]
    },
    {
     "data": {
      "image/png": "[encoded data removed]",
      "text/plain": [
       "<Figure size 432x288 with 2 Axes>"
      ]
     },
     "metadata": {
      "needs_background": "light"
     },
     "output_type": "display_data"
    }
   ],
   "source": [
    "import seaborn as sn\n",
    "\n",
    "corr = df.corr()\n",
    "sn.heatmap(corr)"
   ]
  },
  {
   "cell_type": "markdown",
   "metadata": {},
   "source": [
    "We can also check for highly correlated features:"
   ]
  },
  {
   "cell_type": "code",
   "execution_count": 23,
   "metadata": {},
   "outputs": [
    {
     "data": {
      "text/plain": [
       "x1:Primary Column Reflux Flow                    False\n",
       "x2:Primary Column Tails Flow                     False\n",
       "x3:Input to Primary Column Bed 3 Flow            False\n",
       "x4:Input to Primary Column Bed 2 Flow            False\n",
       "x5:Primary Column Feed Flow from Feed Column     False\n",
       "x6:Primary Column Make Flow                       True\n",
       "x7:Primary Column Base Level                     False\n",
       "x8:Primary Column Reflux Drum Pressure           False\n",
       "x9:Primary Column Condenser Reflux Drum Level    False\n",
       "x10:Primary Column Bed1 DP                       False\n",
       "x11:Primary Column Bed2 DP                       False\n",
       "x12:Primary Column Bed3 DP                       False\n",
       "x13:Primary Column Bed4 DP                       False\n",
       "x14:Primary Column Base Pressure                 False\n",
       "x15:Primary Column Head Pressure                 False\n",
       "x16:Primary Column Tails Temperature             False\n",
       "x17:Primary Column Tails Temperature 1           False\n",
       "x18:Primary Column Bed 4 Temperature             False\n",
       "x19:Primary Column Bed 3 Temperature             False\n",
       "x20:Primary Column Bed 2 Temperature             False\n",
       "x21:Primary Column Bed 1 Temperature             False\n",
       "x22: Secondary Column Base Concentration         False\n",
       "x23: Flow from Input to Secondary Column         False\n",
       "x24: Secondary Column Tails Flow                 False\n",
       "x25: Secondary Column Tray DP                    False\n",
       "x26: Secondary Column Head Pressure              False\n",
       "x27: Secondary Column Base Pressure              False\n",
       "x28: Secondary Column Base Temperature           False\n",
       "x29: Secondary Column Tray 3 Temperature         False\n",
       "x30: Secondary Column Bed 1 Temperature          False\n",
       "x31: Secondary Column Bed 2 Temperature          False\n",
       "x32: Secondary Column Tray 2 Temperature         False\n",
       "x33: Secondary Column Tray 1 Temperature         False\n",
       "x34: Secondary Column Tails Temperature          False\n",
       "x35: Secondary Column Tails Concentration        False\n",
       "x36: Feed Column Recycle Flow                    False\n",
       "x38: Feed Column Calculated DP                   False\n",
       "x39: Feed Column Steam Flow                      False\n",
       "x40: Feed Column Tails Flow                      False\n",
       "Avg_Reactor_Outlet_Impurity                      False\n",
       "Avg_Delta_Composition Primary Column              True\n",
       "y:Impurity                                       False\n",
       "Primary Column Reflux/Feed Ratio                 False\n",
       "Primary Column Make/Reflux Ratio                 False\n",
       "Name: Avg_Delta_Composition Primary Column, dtype: bool"
      ]
     },
     "execution_count": 23,
     "metadata": {},
     "output_type": "execute_result"
    }
   ],
   "source": [
    "corr[\"Avg_Delta_Composition Primary Column\"] > 0.95"
   ]
  },
  {
   "cell_type": "code",
   "execution_count": 24,
   "metadata": {
    "scrolled": true
   },
   "outputs": [
    {
     "data": {
      "text/plain": [
       "x6:Primary Column Make Flow             0.977889\n",
       "Avg_Delta_Composition Primary Column    1.000000\n",
       "Name: Avg_Delta_Composition Primary Column, dtype: float64"
      ]
     },
     "execution_count": 24,
     "metadata": {},
     "output_type": "execute_result"
    }
   ],
   "source": [
    "corr[\"Avg_Delta_Composition Primary Column\"][corr[\"Avg_Delta_Composition Primary Column\"] > 0.95]"
   ]
  },
  {
   "cell_type": "markdown",
   "metadata": {},
   "source": [
    "We see that it is highly correlated with the `Primary Column Make Flow` variable, which suggests that we will not lose much information if we drop this column."
   ]
  },
  {
   "cell_type": "markdown",
   "metadata": {},
   "source": [
    "### Exercise: Create a version of the Dow dataset that does not contain the `Avg_Delta_Composition Primary Column` variable and does not contain any null or non-numeric values"
   ]
  },
  {
   "cell_type": "code",
   "execution_count": null,
   "metadata": {},
   "outputs": [],
   "source": []
  },
  {
   "cell_type": "markdown",
   "metadata": {},
   "source": [
    "### Imputation\n",
    "\n",
    "The final technique for dealing with missing data is \"imputation\", or trying to fill in missing values based on some approximation or relationship between known variables. Imputation is advantageous because you do not lose any data, but the tradeoff is that some assumptions or approximations must be made that can potentially bias or corrupt the data.\n",
    "\n",
    "This is also called a \"matrix completion\", and is [heavily studied](http://jmlr.org/papers/volume16/hastie15a/hastie15a.pdf) due to a [Netflix competition](https://en.wikipedia.org/wiki/Netflix_Prize) that awarded a million dollars for a solution to the problem of \"completing matrices\" that predicted what movies people would like. \n",
    "\n",
    "We won't go into depth on imputation, but as an example, consider the following linear regression model between `Primary Column Make Flow` and `Avg_Delta_Composition Primary Column`:"
   ]
  },
  {
   "cell_type": "code",
   "execution_count": 25,
   "metadata": {},
   "outputs": [
    {
     "name": "stdout",
     "output_type": "stream",
     "text": [
      "0.9564315167385729\n"
     ]
    },
    {
     "name": "stderr",
     "output_type": "stream",
     "text": [
      "/Users/SihoonChoi/opt/anaconda3/lib/python3.7/site-packages/matplotlib/font_manager.py:1241: UserWarning: findfont: Font family ['sans-serif'] not found. Falling back to DejaVu Sans.\n",
      "  (prop.get_family(), self.defaultFamily[fontext]))\n",
      "/Users/SihoonChoi/opt/anaconda3/lib/python3.7/site-packages/matplotlib/figure.py:2369: UserWarning: This figure includes Axes that are not compatible with tight_layout, so results might be incorrect.\n",
      "  warnings.warn(\"This figure includes Axes that are not compatible \"\n"
     ]
    },
    {
     "data": {
      "image/png": "[encoded data removed]",
      "text/plain": [
       "<Figure size 432x288 with 1 Axes>"
      ]
     },
     "metadata": {
      "needs_background": "light"
     },
     "output_type": "display_data"
    }
   ],
   "source": [
    "from sklearn.linear_model import LinearRegression\n",
    "\n",
    "x = df_dropped_obs[\"x6:Primary Column Make Flow\"].values.reshape(-1,1)\n",
    "y = df_dropped_obs[\"Avg_Delta_Composition Primary Column\"].values\n",
    "\n",
    "model = LinearRegression()\n",
    "model.fit(x, y) \n",
    "r2 = model.score(x, y)\n",
    "print(r2)\n",
    "\n",
    "\n",
    "fig, ax = plt.subplots()\n",
    "\n",
    "ax.plot(x, y, 'o', alpha=0.05)\n",
    "ax.plot(x, model.predict(x), '-')\n",
    "\n",
    "ax.set_xlabel('x6:Primary Column Make Flow')\n",
    "ax.set_ylabel('Avg_Delta_Composition Primary Column')\n",
    "\n",
    "ax.legend(['Original Data', 'Prediction'])\n",
    "ax.set_title('Imputation');"
   ]
  },
  {
   "cell_type": "markdown",
   "metadata": {},
   "source": [
    "### Exercise: Use the regression model above to \"impute\" values for `Avg_Delta_Composition Primary Column`."
   ]
  },
  {
   "cell_type": "markdown",
   "metadata": {},
   "source": [
    "\n",
    "## Outliers\n",
    "\n",
    "Real data almost always contains \"outliers\". An outlier is defined as an \"observation which deviates so much from other observations as to arouse suspicion it was generated by a different mechanism.\" ([Hawkins, 1980](https://link.springer.com/book/10.1007%2F978-94-015-3994-4)). Identifying outliers can be very difficult for complex data.\n",
    "\n",
    "There are two general types of approaches:\n",
    "\n",
    "* parametric: Assume a form of the underlying distribution, then remove data that have a sufficiently low probability of occuring given that distribution.\n",
    "\n",
    "* non-parameteric: Use distance metrics to identify points that are very far away from others.\n",
    "\n",
    "### Univariate normally distributed data\n",
    "\n",
    "The simplest case of outlier detection is to look for outliers in a 1-dimensional dataset that follows a normal distribution. This is typically done using a z-score:\n",
    "\n",
    "$z_i = \\frac{x_i-\\mu}{\\sigma}$\n",
    "\n",
    "where $x_i$ is the data point, $\\mu$ is the mean of the normal distribution, and $\\sigma$ is the standard deviation. This essentially tells us how many standard deviations away from the mean a data point is. Then, we can apply a cutoff, typically $z=3$ and drop any data that is outside the cutoff. A cutoff of $z=3$ is chosen since this corresponds to 99.7% of the data, so assuming the data actually follows the distribution we would only risk discarding 0.03% of real data points.\n",
    "\n",
    "Let's try it for a variable in the Dow dataset:"
   ]
  },
  {
   "cell_type": "code",
   "execution_count": 26,
   "metadata": {},
   "outputs": [
    {
     "name": "stdout",
     "output_type": "stream",
     "text": [
      "(10297,)\n",
      "(9990,)\n"
     ]
    }
   ],
   "source": [
    "xi = df_dropped_obs[\"x3:Input to Primary Column Bed 3 Flow\"].copy()\n",
    "mu = np.mean(xi)\n",
    "stdev = np.std(xi)\n",
    "z_cutoff = 3\n",
    "\n",
    "zi = (xi - mu)/stdev\n",
    "xi_nooutliers = xi[np.abs(zi) < z_cutoff]\n",
    "print(xi.shape)\n",
    "print(xi_nooutliers.shape)"
   ]
  },
  {
   "cell_type": "markdown",
   "metadata": {},
   "source": [
    "Now we can plot these to compare:"
   ]
  },
  {
   "cell_type": "code",
   "execution_count": 27,
   "metadata": {
    "scrolled": false
   },
   "outputs": [
    {
     "data": {
      "image/png": "[encoded data removed]",
      "text/plain": [
       "<Figure size 1080x432 with 2 Axes>"
      ]
     },
     "metadata": {
      "needs_background": "light"
     },
     "output_type": "display_data"
    }
   ],
   "source": [
    "fig, axes = plt.subplots(1, 2, figsize=(15, 6))\n",
    "\n",
    "hist, bins = np.histogram(xi.values)\n",
    "\n",
    "axes[0].hist(xi.values)\n",
    "ylim = axes[0].get_ylim()\n",
    "axes[0].plot([mu, mu], ylim, '-') #plot mean\n",
    "axes[0].plot([mu - z_cutoff*stdev, mu - z_cutoff*stdev], ylim, '-', color = clrs[2])\n",
    "axes[0].plot([mu + z_cutoff*stdev, mu + z_cutoff*stdev], ylim, '-', color = clrs[2]) #plot stdev\n",
    "axes[0].set_title('Before Removing Outliers')\n",
    "axes[0].legend(['Mean', '|z| = 3'])\n",
    "xlim = axes[0].get_xlim()\n",
    "ylim = axes[0].get_ylim()\n",
    "\n",
    "axes[1].hist(xi_nooutliers.values, bins = bins)\n",
    "axes[1].set_title('After Removing Outliers')\n",
    "axes[1].set_xlim(xlim)\n",
    "axes[1].set_ylim(ylim)\n",
    "axes[1].set_yticks([0, 1000, 2000, 3000, 4000]);"
   ]
  },
  {
   "cell_type": "markdown",
   "metadata": {},
   "source": [
    "### Exercise: Create a version of the Dow dataset where outliers are removed by assuming each variable is an independent and normally distributed dataset\n",
    "\n",
    "Use a z-score cutoff of 3 and assess what percentage of the data is identified as outliers."
   ]
  },
  {
   "cell_type": "code",
   "execution_count": null,
   "metadata": {},
   "outputs": [],
   "source": []
  },
  {
   "cell_type": "markdown",
   "metadata": {},
   "source": [
    "This approach has 2 major problems:\n",
    "\n",
    "1) It assumes that you have a 1-d dataset, or that all variables are independent.\n",
    "\n",
    "2) It assumes that data follows a normal distribution."
   ]
  },
  {
   "cell_type": "markdown",
   "metadata": {},
   "source": [
    "This is a *parametric* approach, and works well under the given assumptions. However, these are often violated in practice."
   ]
  },
  {
   "cell_type": "markdown",
   "metadata": {},
   "source": [
    "### Discussion: Which variables from the Dow dataset are most/least well suited for the z-score approach?"
   ]
  },
  {
   "cell_type": "markdown",
   "metadata": {},
   "source": [
    "### Clustering and dimensional reduction\n",
    "\n",
    "When working with high-dimensional data it becomes very difficult to identify outliers. There are two other classes of algorithms, clustering and dimensional reduction, that can be used. We will revisit this problem in later lectures."
   ]
  },
  {
   "cell_type": "markdown",
   "metadata": {},
   "source": [
    "## Dealing with large datasets\n",
    "\n",
    "The datasets we see in this class are relatively small (<1 million data points), but in real settings you may have much larger datasets that contain millions or even billions of data points. Or, you might have data that is very high-dimensional, with thousands or even millions of potential \"features\" for each observation (for example a 3-d image or simulation on a grid). For these situations spreadsheets become very inconvenient.\n",
    "\n",
    "Even for the spreadsheet we have been working with it takes a bit of time to load the data:"
   ]
  },
  {
   "cell_type": "code",
   "execution_count": 28,
   "metadata": {},
   "outputs": [
    {
     "name": "stdout",
     "output_type": "stream",
     "text": [
      "CPU times: user 5.95 s, sys: 66.2 ms, total: 6.01 s\n",
      "Wall time: 6.11 s\n"
     ]
    }
   ],
   "source": [
    "%time df_reload = pd.read_excel('data/impurity_dataset-training.xlsx')"
   ]
  },
  {
   "cell_type": "markdown",
   "metadata": {},
   "source": [
    "A few seconds may not seem like a lot, but if you have to re-load the data every time you test a script, and you test a script a few hundred times, this can add up to a significant amount of time lost. One trick is to work in Jupyter notebooks, where we can load the data once, then work with it to debug any analysis code.\n",
    "\n",
    "Another option is to switch to a different format. The HDF5 format is very well suited for large datasets."
   ]
  },
  {
   "cell_type": "markdown",
   "metadata": {},
   "source": [
    "### HDF 5 files\n",
    "\n",
    "HDF5 files (hierarchical data format) are useful for structured data, especially for very large datasets. HDF5 files act like mini filesystems, and have \"attributes\" to include additional context.\n",
    "\n",
    "We can create and manipulate HDF5 files from within Python using the `h5py` module."
   ]
  },
  {
   "cell_type": "code",
   "execution_count": 29,
   "metadata": {},
   "outputs": [],
   "source": [
    "#! pip install h5py"
   ]
  },
  {
   "cell_type": "markdown",
   "metadata": {},
   "source": [
    "We also need to delete any old versions of the file to avoid errors:"
   ]
  },
  {
   "cell_type": "code",
   "execution_count": 30,
   "metadata": {},
   "outputs": [],
   "source": [
    "! rm data/impurity_data.hdf5"
   ]
  },
  {
   "cell_type": "markdown",
   "metadata": {},
   "source": [
    "Let's put the Dow dataset into an HDF5 file:"
   ]
  },
  {
   "cell_type": "code",
   "execution_count": 31,
   "metadata": {},
   "outputs": [],
   "source": [
    "import h5py\n",
    "import numpy as np\n",
    "\n",
    "f = h5py.File(\"data/impurity_data.hdf5\", \"w\") #<- the \"w\" argument tells h5py to create a new file."
   ]
  },
  {
   "cell_type": "markdown",
   "metadata": {},
   "source": [
    "Remember that the data values can be accessed with the `.values` attribute:"
   ]
  },
  {
   "cell_type": "code",
   "execution_count": 32,
   "metadata": {},
   "outputs": [
    {
     "data": {
      "text/plain": [
       "(10297, 46)"
      ]
     },
     "execution_count": 32,
     "metadata": {},
     "output_type": "execute_result"
    }
   ],
   "source": [
    "X_dow = df_dropped_obs.values\n",
    "X_dow.shape"
   ]
  },
  {
   "cell_type": "markdown",
   "metadata": {},
   "source": [
    "One limitation of HDF5 is that it only works with numerical values. We can convert our data to floats if we drop the date column:"
   ]
  },
  {
   "cell_type": "code",
   "execution_count": 33,
   "metadata": {},
   "outputs": [
    {
     "data": {
      "text/plain": [
       "(10297, 45)"
      ]
     },
     "execution_count": 33,
     "metadata": {},
     "output_type": "execute_result"
    }
   ],
   "source": [
    "X_dow_numbers = X_dow[:, 1:].astype('float')\n",
    "X_dow_numbers.shape"
   ]
  },
  {
   "cell_type": "markdown",
   "metadata": {},
   "source": [
    "Now we can create an HDF5 dataset and assign the values:"
   ]
  },
  {
   "cell_type": "code",
   "execution_count": 34,
   "metadata": {},
   "outputs": [],
   "source": [
    "dset = f.create_dataset(\"training\", X_dow_numbers.shape)\n",
    "dset[:, :] = X_dow_numbers"
   ]
  },
  {
   "cell_type": "markdown",
   "metadata": {},
   "source": [
    "Now the dataset will act like a `numpy` array:"
   ]
  },
  {
   "cell_type": "code",
   "execution_count": 35,
   "metadata": {
    "scrolled": true
   },
   "outputs": [
    {
     "name": "stdout",
     "output_type": "stream",
     "text": [
      "327.813\n",
      "327.813\n"
     ]
    }
   ],
   "source": [
    "print(dset[0, 0])\n",
    "print(X_dow_numbers[0, 0])"
   ]
  },
  {
   "cell_type": "code",
   "execution_count": 36,
   "metadata": {},
   "outputs": [
    {
     "data": {
      "text/plain": [
       "'/training'"
      ]
     },
     "execution_count": 36,
     "metadata": {},
     "output_type": "execute_result"
    }
   ],
   "source": [
    "dset.name"
   ]
  },
  {
   "cell_type": "code",
   "execution_count": 37,
   "metadata": {},
   "outputs": [
    {
     "data": {
      "text/plain": [
       "(10297, 45)"
      ]
     },
     "execution_count": 37,
     "metadata": {},
     "output_type": "execute_result"
    }
   ],
   "source": [
    "dset.shape"
   ]
  },
  {
   "cell_type": "markdown",
   "metadata": {},
   "source": [
    "HDF5 files are \"hierarchical\", so we can also create groups and add data as sub-groups:"
   ]
  },
  {
   "cell_type": "code",
   "execution_count": 38,
   "metadata": {},
   "outputs": [],
   "source": [
    "grp = f.create_group('data_by_feature')\n",
    "x1 = grp.create_dataset('x1', dset[:, 0].shape)"
   ]
  },
  {
   "cell_type": "code",
   "execution_count": 39,
   "metadata": {},
   "outputs": [],
   "source": [
    "x1[:] = X_dow_numbers[:, 0]"
   ]
  },
  {
   "cell_type": "code",
   "execution_count": 40,
   "metadata": {
    "scrolled": true
   },
   "outputs": [
    {
     "data": {
      "text/plain": [
       "'/data_by_feature/x1'"
      ]
     },
     "execution_count": 40,
     "metadata": {},
     "output_type": "execute_result"
    }
   ],
   "source": [
    "x1.name"
   ]
  },
  {
   "cell_type": "markdown",
   "metadata": {},
   "source": [
    "We can iterate through the data in an HDF5 file:"
   ]
  },
  {
   "cell_type": "code",
   "execution_count": 41,
   "metadata": {
    "scrolled": true
   },
   "outputs": [
    {
     "name": "stdout",
     "output_type": "stream",
     "text": [
      "data_by_feature <HDF5 group \"/data_by_feature\" (1 members)>\n",
      "training <HDF5 dataset \"training\": shape (10297, 45), type \"<f4\">\n",
      "x1\n"
     ]
    }
   ],
   "source": [
    "for d in f:\n",
    "    print(d, f[d])\n",
    "\n",
    "for d in f['data_by_feature']:\n",
    "    print(d)"
   ]
  },
  {
   "cell_type": "markdown",
   "metadata": {},
   "source": [
    "One interesting thing about HDF5 files is that the object interacts directly with the file, and can be opened in multiple instances. This can be useful, but can also be confusing (similar to `numpy` arrays that aren't copied):"
   ]
  },
  {
   "cell_type": "code",
   "execution_count": 42,
   "metadata": {},
   "outputs": [],
   "source": [
    "f2 = h5py.File(\"data/impurity_data.hdf5\", \"r\")"
   ]
  },
  {
   "cell_type": "markdown",
   "metadata": {},
   "source": [
    "If we change data in one variable, it will change the file, and therefore change the data in the other instance:"
   ]
  },
  {
   "cell_type": "code",
   "execution_count": 43,
   "metadata": {},
   "outputs": [],
   "source": [
    "f2['training'][0, 0] = 0"
   ]
  },
  {
   "cell_type": "code",
   "execution_count": 44,
   "metadata": {
    "scrolled": true
   },
   "outputs": [
    {
     "data": {
      "text/plain": [
       "0.0"
      ]
     },
     "execution_count": 44,
     "metadata": {},
     "output_type": "execute_result"
    }
   ],
   "source": [
    "f['training'][0, 0]"
   ]
  },
  {
   "cell_type": "markdown",
   "metadata": {},
   "source": [
    "HDF5 files also enable storage of \"attributes\" that describe data. This can be very useful for meta-data storage:"
   ]
  },
  {
   "cell_type": "code",
   "execution_count": 45,
   "metadata": {},
   "outputs": [],
   "source": [
    "f['training'].attrs['name'] = \"Impurity training set\"\n",
    "f['training'].attrs['company'] = \"Dow Chemical\"\n",
    "f['training'].attrs['course'] = 'Data Analytics for Chemical Engineers'"
   ]
  },
  {
   "cell_type": "code",
   "execution_count": 46,
   "metadata": {},
   "outputs": [
    {
     "data": {
      "text/plain": [
       "<KeysViewHDF5 ['company', 'course', 'name']>"
      ]
     },
     "execution_count": 46,
     "metadata": {},
     "output_type": "execute_result"
    }
   ],
   "source": [
    "f['training'].attrs.keys()"
   ]
  },
  {
   "cell_type": "code",
   "execution_count": 47,
   "metadata": {},
   "outputs": [
    {
     "data": {
      "text/plain": [
       "'Data Analytics for Chemical Engineers'"
      ]
     },
     "execution_count": 47,
     "metadata": {},
     "output_type": "execute_result"
    }
   ],
   "source": [
    "f['training'].attrs['course']"
   ]
  },
  {
   "cell_type": "markdown",
   "metadata": {},
   "source": [
    "One important thing about HDF5 files is that when you are done working with them they need to be closed. Failure to do so can create errors, or even risk corrupting the file."
   ]
  },
  {
   "cell_type": "code",
   "execution_count": 48,
   "metadata": {},
   "outputs": [],
   "source": [
    "f.close()\n",
    "f2.close()"
   ]
  },
  {
   "cell_type": "markdown",
   "metadata": {},
   "source": [
    "Finally, one of the greatest strengths of HDF5 files is that opening them does not read all of the data into temporary memory. This means that you can open very large files very quickly:"
   ]
  },
  {
   "cell_type": "code",
   "execution_count": 49,
   "metadata": {},
   "outputs": [
    {
     "name": "stdout",
     "output_type": "stream",
     "text": [
      "CPU times: user 486 µs, sys: 150 µs, total: 636 µs\n",
      "Wall time: 645 µs\n"
     ]
    }
   ],
   "source": [
    "%time f2 = h5py.File(\"data/impurity_data.hdf5\", \"r\")"
   ]
  },
  {
   "cell_type": "markdown",
   "metadata": {},
   "source": [
    "Compare this to seconds when loading in the corresponding Excel file. The tradeoff is that the data has to be loaded when you use it:"
   ]
  },
  {
   "cell_type": "code",
   "execution_count": 50,
   "metadata": {},
   "outputs": [
    {
     "name": "stdout",
     "output_type": "stream",
     "text": [
      "CPU times: user 2.27 ms, sys: 3.54 ms, total: 5.81 ms\n",
      "Wall time: 9.07 ms\n"
     ]
    }
   ],
   "source": [
    "%time X_loaded = f2['training'][:,:]"
   ]
  },
  {
   "cell_type": "code",
   "execution_count": 51,
   "metadata": {},
   "outputs": [
    {
     "name": "stdout",
     "output_type": "stream",
     "text": [
      "CPU times: user 5 µs, sys: 1e+03 ns, total: 6 µs\n",
      "Wall time: 9.06 µs\n"
     ]
    }
   ],
   "source": [
    "%time X_preloaded = X_dow_numbers"
   ]
  },
  {
   "cell_type": "markdown",
   "metadata": {},
   "source": [
    "However, this is still much faster. The other advantage is that HDF5 *only reads in the subset you ask for*. For example, if we only want to read in a single column of the data:"
   ]
  },
  {
   "cell_type": "code",
   "execution_count": 52,
   "metadata": {
    "scrolled": false
   },
   "outputs": [
    {
     "name": "stdout",
     "output_type": "stream",
     "text": [
      "CPU times: user 1.85 ms, sys: 1.16 ms, total: 3.01 ms\n",
      "Wall time: 3.31 ms\n"
     ]
    }
   ],
   "source": [
    "%time X_col = f2['training'][:,1]"
   ]
  },
  {
   "cell_type": "markdown",
   "metadata": {},
   "source": [
    "We see that this is only slightly faster, but if the dataset were very large (e.g. GB or TB) there would be a much bigger difference."
   ]
  },
  {
   "cell_type": "markdown",
   "metadata": {},
   "source": [
    "There are many more features for HDF5 files. We won't cover them in lectures, but it is worth reading up on them if you are working with very large datasets."
   ]
  },
  {
   "cell_type": "code",
   "execution_count": 53,
   "metadata": {},
   "outputs": [],
   "source": [
    "f2.close()"
   ]
  }
 ],
 "metadata": {
  "kernelspec": {
   "display_name": "Python 3",
   "language": "python",
   "name": "python3"
  },
  "language_info": {
   "codemirror_mode": {
    "name": "ipython",
    "version": 3
   },
   "file_extension": ".py",
   "mimetype": "text/x-python",
   "name": "python",
   "nbconvert_exporter": "python",
   "pygments_lexer": "ipython3",
   "version": "3.7.4"
  },
  "toc": {
   "base_numbering": 1,
   "nav_menu": {},
   "number_sections": true,
   "sideBar": true,
   "skip_h1_title": true,
   "title_cell": "Table of Contents",
   "title_sidebar": "Contents",
   "toc_cell": true,
   "toc_position": {},
   "toc_section_display": true,
   "toc_window_display": false
  }
 },
 "nbformat": 4,
 "nbformat_minor": 4
}
