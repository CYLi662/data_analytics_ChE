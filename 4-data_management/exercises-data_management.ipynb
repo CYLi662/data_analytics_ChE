{
 "cells": [
  {
   "cell_type": "markdown",
   "metadata": {
    "toc": true
   },
   "source": [
    "<h1>Table of Contents<span class=\"tocSkip\"></span></h1>\n",
    "<div class=\"toc\"><ul class=\"toc-item\"><li><span><a href=\"#Exercise:-Selecting-specific-subsets-of-time-data\" data-toc-modified-id=\"Exercise:-Selecting-specific-subsets-of-time-data-1\"><span class=\"toc-item-num\">1&nbsp;&nbsp;</span>Exercise: Selecting specific subsets of time data</a></span></li><li><span><a href=\"#Exercise:-Removing-inconsistent-null-values\" data-toc-modified-id=\"Exercise:-Removing-inconsistent-null-values-2\"><span class=\"toc-item-num\">2&nbsp;&nbsp;</span>Exercise: Removing inconsistent null values</a></span></li><li><span><a href=\"#Exercise:-Dropping-features-with-missing-values\" data-toc-modified-id=\"Exercise:-Dropping-features-with-missing-values-3\"><span class=\"toc-item-num\">3&nbsp;&nbsp;</span>Exercise: Dropping features with missing values</a></span></li><li><span><a href=\"#Exercise:-Imputing-data-with-linear-regression\" data-toc-modified-id=\"Exercise:-Imputing-data-with-linear-regression-4\"><span class=\"toc-item-num\">4&nbsp;&nbsp;</span>Exercise: Imputing data with linear regression</a></span></li><li><span><a href=\"#Exercise:-Removing-outliers\" data-toc-modified-id=\"Exercise:-Removing-outliers-5\"><span class=\"toc-item-num\">5&nbsp;&nbsp;</span>Exercise: Removing outliers</a></span></li><li><span><a href=\"#Discussion:-Appropriate-variables-for-z-score-outliers\" data-toc-modified-id=\"Discussion:-Appropriate-variables-for-z-score-outliers-6\"><span class=\"toc-item-num\">6&nbsp;&nbsp;</span>Discussion: Appropriate variables for z-score outliers</a></span></li><li><span><a href=\"#Exercise:-Working-with-JSON-files\" data-toc-modified-id=\"Exercise:-Working-with-JSON-files-7\"><span class=\"toc-item-num\">7&nbsp;&nbsp;</span>Exercise: Working with JSON files</a></span></li><li><span><a href=\"#Exercise:-Working-with-RESTful-APIs\" data-toc-modified-id=\"Exercise:-Working-with-RESTful-APIs-8\"><span class=\"toc-item-num\">8&nbsp;&nbsp;</span>Exercise: Working with RESTful APIs</a></span></li><li><span><a href=\"#Exercise:-Combind-RESTful-API-with-JSON\" data-toc-modified-id=\"Exercise:-Combind-RESTful-API-with-JSON-9\"><span class=\"toc-item-num\">9&nbsp;&nbsp;</span>Exercise: Combind RESTful API with JSON</a></span></li><li><span><a href=\"#Exercise:-Python-PubChem-API\" data-toc-modified-id=\"Exercise:-Python-PubChem-API-10\"><span class=\"toc-item-num\">10&nbsp;&nbsp;</span>Exercise: Python PubChem API</a></span></li><li><span><a href=\"#Discussion:-Comparing-approaches-for-online-data-access\" data-toc-modified-id=\"Discussion:-Comparing-approaches-for-online-data-access-11\"><span class=\"toc-item-num\">11&nbsp;&nbsp;</span>Discussion: Comparing approaches for online data access</a></span></li></ul></div>"
   ]
  },
  {
   "cell_type": "markdown",
   "metadata": {},
   "source": [
    "# Data Management Exercises"
   ]
  },
  {
   "cell_type": "markdown",
   "metadata": {},
   "source": [
    "## Exercise: Selecting specific subsets of time data\n",
    "\n",
    "Create a subset of the Dow dataset containing only data from Dec. 5 - Dec. 12, 2015. The data should only include columns for `x1` to `x12`. ***Print the dimensions of the new dataset***."
   ]
  },
  {
   "cell_type": "code",
   "execution_count": null,
   "metadata": {},
   "outputs": [],
   "source": []
  },
  {
   "cell_type": "markdown",
   "metadata": {},
   "source": [
    "## Exercise: Removing inconsistent null values\n",
    "\n",
    "Create a version of the Dow dataset that does not contain expression marks, but still includes blank/null values. Expression marks should be replaced with an appropriate and consistent null value. ***Report the mean and variance of each feature***."
   ]
  },
  {
   "cell_type": "code",
   "execution_count": null,
   "metadata": {},
   "outputs": [],
   "source": []
  },
  {
   "cell_type": "markdown",
   "metadata": {},
   "source": [
    "## Exercise: Dropping features with missing values\n",
    "\n",
    "Create a version of the Dow dataset that does not contain the `Avg_Delta_Composition Primary Column` variable and does not contain any null or non-numeric values. ***Calculate the mean and variance of all numerical values of this new dataset***."
   ]
  },
  {
   "cell_type": "code",
   "execution_count": null,
   "metadata": {},
   "outputs": [],
   "source": []
  },
  {
   "cell_type": "markdown",
   "metadata": {},
   "source": [
    "## Exercise: Imputing data with linear regression\n",
    "\n",
    "Use a linear regression model with `Primary Column Make Flow` as the independent variable to \"impute\" values for `Avg_Delta_Composition Primary Column`'s non-numeric entries. ***Create a plot with your prediction for all datapoints. Report the estimated regression coefficients and the mean and variance of `Avg_Delta_Composition Primary Column` after the imputation***."
   ]
  },
  {
   "cell_type": "code",
   "execution_count": null,
   "metadata": {},
   "outputs": [],
   "source": []
  },
  {
   "cell_type": "markdown",
   "metadata": {},
   "source": [
    "## Exercise: Removing outliers\n",
    "\n",
    "Create a version of the Dow dataset where outliers (entries) are removed by assuming each variable is an independent and normally distributed dataset. Use a z-score cutoff of 3 and assess ***what percentage of the data is identified as outliers with this approach. Report the final variance and mean of each feature***.\n",
    "\n",
    "*You can drop the whole datapoint (row) whenever an entry is detected as an outlier in any feature. You should only run the filter one time (i.e. do not continue to run it until no outliers are detected).*"
   ]
  },
  {
   "cell_type": "code",
   "execution_count": null,
   "metadata": {},
   "outputs": [],
   "source": []
  },
  {
   "cell_type": "markdown",
   "metadata": {},
   "source": [
    "## Discussion: Appropriate variables for z-score outliers\n",
    "\n",
    "Name at least one variable from the Dow dataset that is well-suited for the z-score approach, and one that is not well-suited. **Plot their histograms and briefly explain your reasoning**. "
   ]
  },
  {
   "cell_type": "code",
   "execution_count": null,
   "metadata": {},
   "outputs": [],
   "source": []
  },
  {
   "cell_type": "markdown",
   "metadata": {},
   "source": [
    "## Exercise: Working with JSON files\n",
    "\n",
    "Write a function or code block that uses the `ethanol_simple.json` file and counts the number of C-H bonds in ethanol. **Report the number of C-H bonds in ethanol**."
   ]
  },
  {
   "cell_type": "code",
   "execution_count": null,
   "metadata": {},
   "outputs": [],
   "source": []
  },
  {
   "cell_type": "markdown",
   "metadata": {},
   "source": [
    "## Exercise: Working with RESTful APIs\n",
    "\n",
    "Write a function that takes the name of a compound as an argument and uses the PubChem RESTful API to return it's CID. **Report the CID of methanol**."
   ]
  },
  {
   "cell_type": "code",
   "execution_count": null,
   "metadata": {},
   "outputs": [],
   "source": []
  },
  {
   "cell_type": "markdown",
   "metadata": {},
   "source": [
    "## Exercise: Combind RESTful API with JSON\n",
    "\n",
    "Write a function that takes the CAS number of a compound as an argument and uses the PubChem RESTful API to extract it's record as a JSON, and then extract the SMILES string from this JSON record and return the SMILES string. **Use your function to fetch the SMILES string-represenation of phenol**."
   ]
  },
  {
   "cell_type": "code",
   "execution_count": null,
   "metadata": {},
   "outputs": [],
   "source": []
  },
  {
   "cell_type": "markdown",
   "metadata": {},
   "source": [
    "## Exercise: Python PubChem API\n",
    "\n",
    "Write a function that takes an arbitrary chemical name or CAS number and returns the number of C-H bonds in the compound. **Use your function to determine the number of C-H bonds in palmitic-acid**."
   ]
  },
  {
   "cell_type": "code",
   "execution_count": null,
   "metadata": {},
   "outputs": [],
   "source": []
  },
  {
   "cell_type": "markdown",
   "metadata": {},
   "source": [
    "## Discussion: Comparing approaches for online data access\n",
    "\n",
    "Rank the following approaches from most reliable to least reliable:\n",
    "\n",
    "* HTML scraping\n",
    "* Unofficial Python API\n",
    "* JSON file returned from HTTP request\n",
    "* RESTful API\n",
    "* Official Python API (developed by data maintainer)"
   ]
  },
  {
   "cell_type": "code",
   "execution_count": null,
   "metadata": {},
   "outputs": [],
   "source": []
  }
 ],
 "metadata": {
  "kernelspec": {
   "display_name": "Python 3",
   "language": "python",
   "name": "python3"
  },
  "language_info": {
   "codemirror_mode": {
    "name": "ipython",
    "version": 3
   },
   "file_extension": ".py",
   "mimetype": "text/x-python",
   "name": "python",
   "nbconvert_exporter": "python",
   "pygments_lexer": "ipython3",
   "version": "3.6.9"
  },
  "latex_envs": {
   "LaTeX_envs_menu_present": true,
   "autoclose": false,
   "autocomplete": true,
   "bibliofile": "biblio.bib",
   "cite_by": "apalike",
   "current_citInitial": 1,
   "eqLabelWithNumbers": true,
   "eqNumInitial": 1,
   "hotkeys": {
    "equation": "Ctrl-E",
    "itemize": "Ctrl-I"
   },
   "labels_anchors": false,
   "latex_user_defs": false,
   "report_style_numbering": false,
   "user_envs_cfg": false
  },
  "toc": {
   "base_numbering": 1,
   "nav_menu": {},
   "number_sections": true,
   "sideBar": true,
   "skip_h1_title": true,
   "title_cell": "Table of Contents",
   "title_sidebar": "Contents",
   "toc_cell": true,
   "toc_position": {},
   "toc_section_display": true,
   "toc_window_display": false
  }
 },
 "nbformat": 4,
 "nbformat_minor": 4
}
