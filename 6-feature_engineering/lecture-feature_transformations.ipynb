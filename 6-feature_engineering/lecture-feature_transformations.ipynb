{
 "cells": [
  {
   "cell_type": "markdown",
   "metadata": {
    "toc": true
   },
   "source": [
    "<h1>Table of Contents<span class=\"tocSkip\"></span></h1>\n",
    "<div class=\"toc\"><ul class=\"toc-item\"><li><span><a href=\"#One-Hot-Encoding\" data-toc-modified-id=\"One-Hot-Encoding-1\"><span class=\"toc-item-num\">1&nbsp;&nbsp;</span>One-Hot Encoding</a></span><ul class=\"toc-item\"><li><span><a href=\"#Exercise:-Compute-the-one-hot-matrix-for-a-single-input-column-X\" data-toc-modified-id=\"Exercise:-Compute-the-one-hot-matrix-for-a-single-input-column-X-1.1\"><span class=\"toc-item-num\">1.1&nbsp;&nbsp;</span>Exercise: Compute the one-hot matrix for a single input column <code>X</code></a></span></li></ul></li><li><span><a href=\"#Linear-Feature-Combinations\" data-toc-modified-id=\"Linear-Feature-Combinations-2\"><span class=\"toc-item-num\">2&nbsp;&nbsp;</span>Linear Feature Combinations</a></span><ul class=\"toc-item\"><li><span><a href=\"#Exercise:-Show-that-the-rank-of-the-matrix-cannot-exceed-the-original-rank-based-on-linear-projections\" data-toc-modified-id=\"Exercise:-Show-that-the-rank-of-the-matrix-cannot-exceed-the-original-rank-based-on-linear-projections-2.1\"><span class=\"toc-item-num\">2.1&nbsp;&nbsp;</span>Exercise: Show that the rank of the matrix cannot exceed the original rank based on linear projections</a></span></li><li><span><a href=\"#PCA\" data-toc-modified-id=\"PCA-2.2\"><span class=\"toc-item-num\">2.2&nbsp;&nbsp;</span>PCA</a></span></li><li><span><a href=\"#Partial-Least-Squares-(PLS)\" data-toc-modified-id=\"Partial-Least-Squares-(PLS)-2.3\"><span class=\"toc-item-num\">2.3&nbsp;&nbsp;</span>Partial Least Squares (PLS)</a></span></li><li><span><a href=\"#Exercise:-Create-a-KRR-model-based-on-the-first-5-PLS-components\" data-toc-modified-id=\"Exercise:-Create-a-KRR-model-based-on-the-first-5-PLS-components-2.4\"><span class=\"toc-item-num\">2.4&nbsp;&nbsp;</span>Exercise: Create a KRR model based on the first 5 PLS components</a></span></li><li><span><a href=\"#Linear-Discriminant-Analysis-(LDA)\" data-toc-modified-id=\"Linear-Discriminant-Analysis-(LDA)-2.5\"><span class=\"toc-item-num\">2.5&nbsp;&nbsp;</span>Linear Discriminant Analysis (LDA)</a></span><ul class=\"toc-item\"><li><span><a href=\"#Step-1:-Compute-class-centroids\" data-toc-modified-id=\"Step-1:-Compute-class-centroids-2.5.1\"><span class=\"toc-item-num\">2.5.1&nbsp;&nbsp;</span>Step 1: Compute class centroids</a></span></li><li><span><a href=\"#Step-2:-Compute-the-intra-class-(within-class)-covariance\" data-toc-modified-id=\"Step-2:-Compute-the-intra-class-(within-class)-covariance-2.5.2\"><span class=\"toc-item-num\">2.5.2&nbsp;&nbsp;</span>Step 2: Compute the intra-class (within class) covariance</a></span></li><li><span><a href=\"#Step-3:-Compute-inter-class-covariance\" data-toc-modified-id=\"Step-3:-Compute-inter-class-covariance-2.5.3\"><span class=\"toc-item-num\">2.5.3&nbsp;&nbsp;</span>Step 3: Compute inter-class covariance</a></span></li><li><span><a href=\"#Step-4:-Take-the-largest-eigenvalues/vectors-of-the-composite-covariance\" data-toc-modified-id=\"Step-4:-Take-the-largest-eigenvalues/vectors-of-the-composite-covariance-2.5.4\"><span class=\"toc-item-num\">2.5.4&nbsp;&nbsp;</span>Step 4: Take the largest eigenvalues/vectors of the composite covariance</a></span></li><li><span><a href=\"#Step-5:-Find-the-perpendicular-vector-to-use-as-the-decision-boundary\" data-toc-modified-id=\"Step-5:-Find-the-perpendicular-vector-to-use-as-the-decision-boundary-2.5.5\"><span class=\"toc-item-num\">2.5.5&nbsp;&nbsp;</span>Step 5: Find the perpendicular vector to use as the decision boundary</a></span></li><li><span><a href=\"#Application-to-MNIST\" data-toc-modified-id=\"Application-to-MNIST-2.5.6\"><span class=\"toc-item-num\">2.5.6&nbsp;&nbsp;</span>Application to MNIST</a></span></li></ul></li><li><span><a href=\"#Exercise:-Compare-the-accuracy-of-LDA-model-for-perovskite-prediction-with-and-without-the-one-hot-encoding-features.\" data-toc-modified-id=\"Exercise:-Compare-the-accuracy-of-LDA-model-for-perovskite-prediction-with-and-without-the-one-hot-encoding-features.-2.6\"><span class=\"toc-item-num\">2.6&nbsp;&nbsp;</span>Exercise: Compare the accuracy of LDA model for perovskite prediction with and without the one-hot encoding features.</a></span></li></ul></li><li><span><a href=\"#Symbolic-Regression\" data-toc-modified-id=\"Symbolic-Regression-3\"><span class=\"toc-item-num\">3&nbsp;&nbsp;</span>Symbolic Regression</a></span><ul class=\"toc-item\"><li><span><a href=\"#Exercise-(6745-Only):-Derive-a-formula-for-the-number-of-polynomial-features-as-a-function-of-number-of-original-features-and-polynomial-order.\" data-toc-modified-id=\"Exercise-(6745-Only):-Derive-a-formula-for-the-number-of-polynomial-features-as-a-function-of-number-of-original-features-and-polynomial-order.-3.1\"><span class=\"toc-item-num\">3.1&nbsp;&nbsp;</span>Exercise (6745 Only): Derive a formula for the number of polynomial features as a function of number of original features and polynomial order.</a></span></li></ul></li></ul></div>"
   ]
  },
  {
   "cell_type": "markdown",
   "metadata": {},
   "source": [
    "# Feature Transformations"
   ]
  },
  {
   "cell_type": "markdown",
   "metadata": {},
   "source": [
    "The concept of feature engineering can mean many things, but one common scenario is that features which are already provided are transformed in various ways to improve the efficiency or performance of the model. We can think of this from the perspective of a general form of a machine-learning model:\n",
    "\n",
    "$\\vec{y} = f(\\vec{x}, \\vec{w}(\\vec{\\eta}))$\n",
    "\n",
    "We have already seen how to find the optimal model parameters, $\\vec{w}$, using multi-dimensional optimization of a loss function, and we have discussed how to determine the optimal hyperparameters, $\\vec{\\eta}$, using cross-validation and/or information criteria. In feature engineering, the goal is to modify $\\vec{x}$ to improve the accuracy and/or efficiency of the model by identifying a new set of transformed features, $\\vec{\\chi}$. These feature transformations will use the original features as inputs, and often also depend on hyper-parameters, so we could think of the transformed features as being a function of both: $\\vec{\\chi}(\\vec{x}, \\vec{eta})$, leading to a more complex model form:\n",
    "\n",
    "$\\vec{y} = f(\\vec{\\chi}(\\vec{x}, \\vec{\\eta}), \\vec{w}(\\vec{\\eta}))$\n",
    "\n",
    "We will explore a few possibilities of what this function might be in this lecture:\n",
    "\n",
    "* One-Hot Encoding\n",
    "* Linear feature combinations\n",
    "* Symbolic regression\n",
    "\n",
    "However, there are numerous other possibilities. We will see some others in the course, but you may also wish to do independent research to get new ideas. Determining good features for a model is one of the most important strategies for designing a machine-learning model, but it often relies on significant knowledge or intuition about the problem at hand."
   ]
  },
  {
   "cell_type": "markdown",
   "metadata": {},
   "source": [
    "## One-Hot Encoding\n",
    "\n",
    "One very common situation that is often encoutered in analytics is discrete variables. There are 2 types of discrete/integer features:\n",
    "\n",
    "* categorical features: order does not matter (e.g. color = [red, blue, green])\n",
    "* ordinal features: order does matter (e.g. count = [1, 2, 3])\n",
    "\n",
    "For ordinal features it may make sense to convert integers to continuous variables, but in the case of categorical features this makes less sense. Even for ordinal features, it may be preferable to represent the data in a more discrete way. One common approach to this is to use \"one hot encoding\", where categorical variables are converted to vectors of 0's and 1's. For example:\n",
    "\n",
    "* color = [red , blue, green] $\\rightarrow$ color = [[1,0,0], [0,1,0], [0,0,1]\n",
    "\n",
    "This vector has an interesting feature: The \"distance\" is 0 if the vector is the same, but 1 if it is not! This means that algorithms that compute distances can now tell whether or not categories share a value. The tradeoff is that we increase the dimensionality of the dataset.\n",
    "\n",
    "Let's use the perovskite datset from the classification module as an example:"
   ]
  },
  {
   "cell_type": "code",
   "execution_count": 1,
   "metadata": {},
   "outputs": [],
   "source": [
    "%matplotlib inline\n",
    "import pandas as pd\n",
    "import numpy as np\n",
    "\n",
    "df = pd.read_csv('data/perovskite_data.csv')"
   ]
  },
  {
   "cell_type": "markdown",
   "metadata": {},
   "source": [
    "As a reminder, let's check the dataframe:"
   ]
  },
  {
   "cell_type": "code",
   "execution_count": 2,
   "metadata": {},
   "outputs": [
    {
     "data": {
      "text/html": [
       "<div>\n",
       "<style scoped>\n",
       "    .dataframe tbody tr th:only-of-type {\n",
       "        vertical-align: middle;\n",
       "    }\n",
       "\n",
       "    .dataframe tbody tr th {\n",
       "        vertical-align: top;\n",
       "    }\n",
       "\n",
       "    .dataframe thead th {\n",
       "        text-align: right;\n",
       "    }\n",
       "</style>\n",
       "<table border=\"1\" class=\"dataframe\">\n",
       "  <thead>\n",
       "    <tr style=\"text-align: right;\">\n",
       "      <th></th>\n",
       "      <th>ABX3</th>\n",
       "      <th>A</th>\n",
       "      <th>B</th>\n",
       "      <th>X</th>\n",
       "      <th>nA</th>\n",
       "      <th>nB</th>\n",
       "      <th>nX</th>\n",
       "      <th>rA (Ang)</th>\n",
       "      <th>rB (Ang)</th>\n",
       "      <th>rX (Ang)</th>\n",
       "      <th>t</th>\n",
       "      <th>tau</th>\n",
       "      <th>exp_label</th>\n",
       "    </tr>\n",
       "  </thead>\n",
       "  <tbody>\n",
       "    <tr>\n",
       "      <th>0</th>\n",
       "      <td>AgBiO3</td>\n",
       "      <td>Ag</td>\n",
       "      <td>Bi</td>\n",
       "      <td>O</td>\n",
       "      <td>1</td>\n",
       "      <td>5</td>\n",
       "      <td>-2</td>\n",
       "      <td>1.28</td>\n",
       "      <td>0.76</td>\n",
       "      <td>1.40</td>\n",
       "      <td>0.88</td>\n",
       "      <td>4.07</td>\n",
       "      <td>-1</td>\n",
       "    </tr>\n",
       "    <tr>\n",
       "      <th>1</th>\n",
       "      <td>AgBrO3</td>\n",
       "      <td>Ag</td>\n",
       "      <td>Br</td>\n",
       "      <td>O</td>\n",
       "      <td>1</td>\n",
       "      <td>5</td>\n",
       "      <td>-2</td>\n",
       "      <td>1.28</td>\n",
       "      <td>0.31</td>\n",
       "      <td>1.40</td>\n",
       "      <td>1.11</td>\n",
       "      <td>6.43</td>\n",
       "      <td>-1</td>\n",
       "    </tr>\n",
       "    <tr>\n",
       "      <th>2</th>\n",
       "      <td>AgCaCl3</td>\n",
       "      <td>Ag</td>\n",
       "      <td>Ca</td>\n",
       "      <td>Cl</td>\n",
       "      <td>1</td>\n",
       "      <td>2</td>\n",
       "      <td>-1</td>\n",
       "      <td>1.28</td>\n",
       "      <td>1.00</td>\n",
       "      <td>1.81</td>\n",
       "      <td>0.78</td>\n",
       "      <td>6.00</td>\n",
       "      <td>-1</td>\n",
       "    </tr>\n",
       "    <tr>\n",
       "      <th>3</th>\n",
       "      <td>AgCdBr3</td>\n",
       "      <td>Ag</td>\n",
       "      <td>Cd</td>\n",
       "      <td>Br</td>\n",
       "      <td>1</td>\n",
       "      <td>2</td>\n",
       "      <td>-1</td>\n",
       "      <td>1.28</td>\n",
       "      <td>0.95</td>\n",
       "      <td>1.96</td>\n",
       "      <td>0.79</td>\n",
       "      <td>5.58</td>\n",
       "      <td>-1</td>\n",
       "    </tr>\n",
       "    <tr>\n",
       "      <th>4</th>\n",
       "      <td>AgClO3</td>\n",
       "      <td>Ag</td>\n",
       "      <td>Cl</td>\n",
       "      <td>O</td>\n",
       "      <td>1</td>\n",
       "      <td>5</td>\n",
       "      <td>-2</td>\n",
       "      <td>1.28</td>\n",
       "      <td>0.12</td>\n",
       "      <td>1.40</td>\n",
       "      <td>1.25</td>\n",
       "      <td>15.17</td>\n",
       "      <td>-1</td>\n",
       "    </tr>\n",
       "    <tr>\n",
       "      <th>5</th>\n",
       "      <td>AgCoF3</td>\n",
       "      <td>Ag</td>\n",
       "      <td>Co</td>\n",
       "      <td>F</td>\n",
       "      <td>1</td>\n",
       "      <td>2</td>\n",
       "      <td>-1</td>\n",
       "      <td>1.28</td>\n",
       "      <td>0.74</td>\n",
       "      <td>1.33</td>\n",
       "      <td>0.89</td>\n",
       "      <td>3.96</td>\n",
       "      <td>1</td>\n",
       "    </tr>\n",
       "    <tr>\n",
       "      <th>6</th>\n",
       "      <td>AgCuF3</td>\n",
       "      <td>Ag</td>\n",
       "      <td>Cu</td>\n",
       "      <td>F</td>\n",
       "      <td>1</td>\n",
       "      <td>2</td>\n",
       "      <td>-1</td>\n",
       "      <td>1.28</td>\n",
       "      <td>0.73</td>\n",
       "      <td>1.33</td>\n",
       "      <td>0.90</td>\n",
       "      <td>3.94</td>\n",
       "      <td>1</td>\n",
       "    </tr>\n",
       "    <tr>\n",
       "      <th>7</th>\n",
       "      <td>AgMgCl3</td>\n",
       "      <td>Ag</td>\n",
       "      <td>Mg</td>\n",
       "      <td>Cl</td>\n",
       "      <td>1</td>\n",
       "      <td>2</td>\n",
       "      <td>-1</td>\n",
       "      <td>1.28</td>\n",
       "      <td>0.72</td>\n",
       "      <td>1.81</td>\n",
       "      <td>0.86</td>\n",
       "      <td>4.60</td>\n",
       "      <td>-1</td>\n",
       "    </tr>\n",
       "    <tr>\n",
       "      <th>8</th>\n",
       "      <td>AgMgF3</td>\n",
       "      <td>Ag</td>\n",
       "      <td>Mg</td>\n",
       "      <td>F</td>\n",
       "      <td>1</td>\n",
       "      <td>2</td>\n",
       "      <td>-1</td>\n",
       "      <td>1.28</td>\n",
       "      <td>0.72</td>\n",
       "      <td>1.33</td>\n",
       "      <td>0.90</td>\n",
       "      <td>3.94</td>\n",
       "      <td>1</td>\n",
       "    </tr>\n",
       "    <tr>\n",
       "      <th>9</th>\n",
       "      <td>AgMnF3</td>\n",
       "      <td>Ag</td>\n",
       "      <td>Mn</td>\n",
       "      <td>F</td>\n",
       "      <td>1</td>\n",
       "      <td>2</td>\n",
       "      <td>-1</td>\n",
       "      <td>1.28</td>\n",
       "      <td>0.83</td>\n",
       "      <td>1.33</td>\n",
       "      <td>0.85</td>\n",
       "      <td>4.16</td>\n",
       "      <td>1</td>\n",
       "    </tr>\n",
       "  </tbody>\n",
       "</table>\n",
       "</div>"
      ],
      "text/plain": [
       "      ABX3   A   B   X  nA  nB  nX  rA (Ang)  rB (Ang)  rX (Ang)     t    tau  \\\n",
       "0   AgBiO3  Ag  Bi   O   1   5  -2      1.28      0.76      1.40  0.88   4.07   \n",
       "1   AgBrO3  Ag  Br   O   1   5  -2      1.28      0.31      1.40  1.11   6.43   \n",
       "2  AgCaCl3  Ag  Ca  Cl   1   2  -1      1.28      1.00      1.81  0.78   6.00   \n",
       "3  AgCdBr3  Ag  Cd  Br   1   2  -1      1.28      0.95      1.96  0.79   5.58   \n",
       "4   AgClO3  Ag  Cl   O   1   5  -2      1.28      0.12      1.40  1.25  15.17   \n",
       "5   AgCoF3  Ag  Co   F   1   2  -1      1.28      0.74      1.33  0.89   3.96   \n",
       "6   AgCuF3  Ag  Cu   F   1   2  -1      1.28      0.73      1.33  0.90   3.94   \n",
       "7  AgMgCl3  Ag  Mg  Cl   1   2  -1      1.28      0.72      1.81  0.86   4.60   \n",
       "8   AgMgF3  Ag  Mg   F   1   2  -1      1.28      0.72      1.33  0.90   3.94   \n",
       "9   AgMnF3  Ag  Mn   F   1   2  -1      1.28      0.83      1.33  0.85   4.16   \n",
       "\n",
       "   exp_label  \n",
       "0         -1  \n",
       "1         -1  \n",
       "2         -1  \n",
       "3         -1  \n",
       "4         -1  \n",
       "5          1  \n",
       "6          1  \n",
       "7         -1  \n",
       "8          1  \n",
       "9          1  "
      ]
     },
     "execution_count": 2,
     "metadata": {},
     "output_type": "execute_result"
    }
   ],
   "source": [
    "df.head(10)"
   ]
  },
  {
   "cell_type": "markdown",
   "metadata": {},
   "source": [
    "Previously, we discarded the molecular symbol and just used the oxidation state. However, with one-hot encoding we can include this information. Let's see how many options there are for each category. We can use the `set` function in Python to only select unique entries:"
   ]
  },
  {
   "cell_type": "code",
   "execution_count": 3,
   "metadata": {},
   "outputs": [
    {
     "name": "stdout",
     "output_type": "stream",
     "text": [
      "Number of A, B, X: 49, 67, 5\n"
     ]
    }
   ],
   "source": [
    "A_list = list(set(df['A']))\n",
    "N_A = len(A_list)\n",
    "B_list = list(set(df['B']))\n",
    "N_B = len(B_list)\n",
    "X_list = list(set(df['X']))\n",
    "N_X = len(X_list)\n",
    "\n",
    "print('Number of A, B, X: {}, {}, {}'.format(N_A, N_B, N_X))"
   ]
  },
  {
   "cell_type": "markdown",
   "metadata": {},
   "source": [
    "This means we are going to create 121 new dimensions, and place a \"1\" in columns corresponding to the elements that are present. Pulling this off can be a little tedious, but fortunately there is a way to automatically do this in `pandas`. First, we need to drop the column that contains the formula name so that we don't one-hot encode the identity of the compound:"
   ]
  },
  {
   "cell_type": "code",
   "execution_count": 4,
   "metadata": {},
   "outputs": [],
   "source": [
    "df_features_output = df[df.columns[1:]]"
   ]
  },
  {
   "cell_type": "markdown",
   "metadata": {},
   "source": [
    "Then we can use the oddly-named `get_dummies` function to create the one-hot encoded columns:"
   ]
  },
  {
   "cell_type": "code",
   "execution_count": 5,
   "metadata": {
    "scrolled": true
   },
   "outputs": [
    {
     "data": {
      "text/html": [
       "<div>\n",
       "<style scoped>\n",
       "    .dataframe tbody tr th:only-of-type {\n",
       "        vertical-align: middle;\n",
       "    }\n",
       "\n",
       "    .dataframe tbody tr th {\n",
       "        vertical-align: top;\n",
       "    }\n",
       "\n",
       "    .dataframe thead th {\n",
       "        text-align: right;\n",
       "    }\n",
       "</style>\n",
       "<table border=\"1\" class=\"dataframe\">\n",
       "  <thead>\n",
       "    <tr style=\"text-align: right;\">\n",
       "      <th></th>\n",
       "      <th>nA</th>\n",
       "      <th>nB</th>\n",
       "      <th>nX</th>\n",
       "      <th>rA (Ang)</th>\n",
       "      <th>rB (Ang)</th>\n",
       "      <th>rX (Ang)</th>\n",
       "      <th>t</th>\n",
       "      <th>tau</th>\n",
       "      <th>exp_label</th>\n",
       "      <th>A_Ag</th>\n",
       "      <th>...</th>\n",
       "      <th>B_W</th>\n",
       "      <th>B_Y</th>\n",
       "      <th>B_Yb</th>\n",
       "      <th>B_Zn</th>\n",
       "      <th>B_Zr</th>\n",
       "      <th>X_Br</th>\n",
       "      <th>X_Cl</th>\n",
       "      <th>X_F</th>\n",
       "      <th>X_I</th>\n",
       "      <th>X_O</th>\n",
       "    </tr>\n",
       "  </thead>\n",
       "  <tbody>\n",
       "    <tr>\n",
       "      <th>0</th>\n",
       "      <td>1</td>\n",
       "      <td>5</td>\n",
       "      <td>-2</td>\n",
       "      <td>1.28</td>\n",
       "      <td>0.76</td>\n",
       "      <td>1.40</td>\n",
       "      <td>0.88</td>\n",
       "      <td>4.07</td>\n",
       "      <td>-1</td>\n",
       "      <td>1</td>\n",
       "      <td>...</td>\n",
       "      <td>0</td>\n",
       "      <td>0</td>\n",
       "      <td>0</td>\n",
       "      <td>0</td>\n",
       "      <td>0</td>\n",
       "      <td>0</td>\n",
       "      <td>0</td>\n",
       "      <td>0</td>\n",
       "      <td>0</td>\n",
       "      <td>1</td>\n",
       "    </tr>\n",
       "    <tr>\n",
       "      <th>1</th>\n",
       "      <td>1</td>\n",
       "      <td>5</td>\n",
       "      <td>-2</td>\n",
       "      <td>1.28</td>\n",
       "      <td>0.31</td>\n",
       "      <td>1.40</td>\n",
       "      <td>1.11</td>\n",
       "      <td>6.43</td>\n",
       "      <td>-1</td>\n",
       "      <td>1</td>\n",
       "      <td>...</td>\n",
       "      <td>0</td>\n",
       "      <td>0</td>\n",
       "      <td>0</td>\n",
       "      <td>0</td>\n",
       "      <td>0</td>\n",
       "      <td>0</td>\n",
       "      <td>0</td>\n",
       "      <td>0</td>\n",
       "      <td>0</td>\n",
       "      <td>1</td>\n",
       "    </tr>\n",
       "    <tr>\n",
       "      <th>2</th>\n",
       "      <td>1</td>\n",
       "      <td>2</td>\n",
       "      <td>-1</td>\n",
       "      <td>1.28</td>\n",
       "      <td>1.00</td>\n",
       "      <td>1.81</td>\n",
       "      <td>0.78</td>\n",
       "      <td>6.00</td>\n",
       "      <td>-1</td>\n",
       "      <td>1</td>\n",
       "      <td>...</td>\n",
       "      <td>0</td>\n",
       "      <td>0</td>\n",
       "      <td>0</td>\n",
       "      <td>0</td>\n",
       "      <td>0</td>\n",
       "      <td>0</td>\n",
       "      <td>1</td>\n",
       "      <td>0</td>\n",
       "      <td>0</td>\n",
       "      <td>0</td>\n",
       "    </tr>\n",
       "    <tr>\n",
       "      <th>3</th>\n",
       "      <td>1</td>\n",
       "      <td>2</td>\n",
       "      <td>-1</td>\n",
       "      <td>1.28</td>\n",
       "      <td>0.95</td>\n",
       "      <td>1.96</td>\n",
       "      <td>0.79</td>\n",
       "      <td>5.58</td>\n",
       "      <td>-1</td>\n",
       "      <td>1</td>\n",
       "      <td>...</td>\n",
       "      <td>0</td>\n",
       "      <td>0</td>\n",
       "      <td>0</td>\n",
       "      <td>0</td>\n",
       "      <td>0</td>\n",
       "      <td>1</td>\n",
       "      <td>0</td>\n",
       "      <td>0</td>\n",
       "      <td>0</td>\n",
       "      <td>0</td>\n",
       "    </tr>\n",
       "    <tr>\n",
       "      <th>4</th>\n",
       "      <td>1</td>\n",
       "      <td>5</td>\n",
       "      <td>-2</td>\n",
       "      <td>1.28</td>\n",
       "      <td>0.12</td>\n",
       "      <td>1.40</td>\n",
       "      <td>1.25</td>\n",
       "      <td>15.17</td>\n",
       "      <td>-1</td>\n",
       "      <td>1</td>\n",
       "      <td>...</td>\n",
       "      <td>0</td>\n",
       "      <td>0</td>\n",
       "      <td>0</td>\n",
       "      <td>0</td>\n",
       "      <td>0</td>\n",
       "      <td>0</td>\n",
       "      <td>0</td>\n",
       "      <td>0</td>\n",
       "      <td>0</td>\n",
       "      <td>1</td>\n",
       "    </tr>\n",
       "    <tr>\n",
       "      <th>5</th>\n",
       "      <td>1</td>\n",
       "      <td>2</td>\n",
       "      <td>-1</td>\n",
       "      <td>1.28</td>\n",
       "      <td>0.74</td>\n",
       "      <td>1.33</td>\n",
       "      <td>0.89</td>\n",
       "      <td>3.96</td>\n",
       "      <td>1</td>\n",
       "      <td>1</td>\n",
       "      <td>...</td>\n",
       "      <td>0</td>\n",
       "      <td>0</td>\n",
       "      <td>0</td>\n",
       "      <td>0</td>\n",
       "      <td>0</td>\n",
       "      <td>0</td>\n",
       "      <td>0</td>\n",
       "      <td>1</td>\n",
       "      <td>0</td>\n",
       "      <td>0</td>\n",
       "    </tr>\n",
       "    <tr>\n",
       "      <th>6</th>\n",
       "      <td>1</td>\n",
       "      <td>2</td>\n",
       "      <td>-1</td>\n",
       "      <td>1.28</td>\n",
       "      <td>0.73</td>\n",
       "      <td>1.33</td>\n",
       "      <td>0.90</td>\n",
       "      <td>3.94</td>\n",
       "      <td>1</td>\n",
       "      <td>1</td>\n",
       "      <td>...</td>\n",
       "      <td>0</td>\n",
       "      <td>0</td>\n",
       "      <td>0</td>\n",
       "      <td>0</td>\n",
       "      <td>0</td>\n",
       "      <td>0</td>\n",
       "      <td>0</td>\n",
       "      <td>1</td>\n",
       "      <td>0</td>\n",
       "      <td>0</td>\n",
       "    </tr>\n",
       "    <tr>\n",
       "      <th>7</th>\n",
       "      <td>1</td>\n",
       "      <td>2</td>\n",
       "      <td>-1</td>\n",
       "      <td>1.28</td>\n",
       "      <td>0.72</td>\n",
       "      <td>1.81</td>\n",
       "      <td>0.86</td>\n",
       "      <td>4.60</td>\n",
       "      <td>-1</td>\n",
       "      <td>1</td>\n",
       "      <td>...</td>\n",
       "      <td>0</td>\n",
       "      <td>0</td>\n",
       "      <td>0</td>\n",
       "      <td>0</td>\n",
       "      <td>0</td>\n",
       "      <td>0</td>\n",
       "      <td>1</td>\n",
       "      <td>0</td>\n",
       "      <td>0</td>\n",
       "      <td>0</td>\n",
       "    </tr>\n",
       "    <tr>\n",
       "      <th>8</th>\n",
       "      <td>1</td>\n",
       "      <td>2</td>\n",
       "      <td>-1</td>\n",
       "      <td>1.28</td>\n",
       "      <td>0.72</td>\n",
       "      <td>1.33</td>\n",
       "      <td>0.90</td>\n",
       "      <td>3.94</td>\n",
       "      <td>1</td>\n",
       "      <td>1</td>\n",
       "      <td>...</td>\n",
       "      <td>0</td>\n",
       "      <td>0</td>\n",
       "      <td>0</td>\n",
       "      <td>0</td>\n",
       "      <td>0</td>\n",
       "      <td>0</td>\n",
       "      <td>0</td>\n",
       "      <td>1</td>\n",
       "      <td>0</td>\n",
       "      <td>0</td>\n",
       "    </tr>\n",
       "    <tr>\n",
       "      <th>9</th>\n",
       "      <td>1</td>\n",
       "      <td>2</td>\n",
       "      <td>-1</td>\n",
       "      <td>1.28</td>\n",
       "      <td>0.83</td>\n",
       "      <td>1.33</td>\n",
       "      <td>0.85</td>\n",
       "      <td>4.16</td>\n",
       "      <td>1</td>\n",
       "      <td>1</td>\n",
       "      <td>...</td>\n",
       "      <td>0</td>\n",
       "      <td>0</td>\n",
       "      <td>0</td>\n",
       "      <td>0</td>\n",
       "      <td>0</td>\n",
       "      <td>0</td>\n",
       "      <td>0</td>\n",
       "      <td>1</td>\n",
       "      <td>0</td>\n",
       "      <td>0</td>\n",
       "    </tr>\n",
       "  </tbody>\n",
       "</table>\n",
       "<p>10 rows × 130 columns</p>\n",
       "</div>"
      ],
      "text/plain": [
       "   nA  nB  nX  rA (Ang)  rB (Ang)  rX (Ang)     t    tau  exp_label  A_Ag  \\\n",
       "0   1   5  -2      1.28      0.76      1.40  0.88   4.07         -1     1   \n",
       "1   1   5  -2      1.28      0.31      1.40  1.11   6.43         -1     1   \n",
       "2   1   2  -1      1.28      1.00      1.81  0.78   6.00         -1     1   \n",
       "3   1   2  -1      1.28      0.95      1.96  0.79   5.58         -1     1   \n",
       "4   1   5  -2      1.28      0.12      1.40  1.25  15.17         -1     1   \n",
       "5   1   2  -1      1.28      0.74      1.33  0.89   3.96          1     1   \n",
       "6   1   2  -1      1.28      0.73      1.33  0.90   3.94          1     1   \n",
       "7   1   2  -1      1.28      0.72      1.81  0.86   4.60         -1     1   \n",
       "8   1   2  -1      1.28      0.72      1.33  0.90   3.94          1     1   \n",
       "9   1   2  -1      1.28      0.83      1.33  0.85   4.16          1     1   \n",
       "\n",
       "   ...  B_W  B_Y  B_Yb  B_Zn  B_Zr  X_Br  X_Cl  X_F  X_I  X_O  \n",
       "0  ...    0    0     0     0     0     0     0    0    0    1  \n",
       "1  ...    0    0     0     0     0     0     0    0    0    1  \n",
       "2  ...    0    0     0     0     0     0     1    0    0    0  \n",
       "3  ...    0    0     0     0     0     1     0    0    0    0  \n",
       "4  ...    0    0     0     0     0     0     0    0    0    1  \n",
       "5  ...    0    0     0     0     0     0     0    1    0    0  \n",
       "6  ...    0    0     0     0     0     0     0    1    0    0  \n",
       "7  ...    0    0     0     0     0     0     1    0    0    0  \n",
       "8  ...    0    0     0     0     0     0     0    1    0    0  \n",
       "9  ...    0    0     0     0     0     0     0    1    0    0  \n",
       "\n",
       "[10 rows x 130 columns]"
      ]
     },
     "execution_count": 5,
     "metadata": {},
     "output_type": "execute_result"
    }
   ],
   "source": [
    "df_onehot = pd.get_dummies(df_features_output)\n",
    "df_onehot.head(10)"
   ]
  },
  {
   "cell_type": "markdown",
   "metadata": {},
   "source": [
    "We see that there are now 130 columns, and the new one-hot columns have prefixes based on the original column names:"
   ]
  },
  {
   "cell_type": "code",
   "execution_count": 6,
   "metadata": {},
   "outputs": [
    {
     "data": {
      "text/plain": [
       "['X_Br', 'X_Cl', 'X_F', 'X_I', 'X_O']"
      ]
     },
     "execution_count": 6,
     "metadata": {},
     "output_type": "execute_result"
    }
   ],
   "source": [
    "onehot_X_cols = [c for c in df_onehot.columns if c.startswith('X_')]\n",
    "onehot_X_cols"
   ]
  },
  {
   "cell_type": "markdown",
   "metadata": {},
   "source": [
    "### Exercise: Compute the one-hot matrix for a single input column `X`"
   ]
  },
  {
   "cell_type": "code",
   "execution_count": null,
   "metadata": {},
   "outputs": [],
   "source": []
  },
  {
   "cell_type": "markdown",
   "metadata": {},
   "source": [
    "We can use the same strategy to extract column names for 'A' and 'B', then construct our new `X` and `y` datasets:"
   ]
  },
  {
   "cell_type": "code",
   "execution_count": 7,
   "metadata": {},
   "outputs": [
    {
     "data": {
      "text/plain": [
       "['A_Ag',\n",
       " 'A_Al',\n",
       " 'A_Am',\n",
       " 'A_Ba',\n",
       " 'A_Bi',\n",
       " 'A_Ca',\n",
       " 'A_Cd',\n",
       " 'A_Ce',\n",
       " 'A_Co',\n",
       " 'A_Cr',\n",
       " 'A_Cs',\n",
       " 'A_Cu',\n",
       " 'A_Dy',\n",
       " 'A_Er',\n",
       " 'A_Eu',\n",
       " 'A_Fe',\n",
       " 'A_Gd',\n",
       " 'A_Ge',\n",
       " 'A_Hg',\n",
       " 'A_Ho',\n",
       " 'A_I',\n",
       " 'A_In',\n",
       " 'A_K',\n",
       " 'A_La',\n",
       " 'A_Li',\n",
       " 'A_Lu',\n",
       " 'A_Mg',\n",
       " 'A_Mn',\n",
       " 'A_Na',\n",
       " 'A_Nd',\n",
       " 'A_Ni',\n",
       " 'A_Pb',\n",
       " 'A_Pr',\n",
       " 'A_Pu',\n",
       " 'A_Rb',\n",
       " 'A_Sb',\n",
       " 'A_Sc',\n",
       " 'A_Sm',\n",
       " 'A_Sn',\n",
       " 'A_Sr',\n",
       " 'A_Tb',\n",
       " 'A_Te',\n",
       " 'A_Ti',\n",
       " 'A_Tl',\n",
       " 'A_Tm',\n",
       " 'A_V',\n",
       " 'A_Y',\n",
       " 'A_Yb',\n",
       " 'A_Zn']"
      ]
     },
     "execution_count": 7,
     "metadata": {},
     "output_type": "execute_result"
    }
   ],
   "source": [
    "onehot_A_cols = [c for c in df_onehot.columns if c.startswith('A_')]\n",
    "onehot_B_cols = [c for c in df_onehot.columns if c.startswith('B_')]\n",
    "onehot_A_cols"
   ]
  },
  {
   "cell_type": "markdown",
   "metadata": {},
   "source": [
    "We will also drop the `t` and `tau` columns, since these were not original features:"
   ]
  },
  {
   "cell_type": "code",
   "execution_count": 8,
   "metadata": {},
   "outputs": [
    {
     "name": "stdout",
     "output_type": "stream",
     "text": [
      "(576, 127)\n",
      "(576,)\n"
     ]
    }
   ],
   "source": [
    "regular_cols = ['nA', 'nB', 'nX', 'rA (Ang)', 'rB (Ang)', 'rX (Ang)']#, 't', 'tau']\n",
    "all_cols = onehot_A_cols + onehot_B_cols + onehot_X_cols + regular_cols\n",
    "X_perov = df_onehot[all_cols].values\n",
    "y_perov = df_onehot['exp_label'].values\n",
    "print(X_perov.shape)\n",
    "print(y_perov.shape)"
   ]
  },
  {
   "cell_type": "markdown",
   "metadata": {},
   "source": [
    "Now we have a 127-dimensional $X$ matrix! Let's compare performance of a classifier with and without the one-hot features:"
   ]
  },
  {
   "cell_type": "code",
   "execution_count": 9,
   "metadata": {},
   "outputs": [
    {
     "name": "stdout",
     "output_type": "stream",
     "text": [
      "SVC(C=78475.99703514607, break_ties=False, cache_size=200, class_weight=None,\n",
      "    coef0=0.0, decision_function_shape='ovr', degree=3,\n",
      "    gamma=0.046415888336127774, kernel='rbf', max_iter=-1, probability=False,\n",
      "    random_state=None, shrinking=True, tol=0.001, verbose=False)\n",
      "0.948051948051948\n"
     ]
    }
   ],
   "source": [
    "from sklearn.svm import SVC\n",
    "from sklearn.model_selection import train_test_split, GridSearchCV\n",
    "\n",
    "X_train, X_test, y_train, y_test = train_test_split(X_perov, y_perov, test_size=0.4)\n",
    "\n",
    "N_regular = len(regular_cols)\n",
    "X_train_regular = X_train[:, -N_regular:]\n",
    "X_test_regular = X_test[:, -N_regular:]\n",
    "\n",
    "C_range = np.logspace(-1, 6, 20)\n",
    "gamma_range = np.logspace(-4, 0, 10)\n",
    "\n",
    "parameters = {\"C\":C_range, \"gamma\":gamma_range}\n",
    "\n",
    "classifier = SVC(kernel='rbf')\n",
    "\n",
    "clf = GridSearchCV(classifier, parameters)\n",
    "clf.fit(X_train_regular,y_train)\n",
    "print(clf.best_estimator_)\n",
    "print(clf.best_estimator_.score(X_test_regular, y_test))\n",
    "svc_reg = clf.best_estimator_"
   ]
  },
  {
   "cell_type": "markdown",
   "metadata": {},
   "source": [
    "The results will vary between different runs since train/test split is random, but are pretty high with accuracies from 0.85 - 0.95."
   ]
  },
  {
   "cell_type": "code",
   "execution_count": 10,
   "metadata": {},
   "outputs": [
    {
     "name": "stdout",
     "output_type": "stream",
     "text": [
      "SVC(C=37.926901907322495, break_ties=False, cache_size=200, class_weight=None,\n",
      "    coef0=0.0, decision_function_shape='ovr', degree=3,\n",
      "    gamma=0.12915496650148828, kernel='rbf', max_iter=-1, probability=False,\n",
      "    random_state=None, shrinking=True, tol=0.001, verbose=False)\n",
      "0.8917748917748918\n"
     ]
    }
   ],
   "source": [
    "classifier = SVC(kernel='rbf')\n",
    "\n",
    "clf = GridSearchCV(classifier, parameters)\n",
    "clf.fit(X_train,y_train)\n",
    "print(clf.best_estimator_)\n",
    "print(clf.best_estimator_.score(X_test, y_test))\n",
    "svc_full = clf.best_estimator_"
   ]
  },
  {
   "cell_type": "markdown",
   "metadata": {},
   "source": [
    "Again, the results will vary a bit, but in general they are comparable. We have added more information, but the dimensionality is much higher, so the classification problem is harder. We will revisit this problem later in the notebook."
   ]
  },
  {
   "cell_type": "markdown",
   "metadata": {},
   "source": [
    "## Linear Feature Combinations\n",
    "\n",
    "Another very straightforward way to create new features is to simply combine features that are already present. In this section we will see how this works with the Dow dataset as an example. We can go ahead and load it in:"
   ]
  },
  {
   "cell_type": "code",
   "execution_count": 11,
   "metadata": {},
   "outputs": [
    {
     "name": "stdout",
     "output_type": "stream",
     "text": [
      "(10297, 40) (10297, 1)\n"
     ]
    }
   ],
   "source": [
    "%matplotlib inline\n",
    "import pandas as pd\n",
    "import numpy as np\n",
    "import pylab as plt\n",
    "\n",
    "df = pd.read_excel('data/impurity_dataset-training.xlsx')\n",
    "def is_real_and_finite(x):\n",
    "    if not np.isreal(x):\n",
    "        return False\n",
    "    elif not np.isfinite(x):\n",
    "        return False\n",
    "    else:\n",
    "        return True\n",
    "\n",
    "all_data = df[df.columns[1:]].values #drop the first column (date)\n",
    "numeric_map = df[df.columns[1:]].applymap(is_real_and_finite)\n",
    "real_rows = numeric_map.all(axis=1).copy().values #True if all values in a row are real numbers\n",
    "dow_feature_names = df.columns[1:]\n",
    "X_dow = np.array(all_data[real_rows,:-5], dtype='float') #drop the last 5 cols that are not inputs\n",
    "y_dow = np.array(all_data[real_rows,-3], dtype='float')\n",
    "y_dow = y_dow.reshape(-1,1)\n",
    "print(X_dow.shape, y_dow.shape)"
   ]
  },
  {
   "cell_type": "markdown",
   "metadata": {},
   "source": [
    "As we have seen before, these features have very different units, so we will \"standardize\" them:"
   ]
  },
  {
   "cell_type": "code",
   "execution_count": 12,
   "metadata": {},
   "outputs": [],
   "source": [
    "X = (X_dow - X_dow.mean(axis=0))/X_dow.std(axis=0)"
   ]
  },
  {
   "cell_type": "markdown",
   "metadata": {},
   "source": [
    "The simplest strategy for combining features is to create linear combinations:\n",
    "\n",
    "$\\tilde{X}_{ik} = \\sum_{j=0}^m  X_{ij} W_{jk} $\n",
    "\n",
    "where $\\tilde{X}_{ik}$ is a matrix of data points (indexed by rows, $i$) with transformed features (indexed by columns, $k$), $X_{ij}$ is the original data matrix, $W_{jk}$ is a weight matrix that determines how the features will be combined, and $m$ is the number of original features. The dimension of the new, transformed features will be given by the dimension of the column space of $W_{jk}$ (indexed by $k$).\n",
    "\n",
    "We can also think of this as a matrix/vector multiplication:\n",
    "\n",
    "$\\tilde{\\underline{\\underline{X}}} = \\underline{\\underline{X}} \\underline{\\underline{W}}$\n",
    "\n",
    "Let's create some code to do this:"
   ]
  },
  {
   "cell_type": "code",
   "execution_count": 13,
   "metadata": {},
   "outputs": [],
   "source": [
    "def linear_combination(X, W):\n",
    "    return X@W"
   ]
  },
  {
   "cell_type": "markdown",
   "metadata": {},
   "source": [
    "In principle we could create some random projection matrix $W$, as long as it has the correct dimensions:"
   ]
  },
  {
   "cell_type": "code",
   "execution_count": 14,
   "metadata": {},
   "outputs": [
    {
     "name": "stdout",
     "output_type": "stream",
     "text": [
      "Original data dimensions: (10297, 40)\n",
      "Transformed data dimensions: (10297, 6)\n"
     ]
    }
   ],
   "source": [
    "m = 6\n",
    "W_rand = np.random.rand(X.shape[1], m)\n",
    "\n",
    "Xtilde_rand = linear_combination(X, W_rand)\n",
    "\n",
    "print('Original data dimensions: {}'.format(X.shape))\n",
    "print('Transformed data dimensions: {}'.format(Xtilde_rand.shape))"
   ]
  },
  {
   "cell_type": "markdown",
   "metadata": {},
   "source": [
    "We have seen this before in dimensional reduction, where the weight matrix is obtained from PCA. However, in principle we can use any matrix, and we can even project onto higher dimensions:"
   ]
  },
  {
   "cell_type": "code",
   "execution_count": 15,
   "metadata": {},
   "outputs": [
    {
     "name": "stdout",
     "output_type": "stream",
     "text": [
      "Original data dimensions: (10297, 40)\n",
      "Transformed data dimensions: (10297, 100)\n"
     ]
    }
   ],
   "source": [
    "m = 100\n",
    "W_rand = np.random.rand(X.shape[1], m)\n",
    "\n",
    "Xtilde_rand = linear_combination(X, W_rand)\n",
    "\n",
    "print('Original data dimensions: {}'.format(X.shape))\n",
    "print('Transformed data dimensions: {}'.format(Xtilde_rand.shape))"
   ]
  },
  {
   "cell_type": "markdown",
   "metadata": {},
   "source": [
    "However, when we do this many features will become linearly dependent, since we cannot increase the rank of the matrix."
   ]
  },
  {
   "cell_type": "markdown",
   "metadata": {},
   "source": [
    "### Exercise: Show that the rank of the matrix cannot exceed the original rank based on linear projections"
   ]
  },
  {
   "cell_type": "code",
   "execution_count": null,
   "metadata": {},
   "outputs": [],
   "source": []
  },
  {
   "cell_type": "markdown",
   "metadata": {},
   "source": [
    "Let's see how our random matrix performs as input to a simple linear regression model:"
   ]
  },
  {
   "cell_type": "code",
   "execution_count": 16,
   "metadata": {
    "scrolled": true
   },
   "outputs": [
    {
     "data": {
      "text/plain": [
       "<matplotlib.legend.Legend at 0x1a19805780>"
      ]
     },
     "execution_count": 16,
     "metadata": {},
     "output_type": "execute_result"
    },
    {
     "data": {
      "image/png": "[encoded data removed]",
      "text/plain": [
       "<Figure size 432x288 with 1 Axes>"
      ]
     },
     "metadata": {
      "needs_background": "light"
     },
     "output_type": "display_data"
    }
   ],
   "source": [
    "from sklearn.linear_model import LinearRegression\n",
    "\n",
    "model = LinearRegression()\n",
    "model.fit(X,y_dow)\n",
    "r2_LR = model.score(X, y_dow)\n",
    "\n",
    "\n",
    "r2s_rand = []\n",
    "m_range = range(1,50)\n",
    "for m in m_range:\n",
    "    W_rand = np.random.rand(X.shape[1], m)\n",
    "    Xtilde_rand = linear_combination(X, W_rand)\n",
    "    model.fit(Xtilde_rand, y_dow)\n",
    "    r2 = model.score(Xtilde_rand, y_dow)\n",
    "    r2s_rand.append(r2)\n",
    "    \n",
    "    \n",
    "fig, ax = plt.subplots()\n",
    "ax.plot(m_range, [r2_LR]*len(m_range), '--r', label='all features')\n",
    "ax.plot(m_range, r2s_rand, label='random projections')\n",
    "ax.set_xlabel('Number of projected features')\n",
    "ax.set_ylabel('$r^2$ for linear model')\n",
    "ax.legend()"
   ]
  },
  {
   "cell_type": "markdown",
   "metadata": {},
   "source": [
    "We see that the performance varies, but generally increases with the number of features up to 40 (the number of features in the original dataset). Beyond this point the performance is the same. The reason is that the linear regression equations find the linear combinations of features that best predict the output, $y$, so as long as the rank is at least equal to the rank of the original data the linear regression process will \"undo\" the random linear combination and find the model that best predicts the data!"
   ]
  },
  {
   "cell_type": "markdown",
   "metadata": {},
   "source": [
    "### PCA \n",
    "\n",
    "We have also seen that we can use PCA to find linear combinations of features that maximize the variance in the input data. Let's see how this compares. We will use our \"manual\" PCA implementation (eigenvectors of the covariance matrix) to make this a little more transparent:"
   ]
  },
  {
   "cell_type": "code",
   "execution_count": 17,
   "metadata": {},
   "outputs": [
    {
     "name": "stdout",
     "output_type": "stream",
     "text": [
      "Covariance Matrix Shape: (40, 40)\n"
     ]
    }
   ],
   "source": [
    "cov = np.cov(X.T)\n",
    "print('Covariance Matrix Shape: {}'.format(cov.shape))\n",
    "eigvals, eigvecs = np.linalg.eig(cov)\n",
    "idxs = np.argsort(eigvals)[::-1] #find the indices in order, and reverse them\n",
    "eigvals = eigvals[idxs]\n",
    "eigvecs = eigvecs[:, idxs].T"
   ]
  },
  {
   "cell_type": "markdown",
   "metadata": {},
   "source": [
    "Now, remember that we can find the PCA projection matrix by taking the first $m$ eigenvectors:"
   ]
  },
  {
   "cell_type": "code",
   "execution_count": 18,
   "metadata": {},
   "outputs": [
    {
     "data": {
      "text/plain": [
       "<matplotlib.legend.Legend at 0x104869fd0>"
      ]
     },
     "execution_count": 18,
     "metadata": {},
     "output_type": "execute_result"
    },
    {
     "data": {
      "image/png": "[encoded data removed]",
      "text/plain": [
       "<Figure size 432x288 with 1 Axes>"
      ]
     },
     "metadata": {
      "needs_background": "light"
     },
     "output_type": "display_data"
    }
   ],
   "source": [
    "r2s_PCA = []\n",
    "for m in m_range:\n",
    "    W_PCA = eigvecs[:m,:].T\n",
    "    Xtilde_PCA = linear_combination(X, W_PCA)\n",
    "    model.fit(Xtilde_PCA, y_dow)\n",
    "    r2 = model.score(Xtilde_PCA, y_dow)\n",
    "    r2s_PCA.append(r2)\n",
    "    \n",
    "fig, ax = plt.subplots()\n",
    "ax.plot(m_range, [r2_LR]*len(m_range), '--r', label='all features')\n",
    "ax.plot(m_range, r2s_PCA, 'g', label='PCA')\n",
    "ax.plot(m_range, r2s_rand, '--b', label='random projections')\n",
    "ax.set_xlabel('Number of components')\n",
    "ax.set_ylabel('$r^2$ for linear model')\n",
    "ax.legend()"
   ]
  },
  {
   "cell_type": "markdown",
   "metadata": {},
   "source": [
    "We see that in general the PC's are better than the random projection, which is a good sign. However, if you run the random block enough you can find examples where random projections are better than principle components! Ideally we would like to avoid this, and find a way of engineering linear combinations of features that always improve the linear regression model."
   ]
  },
  {
   "cell_type": "markdown",
   "metadata": {},
   "source": [
    "### Partial Least Squares (PLS)\n",
    "\n",
    "The \"partial least squares\", or PLS, algorithm provides a way to find linear combinations of features that maximize the *covariance* (or correlation) between input features and an output variable. This is a **supervised dimensional reduction** algorithm since it uses the outputs to find the projection matrix. We won't do the math for PLS, but will use the `scikit-learn` implementation:"
   ]
  },
  {
   "cell_type": "code",
   "execution_count": 19,
   "metadata": {
    "scrolled": true
   },
   "outputs": [
    {
     "data": {
      "text/plain": [
       "Text(0,0.5,'$r^2$ for linear model')"
      ]
     },
     "execution_count": 19,
     "metadata": {},
     "output_type": "execute_result"
    },
    {
     "data": {
      "image/png": "[encoded data removed]",
      "text/plain": [
       "<Figure size 432x288 with 1 Axes>"
      ]
     },
     "metadata": {
      "needs_background": "light"
     },
     "output_type": "display_data"
    }
   ],
   "source": [
    "from sklearn.cross_decomposition import PLSRegression\n",
    "\n",
    "r2s_PLS = []\n",
    "m_PLS = range(1, X.shape[1]) #PLS does not allow more components than original features\n",
    "for m in m_PLS:\n",
    "    model = PLSRegression(n_components = m)\n",
    "    model.fit(X, y_dow)\n",
    "    r2 = model.score(X, y_dow)\n",
    "    r2s_PLS.append(r2)\n",
    "    \n",
    "fig, ax = plt.subplots()\n",
    "ax.plot(m_range, [r2_LR]*len(m_range), '--r', label='all features')\n",
    "ax.plot(m_range, r2s_PCA, '--g', label='PCA')\n",
    "ax.plot(m_range, r2s_rand, '--b', label='random projections')\n",
    "ax.plot(m_PLS, r2s_PLS, 'k', label='PLS')\n",
    "ax.set_xlabel('Number of components')\n",
    "ax.set_ylabel('$r^2$ for linear model')"
   ]
  },
  {
   "cell_type": "markdown",
   "metadata": {},
   "source": [
    "We can obtain the projection matrix based on the `x_rotations` described in the [documentation](https://scikit-learn.org/stable/modules/generated/sklearn.cross_decomposition.PLSRegression.html):"
   ]
  },
  {
   "cell_type": "code",
   "execution_count": 20,
   "metadata": {},
   "outputs": [
    {
     "name": "stdout",
     "output_type": "stream",
     "text": [
      "(10297, 15)\n"
     ]
    }
   ],
   "source": [
    "m = 15\n",
    "\n",
    "model = PLSRegression(n_components = m)\n",
    "model.fit(X, y_dow)\n",
    "W_PLS = model.x_weights_@ np.linalg.inv(model.x_loadings_.T@model.x_weights_)\n",
    "X_PLS = linear_combination(X, W_PLS)\n",
    "print(X_PLS.shape)"
   ]
  },
  {
   "cell_type": "markdown",
   "metadata": {},
   "source": [
    "or we can obtain the transformed features directly from the model:"
   ]
  },
  {
   "cell_type": "code",
   "execution_count": 21,
   "metadata": {},
   "outputs": [
    {
     "name": "stdout",
     "output_type": "stream",
     "text": [
      "0.0012907819387280028\n"
     ]
    }
   ],
   "source": [
    "X_reduced = model.transform(X)\n",
    "print((X_reduced - X_PLS).max())"
   ]
  },
  {
   "cell_type": "markdown",
   "metadata": {},
   "source": [
    "While there are slight differences, these are numerically very close. In practice, it is typically more convenient to use the `model.transform` method. This gives us the linear combination of features that maximizes the covariance with the output model output. We can think of this as the best possible *linear* combination of features for a *linear* regression problem."
   ]
  },
  {
   "cell_type": "markdown",
   "metadata": {},
   "source": [
    "### Exercise: Create a KRR model based on the first 5 PLS components"
   ]
  },
  {
   "cell_type": "markdown",
   "metadata": {},
   "source": []
  },
  {
   "cell_type": "markdown",
   "metadata": {},
   "source": [
    "### Linear Discriminant Analysis (LDA)\n",
    "\n",
    "The PLS technique works great for finding linear combinations of features that describe a regression problem, but it does not work for classfication. The analogue for classification is called \"Linear Discriminant Analysis\", or LDA. \n",
    "\n",
    "The basic steps of LDA are:\n",
    "\n",
    "* Compute the centerpoint of each class\n",
    "* Compute intraclass covariance\n",
    "* Compute interclass covariance\n",
    "* Calculate the largest eigenvalues/eigenvectors of the composite covariance matrix\n",
    "* Use hyperplanes perpendicular to the linear discriminant vectors to assign classes\n",
    "\n",
    "We will step through these steps for a toy \"blobs\" dataset, then compare to the `scikit-learn` implementation for the MNIST dataset.\n",
    "\n",
    "#### Step 1: Compute class centroids"
   ]
  },
  {
   "cell_type": "code",
   "execution_count": 22,
   "metadata": {
    "scrolled": true
   },
   "outputs": [
    {
     "name": "stderr",
     "output_type": "stream",
     "text": [
      "/Users/Lecturing/anaconda3/lib/python3.6/site-packages/sklearn/utils/deprecation.py:144: FutureWarning: The sklearn.datasets.samples_generator module is  deprecated in version 0.22 and will be removed in version 0.24. The corresponding classes / functions should instead be imported from sklearn.datasets. Anything that cannot be imported from sklearn.datasets is now part of the private API.\n",
      "  warnings.warn(message, FutureWarning)\n"
     ]
    },
    {
     "name": "stdout",
     "output_type": "stream",
     "text": [
      "Mean Vector class 0: [0.98137069 4.28756914]\n",
      "\n",
      "Mean Vector class 1: [2.02437058 0.95630346]\n",
      "\n"
     ]
    },
    {
     "data": {
      "image/png": "[encoded data removed]",
      "text/plain": [
       "<Figure size 432x288 with 1 Axes>"
      ]
     },
     "metadata": {
      "needs_background": "light"
     },
     "output_type": "display_data"
    }
   ],
   "source": [
    "from sklearn.datasets.samples_generator import make_blobs\n",
    "\n",
    "X_blobs, y_blobs = make_blobs(n_samples=50, centers=2, cluster_std=0.5, n_features=2, random_state=0)\n",
    "\n",
    "mean_vectors = []\n",
    "classes = [0,1]\n",
    "for cl in classes:\n",
    "    class_mean = np.mean(X_blobs[y_blobs==cl, :], axis=0)\n",
    "    mean_vectors.append(class_mean)\n",
    "    print('Mean Vector class {}: {}\\n'.format(cl, mean_vectors[cl]))\n",
    "    \n",
    "fig, ax = plt.subplots()\n",
    "\n",
    "ax.scatter(X_blobs[:,0], X_blobs[:,1], c=y_blobs)\n",
    "for mv in mean_vectors:\n",
    "    ax.plot(mv[0],mv[1],marker='*',markersize=20, color='r')"
   ]
  },
  {
   "cell_type": "markdown",
   "metadata": {},
   "source": [
    "#### Step 2: Compute the intra-class (within class) covariance\n",
    "\n",
    "Now we want the co-variance of each class, centered on the mean of that class."
   ]
  },
  {
   "cell_type": "code",
   "execution_count": 23,
   "metadata": {},
   "outputs": [
    {
     "name": "stdout",
     "output_type": "stream",
     "text": [
      "[[ 0.17550194 -0.02104963]\n",
      " [-0.02104963  0.11865042]] \n",
      "\n",
      "[[ 0.10010032 -0.02006112]\n",
      " [-0.02006112  0.11665124]] \n",
      "\n",
      "2\n"
     ]
    },
    {
     "data": {
      "text/plain": [
       "(2, 2)"
      ]
     },
     "execution_count": 23,
     "metadata": {},
     "output_type": "execute_result"
    }
   ],
   "source": [
    "class_covs = []\n",
    "for cl, center in zip(classes, mean_vectors):\n",
    "    subX = X_blobs[y_blobs==cl] #select only points from class\n",
    "    subX_centered = subX - center\n",
    "    cov = np.dot(subX_centered.T, subX_centered)\n",
    "    cov = cov/(subX.size - 1)\n",
    "    class_covs.append(cov) \n",
    "    print(cov, '\\n')\n",
    "    \n",
    "print(len(class_covs))\n",
    "class_covs[0].shape"
   ]
  },
  {
   "cell_type": "markdown",
   "metadata": {},
   "source": [
    "LDA assumes that all classes have the **same covariance**, so we will take an average over them to compute the **intra-class covariance matrix**."
   ]
  },
  {
   "cell_type": "code",
   "execution_count": 26,
   "metadata": {},
   "outputs": [
    {
     "name": "stdout",
     "output_type": "stream",
     "text": [
      "[[ 0.13780113 -0.02055538]\n",
      " [-0.02055538  0.11765083]]\n"
     ]
    }
   ],
   "source": [
    "intra = sum(class_covs)/len(class_covs)\n",
    "print(intra)"
   ]
  },
  {
   "cell_type": "markdown",
   "metadata": {},
   "source": [
    "#### Step 3: Compute inter-class covariance\n",
    "\n",
    "Now we also need to know the covariance matrix between different class centers. We will use the class means as points to achive this, and we will save some time by using numpy's built-in covariance function:"
   ]
  },
  {
   "cell_type": "code",
   "execution_count": 24,
   "metadata": {},
   "outputs": [
    {
     "name": "stdout",
     "output_type": "stream",
     "text": [
      "[[ 0.54392438 -1.73725486]\n",
      " [-1.73725486  5.54866553]]\n"
     ]
    }
   ],
   "source": [
    "center_array = np.array(mean_vectors)\n",
    "inter = np.cov(center_array.T)\n",
    "print(inter)"
   ]
  },
  {
   "cell_type": "markdown",
   "metadata": {},
   "source": [
    "#### Step 4: Take the largest eigenvalues/vectors of the composite covariance\n",
    "\n",
    "We need to \"divide\" the inter-class (across class) covariance by the inter-class (within class) covariance. However, since we are dealing with matrices we use the inverse:\n",
    "\n",
    "$\\underline{\\underline{C}}_{composite} = \\underline{\\underline{C}}_{intra}^{-1} \\underline{\\underline{C}}_{inter}$\n",
    "\n",
    "This is called the \"composite covariance matrix\", and the linear discrimination axes can be determined by taking its eigenvalues."
   ]
  },
  {
   "cell_type": "code",
   "execution_count": 27,
   "metadata": {
    "scrolled": true
   },
   "outputs": [
    {
     "name": "stdout",
     "output_type": "stream",
     "text": [
      "[ 0.        47.9538168]\n"
     ]
    },
    {
     "data": {
      "text/plain": [
       "[<matplotlib.lines.Line2D at 0x1048d2400>]"
      ]
     },
     "execution_count": 27,
     "metadata": {},
     "output_type": "execute_result"
    },
    {
     "data": {
      "image/png": "[encoded data removed]",
      "text/plain": [
       "<Figure size 432x288 with 1 Axes>"
      ]
     },
     "metadata": {
      "needs_background": "light"
     },
     "output_type": "display_data"
    }
   ],
   "source": [
    "comp = np.dot(np.linalg.inv(intra), inter)\n",
    "eig_vals, eig_vecs = np.linalg.eig(comp)\n",
    "eig_vecs = eig_vecs.T\n",
    "\n",
    "print(eig_vals)\n",
    "\n",
    "fig, ax = plt.subplots()\n",
    "\n",
    "ax.scatter(X_blobs[:,0], X_blobs[:,1], c=y_blobs)\n",
    "for mv in mean_vectors:\n",
    "    ax.plot(mv[0],mv[1],marker='*',markersize=20, color='r')\n",
    "    \n",
    "LDvec1 = eig_vecs[0]\n",
    "LDvec2 = eig_vecs[1]\n",
    "\n",
    "mu = np.mean(X_blobs, axis=0)\n",
    "\n",
    "ax.plot([mu[0]],[mu[1]], marker='x', color='k')\n",
    "\n",
    "#ax.plot([mu[0], mu[0] + LDvec1[0]*LDvals[0]],[mu[1],mu[1] + LDvec1[1]*LDvals[0]], ls='-', color='r', alpha=0.5) #<- plot eigenvectors scaled by eigenvalues\n",
    "ax.plot([mu[0] - LDvec2[0], mu[0] + LDvec2[0]],[mu[1] -  LDvec2[1],mu[1] + LDvec2[1]], ls='-', color='r', alpha=0.5)\n",
    "\n",
    "# compare to PCA\n",
    "cov_all = np.cov(X_blobs.T)\n",
    "PC_vals, PC_vecs = np.linalg.eig(cov_all)\n",
    "PC_vecs = PC_vecs.T\n",
    "\n",
    "PCvec1 = PC_vecs[0]\n",
    "PCvec2 = PC_vecs[1]\n",
    "\n",
    "ax.plot([mu[0] - PCvec2[0], mu[0] + PCvec2[0]],[mu[1] -  PCvec2[1],mu[1] + PCvec2[1]], ls='-', color='b', alpha=0.5)"
   ]
  },
  {
   "cell_type": "markdown",
   "metadata": {},
   "source": [
    "#### Step 5: Find the perpendicular vector to use as the decision boundary\n",
    "\n",
    "LDA is also a classification algorithm. In LDA the decision boundary line or hyperplane is perpendicular to the LDA axis. We can find a perpendicular vector using the 90-degress rotation matrix:\n",
    "\n",
    "$[[0, -1] \\\\ [1, 0]]$\n",
    "\n",
    "In higher dimensions this can be achieved with cross-products."
   ]
  },
  {
   "cell_type": "code",
   "execution_count": 28,
   "metadata": {
    "scrolled": false
   },
   "outputs": [
    {
     "data": {
      "image/png": "[encoded data removed]",
      "text/plain": [
       "<Figure size 432x288 with 1 Axes>"
      ]
     },
     "execution_count": 28,
     "metadata": {},
     "output_type": "execute_result"
    }
   ],
   "source": [
    "boundary = np.dot([[0, -1],[1,0]],LDvec2)\n",
    "ax.plot([mu[0] - boundary[0], mu[0] + boundary[0]],[mu[1] -  boundary[1],mu[1] + boundary[1]], ls='-', color='r', alpha=0.5)\n",
    "\n",
    "#compare to PCA boundary\n",
    "\n",
    "PCboundary = np.dot([[0, -1],[1,0]],PCvec2)\n",
    "ax.plot([mu[0] - PCboundary[0], mu[0] + PCboundary[0]],[mu[1] -  PCboundary[1],mu[1] + PCboundary[1]], ls='-', color='b', alpha=0.5)\n",
    "\n",
    "fig"
   ]
  },
  {
   "cell_type": "markdown",
   "metadata": {},
   "source": [
    "The LDA vectors capture the direction of max variance between different cluster centers. In fact, if you compare the math this is very similar to what we are doing. We treat each cluster as a point, then perform PCA on these points. We can also project the data back onto the LDA axes:"
   ]
  },
  {
   "cell_type": "code",
   "execution_count": 29,
   "metadata": {
    "scrolled": true
   },
   "outputs": [
    {
     "data": {
      "text/plain": [
       "<matplotlib.collections.PathCollection at 0x1a1a36aa90>"
      ]
     },
     "execution_count": 29,
     "metadata": {},
     "output_type": "execute_result"
    },
    {
     "data": {
      "image/png": "[encoded data removed]",
      "text/plain": [
       "<Figure size 720x360 with 2 Axes>"
      ]
     },
     "metadata": {
      "needs_background": "light"
     },
     "output_type": "display_data"
    }
   ],
   "source": [
    "X_LDA = linear_combination(X_blobs, comp)\n",
    "X_LDA.shape\n",
    "\n",
    "fig, axes = plt.subplots(1,2,figsize=(10,5))\n",
    "\n",
    "axes[0].scatter(X_blobs[:,0], X_blobs[:,1], c=y_blobs)\n",
    "axes[1].scatter(X_LDA[:,0], X_LDA[:,1], c=y_blobs)"
   ]
  },
  {
   "cell_type": "markdown",
   "metadata": {},
   "source": [
    "Note that the maximum number of linearly-independent LDA components is one less than the number of clusters."
   ]
  },
  {
   "cell_type": "markdown",
   "metadata": {},
   "source": [
    "#### Application to MNIST"
   ]
  },
  {
   "cell_type": "markdown",
   "metadata": {},
   "source": [
    "Now let's see how this works for the MNIST dataset."
   ]
  },
  {
   "cell_type": "code",
   "execution_count": 30,
   "metadata": {
    "scrolled": true
   },
   "outputs": [
    {
     "name": "stdout",
     "output_type": "stream",
     "text": [
      "Digits data shape: (1797, 64)\n",
      "Digits output shape: (1797,)\n"
     ]
    }
   ],
   "source": [
    "from sklearn.datasets import load_digits\n",
    "\n",
    "digits = load_digits()\n",
    "print(\"Digits data shape: {}\".format(digits.data.shape))\n",
    "print(\"Digits output shape: {}\".format(digits.target.shape))\n",
    "X_mnist = np.array(digits.data)\n",
    "y_mnist = np.array(digits.target)"
   ]
  },
  {
   "cell_type": "markdown",
   "metadata": {},
   "source": [
    "We will use the `scikit=learn` implementation since it is more efficient:"
   ]
  },
  {
   "cell_type": "code",
   "execution_count": 31,
   "metadata": {},
   "outputs": [
    {
     "name": "stdout",
     "output_type": "stream",
     "text": [
      "(1797, 9)\n"
     ]
    }
   ],
   "source": [
    "from sklearn.discriminant_analysis import LinearDiscriminantAnalysis\n",
    "\n",
    "lda = LinearDiscriminantAnalysis()\n",
    "lda.fit(X_mnist,y_mnist)\n",
    "X_LDA = lda.transform(X_mnist)\n",
    "\n",
    "print(X_LDA.shape)"
   ]
  },
  {
   "cell_type": "markdown",
   "metadata": {},
   "source": [
    "We see that the dimension of features is 9, one less than the number of classes. There is also a warning that arises from the fact that there are linearly dependent columns in the original data."
   ]
  },
  {
   "cell_type": "markdown",
   "metadata": {},
   "source": [
    "We can extract the weights, or transform the X matrix directly with `scikit-learn`:"
   ]
  },
  {
   "cell_type": "code",
   "execution_count": 32,
   "metadata": {},
   "outputs": [
    {
     "name": "stdout",
     "output_type": "stream",
     "text": [
      "(1797, 9)\n"
     ]
    }
   ],
   "source": [
    "W_lda = lda.scalings_\n",
    "X_lda = linear_combination(X_mnist, W_lda)\n",
    "print(X_lda.shape)"
   ]
  },
  {
   "cell_type": "markdown",
   "metadata": {},
   "source": [
    "Let's compute the PCA decomposition to compare:"
   ]
  },
  {
   "cell_type": "code",
   "execution_count": 33,
   "metadata": {},
   "outputs": [],
   "source": [
    "from sklearn.decomposition import PCA\n",
    "\n",
    "pca_model = PCA(n_components=9)\n",
    "pca_model.fit(X_mnist)\n",
    "X_pca = pca_model.transform(X_mnist)"
   ]
  },
  {
   "cell_type": "code",
   "execution_count": 41,
   "metadata": {
    "scrolled": true
   },
   "outputs": [
    {
     "data": {
      "image/png": "[encoded data removed]",
      "text/plain": [
       "<Figure size 720x360 with 2 Axes>"
      ]
     },
     "metadata": {
      "needs_background": "light"
     },
     "output_type": "display_data"
    }
   ],
   "source": [
    "def add_labels(ax, cmap=plt.cm.viridis):\n",
    "    colors = [cmap((i/9.)) for i in range(10)]\n",
    "    xpos = 0.1\n",
    "    for label in range(0,10):\n",
    "        c = colors[label]\n",
    "        ax.annotate(str(label), xy=[xpos, 1.1], xycoords='axes fraction', color=c, size=15)\n",
    "        xpos += 0.07\n",
    "        \n",
    "fig,axes = plt.subplots(1, 2, figsize=(10,5))\n",
    "\n",
    "comp1 = 5\n",
    "comp2 = 6\n",
    "\n",
    "axes[0].scatter(X_pca[:,comp1], X_pca[:,comp2], c=y_mnist)\n",
    "axes[0].set_xlabel('PCA comp {}'.format(comp1))\n",
    "axes[0].set_ylabel('PCA comp {}'.format(comp2))\n",
    "\n",
    "axes[1].scatter(X_lda[:,comp1], X_lda[:,comp2], c=y_mnist)\n",
    "axes[1].set_xlabel('LDA comp {}'.format(comp1))\n",
    "axes[1].set_ylabel('LDA comp {}'.format(comp2))\n",
    "\n",
    "add_labels(axes[0])\n",
    "add_labels(axes[1])"
   ]
  },
  {
   "cell_type": "markdown",
   "metadata": {},
   "source": [
    "We see that there is much clearer separation. between one of the classes. If you clook at other components you will see that different classes separate. This provides us the best linear combination of features for separating classes."
   ]
  },
  {
   "cell_type": "markdown",
   "metadata": {},
   "source": [
    "Linear feature combinations are useful, but if we use a linear model in the end it won't help us much. However, we can still use these linear combinations as inputs to non-linear models where they may lead to simpler or more accurate models. Let's see how our linear LDA classification model compares to a SVM model based on LDA features. First, we can generate training/validation datasets:"
   ]
  },
  {
   "cell_type": "code",
   "execution_count": 42,
   "metadata": {},
   "outputs": [],
   "source": [
    "from sklearn.model_selection import train_test_split, GridSearchCV\n",
    "\n",
    "X_train, X_test, y_train, y_test = train_test_split(X_mnist, y_mnist, test_size=0.4)"
   ]
  },
  {
   "cell_type": "markdown",
   "metadata": {},
   "source": [
    "Next, we can train an LDA model and check it's accuracy:"
   ]
  },
  {
   "cell_type": "code",
   "execution_count": 43,
   "metadata": {
    "scrolled": true
   },
   "outputs": [
    {
     "name": "stdout",
     "output_type": "stream",
     "text": [
      "0.9513212795549374\n"
     ]
    }
   ],
   "source": [
    "lda = LinearDiscriminantAnalysis(n_components=9)\n",
    "lda.fit(X_train, y_train)\n",
    "score = lda.score(X_test, y_test)\n",
    "print(score)\n",
    "X_test_LDA = lda.transform(X_test)\n",
    "X_train_LDA = lda.transform(X_train)"
   ]
  },
  {
   "cell_type": "markdown",
   "metadata": {},
   "source": [
    "We see that the accuracy is quite high. We can also check the confusion matrix:"
   ]
  },
  {
   "cell_type": "code",
   "execution_count": 44,
   "metadata": {},
   "outputs": [
    {
     "data": {
      "text/plain": [
       "<matplotlib.axes._subplots.AxesSubplot at 0x1a19817b00>"
      ]
     },
     "execution_count": 44,
     "metadata": {},
     "output_type": "execute_result"
    },
    {
     "data": {
      "image/png": "[encoded data removed]",
      "text/plain": [
       "<Figure size 432x288 with 2 Axes>"
      ]
     },
     "metadata": {
      "needs_background": "light"
     },
     "output_type": "display_data"
    }
   ],
   "source": [
    "from sklearn.metrics import confusion_matrix\n",
    "import seaborn as sns\n",
    "\n",
    "y_pred = lda.predict(X_test)\n",
    "CM = confusion_matrix(y_test, y_pred)\n",
    "df_cm = pd.DataFrame(CM, index = range(0,10), columns = range(0,10))\n",
    "sns.heatmap(df_cm, annot=True)"
   ]
  },
  {
   "cell_type": "markdown",
   "metadata": {},
   "source": [
    "We see that it is doing pretty well, but seems to confuse 8/9, 8/1, and 2/3. Let's try to improve this by building an SVM model. We will compare performance between the full image and the LDA-transformed images. Let's start with a baseline model on the full images:"
   ]
  },
  {
   "cell_type": "code",
   "execution_count": 45,
   "metadata": {},
   "outputs": [
    {
     "name": "stdout",
     "output_type": "stream",
     "text": [
      "SVC(C=0.774263682681127, break_ties=False, cache_size=200, class_weight=None,\n",
      "    coef0=0.0, decision_function_shape='ovr', degree=3,\n",
      "    gamma=0.002154434690031882, kernel='rbf', max_iter=-1, probability=False,\n",
      "    random_state=None, shrinking=True, tol=0.001, verbose=False)\n",
      "0.9888734353268428\n"
     ]
    }
   ],
   "source": [
    "C_range = np.logspace(-1, 1, 10)\n",
    "gamma_range = np.logspace(-4, -1, 10)\n",
    "\n",
    "parameters = {\"C\":C_range, \"gamma\":gamma_range}\n",
    "\n",
    "classifier = SVC(kernel='rbf')\n",
    "\n",
    "clf = GridSearchCV(classifier, parameters)\n",
    "clf.fit(X_train,y_train)\n",
    "print(clf.best_estimator_)\n",
    "print(clf.best_estimator_.score(X_test, y_test))\n",
    "svc_full = clf.best_estimator_"
   ]
  },
  {
   "cell_type": "markdown",
   "metadata": {},
   "source": [
    "We see that the performance is slightly better than the LDA model. Let's see how it compares to the performance of a non-linear model built with the LDA-projected input:"
   ]
  },
  {
   "cell_type": "code",
   "execution_count": 46,
   "metadata": {},
   "outputs": [
    {
     "name": "stdout",
     "output_type": "stream",
     "text": [
      "SVC(C=0.16681005372000587, break_ties=False, cache_size=200, class_weight=None,\n",
      "    coef0=0.0, decision_function_shape='ovr', degree=3, gamma=0.1, kernel='rbf',\n",
      "    max_iter=-1, probability=False, random_state=None, shrinking=True,\n",
      "    tol=0.001, verbose=False)\n",
      "0.9694019471488178\n"
     ]
    }
   ],
   "source": [
    "parameters = {\"C\":C_range, \"gamma\":gamma_range}\n",
    "\n",
    "classifier = SVC(kernel='rbf')\n",
    "\n",
    "clf = GridSearchCV(classifier, parameters)\n",
    "clf.fit(X_train_LDA,y_train)\n",
    "print(clf.best_estimator_)\n",
    "print(clf.best_estimator_.score(X_test_LDA, y_test))\n",
    "svc_lda = clf.best_estimator_"
   ]
  },
  {
   "cell_type": "markdown",
   "metadata": {},
   "source": [
    "The performance is slightly lower than the SVC model, but (very) slightly higher than the pure LDA model. Let's compare timings:"
   ]
  },
  {
   "cell_type": "code",
   "execution_count": 47,
   "metadata": {},
   "outputs": [
    {
     "name": "stdout",
     "output_type": "stream",
     "text": [
      "CPU times: user 200 ms, sys: 5.13 ms, total: 205 ms\n",
      "Wall time: 249 ms\n",
      "CPU times: user 74.8 ms, sys: 940 µs, total: 75.7 ms\n",
      "Wall time: 80.6 ms\n"
     ]
    },
    {
     "data": {
      "text/plain": [
       "1.0"
      ]
     },
     "execution_count": 47,
     "metadata": {},
     "output_type": "execute_result"
    }
   ],
   "source": [
    "%time svc_full.fit(X_train, y_train)\n",
    "%time svc_full.score(X_train, y_train)"
   ]
  },
  {
   "cell_type": "code",
   "execution_count": 48,
   "metadata": {
    "scrolled": true
   },
   "outputs": [
    {
     "name": "stdout",
     "output_type": "stream",
     "text": [
      "CPU times: user 50.6 ms, sys: 3.09 ms, total: 53.7 ms\n",
      "Wall time: 99 ms\n",
      "CPU times: user 23.4 ms, sys: 696 µs, total: 24.1 ms\n",
      "Wall time: 32.2 ms\n"
     ]
    },
    {
     "data": {
      "text/plain": [
       "0.9805194805194806"
      ]
     },
     "execution_count": 48,
     "metadata": {},
     "output_type": "execute_result"
    }
   ],
   "source": [
    "%time svc_lda.fit(X_train_LDA, y_train)\n",
    "%time svc_lda.score(X_train_LDA, y_train)"
   ]
  },
  {
   "cell_type": "markdown",
   "metadata": {},
   "source": [
    "While both are quite fast, we see that the LDA model is generally faster both for training and prediction. This shows how LDA features can be used to create models that are significantly faster. As the dimensionality of the original image increases, the speedup will also increase."
   ]
  },
  {
   "cell_type": "markdown",
   "metadata": {},
   "source": [
    "### Exercise: Compare the accuracy of LDA model for perovskite prediction with and without the one-hot encoding features."
   ]
  },
  {
   "cell_type": "code",
   "execution_count": null,
   "metadata": {},
   "outputs": [],
   "source": []
  },
  {
   "cell_type": "markdown",
   "metadata": {},
   "source": [
    "## Symbolic Regression\n",
    "\n",
    "The linear feature combinations are useful for reducing the dimensionality of input features, which often improves the efficiency of models and can sometimes even improve the performance of non-parametric models created from these transformed features. However, any linear model will not be improved by using linear feature combinations, and many times the model is not practically simplified since all features still need to be known (for example, all the features have to be measured in order to compute the linear combinations). \n",
    "\n",
    "One way around this is to create non-linear combinations of features. We have actually seen some examples of this in 1-dimensional problems. Polynomial regression is one option, but this does not work well in high dimensions because the number of polynomial combinations scales combinatorially, so the number of features increases very rapidly. However, we have also seen some strategies for how to reduce dimensionality and drop features, so we can revisit this strategy.\n",
    "\n",
    "We can start with a simple example where we create polynomial features with the Dow dataset. First, we can create a testing and training set:"
   ]
  },
  {
   "cell_type": "code",
   "execution_count": 49,
   "metadata": {},
   "outputs": [],
   "source": [
    "X_train, X_test, y_train, y_test = train_test_split(X_dow[::2], y_dow[::2], test_size=0.5)"
   ]
  },
  {
   "cell_type": "markdown",
   "metadata": {},
   "source": [
    "Note that we are only using 50% of the data for training, and we are only taking every second data point. This is primarily because we need to create some pretty big matrices, and may run into memory issues if the training set is too large. Next, let's create a baseline linear regression model to compare to:"
   ]
  },
  {
   "cell_type": "code",
   "execution_count": 50,
   "metadata": {},
   "outputs": [
    {
     "data": {
      "text/plain": [
       "0.6811131364951806"
      ]
     },
     "execution_count": 50,
     "metadata": {},
     "output_type": "execute_result"
    }
   ],
   "source": [
    "linreg = LinearRegression()\n",
    "linreg.fit(X_train, y_train)\n",
    "linreg.score(X_test, y_test)"
   ]
  },
  {
   "cell_type": "markdown",
   "metadata": {},
   "source": [
    "This is a little lower than what we saw before, but remember that we are only training with 50% of the data and testing on 50%. Next, we can write some code to create first- and second-order features:"
   ]
  },
  {
   "cell_type": "code",
   "execution_count": 75,
   "metadata": {},
   "outputs": [
    {
     "name": "stdout",
     "output_type": "stream",
     "text": [
      "Training data shape: (2574, 860)\n",
      "Testing data shape: (2575, 860)\n"
     ]
    }
   ],
   "source": [
    "def second_order_polynomials(X):\n",
    "    feat_names = [] # keep track of the feature combination\n",
    "    n_cols = X.shape[1]\n",
    "    new_cols = []\n",
    "    for i in range(n_cols):\n",
    "        feat_names.append('x'+str(i))\n",
    "        new_cols.append(X[:,i]) #include all original columns\n",
    "        for j in range(n_cols):\n",
    "            if i >= j:\n",
    "                feat_names.append('x'+str(i)+'*x'+str(j))\n",
    "                new_cols.append(X[:,i]*X[:,j])\n",
    "    new_cols = np.array(new_cols).T\n",
    "    return new_cols, feat_names\n",
    "\n",
    "X_squared_train, names = second_order_polynomials(X_train)\n",
    "X_squared_test, names = second_order_polynomials(X_test)\n",
    "print('Training data shape: {}'.format(X_squared_train.shape))\n",
    "print('Testing data shape: {}'.format(X_squared_test.shape))"
   ]
  },
  {
   "cell_type": "markdown",
   "metadata": {},
   "source": [
    "### Exercise (6745 Only): Derive a formula for the number of polynomial features as a function of number of original features and polynomial order."
   ]
  },
  {
   "cell_type": "markdown",
   "metadata": {},
   "source": [
    "Let's see what happens if we train with all these features:"
   ]
  },
  {
   "cell_type": "code",
   "execution_count": 76,
   "metadata": {},
   "outputs": [
    {
     "name": "stdout",
     "output_type": "stream",
     "text": [
      "Training R$^2$: 0.9503936155193884\n",
      "Testing R$^2$: -19988.67822873364\n"
     ]
    }
   ],
   "source": [
    "linreg = LinearRegression()\n",
    "linreg.fit(X_squared_train, y_train)\n",
    "r2_train = linreg.score(X_squared_train, y_train)\n",
    "r2_test = linreg.score(X_squared_test, y_test)\n",
    "print('Training R$^2$: {}'.format(r2_train))\n",
    "print('Testing R$^2$: {}'.format(r2_test))"
   ]
  },
  {
   "cell_type": "markdown",
   "metadata": {},
   "source": [
    "The training data is fit very well, but the model performs terribly on the testing data! We need to control for over-fitting. In this case, we can reduce the number of parameters by reducing the number of features (although other forms of regularization will also work). There are many ways we could do this, some of which are discussed in the regression and dimensional reduction modules. Let's try LASSO regression:"
   ]
  },
  {
   "cell_type": "code",
   "execution_count": 78,
   "metadata": {},
   "outputs": [
    {
     "name": "stdout",
     "output_type": "stream",
     "text": [
      "Training R$^2$: 0.8635158563257287\n",
      "Testing R$^2$: 0.744268000316282\n"
     ]
    },
    {
     "name": "stderr",
     "output_type": "stream",
     "text": [
      "/Users/Lecturing/anaconda3/lib/python3.6/site-packages/sklearn/linear_model/_coordinate_descent.py:476: ConvergenceWarning: Objective did not converge. You might want to increase the number of iterations. Duality gap: 216.24760673279582, tolerance: 0.2857712004745098\n",
      "  positive)\n"
     ]
    }
   ],
   "source": [
    "from sklearn.linear_model import Lasso\n",
    "\n",
    "model = Lasso(alpha=1.0)\n",
    "model.fit(X_squared_train, y_train)\n",
    "r2_train = model.score(X_squared_train, y_train)\n",
    "r2_test = model.score(X_squared_test, y_test)\n",
    "print('Training R$^2$: {}'.format(r2_train))\n",
    "print('Testing R$^2$: {}'.format(r2_test))"
   ]
  },
  {
   "cell_type": "markdown",
   "metadata": {},
   "source": [
    "We can see that the training $R^2$ decreases, but the testing $R^2$ is now even better than regular linear regression! Note that there may also be a convergence warning, telling us that there may be an even better solution if we tweak the optimizer, but for now we will accept the sub-optimal (non-converged) solution. Note that we have also arbitrarily set `alpha` to 1.0, which could also be optimized, but let's see what the coefficients look like:"
   ]
  },
  {
   "cell_type": "code",
   "execution_count": 79,
   "metadata": {},
   "outputs": [
    {
     "name": "stdout",
     "output_type": "stream",
     "text": [
      "Total Number of Coefficients: 860\n",
      "Number of Non-Zero Coefficients: 193\n"
     ]
    }
   ],
   "source": [
    "coeffs = model.coef_\n",
    "print(\"Total Number of Coefficients: {}\".format(len(coeffs)))\n",
    "nonzero_coeffs = [c for c in coeffs if abs(c) > 0]\n",
    "print(\"Number of Non-Zero Coefficients: {}\".format(len(nonzero_coeffs)))"
   ]
  },
  {
   "cell_type": "markdown",
   "metadata": {},
   "source": [
    "We see that there are still 100-200 non-zero coefficients selected. We can decrease this by increasing `alpha`:"
   ]
  },
  {
   "cell_type": "code",
   "execution_count": 55,
   "metadata": {
    "scrolled": false
   },
   "outputs": [
    {
     "name": "stdout",
     "output_type": "stream",
     "text": [
      "Training R$^2$: 0.8428076605412401\n",
      "Testing R$^2$: 0.7709091217032411\n",
      "Total Number of Coefficients: 860\n",
      "Number of Non-Zero Coefficients: 102\n"
     ]
    },
    {
     "name": "stderr",
     "output_type": "stream",
     "text": [
      "/Users/Lecturing/anaconda3/lib/python3.6/site-packages/sklearn/linear_model/_coordinate_descent.py:476: ConvergenceWarning: Objective did not converge. You might want to increase the number of iterations. Duality gap: 274.6335220338848, tolerance: 0.2857712004745098\n",
      "  positive)\n"
     ]
    }
   ],
   "source": [
    "model = Lasso(alpha=10)\n",
    "model.fit(X_squared_train, y_train)\n",
    "r2_train = model.score(X_squared_train, y_train)\n",
    "r2_test = model.score(X_squared_test, y_test)\n",
    "print('Training R$^2$: {}'.format(r2_train))\n",
    "print('Testing R$^2$: {}'.format(r2_test))\n",
    "coeffs = model.coef_\n",
    "print(\"Total Number of Coefficients: {}\".format(len(coeffs)))\n",
    "nonzero_coeffs = [c for c in coeffs if abs(c) > 0]\n",
    "print(\"Number of Non-Zero Coefficients: {}\".format(len(nonzero_coeffs)))"
   ]
  },
  {
   "cell_type": "markdown",
   "metadata": {},
   "source": [
    "We see that there are now only around 100 features, and the $R^2$ is very similar (note that results will vary based on the test/train set you have). We can also interpret these features based on the \"names\" we stored earlier:"
   ]
  },
  {
   "cell_type": "code",
   "execution_count": 56,
   "metadata": {},
   "outputs": [
    {
     "name": "stdout",
     "output_type": "stream",
     "text": [
      "x5*x5 0.0005119964192116817\n",
      "x5*x4 0.0002095041011413653\n",
      "x16*x5 8.911344191976307e-05\n",
      "x13*x2 4.6168842593018784e-05\n",
      "x22*x6 4.568222655478746e-05\n",
      "x33*x32 4.044190805090882e-05\n",
      "x22*x9 3.04871720716676e-05\n",
      "x37*x2 2.4074037554514325e-05\n",
      "x25*x22 2.30539942921893e-05\n",
      "x32*x27 2.1339915727005085e-05\n"
     ]
    }
   ],
   "source": [
    "sorted_coef_idxs = np.argsort(coeffs)[::-1] #indexes of coefficients from largest to smallest\n",
    "show_largest_N = 10 #only show this many\n",
    "for i in sorted_coef_idxs[:show_largest_N]:\n",
    "    if abs(coeffs[i]) > 0:\n",
    "        print(names[i], coeffs[i])"
   ]
  },
  {
   "cell_type": "markdown",
   "metadata": {},
   "source": [
    "We can try to interpret this by reviewing the feature names:"
   ]
  },
  {
   "cell_type": "code",
   "execution_count": 82,
   "metadata": {
    "scrolled": false
   },
   "outputs": [
    {
     "name": "stdout",
     "output_type": "stream",
     "text": [
      "Feature 5: x6:Primary Column Make Flow\n"
     ]
    }
   ],
   "source": [
    "print('Feature 5: {}'.format(dow_feature_names[5]))"
   ]
  },
  {
   "cell_type": "markdown",
   "metadata": {},
   "source": [
    "It's a little hard to make sense of this without knowing more about the meaning of the data, and the results may vary based on the train/test split, but it looks like second-order effects between the primariy column make flow seem to be relevant for predicting the impurity level.\n",
    "\n",
    "This approach seems powerful, but it has a few downsides:\n",
    "\n",
    "* We are only looking at polynomial combinations. Other transforms (exp, log, sin, cos, etc.) are not captured\n",
    "* This is only second-order effects. We could do the same for third-order, but would get a *lot* of features\n",
    "* We haven't accounted for units. It's hard to say whether the units of the variable combinations make sense\n",
    "\n",
    "A technique called `symbolic regression` can help overcome these issues. There are a variety of approaches and implementations for symbolic regression, but they generally involve:\n",
    "\n",
    "1) generate a large number of non-linear feature combinations\n",
    "\n",
    "2) select the combinations that are most highly correlated with the output\n",
    "\n",
    "In some appraches these steps are done symbolically through genetic algorithms (e.g. [Eureqa](https://www.nutonian.com/products/eureqa/)), or in other approaches step (1) is done first and techniques such as global optimization (e.g. [ALAMO](https://arxiv.org/pdf/1705.10918.pdf)) or feature selection (e.g. [SISSO](https://journals.aps.org/prmaterials/abstract/10.1103/PhysRevMaterials.2.083802)) are done subsequently. In additon, the units of features are sometimes used to avoid \"illegal\" operations (e.g. subtracting temperature from pressure) The details of these techniques are beyond the scope of this course, but we will work with a library called [`autofeat`](https://arxiv.org/pdf/1901.07329.pdf). This generates all combinations of features, then uses LASSO to select features. It is also implemented in `scikit-learn` style, so it is pretty easy to use, and was developed by BASF so it is appropriate for this course!\n",
    "\n"
   ]
  },
  {
   "cell_type": "code",
   "execution_count": 58,
   "metadata": {},
   "outputs": [],
   "source": [
    "# ! pip install autofeat"
   ]
  },
  {
   "cell_type": "markdown",
   "metadata": {},
   "source": [
    "There are both regression and classification models available, but we will start with regression:"
   ]
  },
  {
   "cell_type": "code",
   "execution_count": 59,
   "metadata": {},
   "outputs": [],
   "source": [
    "from autofeat import AutoFeatRegressor"
   ]
  },
  {
   "cell_type": "markdown",
   "metadata": {},
   "source": [
    "There are quite a few hyper-parameters that you can read about using `help`:"
   ]
  },
  {
   "cell_type": "code",
   "execution_count": 60,
   "metadata": {},
   "outputs": [
    {
     "name": "stdout",
     "output_type": "stream",
     "text": [
      "Help on class AutoFeatRegressor in module autofeat.autofeat:\n",
      "\n",
      "class AutoFeatRegressor(AutoFeatModel, sklearn.base.BaseEstimator, sklearn.base.RegressorMixin)\n",
      " |  Short-cut initialization for AutoFeatModel with problem_type: regression\n",
      " |  \n",
      " |  Method resolution order:\n",
      " |      AutoFeatRegressor\n",
      " |      AutoFeatModel\n",
      " |      sklearn.base.BaseEstimator\n",
      " |      sklearn.base.RegressorMixin\n",
      " |      builtins.object\n",
      " |  \n",
      " |  Methods defined here:\n",
      " |  \n",
      " |  __init__(self, categorical_cols=None, feateng_cols=None, units=None, feateng_steps=2, featsel_runs=5, max_gb=None, transformations=('1/', 'exp', 'log', 'abs', 'sqrt', '^2', '^3'), apply_pi_theorem=True, always_return_numpy=False, n_jobs=1, verbose=0)\n",
      " |      multi-step feature engineering and cross-validated feature selection to generate promising additional\n",
      " |      features for your dataset and train a linear prediction model with them.\n",
      " |      \n",
      " |      Inputs:\n",
      " |          - problem_type: str, either \"regression\" or \"classification\" (default: \"regression\")\n",
      " |          - categorical_cols: list of column names of categorical features; these will be transformed into\n",
      " |                              0/1 encoding (default: None)\n",
      " |          - feateng_cols: list of column names that should be used for the feature engineering part\n",
      " |                          (default None --> all, with categorical_cols in 0/1 encoding)\n",
      " |          - units: dictionary with {col_name: unit} where unit is a string that can be converted into a pint unit.\n",
      " |                   all columns without units are dimensionless and can be combined with any other column.\n",
      " |                   Note: it is assumed that all features are of comparable magnitude, i.e., not one variable is in\n",
      " |                         m and another in mm. If this needs to be accounted for, please scale your variables before\n",
      " |                         passing them to autofeat!\n",
      " |                   (default: None --> all columns are dimensionless).\n",
      " |          - feateng_steps: number of steps to perform in the feature engineering part (int; default: 2)\n",
      " |          - featsel_runs: number of times to perform in the feature selection part with a random fraction of data points (int; default: 5)\n",
      " |          - max_gb: if an int is given: maximum number of gigabytes to use in the process (i.e. mostly the\n",
      " |                    feature engineering part). this is no guarantee! it will lead to subsampling of the\n",
      " |                    data points if the new dataframe generated is n_rows * n_cols * 32bit > max_gb\n",
      " |                    Note: this is only an approximate estimate of the final matrix; intermediate representations could easily\n",
      " |                          take up at least 2 or 3 times that much space...If you can, subsample before, you know your data best.\n",
      " |          - transformations: list of transformations that should be applied; possible elements:\n",
      " |                             \"1/\", \"exp\", \"log\", \"abs\", \"sqrt\", \"^2\", \"^3\", \"1+\", \"1-\", \"sin\", \"cos\", \"exp-\", \"2^\"\n",
      " |                             (first 7, i.e., up to ^3, are applied by default)\n",
      " |          - apply_pi_theorem: whether or not to apply the pi theorem (if units are given; bool; default: True)\n",
      " |          - always_return_numpy: whether to always return a numpy array instead of a pd dataframe when calling (fit_)transform\n",
      " |                                 (default: False; mainly used for sklearn estimator checks)\n",
      " |          - n_jobs: how many jobs to run when selecting the features in parallel (int; default: 1)\n",
      " |          - verbose: verbosity level (int; default: 0)\n",
      " |      \n",
      " |      Attributes:\n",
      " |          - original_columns_: original columns of X when calling fit\n",
      " |          - all_columns_: columns of X after calling fit\n",
      " |          - categorical_cols_map_: dict mapping from the original categorical columns to a list with new column names\n",
      " |          - feateng_cols_: actual columns used for the feature engineering\n",
      " |          - feature_formulas_: sympy formulas to generate new features\n",
      " |          - feature_functions_: compiled feature functions with columns\n",
      " |          - new_feat_cols_: list of good new features that should be generated when calling transform()\n",
      " |          - good_cols_: columns selected in the feature selection process, used with the final prediction model\n",
      " |          - prediction_model_: sklearn model instance used for the predictions\n",
      " |      \n",
      " |      Note: when giving categorical_cols or feateng_cols, X later (i.e. when calling fit/fit_transform) has to be a DataFrame\n",
      " |  \n",
      " |  ----------------------------------------------------------------------\n",
      " |  Methods inherited from AutoFeatModel:\n",
      " |  \n",
      " |  __getstate__(self)\n",
      " |      get dict for pickling without feature_functions as they are not pickleable\n",
      " |  \n",
      " |  fit(self, X, y)\n",
      " |  \n",
      " |  fit_transform(self, X, y)\n",
      " |      Fits the regression model and returns a new dataframe with the additional features.\n",
      " |      \n",
      " |      Inputs:\n",
      " |          - X: pandas dataframe or numpy array with original features (n_datapoints x n_features)\n",
      " |          - y: pandas dataframe or numpy array with targets for all n_datapoints\n",
      " |      Returns:\n",
      " |          - new_df: new pandas dataframe with all the original features (except categorical features transformed\n",
      " |                    into multiple 0/1 columns) and the most promising engineered features. This df can then be\n",
      " |                    used to train your final model.\n",
      " |      \n",
      " |      Please ensure that X only contains valid feature columns (including possible categorical variables).\n",
      " |      \n",
      " |      Note: we strongly encourage you to name your features X1 ...  Xn or something simple like this before passing\n",
      " |            a DataFrame to this model. This can help avoid potential problems with sympy later on.\n",
      " |            The data should only contain finite values (no NaNs etc.)\n",
      " |  \n",
      " |  predict(self, X)\n",
      " |      Inputs:\n",
      " |          - X: pandas dataframe or numpy array with original features (n_datapoints x n_features)\n",
      " |      Returns:\n",
      " |          - y_pred: predicted targets return by prediction_model.predict()\n",
      " |  \n",
      " |  score(self, X, y)\n",
      " |      Inputs:\n",
      " |          - X: pandas dataframe or numpy array with original features (n_datapoints x n_features)\n",
      " |          - y: pandas dataframe or numpy array with the targets for all n_datapoints\n",
      " |      Returns:\n",
      " |          - R^2/Accuracy returned by prediction_model.score()\n",
      " |  \n",
      " |  transform(self, X)\n",
      " |      Inputs:\n",
      " |          - X: pandas dataframe or numpy array with original features (n_datapoints x n_features)\n",
      " |      Returns:\n",
      " |          - new_df: new pandas dataframe with all the original features (except categorical features transformed\n",
      " |                    into multiple 0/1 columns) and the most promising engineered features. This df can then be\n",
      " |                    used to train your final model.\n",
      " |  \n",
      " |  ----------------------------------------------------------------------\n",
      " |  Methods inherited from sklearn.base.BaseEstimator:\n",
      " |  \n",
      " |  __repr__(self, N_CHAR_MAX=700)\n",
      " |      Return repr(self).\n",
      " |  \n",
      " |  __setstate__(self, state)\n",
      " |  \n",
      " |  get_params(self, deep=True)\n",
      " |      Get parameters for this estimator.\n",
      " |      \n",
      " |      Parameters\n",
      " |      ----------\n",
      " |      deep : bool, default=True\n",
      " |          If True, will return the parameters for this estimator and\n",
      " |          contained subobjects that are estimators.\n",
      " |      \n",
      " |      Returns\n",
      " |      -------\n",
      " |      params : mapping of string to any\n",
      " |          Parameter names mapped to their values.\n",
      " |  \n",
      " |  set_params(self, **params)\n",
      " |      Set the parameters of this estimator.\n",
      " |      \n",
      " |      The method works on simple estimators as well as on nested objects\n",
      " |      (such as pipelines). The latter have parameters of the form\n",
      " |      ``<component>__<parameter>`` so that it's possible to update each\n",
      " |      component of a nested object.\n",
      " |      \n",
      " |      Parameters\n",
      " |      ----------\n",
      " |      **params : dict\n",
      " |          Estimator parameters.\n",
      " |      \n",
      " |      Returns\n",
      " |      -------\n",
      " |      self : object\n",
      " |          Estimator instance.\n",
      " |  \n",
      " |  ----------------------------------------------------------------------\n",
      " |  Data descriptors inherited from sklearn.base.BaseEstimator:\n",
      " |  \n",
      " |  __dict__\n",
      " |      dictionary for instance variables (if defined)\n",
      " |  \n",
      " |  __weakref__\n",
      " |      list of weak references to the object (if defined)\n",
      "\n"
     ]
    }
   ],
   "source": [
    "help(AutoFeatRegressor)"
   ]
  },
  {
   "cell_type": "markdown",
   "metadata": {},
   "source": [
    "The key hyperparameters are `transformations` which tell it which non-linear transformations to use, and  `feateng_steps` which tells the \"depth\" of the tree (how many non-linear transforms can be combined). The number of features will scale exponentially with this, so be careful! There is also the `featsel_runs`, which controls the number of cross-validation runs. We are just going to use 1 since this is pretty time consuming."
   ]
  },
  {
   "cell_type": "code",
   "execution_count": 61,
   "metadata": {
    "scrolled": true
   },
   "outputs": [
    {
     "name": "stdout",
     "output_type": "stream",
     "text": [
      "[AutoFeat] Warning: This just calls fit_transform() but does not return the transformed dataframe.\n",
      "[AutoFeat] It is much more efficient to call fit_transform() instead of fit() and transform()!\n",
      "[AutoFeat] The 2 step feature engineering process could generate up to 28920 features.\n",
      "[AutoFeat] With 2574 data points this new feature matrix would use about 0.30 gb of space.\n",
      "[feateng] Step 1: transformation of original features\n",
      "[feateng]               0/             40 features transformed\r"
     ]
    },
    {
     "name": "stderr",
     "output_type": "stream",
     "text": [
      "/Users/Lecturing/anaconda3/lib/python3.6/site-packages/sklearn/utils/validation.py:760: DataConversionWarning: A column-vector y was passed when a 1d array was expected. Please change the shape of y to (n_samples, ), for example using ravel().\n",
      "  y = column_or_1d(y, warn=True)\n"
     ]
    },
    {
     "name": "stdout",
     "output_type": "stream",
     "text": [
      "[feateng] Generated 161 transformed features from 40 original features - done.\n",
      "[feateng] Step 2: first combination of features\n",
      "[feateng]            7700/          20100 feature tuples combined\r"
     ]
    },
    {
     "name": "stderr",
     "output_type": "stream",
     "text": [
      "/Users/Lecturing/anaconda3/lib/python3.6/site-packages/numpy/core/_methods.py:122: RuntimeWarning: overflow encountered in reduce\n",
      "  ret = umr_sum(x, axis, dtype, out, keepdims)\n"
     ]
    },
    {
     "name": "stdout",
     "output_type": "stream",
     "text": [
      "[feateng]            8900/          20100 feature tuples combined\r"
     ]
    },
    {
     "name": "stderr",
     "output_type": "stream",
     "text": [
      "/Users/Lecturing/anaconda3/lib/python3.6/site-packages/numpy/core/_methods.py:121: RuntimeWarning: overflow encountered in multiply\n",
      "  x = um.multiply(x, x, out=x)\n"
     ]
    },
    {
     "name": "stdout",
     "output_type": "stream",
     "text": [
      "[feateng] Generated 19943 feature combinations from 20100 original feature tuples - done.\n",
      "[feateng] Generated altogether 20112 new features in 2 steps\n",
      "[feateng] Removing correlated features, as well as additions at the highest level\n"
     ]
    },
    {
     "name": "stderr",
     "output_type": "stream",
     "text": [
      "/Users/Lecturing/anaconda3/lib/python3.6/site-packages/numpy/lib/nanfunctions.py:1508: RuntimeWarning: overflow encountered in multiply\n",
      "  sqr = np.multiply(arr, arr, out=arr)\n"
     ]
    },
    {
     "name": "stdout",
     "output_type": "stream",
     "text": [
      "[feateng] Generated a total of 7942 additional features\n",
      "[featsel] Scaling data...done.\n",
      "[featsel] Feature selection run 1/1\n",
      "[featsel] 34 features after 1 feature selection runs\n",
      "[featsel] 32 features after correlation filtering\n",
      "[featsel] 29 features after noise filtering\n",
      "[AutoFeat] Computing 29 new features.\n",
      "[AutoFeat]    29/   29 new features ...done.\n",
      "[AutoFeat] Final dataframe with 69 feature columns (29 new).\n",
      "[AutoFeat] Training final regression model.\n",
      "[AutoFeat] Trained model: largest coefficients:\n",
      "2.8512900511689923\n",
      "-0.979454 * Abs(x015)/x015\n",
      "-0.165249 * x010/x009\n",
      "-0.062029 * x038**3/x004\n",
      "0.010233 * 1/(x010*x021)\n",
      "-0.003594 * x024**3/x015\n",
      "0.001215 * x004**2/x010\n",
      "-0.001077 * exp(x024)/x016\n",
      "-0.000147 * x035**3/x018\n",
      "0.000024 * x006**2/x005\n",
      "0.000019 * x008**2/x005\n",
      "[AutoFeat] Final score: 0.8308\n"
     ]
    },
    {
     "data": {
      "text/plain": [
       "AutoFeatRegressor(always_return_numpy=False, apply_pi_theorem=True,\n",
       "                  categorical_cols=None, feateng_cols=None, feateng_steps=2,\n",
       "                  featsel_runs=1, max_gb=None, n_jobs=1,\n",
       "                  transformations=['1/', 'exp', 'abs', 'sqrt', '^2', '^3'],\n",
       "                  units=None, verbose=1)"
      ]
     },
     "execution_count": 61,
     "metadata": {},
     "output_type": "execute_result"
    }
   ],
   "source": [
    "transforms = ['1/', 'exp', 'abs', 'sqrt', '^2', '^3']\n",
    "afreg = AutoFeatRegressor(verbose=1, feateng_steps=2, featsel_runs=1, transformations=transforms)\n",
    "afreg.fit(X_train,y_train)"
   ]
  },
  {
   "cell_type": "markdown",
   "metadata": {},
   "source": [
    "Note that we set `verbose=1` so that we can see the progress as the algorithm runs. This combination of hyperparameters already leads to >25K features, which is pushing the limits of most laptops. We can check the new features that were determined to be most correlated:"
   ]
  },
  {
   "cell_type": "code",
   "execution_count": 62,
   "metadata": {},
   "outputs": [
    {
     "data": {
      "text/plain": [
       "['x010/x009',\n",
       " 'x008**2/x005',\n",
       " 'x000**3/x009',\n",
       " 'x005**3*x031',\n",
       " 'x005**3/x011',\n",
       " 'x004**2/x010',\n",
       " 'x024**3/x015',\n",
       " 'x005**3/x027',\n",
       " 'x035**3/x018',\n",
       " 'x006**3*x024',\n",
       " 'x006**2/x005',\n",
       " 'x038**3/x004',\n",
       " '1/(x010*x021)',\n",
       " 'Abs(x015)/x015',\n",
       " 'exp(x024)/x016',\n",
       " 'x001**3*x008**2',\n",
       " 'x002**3*x010**2',\n",
       " 'x004**3*x029**3',\n",
       " 'x012**3*x022**3',\n",
       " 'x003**2*x006**3',\n",
       " 'x005**3*x009**2',\n",
       " 'x005**3*x032**2',\n",
       " 'x009**2*x016**3',\n",
       " 'x002**3*x012**3',\n",
       " 'x022**2*x032**3',\n",
       " 'x004**2*x037**3',\n",
       " 'x024**3*x031**3',\n",
       " 'x005**3*x023**3',\n",
       " 'x016**3*exp(x024)']"
      ]
     },
     "execution_count": 62,
     "metadata": {},
     "output_type": "execute_result"
    }
   ],
   "source": [
    "afreg.new_feat_cols_"
   ]
  },
  {
   "cell_type": "markdown",
   "metadata": {},
   "source": [
    "We can also check to see all of the features that were selected by the feature selection algorithm:"
   ]
  },
  {
   "cell_type": "code",
   "execution_count": 63,
   "metadata": {},
   "outputs": [
    {
     "data": {
      "text/plain": [
       "['x010/x009',\n",
       " 'x008**2/x005',\n",
       " 'x000**3/x009',\n",
       " 'x005**3*x031',\n",
       " 'x005**3/x011',\n",
       " 'x004**2/x010',\n",
       " 'x024**3/x015',\n",
       " 'x005**3/x027',\n",
       " 'x035**3/x018',\n",
       " 'x006**3*x024',\n",
       " 'x006**2/x005',\n",
       " 'x038**3/x004',\n",
       " '1/(x010*x021)',\n",
       " 'Abs(x015)/x015',\n",
       " 'exp(x024)/x016',\n",
       " 'x001**3*x008**2',\n",
       " 'x002**3*x010**2',\n",
       " 'x004**3*x029**3',\n",
       " 'x012**3*x022**3',\n",
       " 'x003**2*x006**3',\n",
       " 'x005**3*x009**2',\n",
       " 'x005**3*x032**2',\n",
       " 'x009**2*x016**3',\n",
       " 'x002**3*x012**3',\n",
       " 'x022**2*x032**3',\n",
       " 'x004**2*x037**3',\n",
       " 'x024**3*x031**3',\n",
       " 'x005**3*x023**3',\n",
       " 'x016**3*exp(x024)']"
      ]
     },
     "execution_count": 63,
     "metadata": {},
     "output_type": "execute_result"
    }
   ],
   "source": [
    "afreg.good_cols_"
   ]
  },
  {
   "cell_type": "markdown",
   "metadata": {},
   "source": [
    "The \"good\" columns are the ones that are selected after final round of feature selection and used in the prediction model. We can see that there are some ratios, polynomials, and absolute values in the feature list. We can see how well it works on the training data:"
   ]
  },
  {
   "cell_type": "code",
   "execution_count": 64,
   "metadata": {},
   "outputs": [
    {
     "name": "stdout",
     "output_type": "stream",
     "text": [
      "[AutoFeat] Computing 29 new features.\n",
      "[AutoFeat]     0/   29 new features\r",
      "[AutoFeat]     1/   29 new features\r",
      "[AutoFeat]     2/   29 new features\r",
      "[AutoFeat]     3/   29 new features\r",
      "[AutoFeat]     4/   29 new features\r",
      "[AutoFeat]     5/   29 new features\r",
      "[AutoFeat]     6/   29 new features\r",
      "[AutoFeat]     7/   29 new features\r",
      "[AutoFeat]     8/   29 new features\r",
      "[AutoFeat]     9/   29 new features\r",
      "[AutoFeat]    10/   29 new features\r",
      "[AutoFeat]    11/   29 new features\r",
      "[AutoFeat]    12/   29 new features\r",
      "[AutoFeat]    13/   29 new features\r",
      "[AutoFeat]    14/   29 new features\r",
      "[AutoFeat]    15/   29 new features\r",
      "[AutoFeat]    16/   29 new features\r",
      "[AutoFeat]    17/   29 new features\r",
      "[AutoFeat]    18/   29 new features\r",
      "[AutoFeat]    19/   29 new features\r",
      "[AutoFeat]    20/   29 new features\r",
      "[AutoFeat]    21/   29 new features\r",
      "[AutoFeat]    22/   29 new features\r",
      "[AutoFeat]    23/   29 new features\r",
      "[AutoFeat]    24/   29 new features\r",
      "[AutoFeat]    25/   29 new features\r",
      "[AutoFeat]    26/   29 new features\r",
      "[AutoFeat]    27/   29 new features\r",
      "[AutoFeat]    28/   29 new features\r",
      "[AutoFeat]    29/   29 new features ...done.\n"
     ]
    },
    {
     "name": "stderr",
     "output_type": "stream",
     "text": [
      "/Users/Lecturing/anaconda3/lib/python3.6/site-packages/sklearn/utils/validation.py:760: DataConversionWarning: A column-vector y was passed when a 1d array was expected. Please change the shape of y to (n_samples, ), for example using ravel().\n",
      "  y = column_or_1d(y, warn=True)\n"
     ]
    },
    {
     "data": {
      "text/plain": [
       "0.7875152615042232"
      ]
     },
     "execution_count": 64,
     "metadata": {},
     "output_type": "execute_result"
    }
   ],
   "source": [
    "afreg.score(X_test,y_test)"
   ]
  },
  {
   "cell_type": "markdown",
   "metadata": {},
   "source": [
    "Or we can create a new feature matrix that contains all the new features (instead of just the \"good\" ones) and build our own linear regression model:"
   ]
  },
  {
   "cell_type": "code",
   "execution_count": 65,
   "metadata": {},
   "outputs": [
    {
     "name": "stdout",
     "output_type": "stream",
     "text": [
      "[AutoFeat] Computing 29 new features.\n",
      "[AutoFeat]    29/   29 new features ...done.\n",
      "[AutoFeat] Computing 29 new features.\n",
      "[AutoFeat]    29/   29 new features ...done.\n"
     ]
    }
   ],
   "source": [
    "X_afreg_train = afreg.transform(X_train)\n",
    "X_afreg_test = afreg.transform(X_test)"
   ]
  },
  {
   "cell_type": "code",
   "execution_count": 66,
   "metadata": {},
   "outputs": [
    {
     "data": {
      "text/plain": [
       "0.7148973623127708"
      ]
     },
     "execution_count": 66,
     "metadata": {},
     "output_type": "execute_result"
    }
   ],
   "source": [
    "linreg.fit(X_afreg_train,y_train)\n",
    "linreg.score(X_afreg_test, y_test)"
   ]
  },
  {
   "cell_type": "markdown",
   "metadata": {},
   "source": [
    "If this is much lower than the score from the model it means we are over-fitting, since there are more features included, while if it is comparable it means that the model is not over-fitted even if all features are included.\n",
    "\n",
    "Up to this point, we still haven't considered units. `autofeat` understands units, and can be used to only create physically-meaningful feature combinations. Since it was developed by chemical engineers, it also enables automatic generation of dimensionless numbers using the [Buckingham $\\pi$-Theorem](https://en.wikipedia.org/wiki/Buckingham_%CF%80_theorem). First, we need to assume some units for the Dow variables. Since we don't know the real units, we can make some guesses. It doesn't really matter, as long as we are consistent:"
   ]
  },
  {
   "cell_type": "code",
   "execution_count": 67,
   "metadata": {},
   "outputs": [],
   "source": [
    "unit_dict = {}\n",
    "for var in dow_feature_names:\n",
    "    last_word = var.split(' ')[-1]\n",
    "    if last_word == 'Flow':\n",
    "        units = 'L/s'\n",
    "    elif last_word == 'Level':\n",
    "        units == 'm'\n",
    "    elif last_word == 'DP':\n",
    "        units == 'bar'\n",
    "    elif last_word == 'Pressure':\n",
    "        units = 'bar'\n",
    "    elif last_word == 'Temperature':\n",
    "        units = 'C'\n",
    "    elif last_word == 'Concentration':\n",
    "        units = 'mol/L'\n",
    "    elif 'Feed Flow' in var:\n",
    "        units = 'L/s'\n",
    "    elif 'Temperature 1' in var:\n",
    "        units = 'C'\n",
    "    elif 'Tails Flow' in var:\n",
    "        units = 'L/s'\n",
    "    elif 'Flow from' in var:\n",
    "        units = 'L/s'\n",
    "    unit_dict[var] = units"
   ]
  },
  {
   "cell_type": "markdown",
   "metadata": {},
   "source": [
    "Next we need to make a dataframe out of the features so that `autofeat` knows which is which:"
   ]
  },
  {
   "cell_type": "code",
   "execution_count": 68,
   "metadata": {},
   "outputs": [],
   "source": [
    "dow_input_names = dow_feature_names[:X_train.shape[1]]\n",
    "X_train_df = pd.DataFrame(X_train, columns = dow_input_names)\n",
    "X_test_df = pd.DataFrame(X_test, columns = dow_input_names)"
   ]
  },
  {
   "cell_type": "markdown",
   "metadata": {},
   "source": [
    "Now we can pass these units. Since this will reduce the amount of \"allowed\" features, we can also include some new possible transforms:"
   ]
  },
  {
   "cell_type": "code",
   "execution_count": 69,
   "metadata": {},
   "outputs": [
    {
     "name": "stdout",
     "output_type": "stream",
     "text": [
      "[AutoFeat] Warning: This just calls fit_transform() but does not return the transformed dataframe.\n",
      "[AutoFeat] It is much more efficient to call fit_transform() instead of fit() and transform()!\n"
     ]
    },
    {
     "name": "stderr",
     "output_type": "stream",
     "text": [
      "/Users/Lecturing/anaconda3/lib/python3.6/site-packages/sklearn/utils/validation.py:760: DataConversionWarning: A column-vector y was passed when a 1d array was expected. Please change the shape of y to (n_samples, ), for example using ravel().\n",
      "  y = column_or_1d(y, warn=True)\n"
     ]
    },
    {
     "name": "stdout",
     "output_type": "stream",
     "text": [
      "[AutoFeat] Applying the Pi Theorem\n",
      "[AutoFeat] Pi Theorem 1:  x5:Primary Column Feed Flow from Feed Column / x2:Primary Column Tails Flow\n",
      "[AutoFeat] Pi Theorem 2:  x6:Primary Column Make Flow / x2:Primary Column Tails Flow\n",
      "[AutoFeat] Pi Theorem 3:  x7:Primary Column Base Level / x2:Primary Column Tails Flow\n",
      "[AutoFeat] Pi Theorem 4:  x3:Input to Primary Column Bed 3 Flow / x2:Primary Column Tails Flow\n",
      "[AutoFeat] Pi Theorem 5:  x9:Primary Column Condenser Reflux Drum Level / x8:Primary Column Reflux Drum Pressure\n",
      "[AutoFeat] Pi Theorem 6:  x10:Primary Column Bed1 DP / x8:Primary Column Reflux Drum Pressure\n",
      "[AutoFeat] Pi Theorem 7:  x11:Primary Column Bed2 DP / x8:Primary Column Reflux Drum Pressure\n",
      "[AutoFeat] Pi Theorem 8:  x12:Primary Column Bed3 DP / x8:Primary Column Reflux Drum Pressure\n",
      "[AutoFeat] Pi Theorem 9:  x13:Primary Column Bed4 DP / x8:Primary Column Reflux Drum Pressure\n",
      "[AutoFeat] Pi Theorem 10:  x14:Primary Column Base Pressure / x8:Primary Column Reflux Drum Pressure\n",
      "[AutoFeat] Pi Theorem 11:  x15:Primary Column Head Pressure / x8:Primary Column Reflux Drum Pressure\n",
      "[AutoFeat] Pi Theorem 12:  x4:Input to Primary Column Bed 2 Flow / x2:Primary Column Tails Flow\n",
      "[AutoFeat] Pi Theorem 13:  x17:Primary Column Tails Temperature 1 / x16:Primary Column Tails Temperature\n",
      "[AutoFeat] Pi Theorem 14:  x18:Primary Column Bed 4 Temperature / x16:Primary Column Tails Temperature\n",
      "[AutoFeat] Pi Theorem 15:  x19:Primary Column Bed 3 Temperature / x16:Primary Column Tails Temperature\n",
      "[AutoFeat] Pi Theorem 16:  x20:Primary Column Bed 2 Temperature / x16:Primary Column Tails Temperature\n",
      "[AutoFeat] Pi Theorem 17:  x21:Primary Column Bed 1 Temperature / x16:Primary Column Tails Temperature\n",
      "[AutoFeat] Pi Theorem 18:  x1:Primary Column Reflux Flow / x2:Primary Column Tails Flow\n",
      "[AutoFeat] Pi Theorem 19:  x23: Flow from Input to Secondary Column / x2:Primary Column Tails Flow\n",
      "[AutoFeat] Pi Theorem 20:  x24: Secondary Column Tails Flow / x2:Primary Column Tails Flow\n",
      "[AutoFeat] Pi Theorem 21:  x25: Secondary Column Tray DP / x2:Primary Column Tails Flow\n",
      "[AutoFeat] Pi Theorem 22:  x26: Secondary Column Head Pressure / x8:Primary Column Reflux Drum Pressure\n",
      "[AutoFeat] Pi Theorem 23:  x27: Secondary Column Base Pressure / x8:Primary Column Reflux Drum Pressure\n",
      "[AutoFeat] Pi Theorem 24:  x28: Secondary Column Base Temperature / x16:Primary Column Tails Temperature\n",
      "[AutoFeat] Pi Theorem 25:  x29: Secondary Column Tray 3 Temperature / x16:Primary Column Tails Temperature\n",
      "[AutoFeat] Pi Theorem 26:  x30: Secondary Column Bed 1 Temperature / x16:Primary Column Tails Temperature\n",
      "[AutoFeat] Pi Theorem 27:  x31: Secondary Column Bed 2 Temperature / x16:Primary Column Tails Temperature\n",
      "[AutoFeat] Pi Theorem 28:  x32: Secondary Column Tray 2 Temperature / x16:Primary Column Tails Temperature\n",
      "[AutoFeat] Pi Theorem 29:  x33: Secondary Column Tray 1 Temperature / x16:Primary Column Tails Temperature\n",
      "[AutoFeat] Pi Theorem 30:  x34: Secondary Column Tails Temperature / x16:Primary Column Tails Temperature\n",
      "[AutoFeat] Pi Theorem 31:  x35: Secondary Column Tails Concentration / x22: Secondary Column Base Concentration\n",
      "[AutoFeat] Pi Theorem 32:  x36: Feed Column Recycle Flow / x2:Primary Column Tails Flow\n",
      "[AutoFeat] Pi Theorem 33:  x37: Feed Column Tails Flow to Primary Column / x2:Primary Column Tails Flow\n",
      "[AutoFeat] Pi Theorem 34:  x38: Feed Column Calculated DP / x2:Primary Column Tails Flow\n",
      "[AutoFeat] Pi Theorem 35:  x39: Feed Column Steam Flow / x2:Primary Column Tails Flow\n",
      "[AutoFeat] Pi Theorem 36:  x40: Feed Column Tails Flow / x2:Primary Column Tails Flow\n",
      "[AutoFeat] The 2 step feature engineering process could generate up to 80200 features.\n",
      "[AutoFeat] With 2574 data points this new feature matrix would use about 0.83 gb of space.\n",
      "[feateng] Step 1: transformation of original features\n",
      "[feateng] Generated 157 transformed features from 40 original features - done.\n",
      "[feateng] Step 2: first combination of features\n",
      "[feateng]            7500/          19306 feature tuples combined\r"
     ]
    },
    {
     "name": "stderr",
     "output_type": "stream",
     "text": [
      "/Users/Lecturing/anaconda3/lib/python3.6/site-packages/numpy/core/_methods.py:122: RuntimeWarning: overflow encountered in reduce\n",
      "  ret = umr_sum(x, axis, dtype, out, keepdims)\n"
     ]
    },
    {
     "name": "stdout",
     "output_type": "stream",
     "text": [
      "[feateng]            8700/          19306 feature tuples combined\r"
     ]
    },
    {
     "name": "stderr",
     "output_type": "stream",
     "text": [
      "/Users/Lecturing/anaconda3/lib/python3.6/site-packages/numpy/core/_methods.py:121: RuntimeWarning: overflow encountered in multiply\n",
      "  x = um.multiply(x, x, out=x)\n"
     ]
    },
    {
     "name": "stdout",
     "output_type": "stream",
     "text": [
      "[feateng] Generated 19186 feature combinations from 19306 original feature tuples - done.\n",
      "[feateng] Generated altogether 19351 new features in 2 steps\n",
      "[feateng] Removing correlated features, as well as additions at the highest level\n"
     ]
    },
    {
     "name": "stderr",
     "output_type": "stream",
     "text": [
      "/Users/Lecturing/anaconda3/lib/python3.6/site-packages/numpy/lib/nanfunctions.py:1508: RuntimeWarning: overflow encountered in multiply\n",
      "  sqr = np.multiply(arr, arr, out=arr)\n"
     ]
    },
    {
     "name": "stdout",
     "output_type": "stream",
     "text": [
      "[feateng] Generated a total of 7752 additional features\n",
      "[featsel] Scaling data...done.\n",
      "[featsel] Feature selection run 1/1\n",
      "[featsel] 37 features after 1 feature selection runs\n",
      "[featsel] 34 features after correlation filtering\n",
      "[featsel] 32 features after noise filtering\n",
      "[AutoFeat] Computing 32 new features.\n",
      "[AutoFeat]    32/   32 new features ...done.\n",
      "[AutoFeat] Final dataframe with 108 feature columns (68 new).\n",
      "[AutoFeat] Training final regression model.\n",
      "[AutoFeat] Trained model: largest coefficients:\n",
      "3.519971673085534\n",
      "-2.916925 * sqrt(x11PrimaryColumnBed2DP)/x26SecondaryColumnHeadPressure\n",
      "-1.225940 * Abs(x16PrimaryColumnTailsTemperature)/x16PrimaryColumnTailsTemperature\n",
      "0.009474 * 1/(x11PrimaryColumnBed2DP*x22SecondaryColumnBaseConcentration)\n",
      "-0.004739 * x25SecondaryColumnTrayDP**3/x17PrimaryColumnTailsTemperature1\n",
      "-0.003768 * x25SecondaryColumnTrayDP**3/x16PrimaryColumnTailsTemperature\n",
      "-0.000176 * x36FeedColumnRecycleFlow**3/x30SecondaryColumnBed1Temperature\n",
      "-0.000071 * x36FeedColumnRecycleFlow**3/x19PrimaryColumnBed3Temperature\n",
      "-0.000022 * x17PrimaryColumnTailsTemperature1*x25SecondaryColumnTrayDP**3\n",
      "0.000020 * x7PrimaryColumnBaseLevel**2/x6PrimaryColumnMakeFlow\n",
      "0.000015 * x5PrimaryColumnFeedFlowfromFeedColumn**3/x11PrimaryColumnBed2DP\n",
      "0.000012 * x9PrimaryColumnCondenserRefluxDrumLevel**2/x6PrimaryColumnMakeFlow\n",
      "[AutoFeat] Final score: 0.8349\n"
     ]
    },
    {
     "data": {
      "text/plain": [
       "AutoFeatRegressor(always_return_numpy=False, apply_pi_theorem=True,\n",
       "                  categorical_cols=None, feateng_cols=None, feateng_steps=2,\n",
       "                  featsel_runs=1, max_gb=None, n_jobs=1,\n",
       "                  transformations=['1/', 'exp', 'log', 'abs', 'sqrt', '^2',\n",
       "                                   '^3', '1+', '1-', 'exp-'],\n",
       "                  units={'x10:Primary Column Bed1 DP': 'bar',\n",
       "                         'x11:Primary Column Bed2 DP': 'bar',\n",
       "                         'x12:Primary Column Bed3 DP': 'bar',\n",
       "                         'x13:Primary Co...\n",
       "                         'x30: Secondary Column Bed 1 Temperature': 'C',\n",
       "                         'x31: Secondary Column Bed 2 Temperature': 'C',\n",
       "                         'x32: Secondary Column Tray 2 Temperature': 'C',\n",
       "                         'x33: Secondary Column Tray 1 Temperature': 'C',\n",
       "                         'x34: Secondary Column Tails Temperature': 'C',\n",
       "                         'x35: Secondary Column Tails Concentration': 'mol/L',\n",
       "                         'x36: Feed Column Recycle Flow': 'L/s',\n",
       "                         'x37: Feed Column Tails Flow to Primary Column': 'L/s', ...},\n",
       "                  verbose=1)"
      ]
     },
     "execution_count": 69,
     "metadata": {},
     "output_type": "execute_result"
    }
   ],
   "source": [
    "transforms = [\"1/\", \"exp\", \"log\", \"abs\", \"sqrt\", \"^2\", \"^3\", \"1+\", \"1-\", \"exp-\"]\n",
    "afreg = AutoFeatRegressor(verbose=1, feateng_steps=2, featsel_runs=1, transformations=transforms, units=unit_dict)\n",
    "afreg.fit(X_train_df,y_train)"
   ]
  },
  {
   "cell_type": "code",
   "execution_count": 70,
   "metadata": {},
   "outputs": [
    {
     "name": "stderr",
     "output_type": "stream",
     "text": [
      "/Users/Lecturing/anaconda3/lib/python3.6/site-packages/sklearn/utils/validation.py:760: DataConversionWarning: A column-vector y was passed when a 1d array was expected. Please change the shape of y to (n_samples, ), for example using ravel().\n",
      "  y = column_or_1d(y, warn=True)\n"
     ]
    },
    {
     "name": "stdout",
     "output_type": "stream",
     "text": [
      "[AutoFeat] Applying the Pi Theorem\n",
      "[AutoFeat] Pi Theorem 1:  x5:Primary Column Feed Flow from Feed Column / x2:Primary Column Tails Flow\n",
      "[AutoFeat] Pi Theorem 2:  x6:Primary Column Make Flow / x2:Primary Column Tails Flow\n",
      "[AutoFeat] Pi Theorem 3:  x7:Primary Column Base Level / x2:Primary Column Tails Flow\n",
      "[AutoFeat] Pi Theorem 4:  x3:Input to Primary Column Bed 3 Flow / x2:Primary Column Tails Flow\n",
      "[AutoFeat] Pi Theorem 5:  x9:Primary Column Condenser Reflux Drum Level / x8:Primary Column Reflux Drum Pressure\n",
      "[AutoFeat] Pi Theorem 6:  x10:Primary Column Bed1 DP / x8:Primary Column Reflux Drum Pressure\n",
      "[AutoFeat] Pi Theorem 7:  x11:Primary Column Bed2 DP / x8:Primary Column Reflux Drum Pressure\n",
      "[AutoFeat] Pi Theorem 8:  x12:Primary Column Bed3 DP / x8:Primary Column Reflux Drum Pressure\n",
      "[AutoFeat] Pi Theorem 9:  x13:Primary Column Bed4 DP / x8:Primary Column Reflux Drum Pressure\n",
      "[AutoFeat] Pi Theorem 10:  x14:Primary Column Base Pressure / x8:Primary Column Reflux Drum Pressure\n",
      "[AutoFeat] Pi Theorem 11:  x15:Primary Column Head Pressure / x8:Primary Column Reflux Drum Pressure\n",
      "[AutoFeat] Pi Theorem 12:  x4:Input to Primary Column Bed 2 Flow / x2:Primary Column Tails Flow\n",
      "[AutoFeat] Pi Theorem 13:  x17:Primary Column Tails Temperature 1 / x16:Primary Column Tails Temperature\n",
      "[AutoFeat] Pi Theorem 14:  x18:Primary Column Bed 4 Temperature / x16:Primary Column Tails Temperature\n",
      "[AutoFeat] Pi Theorem 15:  x19:Primary Column Bed 3 Temperature / x16:Primary Column Tails Temperature\n",
      "[AutoFeat] Pi Theorem 16:  x20:Primary Column Bed 2 Temperature / x16:Primary Column Tails Temperature\n",
      "[AutoFeat] Pi Theorem 17:  x21:Primary Column Bed 1 Temperature / x16:Primary Column Tails Temperature\n",
      "[AutoFeat] Pi Theorem 18:  x1:Primary Column Reflux Flow / x2:Primary Column Tails Flow\n",
      "[AutoFeat] Pi Theorem 19:  x23: Flow from Input to Secondary Column / x2:Primary Column Tails Flow\n"
     ]
    },
    {
     "name": "stderr",
     "output_type": "stream",
     "text": [
      "/Users/Lecturing/anaconda3/lib/python3.6/site-packages/autofeat/autofeat.py:168: RuntimeWarning: divide by zero encountered in reciprocal\n",
      "  ptr = df[cols[0]].to_numpy()[not_na_idx]**r[cols[0]]\n",
      "/Users/Lecturing/anaconda3/lib/python3.6/site-packages/autofeat/autofeat.py:170: RuntimeWarning: divide by zero encountered in reciprocal\n",
      "  ptr *= df[c].to_numpy()[not_na_idx]**r[c]\n"
     ]
    },
    {
     "name": "stdout",
     "output_type": "stream",
     "text": [
      "[AutoFeat] Pi Theorem 20:  x24: Secondary Column Tails Flow / x2:Primary Column Tails Flow\n",
      "[AutoFeat] Pi Theorem 21:  x25: Secondary Column Tray DP / x2:Primary Column Tails Flow\n",
      "[AutoFeat] Pi Theorem 22:  x26: Secondary Column Head Pressure / x8:Primary Column Reflux Drum Pressure\n",
      "[AutoFeat] Pi Theorem 23:  x27: Secondary Column Base Pressure / x8:Primary Column Reflux Drum Pressure\n",
      "[AutoFeat] Pi Theorem 24:  x28: Secondary Column Base Temperature / x16:Primary Column Tails Temperature\n",
      "[AutoFeat] Pi Theorem 25:  x29: Secondary Column Tray 3 Temperature / x16:Primary Column Tails Temperature\n",
      "[AutoFeat] Pi Theorem 26:  x30: Secondary Column Bed 1 Temperature / x16:Primary Column Tails Temperature\n",
      "[AutoFeat] Pi Theorem 27:  x31: Secondary Column Bed 2 Temperature / x16:Primary Column Tails Temperature\n",
      "[AutoFeat] Pi Theorem 28:  x32: Secondary Column Tray 2 Temperature / x16:Primary Column Tails Temperature\n",
      "[AutoFeat] Pi Theorem 29:  x33: Secondary Column Tray 1 Temperature / x16:Primary Column Tails Temperature\n",
      "[AutoFeat] Pi Theorem 30:  x34: Secondary Column Tails Temperature / x16:Primary Column Tails Temperature\n",
      "[AutoFeat] Pi Theorem 31:  x35: Secondary Column Tails Concentration / x22: Secondary Column Base Concentration\n",
      "[AutoFeat] Pi Theorem 32:  x36: Feed Column Recycle Flow / x2:Primary Column Tails Flow\n",
      "[AutoFeat] Pi Theorem 33:  x37: Feed Column Tails Flow to Primary Column / x2:Primary Column Tails Flow\n",
      "[AutoFeat] Pi Theorem 34:  x38: Feed Column Calculated DP / x2:Primary Column Tails Flow\n",
      "[AutoFeat] Pi Theorem 35:  x39: Feed Column Steam Flow / x2:Primary Column Tails Flow\n",
      "[AutoFeat] Pi Theorem 36:  x40: Feed Column Tails Flow / x2:Primary Column Tails Flow\n",
      "[AutoFeat] Computing 32 new features.\n",
      "[AutoFeat]    32/   32 new features ...done.\n"
     ]
    },
    {
     "name": "stderr",
     "output_type": "stream",
     "text": [
      "/Users/Lecturing/anaconda3/lib/python3.6/site-packages/autofeat/autofeat.py:170: RuntimeWarning: invalid value encountered in multiply\n",
      "  ptr *= df[c].to_numpy()[not_na_idx]**r[c]\n"
     ]
    },
    {
     "data": {
      "text/plain": [
       "0.7858371156050081"
      ]
     },
     "execution_count": 70,
     "metadata": {},
     "output_type": "execute_result"
    }
   ],
   "source": [
    "afreg.score(X_test_df, y_test)"
   ]
  },
  {
   "cell_type": "markdown",
   "metadata": {},
   "source": [
    "We see that this improves things slightly. We can check which new features were generated:"
   ]
  },
  {
   "cell_type": "code",
   "execution_count": 71,
   "metadata": {
    "scrolled": true
   },
   "outputs": [
    {
     "data": {
      "text/plain": [
       "['x6PrimaryColumnMakeFlow**3/x12PrimaryColumnBed3DP',\n",
       " 'x1PrimaryColumnRefluxFlow**3/x10PrimaryColumnBed1DP',\n",
       " 'x7PrimaryColumnBaseLevel**2/x6PrimaryColumnMakeFlow',\n",
       " 'x25SecondaryColumnTrayDP*x7PrimaryColumnBaseLevel**3',\n",
       " 'x10PrimaryColumnBed1DP**2*x6PrimaryColumnMakeFlow**3',\n",
       " 'x1PrimaryColumnRefluxFlow**3/x38FeedColumnCalculatedDP',\n",
       " 'x24SecondaryColumnTailsFlow**3*x6PrimaryColumnMakeFlow**3',\n",
       " 'x4InputtoPrimaryColumnBed2Flow*x7PrimaryColumnBaseLevel**3',\n",
       " 'x24SecondaryColumnTailsFlow**3*x25SecondaryColumnTrayDP**3',\n",
       " 'sqrt(x11PrimaryColumnBed2DP)/x26SecondaryColumnHeadPressure',\n",
       " 'x13PrimaryColumnBed4DP**3*x3InputtoPrimaryColumnBed3Flow**3',\n",
       " 'x10PrimaryColumnBed1DP**3*x4InputtoPrimaryColumnBed2Flow**2',\n",
       " 'x11PrimaryColumnBed2DP**3*x3InputtoPrimaryColumnBed3Flow**3',\n",
       " 'x36FeedColumnRecycleFlow**3/x19PrimaryColumnBed3Temperature',\n",
       " 'x25SecondaryColumnTrayDP**3/x16PrimaryColumnTailsTemperature',\n",
       " 'x17PrimaryColumnTailsTemperature1*x25SecondaryColumnTrayDP**3',\n",
       " 'x25SecondaryColumnTrayDP**3/x17PrimaryColumnTailsTemperature1',\n",
       " 'x32SecondaryColumnTray2Temperature*x6PrimaryColumnMakeFlow**3',\n",
       " 'x36FeedColumnRecycleFlow**3/x30SecondaryColumnBed1Temperature',\n",
       " 'x13PrimaryColumnBed4DP**3*x23FlowfromInputtoSecondaryColumn**3',\n",
       " 'x10PrimaryColumnBed1DP**2*x17PrimaryColumnTailsTemperature1**3',\n",
       " '1/(x11PrimaryColumnBed2DP*x22SecondaryColumnBaseConcentration)',\n",
       " 'x2PrimaryColumnTailsFlow**3*x33SecondaryColumnTray1Temperature',\n",
       " 'x5PrimaryColumnFeedFlowfromFeedColumn**3/x11PrimaryColumnBed2DP',\n",
       " 'x33SecondaryColumnTray1Temperature**2*x6PrimaryColumnMakeFlow**3',\n",
       " 'x25SecondaryColumnTrayDP**3*x32SecondaryColumnTray2Temperature**3',\n",
       " 'x9PrimaryColumnCondenserRefluxDrumLevel**2/x6PrimaryColumnMakeFlow',\n",
       " 'x38FeedColumnCalculatedDP**3*x5PrimaryColumnFeedFlowfromFeedColumn**2',\n",
       " 'x2PrimaryColumnTailsFlow**3*x9PrimaryColumnCondenserRefluxDrumLevel**2',\n",
       " 'Abs(x16PrimaryColumnTailsTemperature)/x16PrimaryColumnTailsTemperature',\n",
       " 'x32SecondaryColumnTray2Temperature**3/x17PrimaryColumnTailsTemperature1',\n",
       " 'x23FlowfromInputtoSecondaryColumn**2*x33SecondaryColumnTray1Temperature**3']"
      ]
     },
     "execution_count": 71,
     "metadata": {},
     "output_type": "execute_result"
    }
   ],
   "source": [
    "afreg.new_feat_cols_"
   ]
  },
  {
   "cell_type": "markdown",
   "metadata": {},
   "source": [
    "and which were ultimately selected:"
   ]
  },
  {
   "cell_type": "code",
   "execution_count": 72,
   "metadata": {},
   "outputs": [
    {
     "data": {
      "text/plain": [
       "['x6PrimaryColumnMakeFlow**3/x12PrimaryColumnBed3DP',\n",
       " 'x1PrimaryColumnRefluxFlow**3/x10PrimaryColumnBed1DP',\n",
       " 'x7PrimaryColumnBaseLevel**2/x6PrimaryColumnMakeFlow',\n",
       " 'x25SecondaryColumnTrayDP*x7PrimaryColumnBaseLevel**3',\n",
       " 'x10PrimaryColumnBed1DP**2*x6PrimaryColumnMakeFlow**3',\n",
       " 'x1PrimaryColumnRefluxFlow**3/x38FeedColumnCalculatedDP',\n",
       " 'x24SecondaryColumnTailsFlow**3*x6PrimaryColumnMakeFlow**3',\n",
       " 'x4InputtoPrimaryColumnBed2Flow*x7PrimaryColumnBaseLevel**3',\n",
       " 'x24SecondaryColumnTailsFlow**3*x25SecondaryColumnTrayDP**3',\n",
       " 'sqrt(x11PrimaryColumnBed2DP)/x26SecondaryColumnHeadPressure',\n",
       " 'x13PrimaryColumnBed4DP**3*x3InputtoPrimaryColumnBed3Flow**3',\n",
       " 'x10PrimaryColumnBed1DP**3*x4InputtoPrimaryColumnBed2Flow**2',\n",
       " 'x11PrimaryColumnBed2DP**3*x3InputtoPrimaryColumnBed3Flow**3',\n",
       " 'x36FeedColumnRecycleFlow**3/x19PrimaryColumnBed3Temperature',\n",
       " 'x25SecondaryColumnTrayDP**3/x16PrimaryColumnTailsTemperature',\n",
       " 'x17PrimaryColumnTailsTemperature1*x25SecondaryColumnTrayDP**3',\n",
       " 'x25SecondaryColumnTrayDP**3/x17PrimaryColumnTailsTemperature1',\n",
       " 'x32SecondaryColumnTray2Temperature*x6PrimaryColumnMakeFlow**3',\n",
       " 'x36FeedColumnRecycleFlow**3/x30SecondaryColumnBed1Temperature',\n",
       " 'x13PrimaryColumnBed4DP**3*x23FlowfromInputtoSecondaryColumn**3',\n",
       " 'x10PrimaryColumnBed1DP**2*x17PrimaryColumnTailsTemperature1**3',\n",
       " '1/(x11PrimaryColumnBed2DP*x22SecondaryColumnBaseConcentration)',\n",
       " 'x2PrimaryColumnTailsFlow**3*x33SecondaryColumnTray1Temperature',\n",
       " 'x5PrimaryColumnFeedFlowfromFeedColumn**3/x11PrimaryColumnBed2DP',\n",
       " 'x33SecondaryColumnTray1Temperature**2*x6PrimaryColumnMakeFlow**3',\n",
       " 'x25SecondaryColumnTrayDP**3*x32SecondaryColumnTray2Temperature**3',\n",
       " 'x9PrimaryColumnCondenserRefluxDrumLevel**2/x6PrimaryColumnMakeFlow',\n",
       " 'x38FeedColumnCalculatedDP**3*x5PrimaryColumnFeedFlowfromFeedColumn**2',\n",
       " 'x2PrimaryColumnTailsFlow**3*x9PrimaryColumnCondenserRefluxDrumLevel**2',\n",
       " 'Abs(x16PrimaryColumnTailsTemperature)/x16PrimaryColumnTailsTemperature',\n",
       " 'x32SecondaryColumnTray2Temperature**3/x17PrimaryColumnTailsTemperature1',\n",
       " 'x23FlowfromInputtoSecondaryColumn**2*x33SecondaryColumnTray1Temperature**3']"
      ]
     },
     "execution_count": 72,
     "metadata": {},
     "output_type": "execute_result"
    }
   ],
   "source": [
    "afreg.good_cols_"
   ]
  },
  {
   "cell_type": "markdown",
   "metadata": {},
   "source": [
    "There is a lot going on under the hood of the `autofeat` package that is beyond the scope of this course. There are also many other techniques (Eureqa, ALAMO, SISSO) that could be used to achieve similar results, but they will generally have different tradeoffs between speed/accuracy/robustness. In general, with symbolic regression the inital training takes a lot of time, but once the features are selected then evaluating the model is highly efficient. One thing to be cautious of is that because there are so many features generated in this process, there are often multiple combinations of features that provide similar results. If you run the entire notebook again you may end up with different results because of the specific points that are selected during the train/test split. This means you should not over-interpret the specific features that a symbolic regression model finds unless they have clear physical meaning. However, symbolic regression is a powerful tool for data analytics in engineering because it provides analytical equations that can easily be interpreted and computed. "
   ]
  }
 ],
 "metadata": {
  "kernelspec": {
   "display_name": "Python 3",
   "language": "python",
   "name": "python3"
  },
  "language_info": {
   "codemirror_mode": {
    "name": "ipython",
    "version": 3
   },
   "file_extension": ".py",
   "mimetype": "text/x-python",
   "name": "python",
   "nbconvert_exporter": "python",
   "pygments_lexer": "ipython3",
   "version": "3.6.10"
  },
  "toc": {
   "base_numbering": 1,
   "nav_menu": {},
   "number_sections": true,
   "sideBar": true,
   "skip_h1_title": true,
   "title_cell": "Table of Contents",
   "title_sidebar": "Contents",
   "toc_cell": true,
   "toc_position": {},
   "toc_section_display": true,
   "toc_window_display": false
  }
 },
 "nbformat": 4,
 "nbformat_minor": 4
}
