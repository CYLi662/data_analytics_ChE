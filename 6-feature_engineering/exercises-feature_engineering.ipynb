{
 "cells": [
  {
   "cell_type": "markdown",
   "metadata": {
    "toc": true
   },
   "source": [
    "<h1>Table of Contents<span class=\"tocSkip\"></span></h1>\n",
    "<div class=\"toc\"><ul class=\"toc-item\"><li><span><a href=\"#Exercise:-One-Hot-Encoding\" data-toc-modified-id=\"Exercise:-One-Hot-Encoding-1\"><span class=\"toc-item-num\">1&nbsp;&nbsp;</span>Exercise: One-Hot Encoding</a></span></li><li><span><a href=\"#Exercise:-Rank-of-Linear-Projections\" data-toc-modified-id=\"Exercise:-Rank-of-Linear-Projections-2\"><span class=\"toc-item-num\">2&nbsp;&nbsp;</span>Exercise: Rank of Linear Projections</a></span></li><li><span><a href=\"#Exercise:-Partial-Least-Squares\" data-toc-modified-id=\"Exercise:-Partial-Least-Squares-3\"><span class=\"toc-item-num\">3&nbsp;&nbsp;</span>Exercise: Partial Least Squares</a></span></li><li><span><a href=\"#Exercise:-Linear-Discriminant-Analysis\" data-toc-modified-id=\"Exercise:-Linear-Discriminant-Analysis-4\"><span class=\"toc-item-num\">4&nbsp;&nbsp;</span>Exercise: Linear Discriminant Analysis</a></span></li><li><span><a href=\"#Exercise-(6745-Only):-Derive-a-formula-for-the-number-of-polynomial-features-as-a-function-of-number-of-original-features-and-polynomial-order.\" data-toc-modified-id=\"Exercise-(6745-Only):-Derive-a-formula-for-the-number-of-polynomial-features-as-a-function-of-number-of-original-features-and-polynomial-order.-5\"><span class=\"toc-item-num\">5&nbsp;&nbsp;</span>Exercise (6745 Only): Derive a formula for the number of polynomial features as a function of number of original features and polynomial order.</a></span></li><li><span><a href=\"#More-to-come...\" data-toc-modified-id=\"More-to-come...-6\"><span class=\"toc-item-num\">6&nbsp;&nbsp;</span>More to come...</a></span></li></ul></div>"
   ]
  },
  {
   "cell_type": "markdown",
   "metadata": {},
   "source": [
    "# Feature Engineering Exercises"
   ]
  },
  {
   "cell_type": "markdown",
   "metadata": {},
   "source": [
    "## Exercise: One-Hot Encoding\n",
    "\n",
    "Use the `X` column of the perovskite dataset (corresponding to the identity of the `X` ion in the ABX$_3$ compound) to create a matrix of one-hot encoded features. **Print the dimensions of the matrix and the sum across all rows.**"
   ]
  },
  {
   "cell_type": "code",
   "execution_count": null,
   "metadata": {},
   "outputs": [],
   "source": []
  },
  {
   "cell_type": "markdown",
   "metadata": {},
   "source": [
    "## Exercise: Rank of Linear Projections\n",
    "\n",
    "Use the data matrix from the Dow dataset as an original input dataset and create random matrices to \"project\" the data onto dimensions ranging from 0 to 100. **Creat a plot of the rank of the resulting matrix as a function of the number of columns in the projection matrix.**"
   ]
  },
  {
   "cell_type": "code",
   "execution_count": null,
   "metadata": {},
   "outputs": [],
   "source": []
  },
  {
   "cell_type": "markdown",
   "metadata": {},
   "source": [
    "## Exercise: Partial Least Squares\n",
    "\n",
    "Use partial least squares (PLS) algorithm and project the data onto the first 5 PLS components. Create a kernel ridge regression (KRR) model based on (1) the first 5 PLS components and (2) the original data. For the KRR models use an `rbf` kernel and use GridSearchCV with 3-fold cross-validation to optimize `gamma = [0.1, 1, 10]` and `alpha = [0.001, 0.01, 0.1, 1, 10]`. **Report the score and optimal hyperparamters for the best KRR model in both cases.**"
   ]
  },
  {
   "cell_type": "code",
   "execution_count": null,
   "metadata": {},
   "outputs": [],
   "source": []
  },
  {
   "cell_type": "markdown",
   "metadata": {},
   "source": [
    "## Exercise: Linear Discriminant Analysis\n",
    "\n",
    "Create two versions of the perovskite dataset, one with and one without one-hot encoded features. Apply LDA to both datasets. You do not need to use cross validation in this case. **Explain why.**\n",
    "**Report the dimensions of the data after it is transformed to the LDA vectors, and report the classification accuracy with and without one-hot encoded features.**"
   ]
  },
  {
   "cell_type": "code",
   "execution_count": null,
   "metadata": {},
   "outputs": [],
   "source": []
  },
  {
   "cell_type": "markdown",
   "metadata": {},
   "source": [
    "## Exercise (6745 Only): Derive a formula for the number of polynomial features as a function of number of original features and polynomial order."
   ]
  },
  {
   "cell_type": "markdown",
   "metadata": {},
   "source": []
  },
  {
   "cell_type": "markdown",
   "metadata": {},
   "source": [
    "## More to come..."
   ]
  },
  {
   "cell_type": "code",
   "execution_count": null,
   "metadata": {},
   "outputs": [],
   "source": []
  }
 ],
 "metadata": {
  "kernelspec": {
   "display_name": "Python 3",
   "language": "python",
   "name": "python3"
  },
  "language_info": {
   "codemirror_mode": {
    "name": "ipython",
    "version": 3
   },
   "file_extension": ".py",
   "mimetype": "text/x-python",
   "name": "python",
   "nbconvert_exporter": "python",
   "pygments_lexer": "ipython3",
   "version": "3.7.5"
  },
  "latex_envs": {
   "LaTeX_envs_menu_present": true,
   "autoclose": false,
   "autocomplete": true,
   "bibliofile": "biblio.bib",
   "cite_by": "apalike",
   "current_citInitial": 1,
   "eqLabelWithNumbers": true,
   "eqNumInitial": 1,
   "hotkeys": {
    "equation": "Ctrl-E",
    "itemize": "Ctrl-I"
   },
   "labels_anchors": false,
   "latex_user_defs": false,
   "report_style_numbering": false,
   "user_envs_cfg": false
  },
  "toc": {
   "base_numbering": 1,
   "nav_menu": {},
   "number_sections": true,
   "sideBar": true,
   "skip_h1_title": true,
   "title_cell": "Table of Contents",
   "title_sidebar": "Contents",
   "toc_cell": true,
   "toc_position": {},
   "toc_section_display": true,
   "toc_window_display": false
  }
 },
 "nbformat": 4,
 "nbformat_minor": 4
}
