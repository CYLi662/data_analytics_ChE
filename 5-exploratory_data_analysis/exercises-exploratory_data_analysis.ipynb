{
 "cells": [
  {
   "cell_type": "markdown",
   "metadata": {
    "toc": true
   },
   "source": [
    "<h1>Table of Contents<span class=\"tocSkip\"></span></h1>\n",
    "<div class=\"toc\"><ul class=\"toc-item\"><li><span><a href=\"#Exercise:-Calculating-summary-statistics\" data-toc-modified-id=\"Exercise:-Calculating-summary-statistics-1\"><span class=\"toc-item-num\">1&nbsp;&nbsp;</span>Exercise: Calculating summary statistics</a></span></li><li><span><a href=\"#Exercise:-Meaning-of-correlation-matrix\" data-toc-modified-id=\"Exercise:-Meaning-of-correlation-matrix-2\"><span class=\"toc-item-num\">2&nbsp;&nbsp;</span>Exercise: Meaning of correlation matrix</a></span></li><li><span><a href=\"#Exercise:-Covariance-matrix-rank\" data-toc-modified-id=\"Exercise:-Covariance-matrix-rank-3\"><span class=\"toc-item-num\">3&nbsp;&nbsp;</span>Exercise: Covariance matrix rank</a></span></li><li><span><a href=\"#Exercise:-Finding-a-representative-from-low-dimensional-representations.\" data-toc-modified-id=\"Exercise:-Finding-a-representative-from-low-dimensional-representations.-4\"><span class=\"toc-item-num\">4&nbsp;&nbsp;</span>Exercise: Finding a representative from low dimensional representations.</a></span></li><li><span><a href=\"#Exercise:-Write-a-function-to-perform-k-means-clustering.\" data-toc-modified-id=\"Exercise:-Write-a-function-to-perform-k-means-clustering.-5\"><span class=\"toc-item-num\">5&nbsp;&nbsp;</span>Exercise: Write a function to perform k-means clustering.</a></span></li><li><span><a href=\"#Exercise:-Determining-the-number-of-clusters.\" data-toc-modified-id=\"Exercise:-Determining-the-number-of-clusters.-6\"><span class=\"toc-item-num\">6&nbsp;&nbsp;</span>Exercise: Determining the number of clusters.</a></span></li><li><span><a href=\"#Discussion:-Mean-Shift-Initial-Guesses\" data-toc-modified-id=\"Discussion:-Mean-Shift-Initial-Guesses-7\"><span class=\"toc-item-num\">7&nbsp;&nbsp;</span>Discussion: Mean Shift Initial Guesses</a></span></li><li><span><a href=\"#Exercise:-Plot-the-silhouette-score-as-a-function-of-bandwidth-for-the-mean-shift-algorithm\" data-toc-modified-id=\"Exercise:-Plot-the-silhouette-score-as-a-function-of-bandwidth-for-the-mean-shift-algorithm-8\"><span class=\"toc-item-num\">8&nbsp;&nbsp;</span>Exercise: Plot the silhouette score as a function of bandwidth for the mean shift algorithm</a></span></li><li><span><a href=\"#Exercise:-Generative-model-for-handwritten-digit\" data-toc-modified-id=\"Exercise:-Generative-model-for-handwritten-digit-9\"><span class=\"toc-item-num\">9&nbsp;&nbsp;</span>Exercise: Generative model for handwritten digit</a></span></li></ul></div>"
   ]
  },
  {
   "cell_type": "markdown",
   "metadata": {},
   "source": [
    "# Exploratory Data Analysis Exercises"
   ]
  },
  {
   "cell_type": "markdown",
   "metadata": {},
   "source": [
    "## Exercise: Calculating summary statistics\n",
    "\n",
    "**Compute** the mean and standard deviation of each feature in the Dow dataset. **Briefly discuss** what this tells you about the dataset. *Ignore non-numeric entries.*"
   ]
  },
  {
   "cell_type": "code",
   "execution_count": null,
   "metadata": {},
   "outputs": [],
   "source": []
  },
  {
   "cell_type": "markdown",
   "metadata": {},
   "source": [
    "## Exercise: Meaning of correlation matrix\n",
    "\n",
    "**Show** that the correlation matrix is numerically equivalent to regression slopes between standardized features and that the square-value of the correlation matrix equals $R^2$ (*notice that this is only true when evaluated on the training data*). Use the Dow dataset, and select the first 4 features (`x1` through `x4`). Remember to standardize the data before computing the slopes. The goal is to show that `corr[i,j]` is equivalent to $m$ in $x_i = m x_j + b$, where $x_i$ and $x_j$ have been standardized. You will need to use `np.isclose` since there will be small numerical differences."
   ]
  },
  {
   "cell_type": "code",
   "execution_count": null,
   "metadata": {},
   "outputs": [],
   "source": []
  },
  {
   "cell_type": "markdown",
   "metadata": {},
   "source": [
    "## Exercise: Covariance matrix rank\n",
    "\n",
    "**Compute** the rank of the covariance matrix for the MNIST dataset, and calculate the eigenvalues. Use the eigenvalues to **determine** the rank, and briefly **describe** what this means in the context of this dataset."
   ]
  },
  {
   "cell_type": "code",
   "execution_count": null,
   "metadata": {},
   "outputs": [],
   "source": []
  },
  {
   "cell_type": "markdown",
   "metadata": {},
   "source": [
    "## Exercise: Finding a representative from low dimensional representations.\n",
    "\n",
    "**Find** the \"average\" 10-dimensional vector for an \"8\". Use PCA to project the MNIST data onto 10 dimensions, then **select** the points labeled as 8 and take the average. **Visualize** the resulting average vector as an 8x8 image."
   ]
  },
  {
   "cell_type": "code",
   "execution_count": null,
   "metadata": {},
   "outputs": [],
   "source": []
  },
  {
   "cell_type": "markdown",
   "metadata": {},
   "source": [
    "## Exercise: Write a function to perform k-means clustering.\n",
    "\n",
    "**Modify** the code from the lecture notebook into a function for k-means clustering. The function should take the dataset (`X`) and the initial guesses (`centers`, from the lecture notes) as arguments. The algorithm **should stop** when the maximum change in distance between cluster centers (`tol`) is $<$ 0.1. You can use the function header below, and **should test** your algorithm on the TSNE version of the Dow dataset."
   ]
  },
  {
   "cell_type": "code",
   "execution_count": null,
   "metadata": {},
   "outputs": [],
   "source": [
    "def kmeans(X, centers, tol=0.1):\n",
    "    return centers"
   ]
  },
  {
   "cell_type": "markdown",
   "metadata": {},
   "source": [
    "## Exercise: Determining the number of clusters.\n",
    "\n",
    "**Plot** the silhouette score as a function of number of clusters for a GMM model on the PCA dataset. Use `full` covariance, and return a plot with number of clusters ($k$) along the $x$ axis and silhouette score along the $y$ axis."
   ]
  },
  {
   "cell_type": "code",
   "execution_count": null,
   "metadata": {},
   "outputs": [],
   "source": []
  },
  {
   "cell_type": "markdown",
   "metadata": {},
   "source": [
    "## Discussion: Mean Shift Initial Guesses\n",
    "\n",
    "**List** at least one reason that using every point as an initial guess is a good strategy for mean-shift clustering."
   ]
  },
  {
   "cell_type": "code",
   "execution_count": null,
   "metadata": {},
   "outputs": [],
   "source": []
  },
  {
   "cell_type": "markdown",
   "metadata": {},
   "source": [
    "## Exercise: Plot the silhouette score as a function of bandwidth for the mean shift algorithm\n",
    "\n",
    "**Use** the `scikit-learn` implementation and **vary** the bandwidth in the range  [0.01, 0.05, 0.1, 0.2, 0.3]. **Use** the kernel PCA (kPCA) decomposition of the Dow dataset."
   ]
  },
  {
   "cell_type": "code",
   "execution_count": null,
   "metadata": {},
   "outputs": [],
   "source": []
  },
  {
   "cell_type": "markdown",
   "metadata": {},
   "source": [
    "## Exercise: Generative model for handwritten digit (6745 only)\n",
    "\n",
    "**Create** a GMM that can generate new examples of the digit 6.  Follow the same procedures given in the \"Generative Models\" lecture, but only use input data from the digit 6. You can use the `y_mnist` variable to quickly select this subset (`y_mnist == 6`), and you **should use** the BIC to optimize the number of Gaussians needed. **Show** (visually) an example of a synthetic \"6\" generated by your model."
   ]
  },
  {
   "cell_type": "code",
   "execution_count": null,
   "metadata": {},
   "outputs": [],
   "source": []
  }
 ],
 "metadata": {
  "kernelspec": {
   "display_name": "Python 3",
   "language": "python",
   "name": "python3"
  },
  "language_info": {
   "codemirror_mode": {
    "name": "ipython",
    "version": 3
   },
   "file_extension": ".py",
   "mimetype": "text/x-python",
   "name": "python",
   "nbconvert_exporter": "python",
   "pygments_lexer": "ipython3",
   "version": "3.7.5"
  },
  "latex_envs": {
   "LaTeX_envs_menu_present": true,
   "autoclose": false,
   "autocomplete": true,
   "bibliofile": "biblio.bib",
   "cite_by": "apalike",
   "current_citInitial": 1,
   "eqLabelWithNumbers": true,
   "eqNumInitial": 1,
   "hotkeys": {
    "equation": "Ctrl-E",
    "itemize": "Ctrl-I"
   },
   "labels_anchors": false,
   "latex_user_defs": false,
   "report_style_numbering": false,
   "user_envs_cfg": false
  },
  "toc": {
   "base_numbering": 1,
   "nav_menu": {},
   "number_sections": true,
   "sideBar": true,
   "skip_h1_title": true,
   "title_cell": "Table of Contents",
   "title_sidebar": "Contents",
   "toc_cell": true,
   "toc_position": {},
   "toc_section_display": true,
   "toc_window_display": false
  }
 },
 "nbformat": 4,
 "nbformat_minor": 4
}
