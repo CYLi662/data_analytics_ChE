{
 "cells": [
  {
   "cell_type": "markdown",
   "metadata": {},
   "source": [
    "# Introductory Homework\n",
    "\n",
    "The main goal of this homework is to introduce the format and practice homework submission. You should answer the following questions in a single .pdf document that will be submitted to Gradescope. The .pdf may be generated directly from the .ipynb, or created using a word processing program of your choice. There are no explicit limits on length, but conciseness is appreciated.\n",
    "\n",
    "You must also submit the .pdf report along with all associated analysis scripts and data in a .zip file through Canvas. This .zip file should contain everything needed to reproduce your results.\n",
    "\n",
    "Homeworks, including this one, will also be \"peer graded\". As a grader, your responsibility is to list at least one strength and one weakness of the assignment, ensuring that all criticism is constructive. Failure to complete peer grading within one week of a submission deadline will affect the \"Peer Grading\" portion of your final grade."
   ]
  },
  {
   "cell_type": "markdown",
   "metadata": {},
   "source": [
    "## 5 points - Plotting data from a csv file\n",
    "\n",
    "Create a plot of the \"ethanol_IR.csv\" file and briefly describe the most prominent peaks in the dataset."
   ]
  },
  {
   "cell_type": "markdown",
   "metadata": {},
   "source": [
    "## 5 points - Matrix-vector multiplication\n",
    "\n",
    "Consider an arbitrary 2 x 2 matrix $A$:  \n",
    "\n",
    "\\begin{equation*}\n",
    "A = \n",
    "\\begin{pmatrix}\n",
    "a_{0,0} & a_{0,1}\\\\\n",
    "a_{0,1} & a_{1,1}\\\\\n",
    "\\end{pmatrix}\n",
    "\\end{equation*}\n",
    "\n",
    "and an arbitrary 2 x 1 vector $b$:\n",
    "\n",
    "\\begin{equation*}\n",
    "b = \n",
    "\\begin{pmatrix}\n",
    "b_{0}\\\\\n",
    "b_{1}\\\\\n",
    "\\end{pmatrix}\n",
    "\\end{equation*}\n",
    "\n",
    "Write the result of the matrix-vector product $\\underline{\\underline{A}}\\vec{b}$ in terms of $a_{i,j}$ and $b_k$."
   ]
  },
  {
   "cell_type": "markdown",
   "metadata": {},
   "source": [
    "## 5 points (6745 only) - Matrix-matrix multiplication\n",
    "\n",
    "Consider an arbitrary $m$ x $n$ matrix $A$:\n",
    "\n",
    "\\begin{equation*}\n",
    "A_{m,n} = \n",
    "\\begin{pmatrix}\n",
    "a_{1,1} & a_{1,2} & \\cdots & a_{1,n} \\\\\n",
    "a_{2,1} & a_{2,2} & \\cdots & a_{2,n} \\\\\n",
    "\\vdots  & \\vdots  & \\ddots & \\vdots  \\\\\n",
    "a_{m,1} & a_{m,2} & \\cdots & a_{m,n} \n",
    "\\end{pmatrix}\n",
    "\\end{equation*}\n",
    "\n",
    "and an arbitrary $n$ x $p$ matrix $C$:\n",
    "\n",
    "\\begin{equation*}\n",
    "C_{n,p} = \n",
    "\\begin{pmatrix}\n",
    "c_{1,1} & c_{1,2} & \\cdots & c_{1,p} \\\\\n",
    "c_{2,1} & c_{2,2} & \\cdots & c_{2,p} \\\\\n",
    "\\vdots  & \\vdots  & \\ddots & \\vdots  \\\\\n",
    "c_{n,1} & c_{n,2} & \\cdots & c_{n,p} \n",
    "\\end{pmatrix}\n",
    "\\end{equation*}\n",
    "\n",
    "Use summation notation to write the result of matrix-matrix multiplication $\\underline{\\underline{A}}\\underline{\\underline{C}}$ in terms of the elements $a_{i,j}$ and $c_{k,l}$."
   ]
  }
 ],
 "metadata": {
  "kernelspec": {
   "display_name": "Python 3",
   "language": "python",
   "name": "python3"
  },
  "language_info": {
   "codemirror_mode": {
    "name": "ipython",
    "version": 3
   },
   "file_extension": ".py",
   "mimetype": "text/x-python",
   "name": "python",
   "nbconvert_exporter": "python",
   "pygments_lexer": "ipython3",
   "version": "3.7.5"
  }
 },
 "nbformat": 4,
 "nbformat_minor": 2
}
