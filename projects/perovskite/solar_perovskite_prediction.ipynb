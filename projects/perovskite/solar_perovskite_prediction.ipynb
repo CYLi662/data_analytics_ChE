{
 "cells": [
  {
   "cell_type": "markdown",
   "metadata": {
    "toc": true
   },
   "source": [
    "<h1>Table of Contents<span class=\"tocSkip\"></span></h1>\n",
    "<div class=\"toc\"><ul class=\"toc-item\"><li><span><a href=\"#Problem-Definition:\" data-toc-modified-id=\"Problem-Definition:-1\"><span class=\"toc-item-num\">1&nbsp;&nbsp;</span>Problem Definition:</a></span></li><li><span><a href=\"#Dataset-Details:\" data-toc-modified-id=\"Dataset-Details:-2\"><span class=\"toc-item-num\">2&nbsp;&nbsp;</span>Dataset Details:</a></span></li><li><span><a href=\"#Model-Training-Strategy:\" data-toc-modified-id=\"Model-Training-Strategy:-3\"><span class=\"toc-item-num\">3&nbsp;&nbsp;</span>Model Training Strategy:</a></span></li><li><span><a href=\"#Model-Validation-Strategy:\" data-toc-modified-id=\"Model-Validation-Strategy:-4\"><span class=\"toc-item-num\">4&nbsp;&nbsp;</span>Model Validation Strategy:</a></span></li></ul></div>"
   ]
  },
  {
   "cell_type": "markdown",
   "metadata": {},
   "source": [
    "# Solar Perovskite Prediction\n",
    "\n",
    "## Problem Definition: \n",
    "\n",
    "The overall goal of this project is to use available databases to predict promising perovskite compositions for solar water splitting. This will be achieved with the following sub-goals:\n",
    "\n",
    "* Read the dataset and deal with missing values and outliers.\n",
    "\n",
    "* Create separate machine learning models to predict synthesizability and band gap of all candidates.\n",
    "\n",
    "* Create a combined machine learning model to predict the probability that a perovskite material will be synthesizable and efficient for solar water splitting (band gap between 1.23 and 3.2 eV).\n",
    "\n",
    "## Dataset Details: \n",
    "\n",
    "The data consists of a single comma-separated value file (`perovskites_gaps.csv`) with compositions and descriptors for 685 candidate materials. Some materials have synthesizability data, others have bandgap data, and some have both. Missing values are specified with `?`. The spreadsheet is compiled with data from 2 publications. The bandgap data comes from [1], and the raw data is provided in `cubic_perovskites.db`. The synthesizability data comes from [2] and the raw data is in `perovskites.csv`. The Python script that compiles these is also provided (`perovskite_data.py`). The raw data, compilation script, and publications are provided for reference and do not necessarily need to be used, though they may provide useful context.\n",
    "\n",
    "[1]I. E. Castelli, T. Olsen, S. Datta, D. D. Landis, S. Dahl, K. S. Thygesen, and K. W. Jacobsen, “Computational screening of perovskite metal oxides for optimal solar light capture,” Energy Environ. Sci., vol. 5, no. 2, pp. 5814–5819, 2012.\n",
    "\n",
    "[2] C. J. Bartel, C. Sutton, B. R. Goldsmith, R. Ouyang, C. B. Musgrave, L. M. Ghiringhelli, and M. Scheffler, “New tolerance factor to predict the stability of perovskite oxides and halides,” Science Advances, vol. 5, no. 2, p. eaav0693, Feb. 2019."
   ]
  },
  {
   "cell_type": "markdown",
   "metadata": {},
   "source": [
    "## Model Training Strategy:\n",
    "\n",
    "Discuss how machine learning models for predicting synthesizability, band gap, and probability of a syntethesizable and efficient solar water splitting perovskitewill be determined."
   ]
  },
  {
   "cell_type": "markdown",
   "metadata": {},
   "source": [
    "## Model Validation Strategy:\n",
    "\n",
    "Discuss how the model will be validated. If use of additional data is required describe how that data will be attained."
   ]
  }
 ],
 "metadata": {
  "kernelspec": {
   "display_name": "Python 3",
   "language": "python",
   "name": "python3"
  },
  "language_info": {
   "codemirror_mode": {
    "name": "ipython",
    "version": 3
   },
   "file_extension": ".py",
   "mimetype": "text/x-python",
   "name": "python",
   "nbconvert_exporter": "python",
   "pygments_lexer": "ipython3",
   "version": "3.6.10"
  },
  "toc": {
   "base_numbering": 1,
   "nav_menu": {},
   "number_sections": true,
   "sideBar": true,
   "skip_h1_title": true,
   "title_cell": "Table of Contents",
   "title_sidebar": "Contents",
   "toc_cell": true,
   "toc_position": {},
   "toc_section_display": true,
   "toc_window_display": false
  }
 },
 "nbformat": 4,
 "nbformat_minor": 2
}
