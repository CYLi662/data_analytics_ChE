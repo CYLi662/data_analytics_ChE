{
 "cells": [
  {
   "cell_type": "markdown",
   "metadata": {
    "toc": true
   },
   "source": [
    "<h1>Table of Contents<span class=\"tocSkip\"></span></h1>\n",
    "<div class=\"toc\"><ul class=\"toc-item\"><li><span><a href=\"#Problem-Definition:\" data-toc-modified-id=\"Problem-Definition:-1\"><span class=\"toc-item-num\">1&nbsp;&nbsp;</span>Problem Definition:</a></span></li><li><span><a href=\"#Dataset-Details:\" data-toc-modified-id=\"Dataset-Details:-2\"><span class=\"toc-item-num\">2&nbsp;&nbsp;</span>Dataset Details:</a></span></li><li><span><a href=\"#Model-Training-Strategy:\" data-toc-modified-id=\"Model-Training-Strategy:-3\"><span class=\"toc-item-num\">3&nbsp;&nbsp;</span>Model Training Strategy:</a></span></li><li><span><a href=\"#Model-Validation-Strategy:\" data-toc-modified-id=\"Model-Validation-Strategy:-4\"><span class=\"toc-item-num\">4&nbsp;&nbsp;</span>Model Validation Strategy:</a></span></li></ul></div>"
   ]
  },
  {
   "cell_type": "markdown",
   "metadata": {},
   "source": [
    "# Spectral analysis\n",
    "\n",
    "## Problem Definition: \n",
    "\n",
    "The overall goal of this project is to establish an automated workflow for analyzing IR spectra. This includes the following sub-goals:\n",
    "\n",
    "* Read data from JDX files and assign a chemical formula and molecular structure to each spectra\n",
    "\n",
    "* Write code to automatically determine the number of peaks, their location, and their width for each spectra\n",
    "\n",
    "* Apply a machine learning algorithm to identify the presence of different types of chemical bonds based on the spectrum\n",
    "\n",
    "## Dataset Details: \n",
    "\n",
    "The data consists of 10 spectra from small hydrocarbon and oxygenate molecules in the `data` subfolder. Data are obtained directly from the [NIST Webbook](https://webbook.nist.gov/), and the range and resolution varies between different spectra. The spectra are in JDX format, and named according to their NIST ID's. The data can be accessed using a [Python package for reading JCAMP-DX files](https://pypi.org/project/jcamp/), or custom solutions can be implemented. The PubChem database and API can be used to automatically determine the chemical formula and bond structure based on the NIST ID."
   ]
  },
  {
   "cell_type": "markdown",
   "metadata": {},
   "source": [
    "## Model Training Strategy:\n",
    "\n",
    "Discuss how peak fitting and assignment will be achieved."
   ]
  },
  {
   "cell_type": "markdown",
   "metadata": {},
   "source": [
    "## Model Validation Strategy:\n",
    "\n",
    "Discuss how the model will be validated. If use of additional data is required describe how that data will be attained."
   ]
  }
 ],
 "metadata": {
  "kernelspec": {
   "display_name": "Python 3",
   "language": "python",
   "name": "python3"
  },
  "language_info": {
   "codemirror_mode": {
    "name": "ipython",
    "version": 3
   },
   "file_extension": ".py",
   "mimetype": "text/x-python",
   "name": "python",
   "nbconvert_exporter": "python",
   "pygments_lexer": "ipython3",
   "version": "3.6.9"
  },
  "toc": {
   "base_numbering": 1,
   "nav_menu": {},
   "number_sections": true,
   "sideBar": true,
   "skip_h1_title": true,
   "title_cell": "Table of Contents",
   "title_sidebar": "Contents",
   "toc_cell": true,
   "toc_position": {},
   "toc_section_display": true,
   "toc_window_display": false
  }
 },
 "nbformat": 4,
 "nbformat_minor": 2
}
