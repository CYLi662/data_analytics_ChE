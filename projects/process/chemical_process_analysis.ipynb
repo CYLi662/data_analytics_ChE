{
 "cells": [
  {
   "cell_type": "markdown",
   "metadata": {
    "toc": true
   },
   "source": [
    "<h1>Table of Contents<span class=\"tocSkip\"></span></h1>\n",
    "<div class=\"toc\"><ul class=\"toc-item\"><li><span><a href=\"#Problem-Definition:\" data-toc-modified-id=\"Problem-Definition:-1\"><span class=\"toc-item-num\">1&nbsp;&nbsp;</span>Problem Definition:</a></span></li><li><span><a href=\"#Dataset-Details:\" data-toc-modified-id=\"Dataset-Details:-2\"><span class=\"toc-item-num\">2&nbsp;&nbsp;</span>Dataset Details:</a></span></li><li><span><a href=\"#Model-Training-Strategy:\" data-toc-modified-id=\"Model-Training-Strategy:-3\"><span class=\"toc-item-num\">3&nbsp;&nbsp;</span>Model Training Strategy:</a></span></li><li><span><a href=\"#Model-Validation-Strategy:\" data-toc-modified-id=\"Model-Validation-Strategy:-4\"><span class=\"toc-item-num\">4&nbsp;&nbsp;</span>Model Validation Strategy:</a></span></li></ul></div>"
   ]
  },
  {
   "cell_type": "markdown",
   "metadata": {},
   "source": [
    "# Chemical process analysis\n",
    "\n",
    "## Problem Definition: \n",
    "\n",
    "The overall goal of this project is to establish a model capable of predicting the impurty level in the Dow chemical process as a function of the operating parameters. This will be achieved with the following sub-goals:\n",
    "\n",
    "* Read the dataset and eliminate missing values and outliers.\n",
    "\n",
    "* Create a regression model that balances accuracy with the total number of operating parameters that need to be known to make a prediction.\n",
    "\n",
    "* Analyze and engineer features and model structure to optimize performance.\n",
    "\n",
    "\n",
    "## Dataset Details: \n",
    "\n",
    "The data consists of 2 Excel spreadsheets of real process data generously provided by Dow Chemical. The spreadsheets monitor operating parameters and impurity levels as a function of time, and are separated into a \"training\" and \"validation\" dataset. There are a number of missing values and outliers present in the data."
   ]
  },
  {
   "cell_type": "markdown",
   "metadata": {},
   "source": [
    "## Model Training Strategy:\n",
    "\n",
    "Discuss how the regression model will be constructed and optimized, and suggest feature engineering strategies that will be explored."
   ]
  },
  {
   "cell_type": "markdown",
   "metadata": {},
   "source": [
    "## Model Validation Strategy:\n",
    "\n",
    "Discuss how the model will be validated. If use of additional data is required describe how that data will be attained."
   ]
  }
 ],
 "metadata": {
  "kernelspec": {
   "display_name": "Python 3",
   "language": "python",
   "name": "python3"
  },
  "language_info": {
   "codemirror_mode": {
    "name": "ipython",
    "version": 3
   },
   "file_extension": ".py",
   "mimetype": "text/x-python",
   "name": "python",
   "nbconvert_exporter": "python",
   "pygments_lexer": "ipython3",
   "version": "3.6.10"
  },
  "toc": {
   "base_numbering": 1,
   "nav_menu": {},
   "number_sections": true,
   "sideBar": true,
   "skip_h1_title": true,
   "title_cell": "Table of Contents",
   "title_sidebar": "Contents",
   "toc_cell": true,
   "toc_position": {},
   "toc_section_display": true,
   "toc_window_display": false
  }
 },
 "nbformat": 4,
 "nbformat_minor": 2
}
