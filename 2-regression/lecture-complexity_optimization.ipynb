{
 "cells": [
  {
   "cell_type": "markdown",
   "metadata": {
    "toc": true
   },
   "source": [
    "<h1>Table of Contents<span class=\"tocSkip\"></span></h1>\n",
    "<div class=\"toc\"><ul class=\"toc-item\"><li><span><a href=\"#Information-Criteria\" data-toc-modified-id=\"Information-Criteria-1\"><span class=\"toc-item-num\">1&nbsp;&nbsp;</span>Information Criteria</a></span><ul class=\"toc-item\"><li><span><a href=\"#Exercise:-Use-the-BIC-to-determine-the-optimum-number-of-evenly-spaced-Gaussians-for-the-spectra\" data-toc-modified-id=\"Exercise:-Use-the-BIC-to-determine-the-optimum-number-of-evenly-spaced-Gaussians-for-the-spectra-1.1\"><span class=\"toc-item-num\">1.1&nbsp;&nbsp;</span>Exercise: Use the BIC to determine the optimum number of evenly-spaced Gaussians for the spectra</a></span></li></ul></li><li><span><a href=\"#Regularization\" data-toc-modified-id=\"Regularization-2\"><span class=\"toc-item-num\">2&nbsp;&nbsp;</span>Regularization</a></span><ul class=\"toc-item\"><li><span><a href=\"#Discussion:-Why-is-the-&quot;smoothness&quot;-of-a-model-related-to-the-size-of-its-parameters?\" data-toc-modified-id=\"Discussion:-Why-is-the-&quot;smoothness&quot;-of-a-model-related-to-the-size-of-its-parameters?-2.1\"><span class=\"toc-item-num\">2.1&nbsp;&nbsp;</span>Discussion: Why is the \"smoothness\" of a model related to the size of its parameters?</a></span></li><li><span><a href=\"#Discussion:-What-happens-as--$\\alpha-\\rightarrow$-0-and-$\\alpha-\\rightarrow$-$\\infty$?\" data-toc-modified-id=\"Discussion:-What-happens-as--$\\alpha-\\rightarrow$-0-and-$\\alpha-\\rightarrow$-$\\infty$?-2.2\"><span class=\"toc-item-num\">2.2&nbsp;&nbsp;</span>Discussion: What happens as  $\\alpha \\rightarrow$ 0 and $\\alpha \\rightarrow$ $\\infty$?</a></span></li><li><span><a href=\"#Exercise:-Use-cross-validation-to-determine-the-optimal-value-of-$\\alpha$-when-$\\sigma=20$.\" data-toc-modified-id=\"Exercise:-Use-cross-validation-to-determine-the-optimal-value-of-$\\alpha$-when-$\\sigma=20$.-2.3\"><span class=\"toc-item-num\">2.3&nbsp;&nbsp;</span>Exercise: Use cross validation to determine the optimal value of $\\alpha$ when $\\sigma=20$.</a></span></li></ul></li><li><span><a href=\"#LASSO-Regularization\" data-toc-modified-id=\"LASSO-Regularization-3\"><span class=\"toc-item-num\">3&nbsp;&nbsp;</span>LASSO Regularization</a></span></li><li><span><a href=\"#Hyperparameter-Tuning\" data-toc-modified-id=\"Hyperparameter-Tuning-4\"><span class=\"toc-item-num\">4&nbsp;&nbsp;</span>Hyperparameter Tuning</a></span><ul class=\"toc-item\"><li><span><a href=\"#Exercise:-Optimize-the-hyperparameters-of-a-LASSO-model-for-the-spectrum-data\" data-toc-modified-id=\"Exercise:-Optimize-the-hyperparameters-of-a-LASSO-model-for-the-spectrum-data-4.1\"><span class=\"toc-item-num\">4.1&nbsp;&nbsp;</span>Exercise: Optimize the hyperparameters of a LASSO model for the spectrum data</a></span></li></ul></li></ul></div>"
   ]
  },
  {
   "cell_type": "markdown",
   "metadata": {},
   "source": [
    "# Complexity Optimization\n",
    "\n",
    "The key to machine learning is creating models that generalize to new examples. This means we are looking for models with enough complexity to describe the behavior, but not so much complexity that it just reproduces the data points.\n",
    "\n",
    "<center>\n",
    "<img src=\"images/underfitting_overfitting.png\" width=\"800\">\n",
    "</center>\n",
    "\n",
    "* Underfitting: The model is just \"guessing\" at the data, and will be equally bad at the data it has been trained on and the data that it is tested on.\n",
    "\n",
    "* Overfitting: The model has memorized all of the training data, and will be perfect on training data and terrible on testing data.\n",
    "\n",
    "* Optimal complexity: The model has *learned* from the training data and can *generalize* to the training data. The performance should be approximately as good for both sets."
   ]
  },
  {
   "cell_type": "markdown",
   "metadata": {},
   "source": [
    "Consider the general form of a machine-learning model introduced earlier:\n",
    "\n",
    "$\\vec{y} = f(\\vec{x}, \\vec{w}(\\vec{\\eta}))$\n",
    " \n",
    " The \"complexity\" of a model is defined by its hyperparameters ($\\vec{\\eta}$). The goal of machine learning is to **optimize the complexity** of a model so that it **generalizes to new examples**. In order to achieve this goal we first need a way to quantify complexity so that we can optimize it.\n",
    " \n",
    " In general there are a few strategies:\n",
    " \n",
    " * Number of parameters: \"Complexity\" varies linearly with number of parameters\n",
    " * Information criteria: \"Complexity\" varies with number of parameters and is balanced by the model error.\n",
    " * \"Smoothness\": \"Complexity\" is related to the maximum curvature of the model\n",
    " \n",
    " \"With four parameters I can fit an elephant, and with five I can make him wiggle his trunk.\"\n",
    " \n",
    " -- John Von Neumann\n",
    " \n",
    " (see an [example here](https://www.johndcook.com/blog/2011/06/21/how-to-fit-an-elephant/))"
   ]
  },
  {
   "cell_type": "markdown",
   "metadata": {},
   "source": [
    "## Information Criteria\n",
    "\n",
    "The idea behind an \"information criterion\" is that it quantifies the tradeoff between the number of parameters and the model error. The most commonly used information criterion is the \"Bayesian Information Criterion\", or BIC. The derivation of the BIC is beyond the scope of this course, but conceptually a lower BIC corresponds to a *more* probable model.\n",
    "\n",
    "If we assume that our error is normally distributed, the BIC can be easily computed as:\n",
    "\n",
    "$ BIC = n*\\ln{(\\sigma^2_e)} + k*\\ln(n)$\n",
    "\n",
    "where $n$ is the number of data points, $\\sigma_e$ is the standard deviation of the error, and $k$ is the number of parameters.\n",
    "\n",
    "There are a few other \"information critera\", with the Akaike Information Criterion, or AIC, being the other most commonly used. For now we will just consider the BIC, but they typically yield similar optimal models.\n",
    "\n",
    "Let's implement the BIC in Python:"
   ]
  },
  {
   "cell_type": "code",
   "execution_count": 1,
   "metadata": {},
   "outputs": [],
   "source": [
    "def BIC(y, yhat, k):\n",
    "    err = y - yhat\n",
    "    sigma = np.std(np.real(err))\n",
    "    n = len(y)\n",
    "    B = n*np.log(sigma**2) + k*np.log(n)\n",
    "    return B"
   ]
  },
  {
   "cell_type": "markdown",
   "metadata": {},
   "source": [
    "Now we will apply it to models with the spectra dataset:"
   ]
  },
  {
   "cell_type": "code",
   "execution_count": 2,
   "metadata": {},
   "outputs": [
    {
     "data": {
      "image/png": "[encoded data removed]",
      "text/plain": [
       "<Figure size 432x288 with 1 Axes>"
      ]
     },
     "metadata": {},
     "output_type": "display_data"
    }
   ],
   "source": [
    "%matplotlib inline\n",
    "import numpy as np\n",
    "import matplotlib.pyplot as plt\n",
    "import pandas as pd\n",
    "\n",
    "df = pd.read_csv('data/ethanol_IR.csv')\n",
    "x_all = df['wavenumber [cm^-1]'].values\n",
    "y_all = df['absorbance'].values\n",
    "\n",
    "x_peak = x_all[475:575]\n",
    "y_peak = y_all[475:575]\n",
    "\n",
    "fig, ax = plt.subplots()\n",
    "ax.plot(x_peak,y_peak, '-b', marker='.')\n",
    "ax.set_xlabel('wavenumber [cm^-1]')\n",
    "ax.set_ylabel('absorbance');"
   ]
  },
  {
   "cell_type": "markdown",
   "metadata": {},
   "source": [
    "Now, let's compare some of the many different models we have used for modeling the spectrum from the previous module and this module. We will look at the following models:\n",
    "\n",
    "* Polynomial regression with 40 polynomials (40 parameters)\n",
    "* Gaussian regression 20 evenly-spaced Gaussians (20 parameters)\n",
    "\n",
    "We will re-implement the polynomial and Gaussian regressions using `scikit-learn` to make things easier:"
   ]
  },
  {
   "cell_type": "code",
   "execution_count": 3,
   "metadata": {},
   "outputs": [
    {
     "data": {
      "text/plain": [
       "-278.8755549227588"
      ]
     },
     "execution_count": 3,
     "metadata": {},
     "output_type": "execute_result"
    }
   ],
   "source": [
    "from sklearn.linear_model import LinearRegression\n",
    "\n",
    "def polynomial_features(x, N):\n",
    "    # function to return a matrix of polynomials for x to order N\n",
    "    # One-liner uses \"list comprehension\" to iterate through range 0 - N (note N+1 since range function is not inclusive)\n",
    "    # The input, x, is raised to the power of N for each value of N\n",
    "    # The result is converted to an array and transposed so that columns correspond to features and rows correspond to data points (individual x values)\n",
    "    return np.array([x**k for k in range(0,N)]).T\n",
    "\n",
    "N = 40\n",
    "X_poly = polynomial_features(x_peak, N)\n",
    "\n",
    "LR_poly = LinearRegression() #create a linear regression model instance\n",
    "LR_poly.fit(X_poly, y_peak) #fit the model\n",
    "yhat_poly = LR_poly.predict(X_poly)\n",
    "\n",
    "BIC_poly = BIC(y_peak, yhat_poly, N)\n",
    "BIC_poly"
   ]
  },
  {
   "cell_type": "code",
   "execution_count": 4,
   "metadata": {},
   "outputs": [
    {
     "data": {
      "text/plain": [
       "-896.2526132005678"
      ]
     },
     "execution_count": 4,
     "metadata": {},
     "output_type": "execute_result"
    }
   ],
   "source": [
    "def gaussian_features(x, N , sigma = 25):\n",
    "    # x is a vector\n",
    "    # sigma is the standard deviation\n",
    "    xk_vec = np.linspace(min(x), max(x), N)\n",
    "    features = []\n",
    "    for xk in xk_vec:\n",
    "        features.append(np.exp(-((x - xk)**2/(2*sigma**2))))\n",
    "    return np.array(features).T\n",
    "\n",
    "N = 20\n",
    "X_gauss = gaussian_features(x_peak, N)\n",
    "\n",
    "LR_gauss = LinearRegression() #create a linear regression model instance\n",
    "LR_gauss.fit(X_gauss, y_peak) #fit the model\n",
    "yhat_gauss = LR_gauss.predict(X_gauss)\n",
    "\n",
    "BIC_gauss = BIC(y_peak, yhat_gauss, N)\n",
    "BIC_gauss"
   ]
  },
  {
   "cell_type": "code",
   "execution_count": 5,
   "metadata": {},
   "outputs": [
    {
     "data": {
      "image/png": "[encoded data removed]",
      "text/plain": [
       "<Figure size 864x288 with 2 Axes>"
      ]
     },
     "metadata": {},
     "output_type": "display_data"
    }
   ],
   "source": [
    "fig, axes = plt.subplots(1,2, figsize = (12,4))\n",
    "axes[0].plot(x_peak, y_peak, '.b')\n",
    "axes[1].plot(x_peak, y_peak, '.b')\n",
    "\n",
    "axes[0].plot(x_peak, yhat_poly, '--r')\n",
    "axes[1].plot(x_peak, yhat_gauss, '--r');"
   ]
  },
  {
   "cell_type": "markdown",
   "metadata": {},
   "source": [
    "We can see that the BIC correctly predicts that the Gaussian model is preferred."
   ]
  },
  {
   "cell_type": "markdown",
   "metadata": {},
   "source": [
    "### Exercise: Use the BIC to determine the optimum number of evenly-spaced Gaussians for the spectra"
   ]
  },
  {
   "cell_type": "markdown",
   "metadata": {},
   "source": [
    "There are numerous other \"information criteria\" that can be used in a similar way. Another common one is the \"Aikake information criterion\":\n",
    "\n",
    "$ AIC = 2*(\\ln{(\\sigma^2_e)} + k)$\n",
    "\n",
    "This is derived from a slightly different set of statistical assumptions. There are other criteria as well, and you can find them in the statistical literature if needed. However, it can often be very challenging to determine if your dataset fits the assumptions of the criteria, and in practice it is common to just use BIC. However, without knowing the details of the statistical assumptions these are not rigorous and should not be used as a substitute for common sense or intuition. However, the general idea of balancing number of parameters and model error provides a solid framework for thinking about complexity optimization.\n",
    "\n",
    "One other challenge with information criteria is that non-parametric models have parameters that are not defined in the same way (the parameters and their values change depending on the training data). This makes it difficult (or impossible) to apply information critera with non-parametric models."
   ]
  },
  {
   "cell_type": "markdown",
   "metadata": {},
   "source": [
    "## Regularization\n",
    "\n",
    "Another way of penalizing complexity is by trying to penalize models that change very sharply. This is achieved by adding a penalty for parameters with very large values in the loss function. For example:\n",
    "\n",
    "$L = \\sum_i \\epsilon_i^2 + \\alpha \\sqrt{\\sum_j w_j^2}$\n",
    "\n",
    "In this case, we introduce a new hyperparameter, $\\alpha$, which controls the strength of regularization. We also choose to regularize on the square root of the sum of squared parameters, which is often called the \"L2 norm\" and written as:\n",
    "\n",
    "$L = \\sum_i \\epsilon_i^2 + \\alpha ||\\vec{w}||_2$\n",
    "\n",
    "We can also regularize in other ways, which can have advantages in some cases. We will discuss this more later, but will focus on the L2 norm for now."
   ]
  },
  {
   "cell_type": "markdown",
   "metadata": {},
   "source": [
    "### Discussion: Why is the \"smoothness\" of a model related to the size of its parameters?"
   ]
  },
  {
   "cell_type": "markdown",
   "metadata": {},
   "source": [
    "Regularization is especially critical in the case of non-parametric models, where the number of parameters is always greater than the number of data points. If we use a kernel and regularize on the sum of squared parameters it is called **Kernel Ridge Regression**, or KRR. We will not derive the equations here, but it can be done analytically (Hint: You should think about how you would do this).\n",
    "\n",
    "We will just use the `scikit-learn` implementation for now:"
   ]
  },
  {
   "cell_type": "code",
   "execution_count": 6,
   "metadata": {},
   "outputs": [
    {
     "name": "stdout",
     "output_type": "stream",
     "text": [
      "Help on class KernelRidge in module sklearn.kernel_ridge:\n",
      "\n",
      "class KernelRidge(sklearn.base.BaseEstimator, sklearn.base.RegressorMixin, sklearn.base.MultiOutputMixin)\n",
      " |  Kernel ridge regression.\n",
      " |  \n",
      " |  Kernel ridge regression (KRR) combines ridge regression (linear least\n",
      " |  squares with l2-norm regularization) with the kernel trick. It thus\n",
      " |  learns a linear function in the space induced by the respective kernel and\n",
      " |  the data. For non-linear kernels, this corresponds to a non-linear\n",
      " |  function in the original space.\n",
      " |  \n",
      " |  The form of the model learned by KRR is identical to support vector\n",
      " |  regression (SVR). However, different loss functions are used: KRR uses\n",
      " |  squared error loss while support vector regression uses epsilon-insensitive\n",
      " |  loss, both combined with l2 regularization. In contrast to SVR, fitting a\n",
      " |  KRR model can be done in closed-form and is typically faster for\n",
      " |  medium-sized datasets. On the other hand, the learned model is non-sparse\n",
      " |  and thus slower than SVR, which learns a sparse model for epsilon > 0, at\n",
      " |  prediction-time.\n",
      " |  \n",
      " |  This estimator has built-in support for multi-variate regression\n",
      " |  (i.e., when y is a 2d-array of shape [n_samples, n_targets]).\n",
      " |  \n",
      " |  Read more in the :ref:`User Guide <kernel_ridge>`.\n",
      " |  \n",
      " |  Parameters\n",
      " |  ----------\n",
      " |  alpha : {float, array-like}, shape = [n_targets]\n",
      " |      Small positive values of alpha improve the conditioning of the problem\n",
      " |      and reduce the variance of the estimates.  Alpha corresponds to\n",
      " |      ``(2*C)^-1`` in other linear models such as LogisticRegression or\n",
      " |      LinearSVC. If an array is passed, penalties are assumed to be specific\n",
      " |      to the targets. Hence they must correspond in number.\n",
      " |  \n",
      " |  kernel : string or callable, default=\"linear\"\n",
      " |      Kernel mapping used internally. A callable should accept two arguments\n",
      " |      and the keyword arguments passed to this object as kernel_params, and\n",
      " |      should return a floating point number. Set to \"precomputed\" in\n",
      " |      order to pass a precomputed kernel matrix to the estimator\n",
      " |      methods instead of samples.\n",
      " |  \n",
      " |  gamma : float, default=None\n",
      " |      Gamma parameter for the RBF, laplacian, polynomial, exponential chi2\n",
      " |      and sigmoid kernels. Interpretation of the default value is left to\n",
      " |      the kernel; see the documentation for sklearn.metrics.pairwise.\n",
      " |      Ignored by other kernels.\n",
      " |  \n",
      " |  degree : float, default=3\n",
      " |      Degree of the polynomial kernel. Ignored by other kernels.\n",
      " |  \n",
      " |  coef0 : float, default=1\n",
      " |      Zero coefficient for polynomial and sigmoid kernels.\n",
      " |      Ignored by other kernels.\n",
      " |  \n",
      " |  kernel_params : mapping of string to any, optional\n",
      " |      Additional parameters (keyword arguments) for kernel function passed\n",
      " |      as callable object.\n",
      " |  \n",
      " |  Attributes\n",
      " |  ----------\n",
      " |  dual_coef_ : array, shape = [n_samples] or [n_samples, n_targets]\n",
      " |      Representation of weight vector(s) in kernel space\n",
      " |  \n",
      " |  X_fit_ : {array-like, sparse matrix}, shape = [n_samples, n_features]\n",
      " |      Training data, which is also required for prediction. If\n",
      " |      kernel == \"precomputed\" this is instead the precomputed\n",
      " |      training matrix, shape = [n_samples, n_samples].\n",
      " |  \n",
      " |  References\n",
      " |  ----------\n",
      " |  * Kevin P. Murphy\n",
      " |    \"Machine Learning: A Probabilistic Perspective\", The MIT Press\n",
      " |    chapter 14.4.3, pp. 492-493\n",
      " |  \n",
      " |  See also\n",
      " |  --------\n",
      " |  sklearn.linear_model.Ridge:\n",
      " |      Linear ridge regression.\n",
      " |  sklearn.svm.SVR:\n",
      " |      Support Vector Regression implemented using libsvm.\n",
      " |  \n",
      " |  Examples\n",
      " |  --------\n",
      " |  >>> from sklearn.kernel_ridge import KernelRidge\n",
      " |  >>> import numpy as np\n",
      " |  >>> n_samples, n_features = 10, 5\n",
      " |  >>> rng = np.random.RandomState(0)\n",
      " |  >>> y = rng.randn(n_samples)\n",
      " |  >>> X = rng.randn(n_samples, n_features)\n",
      " |  >>> clf = KernelRidge(alpha=1.0)\n",
      " |  >>> clf.fit(X, y) # doctest: +NORMALIZE_WHITESPACE\n",
      " |  KernelRidge(alpha=1.0, coef0=1, degree=3, gamma=None, kernel='linear',\n",
      " |              kernel_params=None)\n",
      " |  \n",
      " |  Method resolution order:\n",
      " |      KernelRidge\n",
      " |      sklearn.base.BaseEstimator\n",
      " |      sklearn.base.RegressorMixin\n",
      " |      sklearn.base.MultiOutputMixin\n",
      " |      builtins.object\n",
      " |  \n",
      " |  Methods defined here:\n",
      " |  \n",
      " |  __init__(self, alpha=1, kernel='linear', gamma=None, degree=3, coef0=1, kernel_params=None)\n",
      " |      Initialize self.  See help(type(self)) for accurate signature.\n",
      " |  \n",
      " |  fit(self, X, y=None, sample_weight=None)\n",
      " |      Fit Kernel Ridge regression model\n",
      " |      \n",
      " |      Parameters\n",
      " |      ----------\n",
      " |      X : {array-like, sparse matrix}, shape = [n_samples, n_features]\n",
      " |          Training data. If kernel == \"precomputed\" this is instead\n",
      " |          a precomputed kernel matrix, shape = [n_samples,\n",
      " |          n_samples].\n",
      " |      \n",
      " |      y : array-like, shape = [n_samples] or [n_samples, n_targets]\n",
      " |          Target values\n",
      " |      \n",
      " |      sample_weight : float or array-like of shape [n_samples]\n",
      " |          Individual weights for each sample, ignored if None is passed.\n",
      " |      \n",
      " |      Returns\n",
      " |      -------\n",
      " |      self : returns an instance of self.\n",
      " |  \n",
      " |  predict(self, X)\n",
      " |      Predict using the kernel ridge model\n",
      " |      \n",
      " |      Parameters\n",
      " |      ----------\n",
      " |      X : {array-like, sparse matrix}, shape = [n_samples, n_features]\n",
      " |          Samples. If kernel == \"precomputed\" this is instead a\n",
      " |          precomputed kernel matrix, shape = [n_samples,\n",
      " |          n_samples_fitted], where n_samples_fitted is the number of\n",
      " |          samples used in the fitting for this estimator.\n",
      " |      \n",
      " |      Returns\n",
      " |      -------\n",
      " |      C : array, shape = [n_samples] or [n_samples, n_targets]\n",
      " |          Returns predicted values.\n",
      " |  \n",
      " |  ----------------------------------------------------------------------\n",
      " |  Methods inherited from sklearn.base.BaseEstimator:\n",
      " |  \n",
      " |  __getstate__(self)\n",
      " |  \n",
      " |  __repr__(self, N_CHAR_MAX=700)\n",
      " |      Return repr(self).\n",
      " |  \n",
      " |  __setstate__(self, state)\n",
      " |  \n",
      " |  get_params(self, deep=True)\n",
      " |      Get parameters for this estimator.\n",
      " |      \n",
      " |      Parameters\n",
      " |      ----------\n",
      " |      deep : boolean, optional\n",
      " |          If True, will return the parameters for this estimator and\n",
      " |          contained subobjects that are estimators.\n",
      " |      \n",
      " |      Returns\n",
      " |      -------\n",
      " |      params : mapping of string to any\n",
      " |          Parameter names mapped to their values.\n",
      " |  \n",
      " |  set_params(self, **params)\n",
      " |      Set the parameters of this estimator.\n",
      " |      \n",
      " |      The method works on simple estimators as well as on nested objects\n",
      " |      (such as pipelines). The latter have parameters of the form\n",
      " |      ``<component>__<parameter>`` so that it's possible to update each\n",
      " |      component of a nested object.\n",
      " |      \n",
      " |      Returns\n",
      " |      -------\n",
      " |      self\n",
      " |  \n",
      " |  ----------------------------------------------------------------------\n",
      " |  Data descriptors inherited from sklearn.base.BaseEstimator:\n",
      " |  \n",
      " |  __dict__\n",
      " |      dictionary for instance variables (if defined)\n",
      " |  \n",
      " |  __weakref__\n",
      " |      list of weak references to the object (if defined)\n",
      " |  \n",
      " |  ----------------------------------------------------------------------\n",
      " |  Methods inherited from sklearn.base.RegressorMixin:\n",
      " |  \n",
      " |  score(self, X, y, sample_weight=None)\n",
      " |      Returns the coefficient of determination R^2 of the prediction.\n",
      " |      \n",
      " |      The coefficient R^2 is defined as (1 - u/v), where u is the residual\n",
      " |      sum of squares ((y_true - y_pred) ** 2).sum() and v is the total\n",
      " |      sum of squares ((y_true - y_true.mean()) ** 2).sum().\n",
      " |      The best possible score is 1.0 and it can be negative (because the\n",
      " |      model can be arbitrarily worse). A constant model that always\n",
      " |      predicts the expected value of y, disregarding the input features,\n",
      " |      would get a R^2 score of 0.0.\n",
      " |      \n",
      " |      Parameters\n",
      " |      ----------\n",
      " |      X : array-like, shape = (n_samples, n_features)\n",
      " |          Test samples. For some estimators this may be a\n",
      " |          precomputed kernel matrix instead, shape = (n_samples,\n",
      " |          n_samples_fitted], where n_samples_fitted is the number of\n",
      " |          samples used in the fitting for the estimator.\n",
      " |      \n",
      " |      y : array-like, shape = (n_samples) or (n_samples, n_outputs)\n",
      " |          True values for X.\n",
      " |      \n",
      " |      sample_weight : array-like, shape = [n_samples], optional\n",
      " |          Sample weights.\n",
      " |      \n",
      " |      Returns\n",
      " |      -------\n",
      " |      score : float\n",
      " |          R^2 of self.predict(X) wrt. y.\n",
      " |      \n",
      " |      Notes\n",
      " |      -----\n",
      " |      The R2 score used when calling ``score`` on a regressor will use\n",
      " |      ``multioutput='uniform_average'`` from version 0.23 to keep consistent\n",
      " |      with `metrics.r2_score`. This will influence the ``score`` method of\n",
      " |      all the multioutput regressors (except for\n",
      " |      `multioutput.MultiOutputRegressor`). To specify the default value\n",
      " |      manually and avoid the warning, please either call `metrics.r2_score`\n",
      " |      directly or make a custom scorer with `metrics.make_scorer` (the\n",
      " |      built-in scorer ``'r2'`` uses ``multioutput='uniform_average'``).\n",
      "\n"
     ]
    }
   ],
   "source": [
    "from sklearn.kernel_ridge import KernelRidge\n",
    "help(KernelRidge)"
   ]
  },
  {
   "cell_type": "markdown",
   "metadata": {},
   "source": [
    "If we look at the parameters we see that we need to specify which kernel to use (we will use `rbf`), the `gamma` value corresponding to the width of the kernel, and `alpha` corresponding to the regularization strength. You are already familiar with the `rbf` kernel and `gamma` from the non-parametric models lecture. The only new thing here is the regularization strength, `alpha`."
   ]
  },
  {
   "cell_type": "code",
   "execution_count": 7,
   "metadata": {},
   "outputs": [
    {
     "data": {
      "image/png": "[encoded data removed]",
      "text/plain": [
       "<Figure size 432x288 with 1 Axes>"
      ]
     },
     "metadata": {},
     "output_type": "display_data"
    }
   ],
   "source": [
    "sigma = 10\n",
    "gamma = 1./(2*sigma**2)\n",
    "\n",
    "alpha = 0.001\n",
    "\n",
    "KRR = KernelRidge(alpha=alpha, kernel='rbf', gamma=gamma)\n",
    "x_peak = x_peak.reshape(-1,1) #we need to convert these to columns\n",
    "y_peak = y_peak.reshape(-1,1)\n",
    "\n",
    "KRR.fit(x_peak, y_peak)\n",
    "\n",
    "x_predict = np.linspace(min(x_peak), max(x_peak), 300) #create prediction data\n",
    "yhat_KRR = KRR.predict(x_predict)\n",
    "\n",
    "fig, ax = plt.subplots()\n",
    "ax.plot(x_peak, y_peak, 'ob')\n",
    "ax.plot(x_predict, yhat_KRR, '--r', markerfacecolor='none');"
   ]
  },
  {
   "cell_type": "markdown",
   "metadata": {},
   "source": [
    "### Discussion: What happens as  $\\alpha \\rightarrow$ 0 and $\\alpha \\rightarrow$ $\\infty$?"
   ]
  },
  {
   "cell_type": "markdown",
   "metadata": {},
   "source": [
    "We see that the regularization clearly affects the model, but sometimes it seems to make it worse. We need some strategy for assessing what value of regularization to choose. We can go back to the idea of cross-validation to achieve this:"
   ]
  },
  {
   "cell_type": "code",
   "execution_count": 8,
   "metadata": {
    "scrolled": true
   },
   "outputs": [
    {
     "data": {
      "image/png": "[encoded data removed]",
      "text/plain": [
       "<Figure size 432x288 with 1 Axes>"
      ]
     },
     "metadata": {},
     "output_type": "display_data"
    }
   ],
   "source": [
    "from sklearn.model_selection import train_test_split\n",
    "np.random.seed(0)\n",
    "\n",
    "x_train, x_test, y_train, y_test = train_test_split(x_peak, y_peak, test_size=0.4)\n",
    "\n",
    "fig, ax = plt.subplots()\n",
    "\n",
    "ax.plot(x_train, y_train, 'ob')\n",
    "ax.plot(x_test, y_test, 'or', markerfacecolor='none');"
   ]
  },
  {
   "cell_type": "markdown",
   "metadata": {},
   "source": [
    "We can use hold out to compute the error on the testing data as we vary the regularization strength:"
   ]
  },
  {
   "cell_type": "code",
   "execution_count": 9,
   "metadata": {},
   "outputs": [
    {
     "name": "stdout",
     "output_type": "stream",
     "text": [
      "0.9816791895375325\n"
     ]
    },
    {
     "data": {
      "image/png": "[encoded data removed]",
      "text/plain": [
       "<Figure size 432x288 with 1 Axes>"
      ]
     },
     "metadata": {},
     "output_type": "display_data"
    }
   ],
   "source": [
    "sigma = 10\n",
    "gamma = 1./(2*sigma**2)\n",
    "\n",
    "alpha = 1e-3\n",
    "\n",
    "KRR = KernelRidge(alpha=alpha, kernel='rbf', gamma=gamma)\n",
    "KRR.fit(x_train, y_train)\n",
    "\n",
    "x_predict = np.linspace(min(x_peak), max(x_peak), 300) #create prediction data\n",
    "yhat_KRR = KRR.predict(x_predict)\n",
    "\n",
    "r2_test = KRR.score(x_test, y_test)\n",
    "print(r2_test)\n",
    "\n",
    "fig, ax = plt.subplots()\n",
    "ax.plot(x_train, y_train, 'ob')\n",
    "ax.plot(x_test, y_test, 'or', markerfacecolor='none');\n",
    "ax.plot(x_predict, yhat_KRR, '--r', markerfacecolor='none');"
   ]
  },
  {
   "cell_type": "markdown",
   "metadata": {},
   "source": [
    "You can also see how the regularization affects the parameters, $\\vec{w}$, by looking at the (not intuitively named) `dual_coef_` attribute of the KRR model:"
   ]
  },
  {
   "cell_type": "code",
   "execution_count": 10,
   "metadata": {},
   "outputs": [
    {
     "name": "stdout",
     "output_type": "stream",
     "text": [
      "The model has 60 coefficients.\n",
      "The largest coefficient is 10.984.\n"
     ]
    },
    {
     "data": {
      "image/png": "[encoded data removed]",
      "text/plain": [
       "<Figure size 432x288 with 1 Axes>"
      ]
     },
     "metadata": {},
     "output_type": "display_data"
    }
   ],
   "source": [
    "coeffs= KRR.dual_coef_\n",
    "print('The model has {} coefficients.'.format(len(coeffs)))\n",
    "\n",
    "fig, ax = plt.subplots()\n",
    "ax.hist(coeffs)\n",
    "print('The largest coefficient is {:.3f}.'.format(max(abs(coeffs))[0]));"
   ]
  },
  {
   "cell_type": "markdown",
   "metadata": {},
   "source": [
    "### Exercise: Use cross validation to determine the optimal value of $\\alpha$ when $\\sigma=20$."
   ]
  },
  {
   "cell_type": "markdown",
   "metadata": {},
   "source": [
    "## LASSO Regularization\n",
    "\n",
    "Ridge regression provides a good way to penalize model \"smoothness\", but it doesn't actually reduce the number of parameters. We can see that all of the coefficients are non-zero:"
   ]
  },
  {
   "cell_type": "code",
   "execution_count": 11,
   "metadata": {},
   "outputs": [
    {
     "name": "stdout",
     "output_type": "stream",
     "text": [
      "Total number of non-zero parameters: 60\n"
     ]
    }
   ],
   "source": [
    "nonzero = [f for f in np.isclose(coeffs,0) if f == False]\n",
    "print('Total number of non-zero parameters: {}'.format(len(nonzero)))"
   ]
  },
  {
   "cell_type": "markdown",
   "metadata": {},
   "source": [
    "Ideally we could also use regularization to reduce the number of parameters. It turns out that this can be achieved using the L1 norm:\n",
    "\n",
    "$||L_1|| = \\sum_i |w_i|$\n",
    "\n",
    "where $|.|$ is the absolute value. This is called \"least absolute shrinkage and selection operator\" regression, which is a terrible name with a great acronym: LASSO. The loss function for LASSO is defined as:\n",
    "\n",
    "$L_{LASSO} = \\sum_i \\epsilon_i^2 + \\alpha ||\\vec{w}||_1$\n",
    "\n",
    "This can be compared to the loss function for ridge regression:\n",
    "\n",
    "$L_{ridge} = \\sum_i \\epsilon_i^2 + \\alpha ||\\vec{w}||_2$\n",
    "\n",
    "We will not go through the derivation of *why* the L1 norm causes parameters to go to zero, but the following schematic, borrowed from [this website](https://niallmartin.wordpress.com/2016/05/12/shrinkage-methods-ridge-and-lasso-regression/) may be useful (note that $\\vec{\\beta}$ is equivalent to $\\vec{w}$:\n",
    "\n",
    "<center>\n",
    "<img src=\"images/lasso_vs_ridge_regression.png\" width=\"600\">\n",
    "</center>\n",
    "\n",
    "We can also test it using `scikit-learn`. Unfortunately, we need to create our own feature (basis) matrix, $X_{ij}$, similar to linear regression, so we will need a function to evaluate the `rbf`. Instead of using our own, we can use the one from `scikit-learn`:"
   ]
  },
  {
   "cell_type": "code",
   "execution_count": 12,
   "metadata": {},
   "outputs": [],
   "source": [
    "from sklearn.metrics.pairwise import rbf_kernel\n",
    "\n",
    "sigma = 10\n",
    "gamma = 1./(2*sigma**2)\n",
    "\n",
    "X_train = rbf_kernel(x_train, x_train, gamma=gamma)"
   ]
  },
  {
   "cell_type": "code",
   "execution_count": 13,
   "metadata": {},
   "outputs": [
    {
     "name": "stdout",
     "output_type": "stream",
     "text": [
      "60\n"
     ]
    },
    {
     "data": {
      "image/png": "[encoded data removed]",
      "text/plain": [
       "<Figure size 432x288 with 1 Axes>"
      ]
     },
     "metadata": {},
     "output_type": "display_data"
    }
   ],
   "source": [
    "from sklearn.linear_model import Lasso\n",
    "\n",
    "sigma = 10\n",
    "gamma = 1./(2*sigma**2)\n",
    "\n",
    "alpha = 1e-4\n",
    "\n",
    "LASSO = Lasso(alpha=alpha)\n",
    "LASSO.fit(X_train, y_train)\n",
    "print(len(LASSO.coef_))\n",
    "\n",
    "x_predict = np.linspace(min(x_peak), max(x_peak), 300) #create prediction data\n",
    "X_predict = rbf_kernel(x_predict, x_train, gamma=gamma)\n",
    "\n",
    "yhat_LASSO = LASSO.predict(X_predict)\n",
    "\n",
    "fig, ax = plt.subplots()\n",
    "ax.plot(x_train, y_train, 'ob')\n",
    "ax.plot(x_test, y_test, 'og')\n",
    "ax.plot(x_predict, yhat_LASSO, '--r');"
   ]
  },
  {
   "cell_type": "markdown",
   "metadata": {},
   "source": [
    "The results look similar to KRR. Now we can see how many non-zero parameters there are, and check the parameter values:"
   ]
  },
  {
   "cell_type": "code",
   "execution_count": 14,
   "metadata": {
    "scrolled": true
   },
   "outputs": [
    {
     "name": "stdout",
     "output_type": "stream",
     "text": [
      "Total number of non-zero parameters: 41\n"
     ]
    },
    {
     "data": {
      "image/png": "[encoded data removed]",
      "text/plain": [
       "<Figure size 432x288 with 1 Axes>"
      ]
     },
     "metadata": {},
     "output_type": "display_data"
    }
   ],
   "source": [
    "coeffs = LASSO.coef_\n",
    "\n",
    "fig, ax = plt.subplots()\n",
    "ax.hist(coeffs)\n",
    "\n",
    "nonzero = [f for f in np.isclose(coeffs,0) if f == False]\n",
    "print('Total number of non-zero parameters: {}'.format(len(nonzero)))"
   ]
  },
  {
   "cell_type": "markdown",
   "metadata": {},
   "source": [
    "We see that the LASSO regularization has a lot of coefficients that are equal to zero. This is equivalent to discarding these terms and finding which Gaussians should (or should not) be included."
   ]
  },
  {
   "cell_type": "markdown",
   "metadata": {},
   "source": [
    "## Hyperparameter Tuning\n",
    "\n",
    "The KRR and LASSO models above have 2 hyperparameters: $\\gamma$ $\\left(=\\frac{1}{2\\sigma^2}\\right)$ and $\\alpha$. So far, we have optimized $\\alpha$, but the model performance (and optimal $\\alpha$) will also depend on $\\sigma$. You can probably see that optimizing these will get rather tedious.\n",
    "\n",
    "Fortunately, `scikit-learn` has some nice built-in tools to help. The most commonly used is `GridSearchCV`, which is a brute-force approach that searches over a grid of hyperparameters, and uses cross-validation at each grid point to assess model performace.\n",
    "\n",
    "Here we will use GridSearchCV to find the optimum KRR model and its score (related to $R^2$):"
   ]
  },
  {
   "cell_type": "code",
   "execution_count": 15,
   "metadata": {},
   "outputs": [
    {
     "data": {
      "text/plain": [
       "(KernelRidge(alpha=0.01, coef0=1, degree=3, gamma=0.0005555555555555556,\n",
       "             kernel='rbf', kernel_params=None), 0.9953287405140008)"
      ]
     },
     "execution_count": 15,
     "metadata": {},
     "output_type": "execute_result"
    }
   ],
   "source": [
    "from sklearn.model_selection import GridSearchCV\n",
    "\n",
    "sigmas = np.array([5, 10, 15, 20, 25, 30,35, 40])\n",
    "gammas = 1./(2*sigmas**2)\n",
    "\n",
    "alphas = np.array([1e-9, 1e-5, 1e-4,1e-3, 1e-2,1e-1, 1])\n",
    "\n",
    "parameter_ranges = {'alpha':alphas, 'gamma':gammas}\n",
    "\n",
    "KRR = KernelRidge(kernel='rbf')\n",
    "\n",
    "KRR_search = GridSearchCV(KRR, parameter_ranges, cv=3)\n",
    "KRR_search.fit(x_train,y_train)\n",
    "KRR_search.best_estimator_, KRR_search.best_score_"
   ]
  },
  {
   "cell_type": "markdown",
   "metadata": {},
   "source": [
    "This tells us that the best performance comes from a model with $\\alpha=0.01$ and $\\gamma=0.000555$. We can check the performance of the model:"
   ]
  },
  {
   "cell_type": "code",
   "execution_count": 16,
   "metadata": {},
   "outputs": [
    {
     "data": {
      "image/png": "[encoded data removed]",
      "text/plain": [
       "<Figure size 432x288 with 1 Axes>"
      ]
     },
     "metadata": {},
     "output_type": "display_data"
    }
   ],
   "source": [
    "yhat_KRR = KRR_search.best_estimator_.predict(x_predict)\n",
    "\n",
    "fig, ax = plt.subplots()\n",
    "ax.plot(x_train, y_train, 'ob')\n",
    "ax.plot(x_test, y_test, 'og')\n",
    "ax.plot(x_predict, yhat_KRR, '--r', markerfacecolor='none');"
   ]
  },
  {
   "cell_type": "markdown",
   "metadata": {},
   "source": [
    "This is much faster than doing all the work yourself!\n",
    "\n",
    "One note is that the best model will depend on the parameters you search over, as well as the cross-validation strategy. In this case, `cv=3` means that the model performs 3-fold cross-validation at each gridpoint."
   ]
  },
  {
   "cell_type": "markdown",
   "metadata": {},
   "source": [
    "### Exercise: Optimize the hyperparameters of a LASSO model for the spectrum data\n",
    "\n",
    "Search over the same values of $\\alpha$ and $\\sigma$ as for KRR above, and use 3-fold cross validation.\n",
    "\n",
    "Note: You will need to use a for loop over the $\\sigma$ values. Use `GridSearchCV.best_score_` as accuracy metric."
   ]
  },
  {
   "cell_type": "code",
   "execution_count": 17,
   "metadata": {},
   "outputs": [],
   "source": [
    "sigmas = np.array([5,10, 15, 20,25,30,35,40])\n",
    "gammas = 1./(2*sigmas**2)\n",
    "\n",
    "alphas = np.array([1e-9, 1e-5, 1e-4, 1e-3, 1e-2,1e-1, 1, 10, 100, 1000])\n",
    "\n",
    "#insert code here"
   ]
  }
 ],
 "metadata": {
  "kernelspec": {
   "display_name": "Python 3",
   "language": "python",
   "name": "python3"
  },
  "language_info": {
   "codemirror_mode": {
    "name": "ipython",
    "version": 3
   },
   "file_extension": ".py",
   "mimetype": "text/x-python",
   "name": "python",
   "nbconvert_exporter": "python",
   "pygments_lexer": "ipython3",
   "version": "3.6.3"
  },
  "toc": {
   "base_numbering": 1,
   "nav_menu": {},
   "number_sections": true,
   "sideBar": true,
   "skip_h1_title": true,
   "title_cell": "Table of Contents",
   "title_sidebar": "Contents",
   "toc_cell": true,
   "toc_position": {},
   "toc_section_display": true,
   "toc_window_display": false
  }
 },
 "nbformat": 4,
 "nbformat_minor": 2
}
