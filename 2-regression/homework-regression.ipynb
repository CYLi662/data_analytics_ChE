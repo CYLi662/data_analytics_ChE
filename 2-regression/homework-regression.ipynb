{
 "cells": [
  {
   "cell_type": "markdown",
   "metadata": {
    "toc": true
   },
   "source": [
    "<h1>Table of Contents<span class=\"tocSkip\"></span></h1>\n",
    "<div class=\"toc\"><ul class=\"toc-item\"><li><span><a href=\"#10-points:-Cauchy-Kernel-Matrix\" data-toc-modified-id=\"10-points:-Cauchy-Kernel-Matrix-1\"><span class=\"toc-item-num\">1&nbsp;&nbsp;</span>10 points: Cauchy Kernel Matrix</a></span></li><li><span><a href=\"#15-points:-Ensemble-Kernel-Ridge-Regression\" data-toc-modified-id=\"15-points:-Ensemble-Kernel-Ridge-Regression-2\"><span class=\"toc-item-num\">2&nbsp;&nbsp;</span>15 points: Ensemble Kernel Ridge Regression</a></span></li><li><span><a href=\"#10-points:-Feature-Scaling\" data-toc-modified-id=\"10-points:-Feature-Scaling-3\"><span class=\"toc-item-num\">3&nbsp;&nbsp;</span>10 points: Feature Scaling</a></span></li><li><span><a href=\"#10-points:-LASSO-regression\" data-toc-modified-id=\"10-points:-LASSO-regression-4\"><span class=\"toc-item-num\">4&nbsp;&nbsp;</span>10 points: LASSO regression</a></span></li><li><span><a href=\"#15-points:-Hyperparameter-Tuning\" data-toc-modified-id=\"15-points:-Hyperparameter-Tuning-5\"><span class=\"toc-item-num\">5&nbsp;&nbsp;</span>15 points: Hyperparameter Tuning</a></span></li><li><span><a href=\"#10-points-(6745-only):-Kernel-matrix-properties\" data-toc-modified-id=\"10-points-(6745-only):-Kernel-matrix-properties-6\"><span class=\"toc-item-num\">6&nbsp;&nbsp;</span>10 points (6745 only): Kernel matrix properties</a></span></li></ul></div>"
   ]
  },
  {
   "cell_type": "markdown",
   "metadata": {},
   "source": [
    "# Homework: Regression"
   ]
  },
  {
   "cell_type": "markdown",
   "metadata": {},
   "source": [
    "This homework will explore kernel regression, regularization, complexity optimization, and high-dimensional regression. The blocks below load in 2 datasets that you will work with. One is the same region of the ethanol dataset from the numerical methods module, and the other is the Dow process data."
   ]
  },
  {
   "cell_type": "code",
   "execution_count": 3,
   "metadata": {},
   "outputs": [
    {
     "data": {
      "text/plain": [
       "Text(0,0.5,'absorbance')"
      ]
     },
     "execution_count": 3,
     "metadata": {},
     "output_type": "execute_result"
    },
    {
     "data": {
      "image/png": "[encoded data removed]",
      "text/plain": [
       "<Figure size 432x288 with 1 Axes>"
      ]
     },
     "metadata": {},
     "output_type": "display_data"
    }
   ],
   "source": [
    "%matplotlib inline\n",
    "import numpy as np\n",
    "import pylab as plt\n",
    "import pandas as pd\n",
    "\n",
    "df = pd.read_csv('data/ethanol_IR.csv')\n",
    "x_all = df['wavenumber [cm^-1]'].values\n",
    "y_all = df['absorbance'].values\n",
    "\n",
    "x_peak = x_all[100:250]\n",
    "y_peak = y_all[100:250]\n",
    "\n",
    "fig, ax = plt.subplots()\n",
    "ax.plot(x_peak,y_peak, '-b', marker='.')\n",
    "ax.set_xlabel('wavenumber [cm^-1]')\n",
    "ax.set_ylabel('absorbance')"
   ]
  },
  {
   "cell_type": "code",
   "execution_count": 4,
   "metadata": {},
   "outputs": [
    {
     "name": "stdout",
     "output_type": "stream",
     "text": [
      "X matrix dimensions: (10297, 40)\n",
      "y vector dimensions: (10297, 1)\n"
     ]
    }
   ],
   "source": [
    "df = pd.read_excel('data/impurity_dataset-training.xlsx')\n",
    "\n",
    "def is_real_and_finite(x):\n",
    "    if not np.isreal(x):\n",
    "        return False\n",
    "    elif not np.isfinite(x):\n",
    "        return False\n",
    "    else:\n",
    "        return True\n",
    "\n",
    "all_data = df[df.columns[1:]].values #drop the first column (date)\n",
    "numeric_map = df[df.columns[1:]].applymap(is_real_and_finite)\n",
    "real_rows = numeric_map.all(axis=1).copy().values #True if all values in a row are real numbers\n",
    "X = np.array(all_data[real_rows,:-5], dtype='float') #drop the last 5 cols that are not inputs\n",
    "y = np.array(all_data[real_rows,-3], dtype='float')\n",
    "y = y.reshape(-1,1)\n",
    "\n",
    "print('X matrix dimensions: {}'.format(X.shape))\n",
    "print('y vector dimensions: {}'.format(y.shape))"
   ]
  },
  {
   "cell_type": "markdown",
   "metadata": {},
   "source": [
    "## 10 points: Cauchy Kernel Matrix\n",
    "\n",
    "Consider the Cauchy distribution defined by:\n",
    "\n",
    "$C(x, x_0, \\gamma) = \\frac{1}{\\pi \\gamma} \\left( \\frac{\\gamma^2}{(x-x_0)^2 + \\gamma^2} \\right)$\n",
    "\n",
    "where $x_0$ is the center of the distribution (comparable to the mean, $\\mu$ of a Gaussian distribution) and $\\gamma$ is a scale factor (comparable to the standard deviation, $\\sigma$ of a Gaussian distribution.\n",
    "\n",
    "Write a function that computes the \"Cauchy kernel\" between any two vectors $x_i$ and $x_j$. Use this function to create and visualize kernel matrices for the ethanol spectra dataset with $\\gamma \\in $[1, 10, 100]. Briefly discuss the structure of these matrices.\n",
    "\n",
    "*Hint* You may want to use the `imshow` function to visualize the matrices. See the examples for the covariance matrix given in the \"High dimensional data\" lecture."
   ]
  },
  {
   "cell_type": "code",
   "execution_count": null,
   "metadata": {},
   "outputs": [],
   "source": []
  },
  {
   "cell_type": "markdown",
   "metadata": {},
   "source": [
    "## 15 points: Ensemble Kernel Ridge Regression\n",
    "\n",
    "In this problem you will combine ideas from k-fold cross-validation and bootstrapping with kernel ridge regression (KRR) to create an \"ensemble\" of KRR models.\n",
    "\n",
    "Use 5-fold cross-validation with the IR spectra dataset to construct a series of 5 KRR models with a radial basis function, $\\gamma$ = 0.0005, and $\\alpha$ = 0.01. Each model will be trained with 80% of the data, but the exact training points will vary each time so the models will also vary. \n",
    "\n",
    "Plot the resulting ensemble of models along with the original data. This should be a plot with 5 different lines and 150 data points.\n",
    "\n",
    "Plot the standard deviation of the 5 models as a function of wavelength. Is the predicted error homoscedastic? Briefly explain."
   ]
  },
  {
   "cell_type": "code",
   "execution_count": null,
   "metadata": {},
   "outputs": [],
   "source": []
  },
  {
   "cell_type": "markdown",
   "metadata": {},
   "source": [
    "## 10 points: Feature Scaling\n",
    "\n",
    "Compare the performance of KRR on the Dow dataset with and without feature scaling. You should use the standard scaler, but can also compare to other scaling schemes. You can use $\\gamma=0.01$ and $\\alpha=0.01$, and should down-sample the dataset by selecting every 10th data point. Split the data into a testing and training set using hold out with 30% of the data used for testing. Compare the $r^2$ score of the two approaches."
   ]
  },
  {
   "cell_type": "code",
   "execution_count": null,
   "metadata": {},
   "outputs": [],
   "source": []
  },
  {
   "cell_type": "markdown",
   "metadata": {},
   "source": [
    "## 10 points: LASSO regression\n",
    "\n",
    "Apply LASSO regression to the Dow chemical dataset. Use `GridSearchCV` to determine the optimum value of $\\alpha \\in$ [1e-5, 1e-3, 1e-2, 1e-1, 1, 10]. Evaluate the performance of the best model, and describe which features (if any) were \"dropped\" (coefficients equal to zero). You may wish to compare this to the features identified by forward selection in the lecture."
   ]
  },
  {
   "cell_type": "code",
   "execution_count": null,
   "metadata": {},
   "outputs": [],
   "source": []
  },
  {
   "cell_type": "markdown",
   "metadata": {},
   "source": [
    "## 15 points: Hyperparameter Tuning\n",
    "\n",
    "Use `GridSearchCV` along with the Dow chemical dataset to determine the optimum $\\gamma$ and $\\alpha$ for a KRR model. You should scale the input features, and evalute the model on data that was not used in training. You will likely want to down-sample the data by selecting every 10th data point to accelerate the search.\n",
    "\n",
    "*Hint* It is often useful to search by \"orders of magnitude\" first. You may also want to use multiple `GridSearchCV` calls to refine the parameters, though this is not technically necessary."
   ]
  },
  {
   "cell_type": "code",
   "execution_count": null,
   "metadata": {},
   "outputs": [],
   "source": []
  },
  {
   "cell_type": "markdown",
   "metadata": {},
   "source": [
    "## 10 points (6745 only): Kernel matrix properties\n",
    "\n",
    "Show that the kernel matrix for an RBF kernel will be equal to the identity matrix if $\\gamma \\rightarrow \\infty$ and a constant matrix if $\\gamma \\rightarrow 0$.\n",
    "\n",
    "You may do this symbolically with math or empirically with code. Either way, provide a brief conceptual explanation of the result."
   ]
  },
  {
   "cell_type": "code",
   "execution_count": null,
   "metadata": {},
   "outputs": [],
   "source": []
  }
 ],
 "metadata": {
  "kernelspec": {
   "display_name": "Python 3",
   "language": "python",
   "name": "python3"
  },
  "language_info": {
   "codemirror_mode": {
    "name": "ipython",
    "version": 3
   },
   "file_extension": ".py",
   "mimetype": "text/x-python",
   "name": "python",
   "nbconvert_exporter": "python",
   "pygments_lexer": "ipython3",
   "version": "3.6.3"
  },
  "latex_envs": {
   "LaTeX_envs_menu_present": true,
   "autoclose": false,
   "autocomplete": true,
   "bibliofile": "biblio.bib",
   "cite_by": "apalike",
   "current_citInitial": 1,
   "eqLabelWithNumbers": true,
   "eqNumInitial": 1,
   "hotkeys": {
    "equation": "Ctrl-E",
    "itemize": "Ctrl-I"
   },
   "labels_anchors": false,
   "latex_user_defs": false,
   "report_style_numbering": false,
   "user_envs_cfg": false
  },
  "toc": {
   "base_numbering": 1,
   "nav_menu": {},
   "number_sections": true,
   "sideBar": true,
   "skip_h1_title": true,
   "title_cell": "Table of Contents",
   "title_sidebar": "Contents",
   "toc_cell": true,
   "toc_position": {},
   "toc_section_display": true,
   "toc_window_display": false
  }
 },
 "nbformat": 4,
 "nbformat_minor": 2
}
