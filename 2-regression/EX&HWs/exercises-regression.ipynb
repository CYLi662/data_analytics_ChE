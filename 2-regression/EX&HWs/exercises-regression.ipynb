{
 "cells": [
  {
   "cell_type": "markdown",
   "metadata": {
    "toc": true
   },
   "source": [
    "<h1>Table of Contents<span class=\"tocSkip\"></span></h1>\n",
    "<div class=\"toc\"><ul class=\"toc-item\"><li><span><a href=\"#Exercise:-Use-every-third-data-point-of-the-spectra-dataset-to-train-a-linear-interpolation-model.\" data-toc-modified-id=\"Exercise:-Use-every-third-data-point-of-the-spectra-dataset-to-train-a-linear-interpolation-model.-1\"><span class=\"toc-item-num\">1&nbsp;&nbsp;</span>Exercise: Use every third data point of the spectra dataset to train a linear interpolation model.</a></span></li><li><span><a href=\"#Exercise:-Evaluate-the-performance-of-the-rbf-kernel-as-a-function-of-kernel-width-for-the-spectra-dataset.\" data-toc-modified-id=\"Exercise:-Evaluate-the-performance-of-the-rbf-kernel-as-a-function-of-kernel-width-for-the-spectra-dataset.-2\"><span class=\"toc-item-num\">2&nbsp;&nbsp;</span>Exercise: Evaluate the performance of the rbf kernel as a function of kernel width for the spectra dataset.</a></span></li><li><span><a href=\"#Exercise:-Create-a-model-and-dataset-where-$r^2-<-0$-and-describe-what-this-means.\" data-toc-modified-id=\"Exercise:-Create-a-model-and-dataset-where-$r^2-<-0$-and-describe-what-this-means.-3\"><span class=\"toc-item-num\">3&nbsp;&nbsp;</span>Exercise: Create a model and dataset where $r^2 &lt; 0$ and describe what this means.</a></span></li><li><span><a href=\"#Exercise:-Create-a-parity-plot-for-each-dataset-in-Anscomb's-quartet.\" data-toc-modified-id=\"Exercise:-Create-a-parity-plot-for-each-dataset-in-Anscomb's-quartet.-4\"><span class=\"toc-item-num\">4&nbsp;&nbsp;</span>Exercise: Create a parity plot for each dataset in Anscomb's quartet.</a></span></li><li><span><a href=\"#Exercise:-Use-8-fold-cross-validation-compute-the-average-and-standard-deviation-of-the-mean-absolute-error-(MAE)-for-kernel-regression-on-the-spectra-dataset.\" data-toc-modified-id=\"Exercise:-Use-8-fold-cross-validation-compute-the-average-and-standard-deviation-of-the-mean-absolute-error-(MAE)-for-kernel-regression-on-the-spectra-dataset.-5\"><span class=\"toc-item-num\">5&nbsp;&nbsp;</span>Exercise: Use 8-fold cross-validation compute the average and standard deviation of the mean absolute error (MAE) for kernel regression on the spectra dataset.</a></span></li><li><span><a href=\"#Discussion:-What-are-the-assumptions-for-linear-regression?\" data-toc-modified-id=\"Discussion:-What-are-the-assumptions-for-linear-regression?-6\"><span class=\"toc-item-num\">6&nbsp;&nbsp;</span>Discussion: What are the assumptions for linear regression?</a></span></li><li><span><a href=\"#Exercise:-Use-the-BIC-to-determine-the-optimum-number-of-evenly-spaced-Gaussians-for-the-spectra-dataset.\" data-toc-modified-id=\"Exercise:-Use-the-BIC-to-determine-the-optimum-number-of-evenly-spaced-Gaussians-for-the-spectra-dataset.-7\"><span class=\"toc-item-num\">7&nbsp;&nbsp;</span>Exercise: Use the BIC to determine the optimum number of evenly-spaced Gaussians for the spectra dataset.</a></span></li><li><span><a href=\"#Exercise:-Show-that-the-magnitude-of-the-derivative-of-a-3rd-order-polynomial-regression-model-increases-as-the-magnitude-of-the-coefficients-increases.\" data-toc-modified-id=\"Exercise:-Show-that-the-magnitude-of-the-derivative-of-a-3rd-order-polynomial-regression-model-increases-as-the-magnitude-of-the-coefficients-increases.-8\"><span class=\"toc-item-num\">8&nbsp;&nbsp;</span>Exercise: Show that the magnitude of the derivative of a 3rd-order polynomial regression model increases as the magnitude of the coefficients increases.</a></span></li><li><span><a href=\"#Exercise:-Use-cross-validation-to-determine-the-optimum-regularization-strength-for-the-spectra-dataset.\" data-toc-modified-id=\"Exercise:-Use-cross-validation-to-determine-the-optimum-regularization-strength-for-the-spectra-dataset.-9\"><span class=\"toc-item-num\">9&nbsp;&nbsp;</span>Exercise: Use cross validation to determine the optimum regularization strength for the spectra dataset.</a></span></li><li><span><a href=\"#Exercise:-Optimize-the-hyperparameters-of-a-LASSO-model-for-the-spectrum-data\" data-toc-modified-id=\"Exercise:-Optimize-the-hyperparameters-of-a-LASSO-model-for-the-spectrum-data-10\"><span class=\"toc-item-num\">10&nbsp;&nbsp;</span>Exercise: Optimize the hyperparameters of a LASSO model for the spectrum data</a></span></li><li><span><a href=\"#Discussion:-Distribution-of-features-for-Dow-chemical-dataset\" data-toc-modified-id=\"Discussion:-Distribution-of-features-for-Dow-chemical-dataset-11\"><span class=\"toc-item-num\">11&nbsp;&nbsp;</span>Discussion: Distribution of features for Dow chemical dataset</a></span></li><li><span><a href=\"#Exercise:-The-curse-of-dimensionality\" data-toc-modified-id=\"Exercise:-The-curse-of-dimensionality-12\"><span class=\"toc-item-num\">12&nbsp;&nbsp;</span>Exercise: The curse of dimensionality</a></span></li><li><span><a href=\"#Exercise:-Principal-Component-Regression\" data-toc-modified-id=\"Exercise:-Principal-Component-Regression-13\"><span class=\"toc-item-num\">13&nbsp;&nbsp;</span>Exercise: Principal Component Regression</a></span></li></ul></div>"
   ]
  },
  {
   "cell_type": "markdown",
   "metadata": {},
   "source": [
    "First we will import the libraries and datasets that we will use for the exercises:"
   ]
  },
  {
   "cell_type": "code",
   "execution_count": 1,
   "metadata": {},
   "outputs": [],
   "source": [
    "%matplotlib inline\n",
    "import numpy as np\n",
    "import pylab as plt\n",
    "import pandas as pd"
   ]
  },
  {
   "cell_type": "markdown",
   "metadata": {},
   "source": [
    "Set up Anscomb's quartet:"
   ]
  },
  {
   "cell_type": "code",
   "execution_count": 2,
   "metadata": {},
   "outputs": [
    {
     "data": {
      "text/plain": [
       "<matplotlib.collections.PathCollection at 0x7fd5936d3f28>"
      ]
     },
     "execution_count": 2,
     "metadata": {},
     "output_type": "execute_result"
    },
    {
     "data": {
      "image/png": "[encoded data removed]",
      "text/plain": [
       "<Figure size 1080x288 with 4 Axes>"
      ]
     },
     "metadata": {
      "needs_background": "light"
     },
     "output_type": "display_data"
    }
   ],
   "source": [
    "%matplotlib inline\n",
    "import numpy as np\n",
    "import pylab as plt\n",
    "\n",
    "x_aq = np.array([10, 8, 13, 9, 11, 14, 6, 4, 12, 7, 5])\n",
    "y1_aq = np.array([8.04, 6.95, 7.58, 8.81, 8.33, 9.96, 7.24, 4.26, 10.84, 4.82, 5.68])\n",
    "y2_aq = np.array([9.14, 8.14, 8.74, 8.77, 9.26, 8.10, 6.13, 3.10, 9.13, 7.26, 4.74])\n",
    "y3_aq = np.array([7.46, 6.77, 12.74, 7.11, 7.81, 8.84, 6.08, 5.39, 8.15, 6.42, 5.73])\n",
    "x4_aq = np.array([8, 8, 8, 8, 8, 8, 8, 19, 8, 8, 8])\n",
    "y4_aq = np.array([6.58, 5.76, 7.71, 8.84, 8.47, 7.04, 5.25, 12.50, 5.56, 7.91, 6.89])\n",
    "\n",
    "fig, axes = plt.subplots(1,4,figsize=(15,4))\n",
    "axes[0].scatter(x_aq,y1_aq)\n",
    "axes[1].scatter(x_aq,y2_aq)\n",
    "axes[2].scatter(x_aq,y3_aq)\n",
    "axes[3].scatter(x4_aq,y4_aq)"
   ]
  },
  {
   "cell_type": "markdown",
   "metadata": {},
   "source": [
    "Import spectra dataset:"
   ]
  },
  {
   "cell_type": "code",
   "execution_count": 3,
   "metadata": {},
   "outputs": [
    {
     "data": {
      "image/png": "[encoded data removed]",
      "text/plain": [
       "<Figure size 432x288 with 1 Axes>"
      ]
     },
     "metadata": {
      "needs_background": "light"
     },
     "output_type": "display_data"
    }
   ],
   "source": [
    "df = pd.read_csv('data/ethanol_IR.csv')\n",
    "x_all = df['wavenumber [cm^-1]'].values\n",
    "y_all = df['absorbance'].values\n",
    "\n",
    "x_peak = x_all[475:575]\n",
    "y_peak = y_all[475:575]\n",
    "\n",
    "fig, ax = plt.subplots()\n",
    "ax.plot(x_peak,y_peak, '-b', marker='.')\n",
    "ax.set_xlabel('wavenumber [cm^-1]')\n",
    "ax.set_ylabel('absorbance');"
   ]
  },
  {
   "cell_type": "markdown",
   "metadata": {},
   "source": [
    "Import Dow chemical process dataset:"
   ]
  },
  {
   "cell_type": "code",
   "execution_count": 4,
   "metadata": {},
   "outputs": [
    {
     "name": "stdout",
     "output_type": "stream",
     "text": [
      "X matrix dimensions: (10297, 40)\n",
      "y vector dimensions: (10297, 1)\n"
     ]
    }
   ],
   "source": [
    "df = pd.read_excel('data/impurity_dataset-training.xlsx')\n",
    "\n",
    "def is_real_and_finite(x):\n",
    "    if not np.isreal(x):\n",
    "        return False\n",
    "    elif not np.isfinite(x):\n",
    "        return False\n",
    "    else:\n",
    "        return True\n",
    "\n",
    "all_data = df[df.columns[1:]].values #drop the first column (date)\n",
    "numeric_map = df[df.columns[1:]].applymap(is_real_and_finite)\n",
    "real_rows = numeric_map.all(axis=1).copy().values #True if all values in a row are real numbers\n",
    "X = np.array(all_data[real_rows,:-5], dtype='float') #drop the last 5 cols that are not inputs\n",
    "y = np.array(all_data[real_rows,-3], dtype='float')\n",
    "y = y.reshape(-1,1)\n",
    "\n",
    "print('X matrix dimensions: {}'.format(X.shape))\n",
    "print('y vector dimensions: {}'.format(y.shape))"
   ]
  },
  {
   "cell_type": "markdown",
   "metadata": {},
   "source": [
    "You will probably also want to use several helper functions from the lectures. As usual, you can copy/paste these (or any other code from lectures) in as needed."
   ]
  },
  {
   "cell_type": "markdown",
   "metadata": {},
   "source": [
    "## Exercise: Use every third data point of the spectra dataset to train a linear interpolation model.\n",
    "\n",
    "First, select every third datapoint from the `(x_peak, y_peak)` dataset, and use this to train a linear interpolation model. Then, predict the full dataset using the model and plot the result."
   ]
  },
  {
   "cell_type": "markdown",
   "metadata": {},
   "source": [
    "## Exercise: Evaluate the performance of the rbf kernel as a function of kernel width for the spectra dataset.\n",
    "\n",
    "Use the same strategy as the previous exercise to select every third point in the spectra to use as the training set. Then, vary the width of the radial basis function with $\\sigma = [1, 10, 50, 100, 150]$, and compute the $r^2$ score for each *using the entire dataset*.\n",
    "\n",
    "Plot $r^2$ as a function of $\\sigma$."
   ]
  },
  {
   "cell_type": "markdown",
   "metadata": {},
   "source": [
    "## Exercise: Create a model and dataset where $r^2 < 0$ and describe what this means.\n",
    "\n",
    "You can use any dataset from the lectures, or make one up. You can also use any model from the lectures, or make one up.\n",
    "\n",
    "*Hint* The model you use does not have to be optimized using the data you use."
   ]
  },
  {
   "cell_type": "markdown",
   "metadata": {},
   "source": [
    "## Exercise: Create a parity plot for each dataset in Anscomb's quartet.\n",
    "\n",
    "Use linear regression to find a model $\\hat{y} = mx+b$ for each dataset (you may use the facts about these datasets from the lecture to make this easier). For each dataset, create a parity plot between the model and the actual $y$ values."
   ]
  },
  {
   "cell_type": "markdown",
   "metadata": {},
   "source": [
    "## Exercise: Use 8-fold cross-validation compute the average and standard deviation of the mean absolute error (MAE) for kernel regression on the spectra dataset.\n",
    "\n",
    "Set $\\sigma=100$ and use the code from the lecture as needed. The result should be 2 numbers (the mean MAE and standard deviation of MAE across 8 runs)."
   ]
  },
  {
   "cell_type": "markdown",
   "metadata": {},
   "source": [
    "## Discussion: What are the assumptions for linear regression?\n",
    "\n",
    "List the assumptions of linear regression and the corresponding error estimation based on the standard deviation of the error."
   ]
  },
  {
   "cell_type": "markdown",
   "metadata": {},
   "source": [
    "## Exercise: Use the BIC to determine the optimum number of evenly-spaced Gaussians for the spectra dataset.\n",
    "\n",
    "Assume that the standard deviation is fixed at 30 cm$^{-1}$. Plot the BIC as a function of the number of Gaussians used."
   ]
  },
  {
   "cell_type": "markdown",
   "metadata": {},
   "source": [
    "## Exercise: Show that the magnitude of the derivative of a 3rd-order polynomial regression model increases as the magnitude of the coefficients increases.\n",
    "\n",
    "Consider a 3rd-order polynomial model:\n",
    "\n",
    "$y_i = w_0 + w_1 x_i + w_2 x_i^2 + w_3 x_i^3$\n",
    "\n",
    "Show that the magnitude of the derivative, $\\frac{dy_i}{dx_i}$, increases with $w_i$. This does not need to be a rigorous proof, but you should explain your answer."
   ]
  },
  {
   "cell_type": "markdown",
   "metadata": {},
   "source": [
    "## Exercise: Use cross validation to determine the optimum regularization strength for the spectra dataset.\n",
    "\n",
    "Use an RBF kernel with $\\sigma=20$ and use hold-out with a 70/30 train/test split to determine the optimum value of $\\alpha$ out of [1e-5, 1e-4, 1e-3, 1e-2, 1e-1, 1]."
   ]
  },
  {
   "cell_type": "markdown",
   "metadata": {},
   "source": [
    "## Exercise: Optimize the hyperparameters of a LASSO model for the spectrum data\n",
    "\n",
    "Search over $\\alpha \\in$ [1e-5, 1e-4, 1e-3, 1e-2, 1e-1, 1] and $\\sigma \\in$  [5, 10, 15, 20, 25, 30,35, 40] and use 3-fold cross validation.\n",
    "\n",
    "*Note:* You will need to use a for loop over the $\\sigma$ values. Use `GridSearchCV.best_score_` as accuracy metric."
   ]
  },
  {
   "cell_type": "markdown",
   "metadata": {},
   "source": [
    "## Discussion: Distribution of features for Dow chemical dataset\n",
    "\n",
    "Use visual inspection of the Dow dataset to determine the following:\n",
    "\n",
    "* A feature that is roughly normally distributed\n",
    "* A feature that is bimodally distributed\n",
    "* A feature that has significant outliers"
   ]
  },
  {
   "cell_type": "markdown",
   "metadata": {},
   "source": [
    "## Exercise: The curse of dimensionality\n",
    "\n",
    "Determine the number of features needed to capture all 3rd-order interactions in a 40-dimensional feature space. What is the minumum number of data points needed to ensure that the resulting model is not under-determined?\n",
    "\n",
    "*Note:* It is likely easier to do this by hand or in writing than with code."
   ]
  },
  {
   "cell_type": "markdown",
   "metadata": {},
   "source": [
    "## Exercise: Principal Component Regression\n",
    "\n",
    "Determine which principal component of the Dow dataset is most linearly correlated with the impurity concentration. Compare this to the original feature that is most linearly correlated to the impurity concentration."
   ]
  }
 ],
 "metadata": {
  "kernelspec": {
   "display_name": "Python 3",
   "language": "python",
   "name": "python3"
  },
  "language_info": {
   "codemirror_mode": {
    "name": "ipython",
    "version": 3
   },
   "file_extension": ".py",
   "mimetype": "text/x-python",
   "name": "python",
   "nbconvert_exporter": "python",
   "pygments_lexer": "ipython3",
   "version": "3.6.3"
  },
  "toc": {
   "base_numbering": 1,
   "nav_menu": {},
   "number_sections": true,
   "sideBar": true,
   "skip_h1_title": true,
   "title_cell": "Table of Contents",
   "title_sidebar": "Contents",
   "toc_cell": true,
   "toc_position": {},
   "toc_section_display": true,
   "toc_window_display": false
  }
 },
 "nbformat": 4,
 "nbformat_minor": 2
}
