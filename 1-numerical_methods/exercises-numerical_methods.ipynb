{
 "cells": [
  {
   "cell_type": "markdown",
   "metadata": {
    "toc": true
   },
   "source": [
    "<h1>Table of Contents<span class=\"tocSkip\"></span></h1>\n",
    "<div class=\"toc\"><ul class=\"toc-item\"><li><span><a href=\"#Matrix-vector-multiplication\" data-toc-modified-id=\"Matrix-vector-multiplication-1\"><span class=\"toc-item-num\">1&nbsp;&nbsp;</span>Matrix-vector multiplication</a></span></li><li><span><a href=\"#Vandermonde-matrix\" data-toc-modified-id=\"Vandermonde-matrix-2\"><span class=\"toc-item-num\">2&nbsp;&nbsp;</span>Vandermonde matrix</a></span></li><li><span><a href=\"#Orthonormalization-of-the-Vandermonde-matrix\" data-toc-modified-id=\"Orthonormalization-of-the-Vandermonde-matrix-3\"><span class=\"toc-item-num\">3&nbsp;&nbsp;</span>Orthonormalization of the Vandermonde matrix</a></span></li><li><span><a href=\"#Rank-of-the-Vandermonde-matrix\" data-toc-modified-id=\"Rank-of-the-Vandermonde-matrix-4\"><span class=\"toc-item-num\">4&nbsp;&nbsp;</span>Rank of the Vandermonde matrix</a></span></li><li><span><a href=\"#Distribution-of-the-error-term\" data-toc-modified-id=\"Distribution-of-the-error-term-5\"><span class=\"toc-item-num\">5&nbsp;&nbsp;</span>Distribution of the error term</a></span></li><li><span><a href=\"#Error-vs.-Polynomial-Order\" data-toc-modified-id=\"Error-vs.-Polynomial-Order-6\"><span class=\"toc-item-num\">6&nbsp;&nbsp;</span>Error vs. Polynomial Order</a></span></li><li><span><a href=\"#Gaussian-Features\" data-toc-modified-id=\"Gaussian-Features-7\"><span class=\"toc-item-num\">7&nbsp;&nbsp;</span>Gaussian Features</a></span></li></ul></div>"
   ]
  },
  {
   "cell_type": "markdown",
   "metadata": {},
   "source": [
    "# Numerical Methods"
   ]
  },
  {
   "cell_type": "markdown",
   "metadata": {},
   "source": [
    "## Matrix-vector multiplication\n",
    "\n",
    "Write a function that uses for loops to multiply an arbitrary matrix and vector. Construct a random matrix using `numpy.random.rand` and show that your function is correct using `numpy.isclose`."
   ]
  },
  {
   "cell_type": "code",
   "execution_count": null,
   "metadata": {},
   "outputs": [],
   "source": [
    "def matvecmul(matrix, vector):\n",
    "    # write code here. Hint: there should be 2 for loops!\n",
    "    return #<- insert the name of the result variable here.\n"
   ]
  },
  {
   "cell_type": "markdown",
   "metadata": {},
   "source": [
    "## Vandermonde matrix\n",
    "\n",
    "Use `numpy` to construct a 4th-order (i.e. up to $x^4$) Vandermonde matrix ranging from -1 to 1 with a resolution (i.e. number of rows) of 25."
   ]
  },
  {
   "cell_type": "code",
   "execution_count": null,
   "metadata": {},
   "outputs": [],
   "source": []
  },
  {
   "cell_type": "markdown",
   "metadata": {},
   "source": [
    "## Orthonormalization of the Vandermonde matrix\n",
    "\n",
    "Create an orthonormal version of the Vandermonde matrix from the prior exercise. Orthonormal means that the $L_2$ norm of each column is 1, and the inner product between any 2 columns is 0."
   ]
  },
  {
   "cell_type": "code",
   "execution_count": null,
   "metadata": {},
   "outputs": [],
   "source": []
  },
  {
   "cell_type": "markdown",
   "metadata": {},
   "source": [
    "## Rank of the Vandermonde matrix\n",
    "\n",
    "Show that the rank of the Vandermonde matrix you constructed is equal to the number of columns, but independent of the number of rows."
   ]
  },
  {
   "cell_type": "code",
   "execution_count": null,
   "metadata": {},
   "outputs": [],
   "source": []
  },
  {
   "cell_type": "markdown",
   "metadata": {},
   "source": [
    "## Distribution of the error term\n",
    "\n",
    "Plot a histogram of normally-distributed error with a standard deviation of 0.5. Explain why the error term has a mean of 0."
   ]
  },
  {
   "cell_type": "code",
   "execution_count": null,
   "metadata": {},
   "outputs": [],
   "source": []
  },
  {
   "cell_type": "markdown",
   "metadata": {},
   "source": [
    "## Error vs. Polynomial Order\n",
    "\n",
    "Plot the sum of squared errors as a function of the order of the polynomial used to fit the following dataset:"
   ]
  },
  {
   "cell_type": "code",
   "execution_count": null,
   "metadata": {},
   "outputs": [],
   "source": [
    "x = [0.0, 1.0, 2.0, 3.0, 4.0, 5.0, 6.0, 7.0, 8.0, 9.0, 10.0]\n",
    "y = [1.68, 4.2, 5.61, 5.16, 4.27, 2.6, -0.09, -2.83, -6.26, -9.9, -13.57]"
   ]
  },
  {
   "cell_type": "markdown",
   "metadata": {},
   "source": [
    "## Gaussian Features\n",
    "\n",
    "Write a function that creates a set of evenly-spaced Gaussian functions given an input vector $x$, a number of Gaussians $N$, and a fixed width $\\sigma$. Use this function to plot 8 evenly-spaced Gaussians from -1 to 1 with a width of 0.2."
   ]
  },
  {
   "cell_type": "code",
   "execution_count": null,
   "metadata": {},
   "outputs": [],
   "source": []
  }
 ],
 "metadata": {
  "kernelspec": {
   "display_name": "Python 3",
   "language": "python",
   "name": "python3"
  },
  "language_info": {
   "codemirror_mode": {
    "name": "ipython",
    "version": 3
   },
   "file_extension": ".py",
   "mimetype": "text/x-python",
   "name": "python",
   "nbconvert_exporter": "python",
   "pygments_lexer": "ipython3",
   "version": "3.6.3"
  },
  "toc": {
   "base_numbering": 1,
   "nav_menu": {},
   "number_sections": true,
   "sideBar": true,
   "skip_h1_title": true,
   "title_cell": "Table of Contents",
   "title_sidebar": "Contents",
   "toc_cell": true,
   "toc_position": {},
   "toc_section_display": true,
   "toc_window_display": false
  }
 },
 "nbformat": 4,
 "nbformat_minor": 2
}
