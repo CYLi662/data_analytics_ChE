{
 "cells": [
  {
   "cell_type": "markdown",
   "metadata": {
    "toc": true
   },
   "source": [
    "<h1>Table of Contents<span class=\"tocSkip\"></span></h1>\n",
    "<div class=\"toc\"><ul class=\"toc-item\"><li><span><a href=\"#Vandermonde-matrix\" data-toc-modified-id=\"Vandermonde-matrix-1\"><span class=\"toc-item-num\">1&nbsp;&nbsp;</span>Vandermonde matrix</a></span></li><li><span><a href=\"#Orthonormalization-of-the-Vandermonde-matrix\" data-toc-modified-id=\"Orthonormalization-of-the-Vandermonde-matrix-2\"><span class=\"toc-item-num\">2&nbsp;&nbsp;</span>Orthonormalization of the Vandermonde matrix</a></span></li><li><span><a href=\"#Rank-of-the-Vandermonde-matrix\" data-toc-modified-id=\"Rank-of-the-Vandermonde-matrix-3\"><span class=\"toc-item-num\">3&nbsp;&nbsp;</span>Rank of the Vandermonde matrix</a></span></li></ul></div>"
   ]
  },
  {
   "cell_type": "markdown",
   "metadata": {},
   "source": [
    "# Numerical Methods"
   ]
  },
  {
   "cell_type": "markdown",
   "metadata": {},
   "source": [
    "## Vandermonde matrix\n",
    "\n",
    "Use `numpy` to construct a 4th-order (i.e. up to $x^4$) Vandermonde matrix ranging from -1 to 1 with a resolution (i.e. number of rows) of 25."
   ]
  },
  {
   "cell_type": "code",
   "execution_count": null,
   "metadata": {},
   "outputs": [],
   "source": []
  },
  {
   "cell_type": "markdown",
   "metadata": {},
   "source": [
    "## Orthonormalization of the Vandermonde matrix\n",
    "\n",
    "Create an orthonormal version of the Vandermonde matrix from the prior exercise. Orthonormal means that the $L_2$ norm of each column is 1, and the inner product between any 2 columns is 0."
   ]
  },
  {
   "cell_type": "code",
   "execution_count": null,
   "metadata": {},
   "outputs": [],
   "source": []
  },
  {
   "cell_type": "markdown",
   "metadata": {},
   "source": [
    "## Rank of the Vandermonde matrix\n",
    "\n",
    "Show that the rank of the Vandermonde matrix you constructed is equal to the number of columns, but independent of the number of rows."
   ]
  },
  {
   "cell_type": "code",
   "execution_count": null,
   "metadata": {},
   "outputs": [],
   "source": []
  }
 ],
 "metadata": {
  "kernelspec": {
   "display_name": "Python 3",
   "language": "python",
   "name": "python3"
  },
  "language_info": {
   "codemirror_mode": {
    "name": "ipython",
    "version": 3
   },
   "file_extension": ".py",
   "mimetype": "text/x-python",
   "name": "python",
   "nbconvert_exporter": "python",
   "pygments_lexer": "ipython3",
   "version": "3.6.3"
  },
  "toc": {
   "base_numbering": 1,
   "nav_menu": {},
   "number_sections": true,
   "sideBar": true,
   "skip_h1_title": true,
   "title_cell": "Table of Contents",
   "title_sidebar": "Contents",
   "toc_cell": true,
   "toc_position": {},
   "toc_section_display": true,
   "toc_window_display": false
  }
 },
 "nbformat": 4,
 "nbformat_minor": 2
}
