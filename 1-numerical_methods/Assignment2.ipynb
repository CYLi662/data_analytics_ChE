{
 "cells": [
  {
   "cell_type": "markdown",
   "metadata": {
    "toc": true
   },
   "source": [
    "<h1>Table of Contents<span class=\"tocSkip\"></span></h1>\n",
    "<div class=\"toc\"><ul class=\"toc-item\"><li><span><a href=\"#Gaussian-Features\" data-toc-modified-id=\"Gaussian-Features-1\"><span class=\"toc-item-num\">1&nbsp;&nbsp;</span>Gaussian Features</a></span></li><li><span><a href=\"#General-Linear-Regression\" data-toc-modified-id=\"General-Linear-Regression-2\"><span class=\"toc-item-num\">2&nbsp;&nbsp;</span>General Linear Regression</a></span></li><li><span><a href=\"#Non-linear-Regression\" data-toc-modified-id=\"Non-linear-Regression-3\"><span class=\"toc-item-num\">3&nbsp;&nbsp;</span>Non-linear Regression</a></span></li></ul></div>"
   ]
  },
  {
   "cell_type": "markdown",
   "metadata": {},
   "source": [
    "# Numerical Methods - Assignment 2"
   ]
  },
  {
   "cell_type": "markdown",
   "metadata": {},
   "source": [
    "## Gaussian Features\n",
    "**Write a function that creates a set of evenly-spaced Gaussian functions.**\n",
    "\n",
    "The input should be an vector $x$, a number of Gaussians $N$, and a fixed width $\\sigma$."
   ]
  },
  {
   "cell_type": "code",
   "execution_count": null,
   "metadata": {},
   "outputs": [],
   "source": [
    "def gaussian_features(x, N, sigma):\n",
    "    \n",
    "    return features"
   ]
  },
  {
   "cell_type": "markdown",
   "metadata": {},
   "source": [
    "**Use this function to plot 8 evenly-spaced Gaussians from -1 to 1 with a width of 0.2.**\n",
    "\n",
    "You can arbitrarily define the resolution of the range, but the resolution should be high enough that the plots look smooth."
   ]
  },
  {
   "cell_type": "code",
   "execution_count": null,
   "metadata": {},
   "outputs": [],
   "source": []
  },
  {
   "cell_type": "markdown",
   "metadata": {},
   "source": [
    "## General Linear Regression\n",
    "**Determine the best-fit of the peaks below using general linear regression.**\n",
    "\n",
    "Plot the result of your regression model along with the original data. You can use visual inspection to determine the positions and widths of the peaks.\n",
    "\n",
    "You may assume that:\n",
    "- The peaks follow a Gaussian distribution.\n",
    "- There are 3 peaks of the **same width** in this region of the spectra below."
   ]
  },
  {
   "cell_type": "code",
   "execution_count": null,
   "metadata": {},
   "outputs": [],
   "source": [
    "import pandas as pd\n",
    "import matplotlib.pyplot as plt\n",
    "\n",
    "df = pd.read_csv('data/ethanol_IR.csv')\n",
    "x_all = df['wavenumber [cm^-1]'].values\n",
    "y_all = df['absorbance'].values\n",
    "\n",
    "x_peak = x_all[100:250]\n",
    "y_peak = y_all[100:250]\n",
    "\n",
    "fig, ax = plt.subplots(figsize = (5, 3), dpi = 150)\n",
    "ax.plot(x_peak, y_peak, '-b', marker = '.')\n",
    "ax.set_xlabel('wavenumber [$cm^{-1}$]')\n",
    "ax.set_ylabel('absorbance');"
   ]
  },
  {
   "cell_type": "code",
   "execution_count": null,
   "metadata": {},
   "outputs": [],
   "source": []
  },
  {
   "cell_type": "markdown",
   "metadata": {},
   "source": [
    "**Briefly describe the result.**"
   ]
  },
  {
   "cell_type": "markdown",
   "metadata": {},
   "source": []
  },
  {
   "cell_type": "markdown",
   "metadata": {},
   "source": [
    "**Continue improving the general linear regression model.**\n",
    "\n",
    "Now the second assumption is gone. You do not know how many peaks there are, or the widths of the peaks. However, you do know that they follow Gaussian distributions.\n",
    "\n",
    "- Use your intuition and trial-and-error to find a model that describes the data.\n",
    "- Plot the result along with the original data.\n",
    "- This is not a spectroscopy class. There is no \"right answer\" to this question."
   ]
  },
  {
   "cell_type": "code",
   "execution_count": null,
   "metadata": {},
   "outputs": [],
   "source": []
  },
  {
   "cell_type": "markdown",
   "metadata": {},
   "source": [
    "## Non-linear Regression"
   ]
  },
  {
   "cell_type": "markdown",
   "metadata": {},
   "source": [
    "**Write a loss function.**\n",
    "\n",
    "You want to solve the same problem above using non-linear regression to find the optimal positions and widths of the peaks.\n",
    "\n",
    "The inputs of the loss function should be:\n",
    "- a parameter vector $\\vec{\\lambda} = [ \\vec{w}, \\vec{\\mu}, \\vec{\\sigma} ]$\n",
    "- an input vector $x$\n",
    "- an output vector $y$\n",
    "- a number of Gaussians $n$\n",
    "\n",
    "The function should return a root-mean-squared error of the estimation."
   ]
  },
  {
   "cell_type": "code",
   "execution_count": null,
   "metadata": {},
   "outputs": [],
   "source": [
    "def gaussian_loss(lamda, x, y, n):\n",
    "    \n",
    "    return RMSE"
   ]
  },
  {
   "cell_type": "markdown",
   "metadata": {},
   "source": [
    "**Use `autograd` to compute the derivative of the loss function.**\n",
    "\n",
    "Find the derivative of the loss function when the parameter vector is [10., 10., 10., 1000., 1250., 1500., 30., 30., 30]."
   ]
  },
  {
   "cell_type": "code",
   "execution_count": null,
   "metadata": {},
   "outputs": [],
   "source": [
    "import autograd.numpy as np\n",
    "from autograd import grad\n",
    "\n",
    "lamda = np.array([10., 10., 10., 1000., 1250., 1500., 30., 30., 30])"
   ]
  },
  {
   "cell_type": "markdown",
   "metadata": {},
   "source": [
    "**Implement gradient descent method.**\n",
    "\n",
    "Write a function for an iteration of gradient descent that returns the optimal parameters.\n",
    "\n",
    "The inputs are:\n",
    "- a parameter vector $\\vec{\\lambda}$\n",
    "- a function $g$\n",
    "- a step size\n",
    "- a tolerance"
   ]
  },
  {
   "cell_type": "code",
   "execution_count": null,
   "metadata": {},
   "outputs": [],
   "source": [
    "def grad_descent(lamda, g, h, tol):\n",
    "    \n",
    "    return new_lamda"
   ]
  },
  {
   "cell_type": "markdown",
   "metadata": {},
   "source": [
    "**Find the optimal parameters.**\n",
    "\n",
    "Plot the result of non-linear regression along with the original data. Set the number of Gaussians as 5."
   ]
  },
  {
   "cell_type": "code",
   "execution_count": null,
   "metadata": {},
   "outputs": [],
   "source": [
    "n = 5"
   ]
  },
  {
   "cell_type": "markdown",
   "metadata": {},
   "source": [
    "**Print the weights $\\vec{w}$.**"
   ]
  },
  {
   "cell_type": "code",
   "execution_count": null,
   "metadata": {},
   "outputs": [],
   "source": []
  },
  {
   "cell_type": "markdown",
   "metadata": {},
   "source": [
    "**Constrain the weights.**\n",
    "\n",
    "Modify the loss function to constrain the weights to be positive. You can write this in code, or you can write an analytical version of the loss function."
   ]
  },
  {
   "cell_type": "code",
   "execution_count": null,
   "metadata": {},
   "outputs": [],
   "source": []
  }
 ],
 "metadata": {
  "kernelspec": {
   "display_name": "Python 3",
   "language": "python",
   "name": "python3"
  },
  "language_info": {
   "codemirror_mode": {
    "name": "ipython",
    "version": 3
   },
   "file_extension": ".py",
   "mimetype": "text/x-python",
   "name": "python",
   "nbconvert_exporter": "python",
   "pygments_lexer": "ipython3",
   "version": "3.7.7"
  },
  "toc": {
   "base_numbering": 1,
   "nav_menu": {},
   "number_sections": true,
   "sideBar": true,
   "skip_h1_title": true,
   "title_cell": "Table of Contents",
   "title_sidebar": "Contents",
   "toc_cell": true,
   "toc_position": {},
   "toc_section_display": true,
   "toc_window_display": false
  }
 },
 "nbformat": 4,
 "nbformat_minor": 4
}
