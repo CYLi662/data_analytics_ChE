{
 "cells": [
  {
   "cell_type": "markdown",
   "metadata": {
    "toc": true
   },
   "source": [
    "<h1>Table of Contents<span class=\"tocSkip\"></span></h1>\n",
    "<div class=\"toc\"><ul class=\"toc-item\"><li><span><a href=\"#Why-Python?\" data-toc-modified-id=\"Why-Python?-1\"><span class=\"toc-item-num\">1&nbsp;&nbsp;</span>Why Python?</a></span><ul class=\"toc-item\"><li><span><a href=\"#Python-vs.-Matlab\" data-toc-modified-id=\"Python-vs.-Matlab-1.1\"><span class=\"toc-item-num\">1.1&nbsp;&nbsp;</span>Python vs. Matlab</a></span><ul class=\"toc-item\"><li><span><a href=\"#Advantages:\" data-toc-modified-id=\"Advantages:-1.1.1\"><span class=\"toc-item-num\">1.1.1&nbsp;&nbsp;</span>Advantages:</a></span></li><li><span><a href=\"#Disadvantages\" data-toc-modified-id=\"Disadvantages-1.1.2\"><span class=\"toc-item-num\">1.1.2&nbsp;&nbsp;</span>Disadvantages</a></span></li></ul></li><li><span><a href=\"#Python-vs.-Compiled-(C++,-Fortran):\" data-toc-modified-id=\"Python-vs.-Compiled-(C++,-Fortran):-1.2\"><span class=\"toc-item-num\">1.2&nbsp;&nbsp;</span>Python vs. Compiled (C++, Fortran):</a></span><ul class=\"toc-item\"><li><span><a href=\"#Advantages:\" data-toc-modified-id=\"Advantages:-1.2.1\"><span class=\"toc-item-num\">1.2.1&nbsp;&nbsp;</span>Advantages:</a></span></li><li><span><a href=\"#Disadvantages:\" data-toc-modified-id=\"Disadvantages:-1.2.2\"><span class=\"toc-item-num\">1.2.2&nbsp;&nbsp;</span>Disadvantages:</a></span></li></ul></li></ul></li><li><span><a href=\"#Python-&quot;packages&quot;\" data-toc-modified-id=\"Python-&quot;packages&quot;-2\"><span class=\"toc-item-num\">2&nbsp;&nbsp;</span>Python \"packages\"</a></span></li><li><span><a href=\"#Defining-Functions\" data-toc-modified-id=\"Defining-Functions-3\"><span class=\"toc-item-num\">3&nbsp;&nbsp;</span>Defining Functions</a></span></li><li><span><a href=\"#Classes,-attributes,-and-methods\" data-toc-modified-id=\"Classes,-attributes,-and-methods-4\"><span class=\"toc-item-num\">4&nbsp;&nbsp;</span>Classes, attributes, and methods</a></span></li><li><span><a href=\"#Reading-in-data\" data-toc-modified-id=\"Reading-in-data-5\"><span class=\"toc-item-num\">5&nbsp;&nbsp;</span>Reading in data</a></span></li><li><span><a href=\"#Plotting-data\" data-toc-modified-id=\"Plotting-data-6\"><span class=\"toc-item-num\">6&nbsp;&nbsp;</span>Plotting data</a></span></li><li><span><a href=\"#Integrated-Development-Environments-(IDE's)\" data-toc-modified-id=\"Integrated-Development-Environments-(IDE's)-7\"><span class=\"toc-item-num\">7&nbsp;&nbsp;</span>Integrated Development Environments (IDE's)</a></span></li><li><span><a href=\"#Python-&quot;gotchas&quot;\" data-toc-modified-id=\"Python-&quot;gotchas&quot;-8\"><span class=\"toc-item-num\">8&nbsp;&nbsp;</span>Python \"gotchas\"</a></span><ul class=\"toc-item\"><li><span><a href=\"#Tabs-and-spaces\" data-toc-modified-id=\"Tabs-and-spaces-8.1\"><span class=\"toc-item-num\">8.1&nbsp;&nbsp;</span>Tabs and spaces</a></span></li><li><span><a href=\"#Numpy-array-copying\" data-toc-modified-id=\"Numpy-array-copying-8.2\"><span class=\"toc-item-num\">8.2&nbsp;&nbsp;</span>Numpy array copying</a></span></li><li><span><a href=\"#Integer-type-casting\" data-toc-modified-id=\"Integer-type-casting-8.3\"><span class=\"toc-item-num\">8.3&nbsp;&nbsp;</span>Integer type casting</a></span></li><li><span><a href=\"#Lambda-functions-vs.-Lambda-variables\" data-toc-modified-id=\"Lambda-functions-vs.-Lambda-variables-8.4\"><span class=\"toc-item-num\">8.4&nbsp;&nbsp;</span>Lambda functions vs. Lambda variables</a></span></li></ul></li></ul></div>"
   ]
  },
  {
   "cell_type": "markdown",
   "metadata": {},
   "source": [
    "# Python Basics"
   ]
  },
  {
   "cell_type": "markdown",
   "metadata": {},
   "source": [
    "This course will utilize the Python programming language. Some of you may be familiar with Python, but others may have only worked with Matlab. Python is similar to Matlab, but there are a few key differences and transitioning can take some effort. There is a nice [guide available for transitioning from MATLAB to Python](https://www.enthought.com/wp-content/uploads/Enthought-MATLAB-to-Python-White-Paper.pdf) which is strongly recommended for students who have not worked with Python before. The [Introduction to Python Programming](https://nbviewer.jupyter.org/github/jrjohansson/scientific-python-lectures/blob/master/Lecture-1-Introduction-to-Python-Programming.ipynb) from Johansson is also a great place to start. We will not spend a lot of lecture time specifically discussing Python, but this lecture will introduce some important ideas and provide examples for using Python in data analytics. \n",
    "\n",
    "If you are new to Python, the learning curve may feel very steep. However, we will hold additional help sessions, and encourage you to search internet resources like [Stack Overflow](https://stackoverflow.com/) and the official [Python tutorial](https://docs.python.org/3.6/tutorial/index.html) or work with more experienced students to learn."
   ]
  },
  {
   "cell_type": "markdown",
   "metadata": {},
   "source": [
    "## Why Python?\n",
    "\n",
    "- Python is commonly used for data analysis, and is growing rapidly\n",
    "- Python is a full programming language\n",
    "\n",
    "### Python vs. Matlab\n",
    "\n",
    "#### Advantages:\n",
    " - Flexibility and portability\n",
    " - Free and open source\n",
    " - Huge and supportive community\n",
    " \n",
    "#### Disadvantages\n",
    " - Speed and efficiency\n",
    " - Hard to install and manage versions\n",
    " - No integrated IDE (see Spyder, etc.)\n",
    " \n",
    "### Python vs. Compiled (C++, Fortran):\n",
    "\n",
    "#### Advantages:\n",
    " - Fast development time\n",
    " - Easy to read/write/maintain\n",
    " \n",
    "#### Disadvantages:\n",
    " - Speed/efficiency"
   ]
  },
  {
   "cell_type": "markdown",
   "metadata": {},
   "source": [
    "## Python \"packages\"\n",
    "\n",
    "Unlike Matlab, Python is organized into \"packages\" that contain different types of functionality. There is a [\"standard library\"](https://docs.python.org/3/library/) that is available in any Python installation. This includes some basic features like math, but the functions (or libraries) still have to be imported:"
   ]
  },
  {
   "cell_type": "code",
   "execution_count": null,
   "metadata": {},
   "outputs": [],
   "source": [
    "import math\n",
    "\n",
    "print(math.exp(1))"
   ]
  },
  {
   "cell_type": "markdown",
   "metadata": {},
   "source": [
    "Functions from packages can also be directly imported:"
   ]
  },
  {
   "cell_type": "code",
   "execution_count": null,
   "metadata": {},
   "outputs": [],
   "source": [
    "from math import exp\n",
    "import math as m\n",
    "\n",
    "print(m.exp(1))\n",
    "print(exp(1))\n",
    "print(e(1))"
   ]
  },
  {
   "cell_type": "markdown",
   "metadata": {},
   "source": [
    "There are also some non-standard packages that have been created by users as unofficial add-ons. One of the most widely used is the [\"numpy\"](https://numpy.org/) \"numerical python\" package, which has a number of numerical and linear algebra functions built in. We will use it extensively in this course, and it will almost always be imported using an \"alias\" of \"np\":"
   ]
  },
  {
   "cell_type": "code",
   "execution_count": null,
   "metadata": {},
   "outputs": [],
   "source": [
    "import numpy as np\n",
    "\n",
    "A = np.array([[1,2],[3,4]])\n",
    "A"
   ]
  },
  {
   "cell_type": "markdown",
   "metadata": {},
   "source": [
    "In numpy, matrices are called \"arrays\". One major difference between numpy and Matlab is that numpy defaults to **elementwise operations** while Matlab defaults to matrix/vector operations."
   ]
  },
  {
   "cell_type": "code",
   "execution_count": null,
   "metadata": {},
   "outputs": [],
   "source": [
    "B = np.array([[2,2],[2,2]])\n",
    "\n",
    "A*B"
   ]
  },
  {
   "cell_type": "markdown",
   "metadata": {},
   "source": [
    "Matrix/vector operations can be done using the `dot` function, or the `@` symbol:"
   ]
  },
  {
   "cell_type": "code",
   "execution_count": null,
   "metadata": {},
   "outputs": [],
   "source": [
    "C = np.dot(A,B)\n",
    "C"
   ]
  },
  {
   "cell_type": "code",
   "execution_count": null,
   "metadata": {},
   "outputs": [],
   "source": [
    "D = A@B\n",
    "D"
   ]
  },
  {
   "cell_type": "markdown",
   "metadata": {},
   "source": [
    "Indexing arrays is similar to Matlab with 3 major exceptions:\n",
    "\n",
    "- square brackets ('[]') are used instead of parentheses\n",
    "- indexing starts from 0 instead of 1\n",
    "- negative indexes are allowed (-1 is `end`)"
   ]
  },
  {
   "cell_type": "code",
   "execution_count": null,
   "metadata": {},
   "outputs": [],
   "source": [
    "print(A[0,0])\n",
    "X = np.array([[1.,2.,3.],[4, 5]])\n",
    "print(X[-2])"
   ]
  },
  {
   "cell_type": "markdown",
   "metadata": {},
   "source": [
    "The `:` operator can be used to take \"slices\" of matrices, similar to Matlab with the syntax of:\n",
    "\n",
    "`start:end`\n",
    "\n",
    "or\n",
    "\n",
    "`start:end:step`"
   ]
  },
  {
   "cell_type": "code",
   "execution_count": null,
   "metadata": {},
   "outputs": [],
   "source": [
    "a_col = A[:,0]\n",
    "a_col_2 = a_col.reshape(-1, 1)\n",
    "a_col_2.shape\n",
    "A_2 = A.reshape(4,1)\n",
    "print(\"A matrix: {}\".format(A_2))\n",
    "a_col"
   ]
  },
  {
   "cell_type": "markdown",
   "metadata": {},
   "source": [
    "There is a very useful [Matlab/Numpy cheat sheet](https://docs.scipy.org/doc/numpy/user/numpy-for-matlab-users.html) that can help you get up to speed quickly."
   ]
  },
  {
   "cell_type": "markdown",
   "metadata": {},
   "source": [
    "## Defining Functions\n",
    "\n",
    "Function definitions in Python are similar to Matlab, but there are some syntax differences. Python is much more flexible about how arguments are passed. Functions take 2 types of arguments: positional arguments and keyword arguments. Positional arguments are always required and must be passed in order, while keyword arguments are optional and do not have to be passed in order. We can look at a quick example:"
   ]
  },
  {
   "cell_type": "code",
   "execution_count": null,
   "metadata": {},
   "outputs": [],
   "source": [
    "def gaussian(x, mean=0, stdev=1.0):\n",
    "    g = exp(-(x-mean)**2/(2*stdev**2))\n",
    "    return g\n",
    "\n",
    "print(gaussian(0.5))\n",
    "print(gaussian(0.5, 0))\n",
    "print(gaussian(0.5, stdev=1, mean=0))\n",
    "print(gaussian(0.5, 0, 1))"
   ]
  },
  {
   "cell_type": "markdown",
   "metadata": {},
   "source": [
    "Functions are ended by \"returning\" a variable. If nothing is explicitly returned, the function will automatically return `None`."
   ]
  },
  {
   "cell_type": "code",
   "execution_count": null,
   "metadata": {
    "scrolled": true
   },
   "outputs": [],
   "source": [
    "def null_function():\n",
    "    x = 5 #none of\n",
    "    y = x**2 #this code\n",
    "    z = exp(-y) #matters\n",
    "    #if nothing is returned\n",
    "    print(x)\n",
    "    #return x\n",
    "    \n",
    "new_var = null_function()\n",
    "print(new_var)"
   ]
  },
  {
   "cell_type": "markdown",
   "metadata": {},
   "source": [
    "You will not have to write too many functions from scratch in this class, but will often need to modify existing functions so you should be familiar with how they work. If you do learn to write functions it can save you a lot of coding!"
   ]
  },
  {
   "cell_type": "markdown",
   "metadata": {},
   "source": [
    "## Classes, attributes, and methods\n",
    "\n",
    "Another significant difference between Matlab and Python is that Python is (very) \"object oriented\". This means that variables in Python are \"objects\" defined by an associated \"class\". We will not discuss how to create classes or exploit this feature of Python, but you will need to interact with many different kinds of classes that have been created by others, so it is important to be familiar with the concept.\n",
    "\n",
    "In Python, each \"object\" or variable has functions and variables associated with it. A function associated with an object is called a \"method\", and a variable associated with an object is called an \"attribute\". You can see the attributes and methods of an object using the `dir` function:"
   ]
  },
  {
   "cell_type": "code",
   "execution_count": null,
   "metadata": {
    "scrolled": false
   },
   "outputs": [],
   "source": [
    "dir(A)"
   ]
  },
  {
   "cell_type": "markdown",
   "metadata": {},
   "source": [
    "The methods/attributes beginning/ending with `__` are \"private\", and you generally should not mess with them unless you know Python well. The others are often very useful ways to analyze or work with the variable. The `shape` attribute of a `numpy` array is very useful, since it tells you the dimensions of the matrix:"
   ]
  },
  {
   "cell_type": "code",
   "execution_count": null,
   "metadata": {},
   "outputs": [],
   "source": [
    "A.shape"
   ]
  },
  {
   "cell_type": "markdown",
   "metadata": {},
   "source": [
    "The `mean` and `std` methods are useful ways to quickly find the mean and standard deviation of a matrix:"
   ]
  },
  {
   "cell_type": "code",
   "execution_count": null,
   "metadata": {},
   "outputs": [],
   "source": [
    "print(A.mean())\n",
    "print(A.std())\n",
    "\n",
    "np.mean(A)\n",
    "type(A)"
   ]
  },
  {
   "cell_type": "code",
   "execution_count": null,
   "metadata": {},
   "outputs": [],
   "source": [
    "L = [[0, 1,],[2, 3]]\n",
    "#L@L"
   ]
  },
  {
   "cell_type": "markdown",
   "metadata": {},
   "source": [
    "Objects, functions, and variables often have associated documentation built right in. You can see this using the `help` function, which is another great way to try to make sense of what is happening and find out more about how to use a method:"
   ]
  },
  {
   "cell_type": "code",
   "execution_count": null,
   "metadata": {},
   "outputs": [],
   "source": [
    "help(A.mean)"
   ]
  },
  {
   "cell_type": "code",
   "execution_count": null,
   "metadata": {},
   "outputs": [],
   "source": [
    "A.mean(axis=1)"
   ]
  },
  {
   "cell_type": "markdown",
   "metadata": {},
   "source": [
    "## Reading in data\n",
    "\n",
    "This is a data analysis course, so it is common that you will have to read in different types of data. The `pandas` package is particularly useful for this. It has many helpful features that we will discuss throughout the course, but for now we will just show how to read in a .csv file and convert it into a numpy array."
   ]
  },
  {
   "cell_type": "code",
   "execution_count": 1,
   "metadata": {},
   "outputs": [
    {
     "data": {
      "text/html": [
       "<div>\n",
       "<style scoped>\n",
       "    .dataframe tbody tr th:only-of-type {\n",
       "        vertical-align: middle;\n",
       "    }\n",
       "\n",
       "    .dataframe tbody tr th {\n",
       "        vertical-align: top;\n",
       "    }\n",
       "\n",
       "    .dataframe thead th {\n",
       "        text-align: right;\n",
       "    }\n",
       "</style>\n",
       "<table border=\"1\" class=\"dataframe\">\n",
       "  <thead>\n",
       "    <tr style=\"text-align: right;\">\n",
       "      <th></th>\n",
       "      <th>wavenumber [cm^-1]</th>\n",
       "      <th>absorbance</th>\n",
       "    </tr>\n",
       "  </thead>\n",
       "  <tbody>\n",
       "    <tr>\n",
       "      <th>0</th>\n",
       "      <td>461.563000</td>\n",
       "      <td>0.015</td>\n",
       "    </tr>\n",
       "    <tr>\n",
       "      <th>1</th>\n",
       "      <td>466.250502</td>\n",
       "      <td>0.014</td>\n",
       "    </tr>\n",
       "    <tr>\n",
       "      <th>2</th>\n",
       "      <td>470.938003</td>\n",
       "      <td>0.014</td>\n",
       "    </tr>\n",
       "    <tr>\n",
       "      <th>3</th>\n",
       "      <td>475.625505</td>\n",
       "      <td>0.014</td>\n",
       "    </tr>\n",
       "    <tr>\n",
       "      <th>4</th>\n",
       "      <td>480.313007</td>\n",
       "      <td>0.013</td>\n",
       "    </tr>\n",
       "    <tr>\n",
       "      <th>5</th>\n",
       "      <td>485.000509</td>\n",
       "      <td>0.012</td>\n",
       "    </tr>\n",
       "    <tr>\n",
       "      <th>6</th>\n",
       "      <td>489.688010</td>\n",
       "      <td>0.012</td>\n",
       "    </tr>\n",
       "    <tr>\n",
       "      <th>7</th>\n",
       "      <td>494.375512</td>\n",
       "      <td>0.012</td>\n",
       "    </tr>\n",
       "    <tr>\n",
       "      <th>8</th>\n",
       "      <td>499.063014</td>\n",
       "      <td>0.012</td>\n",
       "    </tr>\n",
       "    <tr>\n",
       "      <th>9</th>\n",
       "      <td>503.750516</td>\n",
       "      <td>0.013</td>\n",
       "    </tr>\n",
       "  </tbody>\n",
       "</table>\n",
       "</div>"
      ],
      "text/plain": [
       "   wavenumber [cm^-1]  absorbance\n",
       "0          461.563000       0.015\n",
       "1          466.250502       0.014\n",
       "2          470.938003       0.014\n",
       "3          475.625505       0.014\n",
       "4          480.313007       0.013\n",
       "5          485.000509       0.012\n",
       "6          489.688010       0.012\n",
       "7          494.375512       0.012\n",
       "8          499.063014       0.012\n",
       "9          503.750516       0.013"
      ]
     },
     "execution_count": 1,
     "metadata": {},
     "output_type": "execute_result"
    }
   ],
   "source": [
    "import pandas as pd\n",
    "\n",
    "df = pd.read_csv(\"data/ethanol_IR.csv\")\n",
    "df.head(10)"
   ]
  },
  {
   "cell_type": "code",
   "execution_count": 2,
   "metadata": {},
   "outputs": [
    {
     "data": {
      "text/plain": [
       "(714, 2)"
      ]
     },
     "execution_count": 2,
     "metadata": {},
     "output_type": "execute_result"
    }
   ],
   "source": [
    "X = df.values\n",
    "X.shape"
   ]
  },
  {
   "cell_type": "code",
   "execution_count": 3,
   "metadata": {},
   "outputs": [
    {
     "data": {
      "text/plain": [
       "array([ 0.015,  0.014,  0.014,  0.014,  0.013,  0.012,  0.012,  0.012,\n",
       "        0.012,  0.013,  0.013,  0.013,  0.014,  0.014,  0.014,  0.014,\n",
       "        0.013,  0.013,  0.013,  0.013,  0.012,  0.011,  0.008,  0.008,\n",
       "        0.007,  0.005,  0.005,  0.004,  0.003,  0.003,  0.003,  0.002,\n",
       "        0.001,  0.001,  0.   ,  0.   , -0.001, -0.002, -0.002, -0.003,\n",
       "       -0.003, -0.003, -0.003, -0.003, -0.004, -0.003,  0.002, -0.002,\n",
       "       -0.003, -0.003, -0.003, -0.005, -0.006, -0.006, -0.006, -0.006,\n",
       "       -0.009, -0.006, -0.005, -0.003, -0.003, -0.003, -0.003, -0.002,\n",
       "       -0.002, -0.002, -0.001,  0.   ,  0.002,  0.003,  0.005,  0.005,\n",
       "        0.006,  0.007,  0.007,  0.007,  0.007,  0.006,  0.006,  0.007,\n",
       "        0.008,  0.008,  0.011,  0.019,  0.032,  0.055,  0.077,  0.097,\n",
       "        0.099,  0.09 ,  0.128,  0.099,  0.131,  0.114,  0.103,  0.087,\n",
       "        0.054,  0.034,  0.021,  0.013,  0.008,  0.007,  0.005,  0.003,\n",
       "        0.003,  0.003,  0.004,  0.005,  0.007,  0.011,  0.016,  0.021,\n",
       "        0.032,  0.047,  0.066,  0.095,  0.138,  0.176,  0.238,  0.271,\n",
       "        0.292,  0.458,  0.426,  0.562,  0.648,  0.712,  0.738,  0.759,\n",
       "        0.686,  0.848,  0.686,  0.726,  0.66 ,  0.553,  0.469,  0.308,\n",
       "        0.277,  0.248,  0.212,  0.151,  0.114,  0.076,  0.058,  0.045,\n",
       "        0.036,  0.032,  0.025,  0.021,  0.019,  0.018,  0.019,  0.02 ,\n",
       "        0.023,  0.029,  0.034,  0.036,  0.042,  0.048,  0.053,  0.067,\n",
       "        0.08 ,  0.11 ,  0.151,  0.174,  0.188,  0.177,  0.151,  0.19 ,\n",
       "        0.208,  0.197,  0.186,  0.154,  0.128,  0.097,  0.079,  0.065,\n",
       "        0.057,  0.052,  0.048,  0.046,  0.046,  0.046,  0.047,  0.048,\n",
       "        0.048,  0.05 ,  0.051,  0.056,  0.062,  0.07 ,  0.084,  0.108,\n",
       "        0.143,  0.174,  0.234,  0.279,  0.315,  0.313,  0.289,  0.347,\n",
       "        0.231,  0.275,  0.298,  0.253,  0.194,  0.139,  0.108,  0.094,\n",
       "        0.09 ,  0.088,  0.087,  0.107,  0.104,  0.069,  0.064,  0.06 ,\n",
       "        0.059,  0.058,  0.051,  0.045,  0.04 ,  0.034,  0.029,  0.026,\n",
       "        0.02 ,  0.017,  0.014,  0.011,  0.008,  0.007,  0.006,  0.005,\n",
       "        0.003,  0.003,  0.005,  0.003,  0.003,  0.003,  0.003,  0.004,\n",
       "        0.003,  0.004,  0.005,  0.004,  0.005,  0.005,  0.005,  0.005,\n",
       "        0.006,  0.005,  0.005,  0.005,  0.005,  0.005,  0.007,  0.007,\n",
       "        0.005,  0.005,  0.005,  0.005,  0.007,  0.007,  0.005,  0.005,\n",
       "        0.006,  0.006,  0.006,  0.007,  0.008,  0.007,  0.007,  0.007,\n",
       "        0.007,  0.007,  0.007,  0.007,  0.007,  0.007,  0.008,  0.008,\n",
       "        0.007,  0.005,  0.005,  0.005,  0.005,  0.005,  0.003,  0.003,\n",
       "        0.003,  0.003,  0.002,  0.001,  0.002,  0.002,  0.002,  0.002,\n",
       "        0.001,  0.001,  0.001,  0.002,  0.003,  0.003,  0.003,  0.004,\n",
       "        0.005,  0.005,  0.007,  0.007,  0.008,  0.01 ,  0.011,  0.012,\n",
       "        0.013,  0.013,  0.013,  0.012,  0.011,  0.009,  0.008,  0.006,\n",
       "        0.005,  0.004,  0.003,  0.003,  0.002,  0.001,  0.   ,  0.   ,\n",
       "        0.   ,  0.   ,  0.   ,  0.   ,  0.   ,  0.   ,  0.   ,  0.   ,\n",
       "        0.   ,  0.   , -0.001,  0.   ,  0.   ,  0.   ,  0.   ,  0.   ,\n",
       "        0.   ,  0.001,  0.001,  0.002,  0.003,  0.003,  0.004,  0.005,\n",
       "        0.005,  0.005,  0.007,  0.007,  0.007,  0.007,  0.006,  0.005,\n",
       "        0.004,  0.003,  0.003,  0.003,  0.003,  0.003,  0.003,  0.003,\n",
       "        0.003,  0.003,  0.002,  0.002,  0.001,  0.   ,  0.   ,  0.   ,\n",
       "        0.   ,  0.   ,  0.   ,  0.001,  0.001,  0.001,  0.002,  0.003,\n",
       "        0.004,  0.004,  0.005,  0.005,  0.004,  0.003,  0.003,  0.002,\n",
       "        0.001,  0.   ,  0.   ,  0.   ,  0.   ,  0.   ,  0.   ,  0.   ,\n",
       "        0.001,  0.002,  0.003,  0.002,  0.   ,  0.   ,  0.   ,  0.   ,\n",
       "        0.   ,  0.   ,  0.001,  0.001,  0.001,  0.001,  0.001,  0.002,\n",
       "        0.003,  0.003,  0.003,  0.003,  0.003,  0.003,  0.003,  0.002,\n",
       "        0.002,  0.002,  0.001,  0.001,  0.001,  0.001,  0.001,  0.001,\n",
       "        0.001,  0.001,  0.   ,  0.   ,  0.   ,  0.   ,  0.   ,  0.   ,\n",
       "        0.   ,  0.   ,  0.   ,  0.   ,  0.   ,  0.   ,  0.   ,  0.   ,\n",
       "        0.   ,  0.   ,  0.   ,  0.   ,  0.   ,  0.   ,  0.001,  0.001,\n",
       "        0.001,  0.001,  0.002,  0.003,  0.004,  0.004,  0.005,  0.005,\n",
       "        0.005,  0.006,  0.006,  0.007,  0.007,  0.007,  0.008,  0.008,\n",
       "        0.008,  0.009,  0.01 ,  0.01 ,  0.011,  0.011,  0.012,  0.013,\n",
       "        0.015,  0.017,  0.018,  0.02 ,  0.021,  0.024,  0.027,  0.029,\n",
       "        0.03 ,  0.031,  0.033,  0.034,  0.036,  0.037,  0.039,  0.04 ,\n",
       "        0.043,  0.047,  0.049,  0.052,  0.055,  0.058,  0.062,  0.066,\n",
       "        0.071,  0.077,  0.085,  0.097,  0.111,  0.141,  0.169,  0.183,\n",
       "        0.235,  0.265,  0.324,  0.35 ,  0.396,  0.421,  0.45 ,  0.467,\n",
       "        0.486,  0.514,  0.51 ,  0.464,  0.444,  0.437,  0.432,  0.432,\n",
       "        0.437,  0.442,  0.45 ,  0.475,  0.501,  0.541,  0.553,  0.594,\n",
       "        0.611,  0.611,  0.607,  0.612,  0.607,  0.521,  0.471,  0.424,\n",
       "        0.331,  0.264,  0.216,  0.161,  0.114,  0.094,  0.054,  0.034,\n",
       "        0.021,  0.014,  0.008,  0.007,  0.005,  0.004,  0.003,  0.003,\n",
       "        0.002,  0.002,  0.002,  0.001,  0.001,  0.001,  0.001,  0.   ,\n",
       "        0.   ,  0.   ,  0.   ,  0.   ,  0.   ,  0.   ,  0.   ,  0.   ,\n",
       "        0.   ,  0.   ,  0.   ,  0.   ,  0.   ,  0.001,  0.001,  0.001,\n",
       "        0.002,  0.003,  0.003,  0.003,  0.004,  0.004,  0.003,  0.003,\n",
       "        0.002,  0.001,  0.001,  0.   ,  0.   , -0.001, -0.001, -0.002,\n",
       "       -0.002, -0.002, -0.002, -0.002, -0.003, -0.003, -0.003, -0.003,\n",
       "       -0.003, -0.003, -0.003, -0.003, -0.003, -0.003, -0.003, -0.003,\n",
       "       -0.003, -0.002, -0.002, -0.002, -0.002, -0.002, -0.002, -0.002,\n",
       "       -0.001, -0.001,  0.   ,  0.   ,  0.   ,  0.   , -0.001, -0.001,\n",
       "       -0.002, -0.002, -0.002, -0.001,  0.   ,  0.   ,  0.   ,  0.   ,\n",
       "        0.001,  0.001,  0.   ,  0.   ,  0.   ,  0.   ,  0.   , -0.001,\n",
       "       -0.001, -0.001, -0.001, -0.002, -0.002, -0.002, -0.001, -0.001,\n",
       "        0.   ,  0.   ,  0.   ,  0.   ,  0.001,  0.002,  0.004,  0.004,\n",
       "        0.004,  0.004,  0.005,  0.005,  0.007,  0.008,  0.01 ,  0.012,\n",
       "        0.017,  0.023,  0.032,  0.042,  0.056,  0.072,  0.091,  0.117,\n",
       "        0.138,  0.14 ,  0.14 ,  0.158,  0.131,  0.124,  0.125,  0.114,\n",
       "        0.102,  0.061,  0.034,  0.021,  0.013,  0.007,  0.004,  0.001,\n",
       "        0.   ,  0.   ,  0.   ,  0.   ,  0.   ,  0.   ,  0.   ,  0.   ,\n",
       "        0.   ,  0.   ,  0.   ,  0.001,  0.001,  0.001,  0.001,  0.   ,\n",
       "        0.   ,  0.   ])"
      ]
     },
     "execution_count": 3,
     "metadata": {},
     "output_type": "execute_result"
    }
   ],
   "source": [
    "X[:,1]"
   ]
  },
  {
   "cell_type": "markdown",
   "metadata": {},
   "source": [
    "## Plotting data\n",
    "\n",
    "Plotting data in Python is also similar to Matlab, and the main library, `matplotlib` is designed to work similarly. It is rather powerful, but can also be clunky. In particular, plots cannot be easily edited after they are generated, so all modifications must be done using code. There is a [gallery of Matplotlib examples](https://matplotlib.org/gallery.html), along with associated source code, that can be very useful if you want to create fancier plots.\n",
    "\n",
    "Typically we will make very simple plots in this course. An example of the `ethanol_IR.csv` dataset is provided below:"
   ]
  },
  {
   "cell_type": "code",
   "execution_count": 5,
   "metadata": {},
   "outputs": [],
   "source": [
    "%matplotlib inline\n",
    "#from matplotlib import pylab as plt # This is the long way to do it\n",
    "import pylab as plt #a much shorter but equivalent import"
   ]
  },
  {
   "cell_type": "code",
   "execution_count": 6,
   "metadata": {},
   "outputs": [],
   "source": [
    "x = X[:,0] #take the first column as independent variable\n",
    "y = X[:,1] #take the second column as dependent variable"
   ]
  },
  {
   "cell_type": "code",
   "execution_count": 11,
   "metadata": {},
   "outputs": [
    {
     "data": {
      "text/plain": [
       "Text(0,0.5,'Absorbance [unitless]')"
      ]
     },
     "execution_count": 11,
     "metadata": {},
     "output_type": "execute_result"
    },
    {
     "data": {
      "image/png": "[encoded data removed]",
      "text/plain": [
       "<Figure size 720x360 with 1 Axes>"
      ]
     },
     "metadata": {
      "needs_background": "light"
     },
     "output_type": "display_data"
    }
   ],
   "source": [
    "fig, ax = plt.subplots(figsize=(10,5)) #create a new figure object (fig) with an associated axis object (ax)\n",
    "ax.plot(x,y,color='b',marker='o', ls='none')\n",
    "ax.set_xlabel('Wavenumber [cm$^{-1}$]')\n",
    "ax.set_ylabel('Absorbance [unitless]')"
   ]
  },
  {
   "cell_type": "markdown",
   "metadata": {},
   "source": [
    "## Integrated Development Environments (IDE's)\n",
    "\n",
    "In this course we will use Jupyter Notebooks (like this one) to display code and submit homeworks. However, these can be a difficult way to learn Python if you aren't familiar. It can be much easier to use an IDE like \"Spyder\" to learn, since it will make Python feel more like Matlab. You can use Spyder (or another IDE) to write code and copy/paste it into Jupyter notebooks to turn it in.\n",
    "\n",
    "Another useful tip is that Jupyter notebooks can be exported as `.py` files (`File -> Download as -> .py`), which you can then open in Spyder."
   ]
  },
  {
   "cell_type": "markdown",
   "metadata": {},
   "source": [
    "## Python \"gotchas\"\n",
    "\n",
    "Python is great once you get used to it, and is generally very similar to Matlab and other scripting languages. However, there are a number of very tricky things that can cause issues and lots of frustration. I will collect the most insidious \"gotchas\" that come up in the course here in this notebook throughout the semester. If you have one to add, please let an instructor or teaching assistant know and we can include it."
   ]
  },
  {
   "cell_type": "markdown",
   "metadata": {},
   "source": [
    "### Tabs and spaces\n",
    "\n",
    "Python forces you to write structured code by using spaces to determine variable scope. You probably found this out pretty quickly. However, one very frustrating issue that often comes up is that Python *does* distinguish between tabs and spaces when determining spacing. For this reason you should always be consistent and use tabs *or* spaces, but not both. \n",
    "\n",
    "Jupyter automatically \"expands\" tabs into spaces, so it is generally not an issue inside of notebooks, but it can cause problems if you are copy/pasting code, or writing in a text editor that isn't configured for Python coding.\n",
    "\n",
    "See below for an example:"
   ]
  },
  {
   "cell_type": "code",
   "execution_count": null,
   "metadata": {},
   "outputs": [],
   "source": [
    "def hello_world():\n",
    "    print(\"Hello World\")\n",
    "    print('...with space indent works.')\n",
    "#\tprint('…with tab indent doesn’t') ## This line was copied in from a text editor.\n",
    "    \n",
    "hello_world()"
   ]
  },
  {
   "cell_type": "markdown",
   "metadata": {},
   "source": [
    "### Numpy array copying\n",
    "\n",
    "The underlying routines in Numpy are fast because they are written in C++, and Python is just used to access them efficiently. However, this leads to some quirky behavior. In particular, Numpy arrays work on \"pointers\" by default. This means that *all instances of an array operate on the same space in memory*. This can save a lot of coding and time if you know how it works, but it can also create some pretty insidious bugs through \"non-local\" modification of numpy arrays.\n",
    "\n",
    "For example:"
   ]
  },
  {
   "cell_type": "code",
   "execution_count": null,
   "metadata": {},
   "outputs": [],
   "source": [
    "import numpy as np\n",
    "A = np.array([[1., 2., 3.],[4., 5., 6.],[7., 8., 9.]])\n",
    "print(A)\n",
    "b = A[0,:]\n",
    "print(b)\n",
    "b[0] = 10\n",
    "print(b)\n",
    "print(A)"
   ]
  },
  {
   "cell_type": "markdown",
   "metadata": {},
   "source": [
    "You can avoid this behavior by \"copying\" arrays when assigning sub-arrays as variables:"
   ]
  },
  {
   "cell_type": "code",
   "execution_count": null,
   "metadata": {},
   "outputs": [],
   "source": [
    "c = A[1,:].copy()\n",
    "c[1] = 15\n",
    "print(c)\n",
    "print(A)"
   ]
  },
  {
   "cell_type": "markdown",
   "metadata": {},
   "source": [
    "### Integer type casting\n",
    "\n",
    "Another tricky thing in Python is the \"integer\" type. By default, any number without a decimal is an integer. In older versions of Python this caused problems with division since the rule was that the result of any operation between two integers must also be an integer, but that has been fixed in Python 3:"
   ]
  },
  {
   "cell_type": "code",
   "execution_count": null,
   "metadata": {},
   "outputs": [],
   "source": [
    "x = 1\n",
    "y = 2\n",
    "print(x/y)"
   ]
  },
  {
   "cell_type": "markdown",
   "metadata": {},
   "source": [
    "However, Numpy also uses specific types for arrays, and it follows the rule that assigning a variable to an array cannot change its type:"
   ]
  },
  {
   "cell_type": "code",
   "execution_count": null,
   "metadata": {},
   "outputs": [],
   "source": [
    "A = np.array([1,2])\n",
    "print(A)\n",
    "print(A.dtype)\n",
    "A[0] = 0.15\n",
    "print(A)\n",
    "print(A.dtype)"
   ]
  },
  {
   "cell_type": "markdown",
   "metadata": {},
   "source": [
    "You can get around this by always using decimals when specifying numbers that you do not expect to remain integers:"
   ]
  },
  {
   "cell_type": "code",
   "execution_count": null,
   "metadata": {},
   "outputs": [],
   "source": [
    "B = np.array([1.,2.])\n",
    "B[0] = 0.15\n",
    "print(B)\n",
    "print(B.dtype)"
   ]
  },
  {
   "cell_type": "markdown",
   "metadata": {},
   "source": [
    "or by explicitly defining the data type when you create the matrix:"
   ]
  },
  {
   "cell_type": "code",
   "execution_count": null,
   "metadata": {},
   "outputs": [],
   "source": [
    "B = np.array([1,2], dtype='float64')\n",
    "B[0] = 0.15\n",
    "print(B)\n",
    "print(B.dtype)"
   ]
  },
  {
   "cell_type": "markdown",
   "metadata": {},
   "source": [
    "### Lambda functions vs. Lambda variables\n",
    "\n",
    "Python uses the `lambda` function to define what are essentially the same as \"anonymous\" functions in Matlab. The problem is that we often also use $\\lambda$ as a variable name. If you try to name a variable `lambda` it will tell you there is a syntax error because it thinks you are trying to define a function! A simple work-around is to just intentionally mis-spell `lambda` as `lamda`."
   ]
  },
  {
   "cell_type": "markdown",
   "metadata": {},
   "source": [
    "Example of a `lambda` function:"
   ]
  },
  {
   "cell_type": "code",
   "execution_count": null,
   "metadata": {},
   "outputs": [],
   "source": [
    "sincos = lambda x: np.sin(x)*np.cos(x)\n",
    "\n",
    "ans_1 = sincos(0.5)\n",
    "ans_2 = np.sin(0.5)*np.cos(0.5)\n",
    "\n",
    "ans_1 == ans_2"
   ]
  },
  {
   "cell_type": "markdown",
   "metadata": {},
   "source": [
    "Python will not let us define `lambda` as a variable (e.g. $\\lambda = 0.1$) unless we misspell it:"
   ]
  },
  {
   "cell_type": "code",
   "execution_count": null,
   "metadata": {},
   "outputs": [],
   "source": [
    "#lambda = 0.1\n",
    "lamda = 0.1\n",
    "print(lamda)\n",
    "sincos(lamda)"
   ]
  }
 ],
 "metadata": {
  "kernelspec": {
   "display_name": "Python 3",
   "language": "python",
   "name": "python3"
  },
  "language_info": {
   "codemirror_mode": {
    "name": "ipython",
    "version": 3
   },
   "file_extension": ".py",
   "mimetype": "text/x-python",
   "name": "python",
   "nbconvert_exporter": "python",
   "pygments_lexer": "ipython3",
   "version": "3.6.10"
  },
  "toc": {
   "base_numbering": 1,
   "nav_menu": {},
   "number_sections": true,
   "sideBar": true,
   "skip_h1_title": true,
   "title_cell": "Table of Contents",
   "title_sidebar": "Contents",
   "toc_cell": true,
   "toc_position": {},
   "toc_section_display": true,
   "toc_window_display": false
  }
 },
 "nbformat": 4,
 "nbformat_minor": 2
}
