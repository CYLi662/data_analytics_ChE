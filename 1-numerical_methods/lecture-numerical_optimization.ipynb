{
 "cells": [
  {
   "cell_type": "markdown",
   "metadata": {
    "toc": true
   },
   "source": [
    "<h1>Table of Contents<span class=\"tocSkip\"></span></h1>\n",
    "<div class=\"toc\"><ul class=\"toc-item\"><li><span><a href=\"#Non-linear-Regression\" data-toc-modified-id=\"Non-linear-Regression-1\"><span class=\"toc-item-num\">1&nbsp;&nbsp;</span>Non-linear Regression</a></span></li><li><span><a href=\"#Automatic-Differentiation\" data-toc-modified-id=\"Automatic-Differentiation-2\"><span class=\"toc-item-num\">2&nbsp;&nbsp;</span>Automatic Differentiation</a></span></li><li><span><a href=\"#Gradient-Descent\" data-toc-modified-id=\"Gradient-Descent-3\"><span class=\"toc-item-num\">3&nbsp;&nbsp;</span>Gradient Descent</a></span><ul class=\"toc-item\"><li><span><a href=\"#Discussion:-What-happens-if-we-change-the-parameters-of-the-steepest-descent-algorithm-(initial-guess,-number-of-steps,-step-size)?\" data-toc-modified-id=\"Discussion:-What-happens-if-we-change-the-parameters-of-the-steepest-descent-algorithm-(initial-guess,-number-of-steps,-step-size)?-3.1\"><span class=\"toc-item-num\">3.1&nbsp;&nbsp;</span>Discussion: What happens if we change the parameters of the steepest descent algorithm (initial guess, number of steps, step size)?</a></span></li></ul></li><li><span><a href=\"#Optimization-with-Scipy\" data-toc-modified-id=\"Optimization-with-Scipy-4\"><span class=\"toc-item-num\">4&nbsp;&nbsp;</span>Optimization with Scipy</a></span><ul class=\"toc-item\"><li><span><a href=\"#Discussion:-How-would-you-create-a-loss-function-that-ensures-that-all-weights-$w_i$-are-positive?\" data-toc-modified-id=\"Discussion:-How-would-you-create-a-loss-function-that-ensures-that-all-weights-$w_i$-are-positive?-4.1\"><span class=\"toc-item-num\">4.1&nbsp;&nbsp;</span>Discussion: How would you create a loss function that ensures that all weights $w_i$ are positive?</a></span></li></ul></li></ul></div>"
   ]
  },
  {
   "cell_type": "markdown",
   "metadata": {},
   "source": [
    "# Numerical Optimization\n",
    "\n",
    "In this lecture we will continue to work with the ethanol peaks dataset and look at numerical optimization from the perspective of non-linear regression.\n",
    "\n",
    "First, we can re-load the dataset and select the same region we were working on before:"
   ]
  },
  {
   "cell_type": "code",
   "execution_count": 1,
   "metadata": {},
   "outputs": [
    {
     "data": {
      "text/plain": [
       "Text(0,0.5,'absorbance')"
      ]
     },
     "execution_count": 1,
     "metadata": {},
     "output_type": "execute_result"
    },
    {
     "data": {
      "image/png": "[encoded data removed]",
      "text/plain": [
       "<Figure size 432x288 with 1 Axes>"
      ]
     },
     "metadata": {},
     "output_type": "display_data"
    }
   ],
   "source": [
    "%matplotlib inline\n",
    "import pandas as pd\n",
    "from matplotlib import pyplot as plt\n",
    "\n",
    "df = pd.read_csv('data/ethanol_IR.csv')\n",
    "x_all = df['wavenumber [cm^-1]'].values\n",
    "y_all = df['absorbance'].values\n",
    "\n",
    "x_peak = x_all[475:575]\n",
    "y_peak = y_all[475:575]\n",
    "\n",
    "fig, ax = plt.subplots()\n",
    "ax.plot(x_peak,y_peak, '-b', marker='.')\n",
    "ax.set_xlabel('wavenumber [cm^-1]')\n",
    "ax.set_ylabel('absorbance')"
   ]
  },
  {
   "cell_type": "markdown",
   "metadata": {},
   "source": [
    "## Non-linear Regression"
   ]
  },
  {
   "cell_type": "markdown",
   "metadata": {},
   "source": [
    "In the prior lecture we considered \"general linear models\" that followed the form:\n",
    "\n",
    "$y_i = \\sum_j w_j X_{ij} + \\epsilon_i$\n",
    "\n",
    "and all non-linear behavior has been captured by using non-linear transforms of $x_i$. However, in some cases we may want to optimize models that are not linear. For example, consider the Gaussian peak problem:\n",
    "\n",
    "$y_i = w_0 \\exp\\left(-\\frac{(x_i-\\mu_0)^2}{2(\\sigma_0^2)}\\right) + w_1 \\exp\\left(-\\frac{(x_i-\\mu_1)^2}{2(\\sigma_1^2)}\\right) + \\epsilon_i$\n",
    "\n",
    "Previously we just guessed values for $\\mu_i$ and $\\sigma_i$. However, it would be better if we could determine them from the data. Let's go back to the derivation of the linear regression equations. Remember that our goal is to minimize the sum of squared errors:\n",
    "\n",
    "$g = \\sum_i \\epsilon_i^2$\n",
    "\n",
    "We can solve for $\\epsilon_i$ from the model:\n",
    "\n",
    "$\\epsilon_i = y_i - w_0 \\exp\\left(-\\frac{(x_i-\\mu_0)^2}{2(\\sigma_0^2)}\\right) - w_1 \\exp\\left(-\\frac{(x_i-\\mu_1)^2}{2(\\sigma_1^2)}\\right) = y_i - \\sum_j w_j G(x_i, \\mu_j, \\sigma_j)$\n",
    "\n",
    "where $G(x_i, \\mu_j, \\sigma_j) = \\exp\\left(-\\frac{(x_i-\\mu_j)^2}{2(\\sigma_j^2)}\\right)$.\n",
    "\n",
    "and substitute:\n",
    "\n",
    "$g = \\sum_i (y_i - \\sum_j w_j G(x_i, \\mu_j, \\sigma_j))^2$\n",
    "\n",
    "Now our loss function depends on all the parameters, $w_j$, $\\mu_j$, and $\\sigma_j$!\n",
    "\n",
    "$g(w_j, \\mu_j, \\sigma_j) = \\sum_i (y_i - \\sum_j w_j G(x_i, \\mu_j, \\sigma_j))^2$\n",
    "\n",
    "Let's introduce a new vector, $\\vec{\\lambda}$, that is a vector containing all the parameters:\n",
    "\n",
    "$\\vec{\\lambda} = [\\vec{w},\\; \\vec{\\mu},\\; \\vec{\\sigma}]$\n",
    "\n",
    "We can do this since $\\lambda_{i\\leq m}$ contains the weights, $\\lambda_{m < i \\leq 2m}$ contains the means, and $\\lambda_{i > 2m}$ contains the standard deviations. This is convenient since we can now write:\n",
    "\n",
    "$g(\\lambda_j) = \\sum_{i=0}^m (y_i - \\sum_j \\lambda_j G(x_i, \\lambda_{m+j}, \\lambda_{2m+j}))^2$\n",
    "\n",
    "and we can minimize the loss by setting the derivative equal to zero:\n",
    "\n",
    "$\\frac{\\partial g}{\\partial \\lambda_j} = 0$\n",
    "\n",
    "This may look scary, but we are actually just using multivariate calculus exactly like we did for linear regression. However, we are stuck with two new problems:\n",
    "\n",
    "(1) Getting the derivative $\\frac{\\partial g}{\\partial \\lambda_j}$ will be very complicated.\n",
    "\n",
    "(2) We need a way to find the point where $\\frac{\\partial g}{\\partial \\lambda_j}=0$.\n",
    "\n",
    "In the case of linear regression, we derived this with matrix algebra then solved the resulting equations but that will be much more difficult in this case, and will not be general to other non-linear forms. Instead, we will use numerical methods this time around."
   ]
  },
  {
   "cell_type": "markdown",
   "metadata": {},
   "source": [
    "First, we need to implement our loss function, $g$, which we will call `gaussian_loss` since it results from a sum of $m$ Gaussians:"
   ]
  },
  {
   "cell_type": "code",
   "execution_count": 2,
   "metadata": {},
   "outputs": [],
   "source": [
    "import numpy as np\n",
    "\n",
    "def gaussian_loss(lamda, x, y, m=2):\n",
    "    yhat = np.zeros(len(y))\n",
    "    for i in range(m):\n",
    "        w_i = lamda[i]\n",
    "        mu_i = lamda[m+i]\n",
    "        sigma_i = lamda[2*m+i]\n",
    "        yhat = yhat + w_i*np.exp(-(x - mu_i)**2/(2*sigma_i**2))\n",
    "    squared_error = (y - yhat)**2\n",
    "    return np.sum(squared_error)/len(y)"
   ]
  },
  {
   "cell_type": "markdown",
   "metadata": {},
   "source": [
    "Let's do a sanity check by generating some data and testing the loss function:"
   ]
  },
  {
   "cell_type": "code",
   "execution_count": 5,
   "metadata": {},
   "outputs": [
    {
     "data": {
      "text/plain": [
       "0.0"
      ]
     },
     "execution_count": 5,
     "metadata": {},
     "output_type": "execute_result"
    }
   ],
   "source": [
    "x = np.linspace(-1,1,20)\n",
    "y = 0.3*np.exp((-(x-0.2)**2)/(2*(0.5**2))) #create a Gaussian with w=0.3, mu=0.2, sigma=0.5\n",
    "y = y + 0.7*np.exp(-(x-0.5)**2/(2*0.1**2)) #add a Gaussian with w=0.7, mu=0.5, sigma=0.1\n",
    "lamda = [0.3, 0.7, 0.2, 0.5, 0.5, 0.1] #create a \"lamda\" vector that should result in the same dataset\n",
    "test_loss = gaussian_loss(lamda, x, y, m=2)\n",
    "test_loss"
   ]
  },
  {
   "cell_type": "markdown",
   "metadata": {},
   "source": [
    "It looks like our loss function is working properly. Now we need to know how to find the derivative."
   ]
  },
  {
   "cell_type": "markdown",
   "metadata": {},
   "source": [
    "## Automatic Differentiation\n",
    "\n",
    "Derivatives are needed a lot in machine learning. One development that has emerged from the fields of optimization and computer science is the idea of [automatic differentiation](https://en.wikipedia.org/wiki/Automatic_differentiation), also sometimes called \"algorithmic differentiation\". This is crucial to the success of well-known machine learning packages like \"TensorFlow\". The details of how it works are far too advanced for this course, and we will not use it often. However, it is definitely worth knowing about since many engineering applications also require derivatives.\n",
    "\n",
    "The simple version is that automatic differentiation does exactly what it sounds like: it gives you the derivative of a function automatically! We do need to use some special tools to do this in Python. The `autograd` package is the simplest, since it works well with `numpy`. We also need to write our functions in a specific way so that they only take one argument."
   ]
  },
  {
   "cell_type": "code",
   "execution_count": 6,
   "metadata": {
    "scrolled": true
   },
   "outputs": [
    {
     "name": "stdout",
     "output_type": "stream",
     "text": [
      "Requirement already satisfied: autograd in /Users/Lecturing/anaconda3/lib/python3.6/site-packages (1.2)\n",
      "Requirement already satisfied: future>=0.15.2 in /Users/Lecturing/anaconda3/lib/python3.6/site-packages (from autograd) (0.16.0)\n",
      "Requirement already satisfied: numpy>=1.12 in /Users/Lecturing/anaconda3/lib/python3.6/site-packages (from autograd) (1.16.4)\n"
     ]
    }
   ],
   "source": [
    "# ! pip install autograd #<- use this block (or the command after ! in the conda prompt) to install autograd"
   ]
  },
  {
   "cell_type": "code",
   "execution_count": 15,
   "metadata": {},
   "outputs": [
    {
     "name": "stdout",
     "output_type": "stream",
     "text": [
      "0.0\n",
      "[array(0.), array(0.), array(0.), array(0.), array(0.), array(0.)]\n"
     ]
    },
    {
     "data": {
      "text/plain": [
       "<function autograd.wrap_util.unary_to_nary.<locals>.nary_operator.<locals>.nary_f>"
      ]
     },
     "execution_count": 15,
     "metadata": {},
     "output_type": "execute_result"
    }
   ],
   "source": [
    "import autograd.numpy as np   # autograd has its own \"version\" of numpy that must be used\n",
    "from autograd import grad # the \"grad\" function provides derivatives\n",
    "\n",
    "def g(lamda, x=x, y=y, m=2):\n",
    "    return gaussian_loss(lamda, x, y, m)\n",
    "\n",
    "diff_g = grad(g)\n",
    "print(g(lamda))\n",
    "print(diff_g(lamda))\n",
    "diff_g"
   ]
  },
  {
   "cell_type": "markdown",
   "metadata": {},
   "source": [
    "If you are not familiar with Python, this may look very odd. Essentially we are \"wrapping\" the `gaussian_loss` function in a new function `g`. Unlike `gaussian_loss`, `g` only takes a single argument, `lamda`, which is the argument we want to differentiate with respect to.\n",
    "\n",
    "It is also worth noting that the `grad` function returns a function, not a value. This will also feel odd if you are new to Python. However, it is very convenient, because now we can use the new *function* `diff_g` to compute the derivative at any arbitrary value of $\\lambda$:"
   ]
  },
  {
   "cell_type": "code",
   "execution_count": 12,
   "metadata": {},
   "outputs": [
    {
     "name": "stdout",
     "output_type": "stream",
     "text": [
      "[array(0.), array(0.), array(0.), array(0.), array(0.), array(0.)]\n"
     ]
    },
    {
     "data": {
      "text/plain": [
       "[0.3, 0.7, 0.2, 0.5, 0.5, 0.1]"
      ]
     },
     "execution_count": 12,
     "metadata": {},
     "output_type": "execute_result"
    }
   ],
   "source": [
    "print(diff_g(lamda))\n",
    "lamda"
   ]
  },
  {
   "cell_type": "markdown",
   "metadata": {},
   "source": [
    "This is another sanity check: we know that the derivative should be zero if we are already at the optimum!\n",
    "\n",
    "Let's try with some other guess for $\\lambda_j$:"
   ]
  },
  {
   "cell_type": "code",
   "execution_count": 14,
   "metadata": {
    "scrolled": true
   },
   "outputs": [
    {
     "name": "stdout",
     "output_type": "stream",
     "text": [
      "0.09629971881545715\n",
      "[array(0.04543042), array(0.32856694), array(-0.01728235), array(-0.09807934), array(0.08818821), array(0.39993077)]\n"
     ]
    }
   ],
   "source": [
    "bad_guess = [0.1, 1.0, 0.5, 0.3, 0.1, 0.4]\n",
    "print(g(bad_guess))\n",
    "print(diff_g(bad_guess))"
   ]
  },
  {
   "cell_type": "markdown",
   "metadata": {},
   "source": [
    "Now we have solved the first problem: we know how to get $\\frac{\\partial g}{\\partial \\lambda_j}(\\lambda_j)$. However, we do not have an analytical form (i.e. we can't write it down), so we still don't know how to solve for $\\frac{\\partial g}{\\partial \\lambda_j} = 0$."
   ]
  },
  {
   "cell_type": "markdown",
   "metadata": {},
   "source": [
    "## Gradient Descent\n",
    "\n",
    "There are many numerical techniques for solving the problem of finding $\\vec{\\lambda}^*$ such that $\\frac{\\partial g}{\\partial \\lambda_j}(\\vec{\\lambda}^*) = 0$ . The two basic approaches, which should be familiar, are:\n",
    "\n",
    "* Newton's method: Treat this as a root finding problem and use the second derivative, $\\frac{\\partial^2 L}{\\partial \\lambda_j \\lambda_k}$ to iteratively optimize.\n",
    "\n",
    "* Gradient descent/ascent: Increase or decrease the guess by \"walking\" along the gradient.\n",
    "\n",
    "These are typically \"iterative\" methods, which means we start with some initial guess then iteratively improve it. \n",
    "\n",
    "The simplest approach is to use gradient descent with a fixed step size, which we will explore here:"
   ]
  },
  {
   "cell_type": "code",
   "execution_count": 26,
   "metadata": {},
   "outputs": [
    {
     "name": "stdout",
     "output_type": "stream",
     "text": [
      "Initial Loss: 0.0963\n",
      "Final Loss: 0.0000\n"
     ]
    }
   ],
   "source": [
    "better_guess = [0.35, 0.75, 0.21, 0.52, 0.53, 0.11]\n",
    "guess = bad_guess\n",
    "print('Initial Loss: {:.4f}'.format(g(guess)))\n",
    "\n",
    "N_iter = 1000\n",
    "h = 0.1\n",
    "for i in range(N_iter):\n",
    "    guess = guess - h*np.array(diff_g(guess))\n",
    "    \n",
    "print('Final Loss: {:.4f}'.format(g(guess)))"
   ]
  },
  {
   "cell_type": "markdown",
   "metadata": {},
   "source": [
    "We can see that the loss decreases after 100 iterations of gradient descent. Let's compare the results:"
   ]
  },
  {
   "cell_type": "code",
   "execution_count": 27,
   "metadata": {},
   "outputs": [
    {
     "name": "stdout",
     "output_type": "stream",
     "text": [
      "Actual Input: [0.3, 0.7, 0.2, 0.5, 0.5, 0.1]\n",
      "Regression Result: [0.69639616 0.30146582 0.49997652 0.20386904 0.09978107 0.49952471]\n"
     ]
    },
    {
     "data": {
      "text/plain": [
       "[<matplotlib.lines.Line2D at 0x1226cddd8>]"
      ]
     },
     "execution_count": 27,
     "metadata": {},
     "output_type": "execute_result"
    },
    {
     "data": {
      "image/png": "[encoded data removed]",
      "text/plain": [
       "<Figure size 432x288 with 1 Axes>"
      ]
     },
     "metadata": {},
     "output_type": "display_data"
    }
   ],
   "source": [
    "print('Actual Input: {}'.format(str(lamda)))\n",
    "print('Regression Result: {}'.format(str(guess)))\n",
    "\n",
    "\n",
    "def two_gaussians(lamda, x):\n",
    "    w_0, w_1, mu_0, mu_1, sigma_0, sigma_1 = lamda\n",
    "    y = w_0*np.exp((-(x-mu_0)**2)/(2*(sigma_0**2))) + w_1*np.exp(-(x-mu_1)**2/(2*sigma_1**2))\n",
    "    return y\n",
    "\n",
    "y = two_gaussians(lamda, x)\n",
    "yhat = two_gaussians(guess, x)\n",
    "\n",
    "fig, ax = plt.subplots()\n",
    "ax.plot(x, y, color='r')\n",
    "ax.plot(x, yhat, color='b', ls='--')"
   ]
  },
  {
   "cell_type": "markdown",
   "metadata": {},
   "source": [
    "We see that this looks pretty good! The parameters look different, but it turns out that they are pretty close if you switch the order of the two peaks."
   ]
  },
  {
   "cell_type": "markdown",
   "metadata": {},
   "source": [
    "### Discussion: What happens if we change the parameters of the steepest descent algorithm (initial guess, number of steps, step size)?"
   ]
  },
  {
   "cell_type": "markdown",
   "metadata": {},
   "source": [
    "The details of numerical algorithms for multi-dimensional optimization are tricky! However, most optimizers use a form of gradient descent. From now on we will typically let a built-in optimizer handle the hard work!"
   ]
  },
  {
   "cell_type": "markdown",
   "metadata": {},
   "source": [
    "## Optimization with Scipy"
   ]
  },
  {
   "cell_type": "markdown",
   "metadata": {},
   "source": [
    "The `scipy` package is another commonly-used package that comes with lots of algorithms. In particular, there are a number of numerical optimization algorithms available through the `scipy.minimize` package. In practice, we will typically rely on `scipy.minimize` to handle minimization rather than writing our own algorithms. These algorithms will be more efficient, and have built-in techniques for estimating derivatives (or manage to optimize without derivatives at all).\n",
    "\n",
    "One of the most commonly-used algorithms is the [\"BFGS\" algorithm](https://en.wikipedia.org/wiki/Broyden%E2%80%93Fletcher%E2%80%93Goldfarb%E2%80%93Shanno_algorithm), named after it's creators Broyden, Fletcher, Goldfarb, and Shanno. When in doubt, this is a good algorithm to try first. Let's see how it works for our problem:"
   ]
  },
  {
   "cell_type": "code",
   "execution_count": 28,
   "metadata": {},
   "outputs": [
    {
     "data": {
      "text/plain": [
       "      fun: 4.535834086328743e-13\n",
       " hess_inv: array([[ 1.08648965e+01, -2.31102013e+00,  8.04786981e-02,\n",
       "        -4.86071429e+00, -1.20650239e-01,  1.95091675e-01],\n",
       "       [-2.31102013e+00,  3.48437293e+00,  1.64287106e-01,\n",
       "         2.27707455e+00, -5.99422521e-01, -2.63840446e+00],\n",
       "       [ 8.04786981e-02,  1.64287106e-01,  2.64088306e-01,\n",
       "        -4.39759929e-01, -9.86221948e-03, -4.11746751e-01],\n",
       "       [-4.86071429e+00,  2.27707455e+00, -4.39759929e-01,\n",
       "         1.28831480e+01, -1.04319377e+00,  1.39259269e+00],\n",
       "       [-1.20650239e-01, -5.99422521e-01, -9.86221948e-03,\n",
       "        -1.04319377e+00,  3.66085479e-01,  2.17736828e-02],\n",
       "       [ 1.95091675e-01, -2.63840446e+00, -4.11746751e-01,\n",
       "         1.39259269e+00,  2.17736828e-02,  9.05845978e+00]])\n",
       "      jac: array([-1.50786322e-07,  2.82043245e-08, -8.94333746e-07, -3.18042594e-07,\n",
       "       -6.58598643e-07,  7.75125258e-08])\n",
       "  message: 'Optimization terminated successfully.'\n",
       "     nfev: 248\n",
       "      nit: 28\n",
       "     njev: 31\n",
       "   status: 0\n",
       "  success: True\n",
       "        x: array([0.69999993, 0.29999964, 0.49999979, 0.19999771, 0.1000001 ,\n",
       "       0.50000067])"
      ]
     },
     "execution_count": 28,
     "metadata": {},
     "output_type": "execute_result"
    }
   ],
   "source": [
    "from  scipy.optimize  import minimize\n",
    "\n",
    "result = minimize(g, bad_guess, method='BFGS')\n",
    "result"
   ]
  },
  {
   "cell_type": "markdown",
   "metadata": {},
   "source": [
    "A few things to note here:\n",
    "\n",
    "* We still had to use the function `g` that only takes a single argument (the variable we want to optimize with respect to).\n",
    "\n",
    "* The output is not a single number, but rather a Python class with various attributes.\n",
    "\n",
    "* This was really fast!\n",
    "\n",
    "We can investigate the attributes of the output using the `dir` function:"
   ]
  },
  {
   "cell_type": "code",
   "execution_count": 29,
   "metadata": {},
   "outputs": [
    {
     "data": {
      "text/plain": [
       "['fun',\n",
       " 'hess_inv',\n",
       " 'jac',\n",
       " 'message',\n",
       " 'nfev',\n",
       " 'nit',\n",
       " 'njev',\n",
       " 'status',\n",
       " 'success',\n",
       " 'x']"
      ]
     },
     "execution_count": 29,
     "metadata": {},
     "output_type": "execute_result"
    }
   ],
   "source": [
    "dir(result)"
   ]
  },
  {
   "cell_type": "markdown",
   "metadata": {},
   "source": [
    "Now we can check various aspects of the result using the `.` operator:"
   ]
  },
  {
   "cell_type": "code",
   "execution_count": 30,
   "metadata": {},
   "outputs": [
    {
     "data": {
      "text/plain": [
       "True"
      ]
     },
     "execution_count": 30,
     "metadata": {},
     "output_type": "execute_result"
    }
   ],
   "source": [
    "result.success"
   ]
  },
  {
   "cell_type": "code",
   "execution_count": 31,
   "metadata": {},
   "outputs": [
    {
     "data": {
      "text/plain": [
       "array([0.69999993, 0.29999964, 0.49999979, 0.19999771, 0.1000001 ,\n",
       "       0.50000067])"
      ]
     },
     "execution_count": 31,
     "metadata": {},
     "output_type": "execute_result"
    }
   ],
   "source": [
    "result.x"
   ]
  },
  {
   "cell_type": "markdown",
   "metadata": {},
   "source": [
    "This tells us that the optimization was successful, and gives us the final result. Let's compare this to the original input:"
   ]
  },
  {
   "cell_type": "code",
   "execution_count": 32,
   "metadata": {},
   "outputs": [
    {
     "name": "stdout",
     "output_type": "stream",
     "text": [
      "Actual Input: [0.69999993 0.29999964 0.49999979 0.19999771 0.1000001  0.50000067]\n",
      "Regression Result: [0.3, 0.7, 0.2, 0.5, 0.5, 0.1]\n"
     ]
    }
   ],
   "source": [
    "print('Actual Input: {}'.format(str(result.x)))\n",
    "print('Regression Result: {}'.format(str(lamda)))"
   ]
  },
  {
   "cell_type": "markdown",
   "metadata": {},
   "source": [
    "We can see that this was much faster than our naive gradient descent, and is also more accurate (although the order of the peaks is still switched due to the bad initial guess)."
   ]
  },
  {
   "cell_type": "markdown",
   "metadata": {},
   "source": [
    "Let's revisit the real spectra we worked with earlier and try to optimize the peak positions and widths:"
   ]
  },
  {
   "cell_type": "code",
   "execution_count": null,
   "metadata": {},
   "outputs": [],
   "source": [
    "fig, ax = plt.subplots()\n",
    "ax.plot(x_peak, y_peak)"
   ]
  },
  {
   "cell_type": "markdown",
   "metadata": {},
   "source": [
    "Remember that we used guesses of the peak position and width:\n",
    "\n",
    "$y_i = w_0 \\exp\\left(-\\frac{(x_i-2900)^2}{2(25^2)}\\right) + w_1 \\exp\\left(-\\frac{(x_i-2980)^2}{2(25^2)}\\right)$\n",
    "\n",
    "then we optimized the parameters, $\\vec{w}$, and found $w_0 = 0.545$ and $w_1 = 0.675$. We can convert these parameters into the $\\vec{\\lambda}$ format use our `two_gaussians` function to check the initial guess:"
   ]
  },
  {
   "cell_type": "code",
   "execution_count": null,
   "metadata": {},
   "outputs": [],
   "source": [
    "guess = [0.545, 0.675, 2900, 2980, 25, 25]\n",
    "y_guess = two_gaussians(guess, x_peak)\n",
    "\n",
    "fig, ax = plt.subplots()\n",
    "ax.plot(x_peak, y_peak, 'b')\n",
    "ax.plot(x_peak, y_guess, 'r')"
   ]
  },
  {
   "cell_type": "markdown",
   "metadata": {},
   "source": [
    " We can use the same loss function as before to optimize the other parameters:"
   ]
  },
  {
   "cell_type": "code",
   "execution_count": 17,
   "metadata": {},
   "outputs": [
    {
     "data": {
      "text/plain": [
       "      fun: 0.0003472560734252687\n",
       " hess_inv: array([[ 7.06131339e+00,  1.32015580e+00,  2.02380230e+02,\n",
       "         1.14148647e+02, -2.40727490e+02, -1.88763946e+02],\n",
       "       [ 1.32015580e+00,  2.62539867e+01, -2.23167548e+03,\n",
       "        -1.21555161e+03, -2.12368258e+03,  5.05422778e+02],\n",
       "       [ 2.02380230e+02, -2.23167548e+03,  3.10111804e+05,\n",
       "         1.57436153e+05,  2.28256174e+05, -1.01406914e+05],\n",
       "       [ 1.14148647e+02, -1.21555161e+03,  1.57436153e+05,\n",
       "         1.05767010e+05,  1.34286069e+05, -5.54776508e+04],\n",
       "       [-2.40727490e+02, -2.12368258e+03,  2.28256174e+05,\n",
       "         1.34286069e+05,  2.48853050e+05, -7.83859363e+04],\n",
       "       [-1.88763946e+02,  5.05422778e+02, -1.01406914e+05,\n",
       "        -5.54776508e+04, -7.83859363e+04,  5.66555361e+04]])\n",
       "      jac: array([ 3.42427666e-06, -2.04337994e-07, -7.09405867e-09, -9.84437065e-08,\n",
       "        1.01063051e-07,  5.09317033e-09])\n",
       "  message: 'Optimization terminated successfully.'\n",
       "     nfev: 672\n",
       "      nit: 79\n",
       "     njev: 84\n",
       "   status: 0\n",
       "  success: True\n",
       "        x: array([4.76315423e-01, 5.64860471e-01, 2.90549379e+03, 2.98508206e+03,\n",
       "       3.88244958e+01, 2.53865443e+01])"
      ]
     },
     "execution_count": 17,
     "metadata": {},
     "output_type": "execute_result"
    }
   ],
   "source": [
    "def g(lamda, x=x_peak, y=y_peak, m=2):\n",
    "    return gaussian_loss(lamda, x, y, m)\n",
    "\n",
    "result = minimize(g, guess, method='BFGS')\n",
    "result"
   ]
  },
  {
   "cell_type": "markdown",
   "metadata": {},
   "source": [
    "It looks successful! Let's see how well it worked:"
   ]
  },
  {
   "cell_type": "code",
   "execution_count": 18,
   "metadata": {},
   "outputs": [
    {
     "data": {
      "text/plain": [
       "[<matplotlib.lines.Line2D at 0x120c41898>]"
      ]
     },
     "execution_count": 18,
     "metadata": {},
     "output_type": "execute_result"
    },
    {
     "data": {
      "image/png": "[encoded data removed]",
      "text/plain": [
       "<Figure size 432x288 with 1 Axes>"
      ]
     },
     "metadata": {},
     "output_type": "display_data"
    }
   ],
   "source": [
    "fitted = result.x\n",
    "y_fitted = two_gaussians(fitted, x_peak)\n",
    "\n",
    "fig, ax = plt.subplots()\n",
    "ax.plot(x_peak, y_peak, 'b')\n",
    "ax.plot(x_peak, y_fitted, 'r')"
   ]
  },
  {
   "cell_type": "markdown",
   "metadata": {},
   "source": [
    "This looks much better! \n",
    "\n",
    "We can also add constraints to the loss function. For example, we might expect that the peak width (standard deviation) should be similar for both peaks. We can enforce this by adding an additional term to the loss function:"
   ]
  },
  {
   "cell_type": "code",
   "execution_count": 19,
   "metadata": {},
   "outputs": [
    {
     "data": {
      "text/plain": [
       "      fun: 0.0005425736558171898\n",
       " hess_inv: array([[ 7.29406267e+00,  1.66690044e+00,  1.66723252e+02,\n",
       "         9.73508763e+01, -2.07904190e+02, -2.07882416e+02],\n",
       "       [ 1.66690044e+00,  7.23778080e+00, -6.31573103e+01,\n",
       "        -5.85153311e+01, -2.08918747e+02, -2.08897266e+02],\n",
       "       [ 1.66723252e+02, -6.31573103e+01,  5.07937975e+04,\n",
       "         1.21496944e+04, -7.76852567e+03, -7.76870884e+03],\n",
       "       [ 9.73508763e+01, -5.85153311e+01,  1.21496944e+04,\n",
       "         2.20237169e+04,  6.42763677e+01,  6.43397043e+01],\n",
       "       [-2.07904190e+02, -2.08918747e+02, -7.76852567e+03,\n",
       "         6.42763677e+01,  1.61044075e+04,  1.61039659e+04],\n",
       "       [-2.07882416e+02, -2.08897266e+02, -7.76870884e+03,\n",
       "         6.43397043e+01,  1.61039659e+04,  1.61041109e+04]])\n",
       "      jac: array([-7.10971653e-06,  2.52791506e-06, -2.78574589e-07, -1.17989839e-06,\n",
       "       -1.37514144e-06,  1.59677438e-06])\n",
       "  message: 'Optimization terminated successfully.'\n",
       "     nfev: 472\n",
       "      nit: 55\n",
       "     njev: 59\n",
       "   status: 0\n",
       "  success: True\n",
       "        x: array([4.72325212e-01, 6.08042493e-01, 2.89704679e+03, 2.97916802e+03,\n",
       "       3.01336263e+01, 3.01336118e+01])"
      ]
     },
     "execution_count": 19,
     "metadata": {},
     "output_type": "execute_result"
    },
    {
     "data": {
      "image/png": "[encoded data removed]",
      "text/plain": [
       "<Figure size 432x288 with 1 Axes>"
      ]
     },
     "metadata": {},
     "output_type": "display_data"
    }
   ],
   "source": [
    "def g_simwidth(lamda, x=x_peak, y=y_peak, N=2):\n",
    "    return gaussian_loss(lamda, x, y, N) + (lamda[-2] - lamda[-1])**2\n",
    "\n",
    "result = minimize(g_simwidth, guess, method='BFGS')\n",
    "fitted = result.x\n",
    "y_fitted = two_gaussians(fitted, x_peak)\n",
    "\n",
    "fig, ax = plt.subplots()\n",
    "ax.plot(x_peak, y_peak, 'b')\n",
    "ax.plot(x_peak, y_fitted, 'r')\n",
    "result"
   ]
  },
  {
   "cell_type": "markdown",
   "metadata": {},
   "source": [
    "We can see that the fit quality is similar, but now the peak widths are nearly identical. However, they are not exactly the same, since the loss function constraint is \"soft\" -- the peak widths will deviate if it makes the fit much better."
   ]
  },
  {
   "cell_type": "markdown",
   "metadata": {},
   "source": [
    "### Discussion: How would you create a loss function that ensures that all weights $w_i$ are positive?"
   ]
  }
 ],
 "metadata": {
  "kernelspec": {
   "display_name": "Python 3",
   "language": "python",
   "name": "python3"
  },
  "language_info": {
   "codemirror_mode": {
    "name": "ipython",
    "version": 3
   },
   "file_extension": ".py",
   "mimetype": "text/x-python",
   "name": "python",
   "nbconvert_exporter": "python",
   "pygments_lexer": "ipython3",
   "version": "3.6.3"
  },
  "toc": {
   "base_numbering": 1,
   "nav_menu": {},
   "number_sections": true,
   "sideBar": true,
   "skip_h1_title": true,
   "title_cell": "Table of Contents",
   "title_sidebar": "Contents",
   "toc_cell": true,
   "toc_position": {},
   "toc_section_display": true,
   "toc_window_display": false
  }
 },
 "nbformat": 4,
 "nbformat_minor": 2
}
